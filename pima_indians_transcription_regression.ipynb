{
  "nbformat": 4,
  "nbformat_minor": 0,
  "metadata": {
    "colab": {
      "name": "pima_indians_transcription_regression.ipynb",
      "provenance": [],
      "collapsed_sections": [],
      "mount_file_id": "1JR5DgzW_9xKdq9NATwzy2DDfWlL6bwzA",
      "authorship_tag": "ABX9TyOlD/0SigXWBBQZnmOy5v2E",
      "include_colab_link": true
    },
    "kernelspec": {
      "name": "python3",
      "display_name": "Python 3"
    },
    "language_info": {
      "name": "python"
    }
  },
  "cells": [
    {
      "cell_type": "markdown",
      "metadata": {
        "id": "view-in-github",
        "colab_type": "text"
      },
      "source": [
        "<a href=\"https://colab.research.google.com/github/HwangHanJae/datascience-learningnote-pima_indians_diabetes/blob/main/pima_indians_transcription_regression.ipynb\" target=\"_parent\"><img src=\"https://colab.research.google.com/assets/colab-badge.svg\" alt=\"Open In Colab\"/></a>"
      ]
    },
    {
      "cell_type": "markdown",
      "metadata": {
        "id": "jaoWv3QZfHW0"
      },
      "source": [
        "###[부스트코스 - 프로젝트로 배우는 데이터 사이언스](https://www.boostcourse.org/ds214)"
      ]
    },
    {
      "cell_type": "markdown",
      "metadata": {
        "id": "VdB7IRvufXkF"
      },
      "source": [
        "##주어진 데이터에서 결측치를 예측"
      ]
    },
    {
      "cell_type": "markdown",
      "metadata": {
        "id": "nPm4x2nKYtLY"
      },
      "source": [
        "###필요한 라이브러리 로드"
      ]
    },
    {
      "cell_type": "code",
      "metadata": {
        "id": "Dkzs_d26YG4E"
      },
      "source": [
        "import pandas as pd\n",
        "import numpy as np\n",
        "import matplotlib.pyplot as plt\n",
        "import seaborn as sns\n",
        "from IPython.display import set_matplotlib_formats"
      ],
      "execution_count": 1,
      "outputs": []
    },
    {
      "cell_type": "code",
      "metadata": {
        "id": "R8fB1K4RTI2w"
      },
      "source": [
        "import warnings\n",
        "warnings.filterwarnings('ignore')"
      ],
      "execution_count": 2,
      "outputs": []
    },
    {
      "cell_type": "markdown",
      "metadata": {
        "id": "9rFS8qgeZNP1"
      },
      "source": [
        "####시각화를 선명하게 해주기 위한 설정"
      ]
    },
    {
      "cell_type": "code",
      "metadata": {
        "id": "TOVUm5XoLX1I"
      },
      "source": [
        "plt.style.use('ggplot')\n",
        "set_matplotlib_formats('svg')"
      ],
      "execution_count": 3,
      "outputs": []
    },
    {
      "cell_type": "markdown",
      "metadata": {
        "id": "IA3_anuWkiWX"
      },
      "source": [
        "###데이터 구성\n",
        "- Pregnancies : 임신횟수\n",
        "- Glucose : 2시간 동안의 경구 포도당 내성 검사에서 혈장 포도당 농도\n",
        "- BloodPressure : 이완기 혈압(mm Hg)\n",
        "- SkinThickness : 피부 주름 두께(mm)\n",
        "- Insulin : 2시간 혈청 인슐린(mu U / ml)\n",
        "- BMI : 체질량 지수(체중kg / 키(m)^2)\n",
        "- DiabetesPedigreeFunction : 당뇨병 혈통 기능\n",
        "- Age : 나이\n",
        "- Outcome : 당뇨가 아니다(0), 당뇨이다(1) 결과 값"
      ]
    },
    {
      "cell_type": "markdown",
      "metadata": {
        "id": "_hb9hVxufnEO"
      },
      "source": [
        "###데이터셋 로드"
      ]
    },
    {
      "cell_type": "code",
      "metadata": {
        "colab": {
          "base_uri": "https://localhost:8080/"
        },
        "id": "lEaBaRv9fmEM",
        "outputId": "69e863e4-0c5c-4ae1-ae1d-03e7bf2ccf10"
      },
      "source": [
        "df = pd.read_csv(\"/content/drive/MyDrive/Colab Notebooks/DataScience/Data/pima_indians_diabetes.csv\")\n",
        "df.shape"
      ],
      "execution_count": 175,
      "outputs": [
        {
          "output_type": "execute_result",
          "data": {
            "text/plain": [
              "(768, 9)"
            ]
          },
          "metadata": {
            "tags": []
          },
          "execution_count": 175
        }
      ]
    },
    {
      "cell_type": "code",
      "metadata": {
        "colab": {
          "base_uri": "https://localhost:8080/",
          "height": 202
        },
        "id": "6vCmT4dMfus4",
        "outputId": "35b69567-8e0a-43e7-a31e-e2fcf0f3fc94"
      },
      "source": [
        "df.head()"
      ],
      "execution_count": 176,
      "outputs": [
        {
          "output_type": "execute_result",
          "data": {
            "text/html": [
              "<div>\n",
              "<style scoped>\n",
              "    .dataframe tbody tr th:only-of-type {\n",
              "        vertical-align: middle;\n",
              "    }\n",
              "\n",
              "    .dataframe tbody tr th {\n",
              "        vertical-align: top;\n",
              "    }\n",
              "\n",
              "    .dataframe thead th {\n",
              "        text-align: right;\n",
              "    }\n",
              "</style>\n",
              "<table border=\"1\" class=\"dataframe\">\n",
              "  <thead>\n",
              "    <tr style=\"text-align: right;\">\n",
              "      <th></th>\n",
              "      <th>Pregnancies</th>\n",
              "      <th>Glucose</th>\n",
              "      <th>BloodPressure</th>\n",
              "      <th>SkinThickness</th>\n",
              "      <th>Insulin</th>\n",
              "      <th>BMI</th>\n",
              "      <th>DiabetesPedigreeFunction</th>\n",
              "      <th>Age</th>\n",
              "      <th>Outcome</th>\n",
              "    </tr>\n",
              "  </thead>\n",
              "  <tbody>\n",
              "    <tr>\n",
              "      <th>0</th>\n",
              "      <td>6</td>\n",
              "      <td>148</td>\n",
              "      <td>72</td>\n",
              "      <td>35</td>\n",
              "      <td>0</td>\n",
              "      <td>33.6</td>\n",
              "      <td>0.627</td>\n",
              "      <td>50</td>\n",
              "      <td>1</td>\n",
              "    </tr>\n",
              "    <tr>\n",
              "      <th>1</th>\n",
              "      <td>1</td>\n",
              "      <td>85</td>\n",
              "      <td>66</td>\n",
              "      <td>29</td>\n",
              "      <td>0</td>\n",
              "      <td>26.6</td>\n",
              "      <td>0.351</td>\n",
              "      <td>31</td>\n",
              "      <td>0</td>\n",
              "    </tr>\n",
              "    <tr>\n",
              "      <th>2</th>\n",
              "      <td>8</td>\n",
              "      <td>183</td>\n",
              "      <td>64</td>\n",
              "      <td>0</td>\n",
              "      <td>0</td>\n",
              "      <td>23.3</td>\n",
              "      <td>0.672</td>\n",
              "      <td>32</td>\n",
              "      <td>1</td>\n",
              "    </tr>\n",
              "    <tr>\n",
              "      <th>3</th>\n",
              "      <td>1</td>\n",
              "      <td>89</td>\n",
              "      <td>66</td>\n",
              "      <td>23</td>\n",
              "      <td>94</td>\n",
              "      <td>28.1</td>\n",
              "      <td>0.167</td>\n",
              "      <td>21</td>\n",
              "      <td>0</td>\n",
              "    </tr>\n",
              "    <tr>\n",
              "      <th>4</th>\n",
              "      <td>0</td>\n",
              "      <td>137</td>\n",
              "      <td>40</td>\n",
              "      <td>35</td>\n",
              "      <td>168</td>\n",
              "      <td>43.1</td>\n",
              "      <td>2.288</td>\n",
              "      <td>33</td>\n",
              "      <td>1</td>\n",
              "    </tr>\n",
              "  </tbody>\n",
              "</table>\n",
              "</div>"
            ],
            "text/plain": [
              "   Pregnancies  Glucose  BloodPressure  ...  DiabetesPedigreeFunction  Age  Outcome\n",
              "0            6      148             72  ...                     0.627   50        1\n",
              "1            1       85             66  ...                     0.351   31        0\n",
              "2            8      183             64  ...                     0.672   32        1\n",
              "3            1       89             66  ...                     0.167   21        0\n",
              "4            0      137             40  ...                     2.288   33        1\n",
              "\n",
              "[5 rows x 9 columns]"
            ]
          },
          "metadata": {
            "tags": []
          },
          "execution_count": 176
        }
      ]
    },
    {
      "cell_type": "markdown",
      "metadata": {
        "id": "iIH_Tgh7f7k6"
      },
      "source": [
        "###학습, 예측 데이터셋 나누기"
      ]
    },
    {
      "cell_type": "code",
      "metadata": {
        "colab": {
          "base_uri": "https://localhost:8080/"
        },
        "id": "lWXtd4E0fv-X",
        "outputId": "76f6a4da-2f33-4e2e-aa2d-93ccd073d39f"
      },
      "source": [
        "#label값을 기준으로 나누기\n",
        "#나누기 전에 label 값을 시각화\n",
        "(df['Insulin'] > 0).value_counts()"
      ],
      "execution_count": 177,
      "outputs": [
        {
          "output_type": "execute_result",
          "data": {
            "text/plain": [
              "True     394\n",
              "False    374\n",
              "Name: Insulin, dtype: int64"
            ]
          },
          "metadata": {
            "tags": []
          },
          "execution_count": 177
        }
      ]
    },
    {
      "cell_type": "code",
      "metadata": {
        "colab": {
          "base_uri": "https://localhost:8080/"
        },
        "id": "44f3wsCsgM1K",
        "outputId": "9b86704c-fde8-4e42-bded-e8f8d659500b"
      },
      "source": [
        "#train 세트를 만들기\n",
        "train = df[df[\"Insulin\"] > 0].copy()\n",
        "train.shape"
      ],
      "execution_count": 178,
      "outputs": [
        {
          "output_type": "execute_result",
          "data": {
            "text/plain": [
              "(394, 9)"
            ]
          },
          "metadata": {
            "tags": []
          },
          "execution_count": 178
        }
      ]
    },
    {
      "cell_type": "code",
      "metadata": {
        "colab": {
          "base_uri": "https://localhost:8080/"
        },
        "id": "mcllpVh5gd_0",
        "outputId": "4e20943a-ca90-4d8f-ba91-e66966cdf011"
      },
      "source": [
        "#test 세트 만들기\n",
        "test = df[df[\"Insulin\"] == 0].copy()\n",
        "test.shape"
      ],
      "execution_count": 179,
      "outputs": [
        {
          "output_type": "execute_result",
          "data": {
            "text/plain": [
              "(374, 9)"
            ]
          },
          "metadata": {
            "tags": []
          },
          "execution_count": 179
        }
      ]
    },
    {
      "cell_type": "markdown",
      "metadata": {
        "id": "NUV6NB4SInKM"
      },
      "source": [
        "###EDA"
      ]
    },
    {
      "cell_type": "code",
      "metadata": {
        "colab": {
          "base_uri": "https://localhost:8080/",
          "height": 391
        },
        "id": "fdi3jLskIpiP",
        "outputId": "3af3ee3a-6d28-4d6e-bd7a-23b203011a04"
      },
      "source": [
        "sns.distplot(train[\"Insulin\"])"
      ],
      "execution_count": 180,
      "outputs": [
        {
          "output_type": "execute_result",
          "data": {
            "text/plain": [
              "<matplotlib.axes._subplots.AxesSubplot at 0x7fa4cc05c8d0>"
            ]
          },
          "metadata": {
            "tags": []
          },
          "execution_count": 180
        },
        {
          "output_type": "display_data",
          "data": {
            "text/plain": [
              "<Figure size 432x288 with 1 Axes>"
            ],
            "image/svg+xml": "<?xml version=\"1.0\" encoding=\"utf-8\" standalone=\"no\"?>\n<!DOCTYPE svg PUBLIC \"-//W3C//DTD SVG 1.1//EN\"\n  \"http://www.w3.org/Graphics/SVG/1.1/DTD/svg11.dtd\">\n<!-- Created with matplotlib (https://matplotlib.org/) -->\n<svg height=\"264.131875pt\" version=\"1.1\" viewBox=\"0 0 411.36106 264.131875\" width=\"411.36106pt\" xmlns=\"http://www.w3.org/2000/svg\" xmlns:xlink=\"http://www.w3.org/1999/xlink\">\n <defs>\n  <style type=\"text/css\">\n*{stroke-linecap:butt;stroke-linejoin:round;}\n  </style>\n </defs>\n <g id=\"figure_1\">\n  <g id=\"patch_1\">\n   <path d=\"M 0 264.131875 \nL 411.36106 264.131875 \nL 411.36106 0 \nL 0 0 \nz\n\" style=\"fill:#ffffff;\"/>\n  </g>\n  <g id=\"axes_1\">\n   <g id=\"patch_2\">\n    <path d=\"M 58.441875 224.64 \nL 393.241875 224.64 \nL 393.241875 7.2 \nL 58.441875 7.2 \nz\n\" style=\"fill:#e5e5e5;\"/>\n   </g>\n   <g id=\"matplotlib.axis_1\">\n    <g id=\"xtick_1\">\n     <g id=\"line2d_1\">\n      <path clip-path=\"url(#p18abcbd7d3)\" d=\"M 100.919946 224.64 \nL 100.919946 7.2 \n\" style=\"fill:none;stroke:#ffffff;stroke-linecap:square;stroke-width:0.8;\"/>\n     </g>\n     <g id=\"line2d_2\">\n      <defs>\n       <path d=\"M 0 0 \nL 0 3.5 \n\" id=\"m6362043e78\" style=\"stroke:#555555;stroke-width:0.8;\"/>\n      </defs>\n      <g>\n       <use style=\"fill:#555555;stroke:#555555;stroke-width:0.8;\" x=\"100.919946\" xlink:href=\"#m6362043e78\" y=\"224.64\"/>\n      </g>\n     </g>\n     <g id=\"text_1\">\n      <!-- 0 -->\n      <defs>\n       <path d=\"M 31.78125 66.40625 \nQ 24.171875 66.40625 20.328125 58.90625 \nQ 16.5 51.421875 16.5 36.375 \nQ 16.5 21.390625 20.328125 13.890625 \nQ 24.171875 6.390625 31.78125 6.390625 \nQ 39.453125 6.390625 43.28125 13.890625 \nQ 47.125 21.390625 47.125 36.375 \nQ 47.125 51.421875 43.28125 58.90625 \nQ 39.453125 66.40625 31.78125 66.40625 \nz\nM 31.78125 74.21875 \nQ 44.046875 74.21875 50.515625 64.515625 \nQ 56.984375 54.828125 56.984375 36.375 \nQ 56.984375 17.96875 50.515625 8.265625 \nQ 44.046875 -1.421875 31.78125 -1.421875 \nQ 19.53125 -1.421875 13.0625 8.265625 \nQ 6.59375 17.96875 6.59375 36.375 \nQ 6.59375 54.828125 13.0625 64.515625 \nQ 19.53125 74.21875 31.78125 74.21875 \nz\n\" id=\"DejaVuSans-48\"/>\n      </defs>\n      <g style=\"fill:#555555;\" transform=\"translate(97.738696 239.238437)scale(0.1 -0.1)\">\n       <use xlink:href=\"#DejaVuSans-48\"/>\n      </g>\n     </g>\n    </g>\n    <g id=\"xtick_2\">\n     <g id=\"line2d_3\">\n      <path clip-path=\"url(#p18abcbd7d3)\" d=\"M 159.023169 224.64 \nL 159.023169 7.2 \n\" style=\"fill:none;stroke:#ffffff;stroke-linecap:square;stroke-width:0.8;\"/>\n     </g>\n     <g id=\"line2d_4\">\n      <g>\n       <use style=\"fill:#555555;stroke:#555555;stroke-width:0.8;\" x=\"159.023169\" xlink:href=\"#m6362043e78\" y=\"224.64\"/>\n      </g>\n     </g>\n     <g id=\"text_2\">\n      <!-- 200 -->\n      <defs>\n       <path d=\"M 19.1875 8.296875 \nL 53.609375 8.296875 \nL 53.609375 0 \nL 7.328125 0 \nL 7.328125 8.296875 \nQ 12.9375 14.109375 22.625 23.890625 \nQ 32.328125 33.6875 34.8125 36.53125 \nQ 39.546875 41.84375 41.421875 45.53125 \nQ 43.3125 49.21875 43.3125 52.78125 \nQ 43.3125 58.59375 39.234375 62.25 \nQ 35.15625 65.921875 28.609375 65.921875 \nQ 23.96875 65.921875 18.8125 64.3125 \nQ 13.671875 62.703125 7.8125 59.421875 \nL 7.8125 69.390625 \nQ 13.765625 71.78125 18.9375 73 \nQ 24.125 74.21875 28.421875 74.21875 \nQ 39.75 74.21875 46.484375 68.546875 \nQ 53.21875 62.890625 53.21875 53.421875 \nQ 53.21875 48.921875 51.53125 44.890625 \nQ 49.859375 40.875 45.40625 35.40625 \nQ 44.1875 33.984375 37.640625 27.21875 \nQ 31.109375 20.453125 19.1875 8.296875 \nz\n\" id=\"DejaVuSans-50\"/>\n      </defs>\n      <g style=\"fill:#555555;\" transform=\"translate(149.479419 239.238437)scale(0.1 -0.1)\">\n       <use xlink:href=\"#DejaVuSans-50\"/>\n       <use x=\"63.623047\" xlink:href=\"#DejaVuSans-48\"/>\n       <use x=\"127.246094\" xlink:href=\"#DejaVuSans-48\"/>\n      </g>\n     </g>\n    </g>\n    <g id=\"xtick_3\">\n     <g id=\"line2d_5\">\n      <path clip-path=\"url(#p18abcbd7d3)\" d=\"M 217.126392 224.64 \nL 217.126392 7.2 \n\" style=\"fill:none;stroke:#ffffff;stroke-linecap:square;stroke-width:0.8;\"/>\n     </g>\n     <g id=\"line2d_6\">\n      <g>\n       <use style=\"fill:#555555;stroke:#555555;stroke-width:0.8;\" x=\"217.126392\" xlink:href=\"#m6362043e78\" y=\"224.64\"/>\n      </g>\n     </g>\n     <g id=\"text_3\">\n      <!-- 400 -->\n      <defs>\n       <path d=\"M 37.796875 64.3125 \nL 12.890625 25.390625 \nL 37.796875 25.390625 \nz\nM 35.203125 72.90625 \nL 47.609375 72.90625 \nL 47.609375 25.390625 \nL 58.015625 25.390625 \nL 58.015625 17.1875 \nL 47.609375 17.1875 \nL 47.609375 0 \nL 37.796875 0 \nL 37.796875 17.1875 \nL 4.890625 17.1875 \nL 4.890625 26.703125 \nz\n\" id=\"DejaVuSans-52\"/>\n      </defs>\n      <g style=\"fill:#555555;\" transform=\"translate(207.582642 239.238437)scale(0.1 -0.1)\">\n       <use xlink:href=\"#DejaVuSans-52\"/>\n       <use x=\"63.623047\" xlink:href=\"#DejaVuSans-48\"/>\n       <use x=\"127.246094\" xlink:href=\"#DejaVuSans-48\"/>\n      </g>\n     </g>\n    </g>\n    <g id=\"xtick_4\">\n     <g id=\"line2d_7\">\n      <path clip-path=\"url(#p18abcbd7d3)\" d=\"M 275.229614 224.64 \nL 275.229614 7.2 \n\" style=\"fill:none;stroke:#ffffff;stroke-linecap:square;stroke-width:0.8;\"/>\n     </g>\n     <g id=\"line2d_8\">\n      <g>\n       <use style=\"fill:#555555;stroke:#555555;stroke-width:0.8;\" x=\"275.229614\" xlink:href=\"#m6362043e78\" y=\"224.64\"/>\n      </g>\n     </g>\n     <g id=\"text_4\">\n      <!-- 600 -->\n      <defs>\n       <path d=\"M 33.015625 40.375 \nQ 26.375 40.375 22.484375 35.828125 \nQ 18.609375 31.296875 18.609375 23.390625 \nQ 18.609375 15.53125 22.484375 10.953125 \nQ 26.375 6.390625 33.015625 6.390625 \nQ 39.65625 6.390625 43.53125 10.953125 \nQ 47.40625 15.53125 47.40625 23.390625 \nQ 47.40625 31.296875 43.53125 35.828125 \nQ 39.65625 40.375 33.015625 40.375 \nz\nM 52.59375 71.296875 \nL 52.59375 62.3125 \nQ 48.875 64.0625 45.09375 64.984375 \nQ 41.3125 65.921875 37.59375 65.921875 \nQ 27.828125 65.921875 22.671875 59.328125 \nQ 17.53125 52.734375 16.796875 39.40625 \nQ 19.671875 43.65625 24.015625 45.921875 \nQ 28.375 48.1875 33.59375 48.1875 \nQ 44.578125 48.1875 50.953125 41.515625 \nQ 57.328125 34.859375 57.328125 23.390625 \nQ 57.328125 12.15625 50.6875 5.359375 \nQ 44.046875 -1.421875 33.015625 -1.421875 \nQ 20.359375 -1.421875 13.671875 8.265625 \nQ 6.984375 17.96875 6.984375 36.375 \nQ 6.984375 53.65625 15.1875 63.9375 \nQ 23.390625 74.21875 37.203125 74.21875 \nQ 40.921875 74.21875 44.703125 73.484375 \nQ 48.484375 72.75 52.59375 71.296875 \nz\n\" id=\"DejaVuSans-54\"/>\n      </defs>\n      <g style=\"fill:#555555;\" transform=\"translate(265.685864 239.238437)scale(0.1 -0.1)\">\n       <use xlink:href=\"#DejaVuSans-54\"/>\n       <use x=\"63.623047\" xlink:href=\"#DejaVuSans-48\"/>\n       <use x=\"127.246094\" xlink:href=\"#DejaVuSans-48\"/>\n      </g>\n     </g>\n    </g>\n    <g id=\"xtick_5\">\n     <g id=\"line2d_9\">\n      <path clip-path=\"url(#p18abcbd7d3)\" d=\"M 333.332837 224.64 \nL 333.332837 7.2 \n\" style=\"fill:none;stroke:#ffffff;stroke-linecap:square;stroke-width:0.8;\"/>\n     </g>\n     <g id=\"line2d_10\">\n      <g>\n       <use style=\"fill:#555555;stroke:#555555;stroke-width:0.8;\" x=\"333.332837\" xlink:href=\"#m6362043e78\" y=\"224.64\"/>\n      </g>\n     </g>\n     <g id=\"text_5\">\n      <!-- 800 -->\n      <defs>\n       <path d=\"M 31.78125 34.625 \nQ 24.75 34.625 20.71875 30.859375 \nQ 16.703125 27.09375 16.703125 20.515625 \nQ 16.703125 13.921875 20.71875 10.15625 \nQ 24.75 6.390625 31.78125 6.390625 \nQ 38.8125 6.390625 42.859375 10.171875 \nQ 46.921875 13.96875 46.921875 20.515625 \nQ 46.921875 27.09375 42.890625 30.859375 \nQ 38.875 34.625 31.78125 34.625 \nz\nM 21.921875 38.8125 \nQ 15.578125 40.375 12.03125 44.71875 \nQ 8.5 49.078125 8.5 55.328125 \nQ 8.5 64.0625 14.71875 69.140625 \nQ 20.953125 74.21875 31.78125 74.21875 \nQ 42.671875 74.21875 48.875 69.140625 \nQ 55.078125 64.0625 55.078125 55.328125 \nQ 55.078125 49.078125 51.53125 44.71875 \nQ 48 40.375 41.703125 38.8125 \nQ 48.828125 37.15625 52.796875 32.3125 \nQ 56.78125 27.484375 56.78125 20.515625 \nQ 56.78125 9.90625 50.3125 4.234375 \nQ 43.84375 -1.421875 31.78125 -1.421875 \nQ 19.734375 -1.421875 13.25 4.234375 \nQ 6.78125 9.90625 6.78125 20.515625 \nQ 6.78125 27.484375 10.78125 32.3125 \nQ 14.796875 37.15625 21.921875 38.8125 \nz\nM 18.3125 54.390625 \nQ 18.3125 48.734375 21.84375 45.5625 \nQ 25.390625 42.390625 31.78125 42.390625 \nQ 38.140625 42.390625 41.71875 45.5625 \nQ 45.3125 48.734375 45.3125 54.390625 \nQ 45.3125 60.0625 41.71875 63.234375 \nQ 38.140625 66.40625 31.78125 66.40625 \nQ 25.390625 66.40625 21.84375 63.234375 \nQ 18.3125 60.0625 18.3125 54.390625 \nz\n\" id=\"DejaVuSans-56\"/>\n      </defs>\n      <g style=\"fill:#555555;\" transform=\"translate(323.789087 239.238437)scale(0.1 -0.1)\">\n       <use xlink:href=\"#DejaVuSans-56\"/>\n       <use x=\"63.623047\" xlink:href=\"#DejaVuSans-48\"/>\n       <use x=\"127.246094\" xlink:href=\"#DejaVuSans-48\"/>\n      </g>\n     </g>\n    </g>\n    <g id=\"xtick_6\">\n     <g id=\"line2d_11\">\n      <path clip-path=\"url(#p18abcbd7d3)\" d=\"M 391.43606 224.64 \nL 391.43606 7.2 \n\" style=\"fill:none;stroke:#ffffff;stroke-linecap:square;stroke-width:0.8;\"/>\n     </g>\n     <g id=\"line2d_12\">\n      <g>\n       <use style=\"fill:#555555;stroke:#555555;stroke-width:0.8;\" x=\"391.43606\" xlink:href=\"#m6362043e78\" y=\"224.64\"/>\n      </g>\n     </g>\n     <g id=\"text_6\">\n      <!-- 1000 -->\n      <defs>\n       <path d=\"M 12.40625 8.296875 \nL 28.515625 8.296875 \nL 28.515625 63.921875 \nL 10.984375 60.40625 \nL 10.984375 69.390625 \nL 28.421875 72.90625 \nL 38.28125 72.90625 \nL 38.28125 8.296875 \nL 54.390625 8.296875 \nL 54.390625 0 \nL 12.40625 0 \nz\n\" id=\"DejaVuSans-49\"/>\n      </defs>\n      <g style=\"fill:#555555;\" transform=\"translate(378.71106 239.238437)scale(0.1 -0.1)\">\n       <use xlink:href=\"#DejaVuSans-49\"/>\n       <use x=\"63.623047\" xlink:href=\"#DejaVuSans-48\"/>\n       <use x=\"127.246094\" xlink:href=\"#DejaVuSans-48\"/>\n       <use x=\"190.869141\" xlink:href=\"#DejaVuSans-48\"/>\n      </g>\n     </g>\n    </g>\n    <g id=\"text_7\">\n     <!-- Insulin -->\n     <defs>\n      <path d=\"M 9.8125 72.90625 \nL 19.671875 72.90625 \nL 19.671875 0 \nL 9.8125 0 \nz\n\" id=\"DejaVuSans-73\"/>\n      <path d=\"M 54.890625 33.015625 \nL 54.890625 0 \nL 45.90625 0 \nL 45.90625 32.71875 \nQ 45.90625 40.484375 42.875 44.328125 \nQ 39.84375 48.1875 33.796875 48.1875 \nQ 26.515625 48.1875 22.3125 43.546875 \nQ 18.109375 38.921875 18.109375 30.90625 \nL 18.109375 0 \nL 9.078125 0 \nL 9.078125 54.6875 \nL 18.109375 54.6875 \nL 18.109375 46.1875 \nQ 21.34375 51.125 25.703125 53.5625 \nQ 30.078125 56 35.796875 56 \nQ 45.21875 56 50.046875 50.171875 \nQ 54.890625 44.34375 54.890625 33.015625 \nz\n\" id=\"DejaVuSans-110\"/>\n      <path d=\"M 44.28125 53.078125 \nL 44.28125 44.578125 \nQ 40.484375 46.53125 36.375 47.5 \nQ 32.28125 48.484375 27.875 48.484375 \nQ 21.1875 48.484375 17.84375 46.4375 \nQ 14.5 44.390625 14.5 40.28125 \nQ 14.5 37.15625 16.890625 35.375 \nQ 19.28125 33.59375 26.515625 31.984375 \nL 29.59375 31.296875 \nQ 39.15625 29.25 43.1875 25.515625 \nQ 47.21875 21.78125 47.21875 15.09375 \nQ 47.21875 7.46875 41.1875 3.015625 \nQ 35.15625 -1.421875 24.609375 -1.421875 \nQ 20.21875 -1.421875 15.453125 -0.5625 \nQ 10.6875 0.296875 5.421875 2 \nL 5.421875 11.28125 \nQ 10.40625 8.6875 15.234375 7.390625 \nQ 20.0625 6.109375 24.8125 6.109375 \nQ 31.15625 6.109375 34.5625 8.28125 \nQ 37.984375 10.453125 37.984375 14.40625 \nQ 37.984375 18.0625 35.515625 20.015625 \nQ 33.0625 21.96875 24.703125 23.78125 \nL 21.578125 24.515625 \nQ 13.234375 26.265625 9.515625 29.90625 \nQ 5.8125 33.546875 5.8125 39.890625 \nQ 5.8125 47.609375 11.28125 51.796875 \nQ 16.75 56 26.8125 56 \nQ 31.78125 56 36.171875 55.265625 \nQ 40.578125 54.546875 44.28125 53.078125 \nz\n\" id=\"DejaVuSans-115\"/>\n      <path d=\"M 8.5 21.578125 \nL 8.5 54.6875 \nL 17.484375 54.6875 \nL 17.484375 21.921875 \nQ 17.484375 14.15625 20.5 10.265625 \nQ 23.53125 6.390625 29.59375 6.390625 \nQ 36.859375 6.390625 41.078125 11.03125 \nQ 45.3125 15.671875 45.3125 23.6875 \nL 45.3125 54.6875 \nL 54.296875 54.6875 \nL 54.296875 0 \nL 45.3125 0 \nL 45.3125 8.40625 \nQ 42.046875 3.421875 37.71875 1 \nQ 33.40625 -1.421875 27.6875 -1.421875 \nQ 18.265625 -1.421875 13.375 4.4375 \nQ 8.5 10.296875 8.5 21.578125 \nz\nM 31.109375 56 \nz\n\" id=\"DejaVuSans-117\"/>\n      <path d=\"M 9.421875 75.984375 \nL 18.40625 75.984375 \nL 18.40625 0 \nL 9.421875 0 \nz\n\" id=\"DejaVuSans-108\"/>\n      <path d=\"M 9.421875 54.6875 \nL 18.40625 54.6875 \nL 18.40625 0 \nL 9.421875 0 \nz\nM 9.421875 75.984375 \nL 18.40625 75.984375 \nL 18.40625 64.59375 \nL 9.421875 64.59375 \nz\n\" id=\"DejaVuSans-105\"/>\n     </defs>\n     <g style=\"fill:#555555;\" transform=\"translate(206.205 254.43625)scale(0.12 -0.12)\">\n      <use xlink:href=\"#DejaVuSans-73\"/>\n      <use x=\"29.492188\" xlink:href=\"#DejaVuSans-110\"/>\n      <use x=\"92.871094\" xlink:href=\"#DejaVuSans-115\"/>\n      <use x=\"144.970703\" xlink:href=\"#DejaVuSans-117\"/>\n      <use x=\"208.349609\" xlink:href=\"#DejaVuSans-108\"/>\n      <use x=\"236.132812\" xlink:href=\"#DejaVuSans-105\"/>\n      <use x=\"263.916016\" xlink:href=\"#DejaVuSans-110\"/>\n     </g>\n    </g>\n   </g>\n   <g id=\"matplotlib.axis_2\">\n    <g id=\"ytick_1\">\n     <g id=\"line2d_13\">\n      <path clip-path=\"url(#p18abcbd7d3)\" d=\"M 58.441875 224.64 \nL 393.241875 224.64 \n\" style=\"fill:none;stroke:#ffffff;stroke-linecap:square;stroke-width:0.8;\"/>\n     </g>\n     <g id=\"line2d_14\">\n      <defs>\n       <path d=\"M 0 0 \nL -3.5 0 \n\" id=\"m80aec77704\" style=\"stroke:#555555;stroke-width:0.8;\"/>\n      </defs>\n      <g>\n       <use style=\"fill:#555555;stroke:#555555;stroke-width:0.8;\" x=\"58.441875\" xlink:href=\"#m80aec77704\" y=\"224.64\"/>\n      </g>\n     </g>\n     <g id=\"text_8\">\n      <!-- 0.000 -->\n      <defs>\n       <path d=\"M 10.6875 12.40625 \nL 21 12.40625 \nL 21 0 \nL 10.6875 0 \nz\n\" id=\"DejaVuSans-46\"/>\n      </defs>\n      <g style=\"fill:#555555;\" transform=\"translate(22.81375 228.439219)scale(0.1 -0.1)\">\n       <use xlink:href=\"#DejaVuSans-48\"/>\n       <use x=\"63.623047\" xlink:href=\"#DejaVuSans-46\"/>\n       <use x=\"95.410156\" xlink:href=\"#DejaVuSans-48\"/>\n       <use x=\"159.033203\" xlink:href=\"#DejaVuSans-48\"/>\n       <use x=\"222.65625\" xlink:href=\"#DejaVuSans-48\"/>\n      </g>\n     </g>\n    </g>\n    <g id=\"ytick_2\">\n     <g id=\"line2d_15\">\n      <path clip-path=\"url(#p18abcbd7d3)\" d=\"M 58.441875 189.228235 \nL 393.241875 189.228235 \n\" style=\"fill:none;stroke:#ffffff;stroke-linecap:square;stroke-width:0.8;\"/>\n     </g>\n     <g id=\"line2d_16\">\n      <g>\n       <use style=\"fill:#555555;stroke:#555555;stroke-width:0.8;\" x=\"58.441875\" xlink:href=\"#m80aec77704\" y=\"189.228235\"/>\n      </g>\n     </g>\n     <g id=\"text_9\">\n      <!-- 0.001 -->\n      <g style=\"fill:#555555;\" transform=\"translate(22.81375 193.027454)scale(0.1 -0.1)\">\n       <use xlink:href=\"#DejaVuSans-48\"/>\n       <use x=\"63.623047\" xlink:href=\"#DejaVuSans-46\"/>\n       <use x=\"95.410156\" xlink:href=\"#DejaVuSans-48\"/>\n       <use x=\"159.033203\" xlink:href=\"#DejaVuSans-48\"/>\n       <use x=\"222.65625\" xlink:href=\"#DejaVuSans-49\"/>\n      </g>\n     </g>\n    </g>\n    <g id=\"ytick_3\">\n     <g id=\"line2d_17\">\n      <path clip-path=\"url(#p18abcbd7d3)\" d=\"M 58.441875 153.81647 \nL 393.241875 153.81647 \n\" style=\"fill:none;stroke:#ffffff;stroke-linecap:square;stroke-width:0.8;\"/>\n     </g>\n     <g id=\"line2d_18\">\n      <g>\n       <use style=\"fill:#555555;stroke:#555555;stroke-width:0.8;\" x=\"58.441875\" xlink:href=\"#m80aec77704\" y=\"153.81647\"/>\n      </g>\n     </g>\n     <g id=\"text_10\">\n      <!-- 0.002 -->\n      <g style=\"fill:#555555;\" transform=\"translate(22.81375 157.615688)scale(0.1 -0.1)\">\n       <use xlink:href=\"#DejaVuSans-48\"/>\n       <use x=\"63.623047\" xlink:href=\"#DejaVuSans-46\"/>\n       <use x=\"95.410156\" xlink:href=\"#DejaVuSans-48\"/>\n       <use x=\"159.033203\" xlink:href=\"#DejaVuSans-48\"/>\n       <use x=\"222.65625\" xlink:href=\"#DejaVuSans-50\"/>\n      </g>\n     </g>\n    </g>\n    <g id=\"ytick_4\">\n     <g id=\"line2d_19\">\n      <path clip-path=\"url(#p18abcbd7d3)\" d=\"M 58.441875 118.404704 \nL 393.241875 118.404704 \n\" style=\"fill:none;stroke:#ffffff;stroke-linecap:square;stroke-width:0.8;\"/>\n     </g>\n     <g id=\"line2d_20\">\n      <g>\n       <use style=\"fill:#555555;stroke:#555555;stroke-width:0.8;\" x=\"58.441875\" xlink:href=\"#m80aec77704\" y=\"118.404704\"/>\n      </g>\n     </g>\n     <g id=\"text_11\">\n      <!-- 0.003 -->\n      <defs>\n       <path d=\"M 40.578125 39.3125 \nQ 47.65625 37.796875 51.625 33 \nQ 55.609375 28.21875 55.609375 21.1875 \nQ 55.609375 10.40625 48.1875 4.484375 \nQ 40.765625 -1.421875 27.09375 -1.421875 \nQ 22.515625 -1.421875 17.65625 -0.515625 \nQ 12.796875 0.390625 7.625 2.203125 \nL 7.625 11.71875 \nQ 11.71875 9.328125 16.59375 8.109375 \nQ 21.484375 6.890625 26.8125 6.890625 \nQ 36.078125 6.890625 40.9375 10.546875 \nQ 45.796875 14.203125 45.796875 21.1875 \nQ 45.796875 27.640625 41.28125 31.265625 \nQ 36.765625 34.90625 28.71875 34.90625 \nL 20.21875 34.90625 \nL 20.21875 43.015625 \nL 29.109375 43.015625 \nQ 36.375 43.015625 40.234375 45.921875 \nQ 44.09375 48.828125 44.09375 54.296875 \nQ 44.09375 59.90625 40.109375 62.90625 \nQ 36.140625 65.921875 28.71875 65.921875 \nQ 24.65625 65.921875 20.015625 65.03125 \nQ 15.375 64.15625 9.8125 62.3125 \nL 9.8125 71.09375 \nQ 15.4375 72.65625 20.34375 73.4375 \nQ 25.25 74.21875 29.59375 74.21875 \nQ 40.828125 74.21875 47.359375 69.109375 \nQ 53.90625 64.015625 53.90625 55.328125 \nQ 53.90625 49.265625 50.4375 45.09375 \nQ 46.96875 40.921875 40.578125 39.3125 \nz\n\" id=\"DejaVuSans-51\"/>\n      </defs>\n      <g style=\"fill:#555555;\" transform=\"translate(22.81375 122.203923)scale(0.1 -0.1)\">\n       <use xlink:href=\"#DejaVuSans-48\"/>\n       <use x=\"63.623047\" xlink:href=\"#DejaVuSans-46\"/>\n       <use x=\"95.410156\" xlink:href=\"#DejaVuSans-48\"/>\n       <use x=\"159.033203\" xlink:href=\"#DejaVuSans-48\"/>\n       <use x=\"222.65625\" xlink:href=\"#DejaVuSans-51\"/>\n      </g>\n     </g>\n    </g>\n    <g id=\"ytick_5\">\n     <g id=\"line2d_21\">\n      <path clip-path=\"url(#p18abcbd7d3)\" d=\"M 58.441875 82.992939 \nL 393.241875 82.992939 \n\" style=\"fill:none;stroke:#ffffff;stroke-linecap:square;stroke-width:0.8;\"/>\n     </g>\n     <g id=\"line2d_22\">\n      <g>\n       <use style=\"fill:#555555;stroke:#555555;stroke-width:0.8;\" x=\"58.441875\" xlink:href=\"#m80aec77704\" y=\"82.992939\"/>\n      </g>\n     </g>\n     <g id=\"text_12\">\n      <!-- 0.004 -->\n      <g style=\"fill:#555555;\" transform=\"translate(22.81375 86.792158)scale(0.1 -0.1)\">\n       <use xlink:href=\"#DejaVuSans-48\"/>\n       <use x=\"63.623047\" xlink:href=\"#DejaVuSans-46\"/>\n       <use x=\"95.410156\" xlink:href=\"#DejaVuSans-48\"/>\n       <use x=\"159.033203\" xlink:href=\"#DejaVuSans-48\"/>\n       <use x=\"222.65625\" xlink:href=\"#DejaVuSans-52\"/>\n      </g>\n     </g>\n    </g>\n    <g id=\"ytick_6\">\n     <g id=\"line2d_23\">\n      <path clip-path=\"url(#p18abcbd7d3)\" d=\"M 58.441875 47.581174 \nL 393.241875 47.581174 \n\" style=\"fill:none;stroke:#ffffff;stroke-linecap:square;stroke-width:0.8;\"/>\n     </g>\n     <g id=\"line2d_24\">\n      <g>\n       <use style=\"fill:#555555;stroke:#555555;stroke-width:0.8;\" x=\"58.441875\" xlink:href=\"#m80aec77704\" y=\"47.581174\"/>\n      </g>\n     </g>\n     <g id=\"text_13\">\n      <!-- 0.005 -->\n      <defs>\n       <path d=\"M 10.796875 72.90625 \nL 49.515625 72.90625 \nL 49.515625 64.59375 \nL 19.828125 64.59375 \nL 19.828125 46.734375 \nQ 21.96875 47.46875 24.109375 47.828125 \nQ 26.265625 48.1875 28.421875 48.1875 \nQ 40.625 48.1875 47.75 41.5 \nQ 54.890625 34.8125 54.890625 23.390625 \nQ 54.890625 11.625 47.5625 5.09375 \nQ 40.234375 -1.421875 26.90625 -1.421875 \nQ 22.3125 -1.421875 17.546875 -0.640625 \nQ 12.796875 0.140625 7.71875 1.703125 \nL 7.71875 11.625 \nQ 12.109375 9.234375 16.796875 8.0625 \nQ 21.484375 6.890625 26.703125 6.890625 \nQ 35.15625 6.890625 40.078125 11.328125 \nQ 45.015625 15.765625 45.015625 23.390625 \nQ 45.015625 31 40.078125 35.4375 \nQ 35.15625 39.890625 26.703125 39.890625 \nQ 22.75 39.890625 18.8125 39.015625 \nQ 14.890625 38.140625 10.796875 36.28125 \nz\n\" id=\"DejaVuSans-53\"/>\n      </defs>\n      <g style=\"fill:#555555;\" transform=\"translate(22.81375 51.380393)scale(0.1 -0.1)\">\n       <use xlink:href=\"#DejaVuSans-48\"/>\n       <use x=\"63.623047\" xlink:href=\"#DejaVuSans-46\"/>\n       <use x=\"95.410156\" xlink:href=\"#DejaVuSans-48\"/>\n       <use x=\"159.033203\" xlink:href=\"#DejaVuSans-48\"/>\n       <use x=\"222.65625\" xlink:href=\"#DejaVuSans-53\"/>\n      </g>\n     </g>\n    </g>\n    <g id=\"ytick_7\">\n     <g id=\"line2d_25\">\n      <path clip-path=\"url(#p18abcbd7d3)\" d=\"M 58.441875 12.169409 \nL 393.241875 12.169409 \n\" style=\"fill:none;stroke:#ffffff;stroke-linecap:square;stroke-width:0.8;\"/>\n     </g>\n     <g id=\"line2d_26\">\n      <g>\n       <use style=\"fill:#555555;stroke:#555555;stroke-width:0.8;\" x=\"58.441875\" xlink:href=\"#m80aec77704\" y=\"12.169409\"/>\n      </g>\n     </g>\n     <g id=\"text_14\">\n      <!-- 0.006 -->\n      <g style=\"fill:#555555;\" transform=\"translate(22.81375 15.968628)scale(0.1 -0.1)\">\n       <use xlink:href=\"#DejaVuSans-48\"/>\n       <use x=\"63.623047\" xlink:href=\"#DejaVuSans-46\"/>\n       <use x=\"95.410156\" xlink:href=\"#DejaVuSans-48\"/>\n       <use x=\"159.033203\" xlink:href=\"#DejaVuSans-48\"/>\n       <use x=\"222.65625\" xlink:href=\"#DejaVuSans-54\"/>\n      </g>\n     </g>\n    </g>\n    <g id=\"text_15\">\n     <!-- Density -->\n     <defs>\n      <path d=\"M 19.671875 64.796875 \nL 19.671875 8.109375 \nL 31.59375 8.109375 \nQ 46.6875 8.109375 53.6875 14.9375 \nQ 60.6875 21.78125 60.6875 36.53125 \nQ 60.6875 51.171875 53.6875 57.984375 \nQ 46.6875 64.796875 31.59375 64.796875 \nz\nM 9.8125 72.90625 \nL 30.078125 72.90625 \nQ 51.265625 72.90625 61.171875 64.09375 \nQ 71.09375 55.28125 71.09375 36.53125 \nQ 71.09375 17.671875 61.125 8.828125 \nQ 51.171875 0 30.078125 0 \nL 9.8125 0 \nz\n\" id=\"DejaVuSans-68\"/>\n      <path d=\"M 56.203125 29.59375 \nL 56.203125 25.203125 \nL 14.890625 25.203125 \nQ 15.484375 15.921875 20.484375 11.0625 \nQ 25.484375 6.203125 34.421875 6.203125 \nQ 39.59375 6.203125 44.453125 7.46875 \nQ 49.3125 8.734375 54.109375 11.28125 \nL 54.109375 2.78125 \nQ 49.265625 0.734375 44.1875 -0.34375 \nQ 39.109375 -1.421875 33.890625 -1.421875 \nQ 20.796875 -1.421875 13.15625 6.1875 \nQ 5.515625 13.8125 5.515625 26.8125 \nQ 5.515625 40.234375 12.765625 48.109375 \nQ 20.015625 56 32.328125 56 \nQ 43.359375 56 49.78125 48.890625 \nQ 56.203125 41.796875 56.203125 29.59375 \nz\nM 47.21875 32.234375 \nQ 47.125 39.59375 43.09375 43.984375 \nQ 39.0625 48.390625 32.421875 48.390625 \nQ 24.90625 48.390625 20.390625 44.140625 \nQ 15.875 39.890625 15.1875 32.171875 \nz\n\" id=\"DejaVuSans-101\"/>\n      <path d=\"M 18.3125 70.21875 \nL 18.3125 54.6875 \nL 36.8125 54.6875 \nL 36.8125 47.703125 \nL 18.3125 47.703125 \nL 18.3125 18.015625 \nQ 18.3125 11.328125 20.140625 9.421875 \nQ 21.96875 7.515625 27.59375 7.515625 \nL 36.8125 7.515625 \nL 36.8125 0 \nL 27.59375 0 \nQ 17.1875 0 13.234375 3.875 \nQ 9.28125 7.765625 9.28125 18.015625 \nL 9.28125 47.703125 \nL 2.6875 47.703125 \nL 2.6875 54.6875 \nL 9.28125 54.6875 \nL 9.28125 70.21875 \nz\n\" id=\"DejaVuSans-116\"/>\n      <path d=\"M 32.171875 -5.078125 \nQ 28.375 -14.84375 24.75 -17.8125 \nQ 21.140625 -20.796875 15.09375 -20.796875 \nL 7.90625 -20.796875 \nL 7.90625 -13.28125 \nL 13.1875 -13.28125 \nQ 16.890625 -13.28125 18.9375 -11.515625 \nQ 21 -9.765625 23.484375 -3.21875 \nL 25.09375 0.875 \nL 2.984375 54.6875 \nL 12.5 54.6875 \nL 29.59375 11.921875 \nL 46.6875 54.6875 \nL 56.203125 54.6875 \nz\n\" id=\"DejaVuSans-121\"/>\n     </defs>\n     <g style=\"fill:#555555;\" transform=\"translate(16.318125 138.730312)rotate(-90)scale(0.12 -0.12)\">\n      <use xlink:href=\"#DejaVuSans-68\"/>\n      <use x=\"77.001953\" xlink:href=\"#DejaVuSans-101\"/>\n      <use x=\"138.525391\" xlink:href=\"#DejaVuSans-110\"/>\n      <use x=\"201.904297\" xlink:href=\"#DejaVuSans-115\"/>\n      <use x=\"254.003906\" xlink:href=\"#DejaVuSans-105\"/>\n      <use x=\"281.787109\" xlink:href=\"#DejaVuSans-116\"/>\n      <use x=\"320.996094\" xlink:href=\"#DejaVuSans-121\"/>\n     </g>\n    </g>\n   </g>\n   <g id=\"patch_3\">\n    <path clip-path=\"url(#p18abcbd7d3)\" d=\"M 104.987172 224.64 \nL 113.939372 224.64 \nL 113.939372 151.722495 \nL 104.987172 151.722495 \nz\n\" style=\"fill:#e24a33;opacity:0.4;\"/>\n   </g>\n   <g id=\"patch_4\">\n    <path clip-path=\"url(#p18abcbd7d3)\" d=\"M 113.939372 224.64 \nL 122.891572 224.64 \nL 122.891572 23.387686 \nL 113.939372 23.387686 \nz\n\" style=\"fill:#e24a33;opacity:0.4;\"/>\n   </g>\n   <g id=\"patch_5\">\n    <path clip-path=\"url(#p18abcbd7d3)\" d=\"M 122.891572 224.64 \nL 131.843773 224.64 \nL 131.843773 17.554286 \nL 122.891572 17.554286 \nz\n\" style=\"fill:#e24a33;opacity:0.4;\"/>\n   </g>\n   <g id=\"patch_6\">\n    <path clip-path=\"url(#p18abcbd7d3)\" d=\"M 131.843773 224.64 \nL 140.795973 224.64 \nL 140.795973 61.304789 \nL 131.843773 61.304789 \nz\n\" style=\"fill:#e24a33;opacity:0.4;\"/>\n   </g>\n   <g id=\"patch_7\">\n    <path clip-path=\"url(#p18abcbd7d3)\" d=\"M 140.795973 224.64 \nL 149.748173 224.64 \nL 149.748173 87.555091 \nL 140.795973 87.555091 \nz\n\" style=\"fill:#e24a33;opacity:0.4;\"/>\n   </g>\n   <g id=\"patch_8\">\n    <path clip-path=\"url(#p18abcbd7d3)\" d=\"M 149.748173 224.64 \nL 158.700373 224.64 \nL 158.700373 116.722093 \nL 149.748173 116.722093 \nz\n\" style=\"fill:#e24a33;opacity:0.4;\"/>\n   </g>\n   <g id=\"patch_9\">\n    <path clip-path=\"url(#p18abcbd7d3)\" d=\"M 158.700373 224.64 \nL 167.652573 224.64 \nL 167.652573 160.472596 \nL 158.700373 160.472596 \nz\n\" style=\"fill:#e24a33;opacity:0.4;\"/>\n   </g>\n   <g id=\"patch_10\">\n    <path clip-path=\"url(#p18abcbd7d3)\" d=\"M 167.652573 224.64 \nL 176.604774 224.64 \nL 176.604774 186.722897 \nL 167.652573 186.722897 \nz\n\" style=\"fill:#e24a33;opacity:0.4;\"/>\n   </g>\n   <g id=\"patch_11\">\n    <path clip-path=\"url(#p18abcbd7d3)\" d=\"M 176.604774 224.64 \nL 185.556974 224.64 \nL 185.556974 183.806197 \nL 176.604774 183.806197 \nz\n\" style=\"fill:#e24a33;opacity:0.4;\"/>\n   </g>\n   <g id=\"patch_12\">\n    <path clip-path=\"url(#p18abcbd7d3)\" d=\"M 185.556974 224.64 \nL 194.509174 224.64 \nL 194.509174 204.223099 \nL 185.556974 204.223099 \nz\n\" style=\"fill:#e24a33;opacity:0.4;\"/>\n   </g>\n   <g id=\"patch_13\">\n    <path clip-path=\"url(#p18abcbd7d3)\" d=\"M 194.509174 224.64 \nL 203.461374 224.64 \nL 203.461374 201.306398 \nL 194.509174 201.306398 \nz\n\" style=\"fill:#e24a33;opacity:0.4;\"/>\n   </g>\n   <g id=\"patch_14\">\n    <path clip-path=\"url(#p18abcbd7d3)\" d=\"M 203.461374 224.64 \nL 212.413575 224.64 \nL 212.413575 215.889899 \nL 203.461374 215.889899 \nz\n\" style=\"fill:#e24a33;opacity:0.4;\"/>\n   </g>\n   <g id=\"patch_15\">\n    <path clip-path=\"url(#p18abcbd7d3)\" d=\"M 212.413575 224.64 \nL 221.365775 224.64 \nL 221.365775 215.889899 \nL 212.413575 215.889899 \nz\n\" style=\"fill:#e24a33;opacity:0.4;\"/>\n   </g>\n   <g id=\"patch_16\">\n    <path clip-path=\"url(#p18abcbd7d3)\" d=\"M 221.365775 224.64 \nL 230.317975 224.64 \nL 230.317975 218.8066 \nL 221.365775 218.8066 \nz\n\" style=\"fill:#e24a33;opacity:0.4;\"/>\n   </g>\n   <g id=\"patch_17\">\n    <path clip-path=\"url(#p18abcbd7d3)\" d=\"M 230.317975 224.64 \nL 239.270175 224.64 \nL 239.270175 218.8066 \nL 230.317975 218.8066 \nz\n\" style=\"fill:#e24a33;opacity:0.4;\"/>\n   </g>\n   <g id=\"patch_18\">\n    <path clip-path=\"url(#p18abcbd7d3)\" d=\"M 239.270175 224.64 \nL 248.222376 224.64 \nL 248.222376 207.139799 \nL 239.270175 207.139799 \nz\n\" style=\"fill:#e24a33;opacity:0.4;\"/>\n   </g>\n   <g id=\"patch_19\">\n    <path clip-path=\"url(#p18abcbd7d3)\" d=\"M 248.222376 224.64 \nL 257.174576 224.64 \nL 257.174576 221.7233 \nL 248.222376 221.7233 \nz\n\" style=\"fill:#e24a33;opacity:0.4;\"/>\n   </g>\n   <g id=\"patch_20\">\n    <path clip-path=\"url(#p18abcbd7d3)\" d=\"M 257.174576 224.64 \nL 266.126776 224.64 \nL 266.126776 215.889899 \nL 257.174576 215.889899 \nz\n\" style=\"fill:#e24a33;opacity:0.4;\"/>\n   </g>\n   <g id=\"patch_21\">\n    <path clip-path=\"url(#p18abcbd7d3)\" d=\"M 266.126776 224.64 \nL 275.078976 224.64 \nL 275.078976 221.7233 \nL 266.126776 221.7233 \nz\n\" style=\"fill:#e24a33;opacity:0.4;\"/>\n   </g>\n   <g id=\"patch_22\">\n    <path clip-path=\"url(#p18abcbd7d3)\" d=\"M 275.078976 224.64 \nL 284.031177 224.64 \nL 284.031177 221.7233 \nL 275.078976 221.7233 \nz\n\" style=\"fill:#e24a33;opacity:0.4;\"/>\n   </g>\n   <g id=\"patch_23\">\n    <path clip-path=\"url(#p18abcbd7d3)\" d=\"M 284.031177 224.64 \nL 292.983377 224.64 \nL 292.983377 224.64 \nL 284.031177 224.64 \nz\n\" style=\"fill:#e24a33;opacity:0.4;\"/>\n   </g>\n   <g id=\"patch_24\">\n    <path clip-path=\"url(#p18abcbd7d3)\" d=\"M 292.983377 224.64 \nL 301.935577 224.64 \nL 301.935577 221.7233 \nL 292.983377 221.7233 \nz\n\" style=\"fill:#e24a33;opacity:0.4;\"/>\n   </g>\n   <g id=\"patch_25\">\n    <path clip-path=\"url(#p18abcbd7d3)\" d=\"M 301.935577 224.64 \nL 310.887777 224.64 \nL 310.887777 224.64 \nL 301.935577 224.64 \nz\n\" style=\"fill:#e24a33;opacity:0.4;\"/>\n   </g>\n   <g id=\"patch_26\">\n    <path clip-path=\"url(#p18abcbd7d3)\" d=\"M 310.887777 224.64 \nL 319.839977 224.64 \nL 319.839977 221.7233 \nL 310.887777 221.7233 \nz\n\" style=\"fill:#e24a33;opacity:0.4;\"/>\n   </g>\n   <g id=\"patch_27\">\n    <path clip-path=\"url(#p18abcbd7d3)\" d=\"M 319.839977 224.64 \nL 328.792178 224.64 \nL 328.792178 224.64 \nL 319.839977 224.64 \nz\n\" style=\"fill:#e24a33;opacity:0.4;\"/>\n   </g>\n   <g id=\"patch_28\">\n    <path clip-path=\"url(#p18abcbd7d3)\" d=\"M 328.792178 224.64 \nL 337.744378 224.64 \nL 337.744378 224.64 \nL 328.792178 224.64 \nz\n\" style=\"fill:#e24a33;opacity:0.4;\"/>\n   </g>\n   <g id=\"patch_29\">\n    <path clip-path=\"url(#p18abcbd7d3)\" d=\"M 337.744378 224.64 \nL 346.696578 224.64 \nL 346.696578 221.7233 \nL 337.744378 221.7233 \nz\n\" style=\"fill:#e24a33;opacity:0.4;\"/>\n   </g>\n   <g id=\"line2d_27\">\n    <path clip-path=\"url(#p18abcbd7d3)\" d=\"M 73.660057 224.54217 \nL 76.718988 224.389427 \nL 79.777919 224.043157 \nL 81.307384 223.743123 \nL 82.83685 223.315629 \nL 84.366315 222.71784 \nL 85.895781 221.897328 \nL 87.425246 220.791743 \nL 88.954712 219.329172 \nL 90.484177 217.429426 \nL 92.013643 215.006404 \nL 93.543108 211.971671 \nL 95.072574 208.239243 \nL 96.602039 203.731446 \nL 98.131505 198.385553 \nL 99.66097 192.160747 \nL 101.190436 185.044797 \nL 102.719901 177.059761 \nL 104.249367 168.265994 \nL 107.308298 148.692347 \nL 114.955626 96.631487 \nL 116.485091 87.396372 \nL 118.014557 79.016266 \nL 119.544022 71.634861 \nL 121.073488 65.356688 \nL 122.602953 60.245296 \nL 124.132419 56.324279 \nL 125.661884 53.580704 \nL 127.19135 51.970271 \nL 128.720815 51.423491 \nL 130.250281 51.852203 \nL 131.779746 53.155912 \nL 133.309212 55.227608 \nL 134.838677 57.958885 \nL 136.368143 61.244332 \nL 137.897608 64.98523 \nL 140.956539 73.489412 \nL 144.01547 82.912447 \nL 148.603867 98.081951 \nL 153.192263 114.155588 \nL 163.898522 152.541457 \nL 166.957453 162.167869 \nL 168.486918 166.499323 \nL 170.016384 170.467358 \nL 171.545849 174.058144 \nL 173.075315 177.272946 \nL 174.60478 180.127301 \nL 176.134246 182.649064 \nL 177.663711 184.87562 \nL 179.193177 186.850609 \nL 182.252108 190.231575 \nL 185.311039 193.144614 \nL 199.076229 205.357757 \nL 202.13516 207.906348 \nL 205.194091 210.205264 \nL 208.253022 212.185069 \nL 211.311953 213.821435 \nL 214.370884 215.121623 \nL 217.429815 216.09641 \nL 220.488746 216.738309 \nL 223.547677 217.023726 \nL 226.606608 216.941268 \nL 229.665539 216.530419 \nL 238.842332 214.745369 \nL 241.901263 214.559014 \nL 244.960194 214.746634 \nL 248.019125 215.268915 \nL 252.607521 216.438298 \nL 261.784314 218.919225 \nL 267.902177 220.319532 \nL 275.549504 221.843145 \nL 280.137901 222.580307 \nL 284.726297 223.089633 \nL 289.314694 223.33529 \nL 295.432556 223.365699 \nL 310.727211 223.303157 \nL 318.374538 223.462667 \nL 332.139728 223.905125 \nL 338.25759 223.79247 \nL 345.904917 223.623281 \nL 352.02278 223.760453 \nL 370.376366 224.563738 \nL 378.023693 224.628918 \nL 378.023693 224.628918 \n\" style=\"fill:none;stroke:#e24a33;stroke-linecap:square;stroke-width:1.5;\"/>\n   </g>\n   <g id=\"patch_30\">\n    <path d=\"M 58.441875 224.64 \nL 58.441875 7.2 \n\" style=\"fill:none;stroke:#ffffff;stroke-linecap:square;stroke-linejoin:miter;\"/>\n   </g>\n   <g id=\"patch_31\">\n    <path d=\"M 393.241875 224.64 \nL 393.241875 7.2 \n\" style=\"fill:none;stroke:#ffffff;stroke-linecap:square;stroke-linejoin:miter;\"/>\n   </g>\n   <g id=\"patch_32\">\n    <path d=\"M 58.441875 224.64 \nL 393.241875 224.64 \n\" style=\"fill:none;stroke:#ffffff;stroke-linecap:square;stroke-linejoin:miter;\"/>\n   </g>\n   <g id=\"patch_33\">\n    <path d=\"M 58.441875 7.2 \nL 393.241875 7.2 \n\" style=\"fill:none;stroke:#ffffff;stroke-linecap:square;stroke-linejoin:miter;\"/>\n   </g>\n  </g>\n </g>\n <defs>\n  <clipPath id=\"p18abcbd7d3\">\n   <rect height=\"217.44\" width=\"334.8\" x=\"58.441875\" y=\"7.2\"/>\n  </clipPath>\n </defs>\n</svg>\n"
          },
          "metadata": {
            "tags": []
          }
        }
      ]
    },
    {
      "cell_type": "code",
      "metadata": {
        "colab": {
          "base_uri": "https://localhost:8080/",
          "height": 391
        },
        "id": "zdZuaMLjI02E",
        "outputId": "3e4d7da0-c8ac-4479-d347-61213e0c35d7"
      },
      "source": [
        "sns.boxplot(train[\"Insulin\"])"
      ],
      "execution_count": 181,
      "outputs": [
        {
          "output_type": "execute_result",
          "data": {
            "text/plain": [
              "<matplotlib.axes._subplots.AxesSubplot at 0x7fa4cc01dc10>"
            ]
          },
          "metadata": {
            "tags": []
          },
          "execution_count": 181
        },
        {
          "output_type": "display_data",
          "data": {
            "text/plain": [
              "<Figure size 432x288 with 1 Axes>"
            ],
            "image/svg+xml": "<?xml version=\"1.0\" encoding=\"utf-8\" standalone=\"no\"?>\n<!DOCTYPE svg PUBLIC \"-//W3C//DTD SVG 1.1//EN\"\n  \"http://www.w3.org/Graphics/SVG/1.1/DTD/svg11.dtd\">\n<!-- Created with matplotlib (https://matplotlib.org/) -->\n<svg height=\"264.131875pt\" version=\"1.1\" viewBox=\"0 0 352.7 264.131875\" width=\"352.7pt\" xmlns=\"http://www.w3.org/2000/svg\" xmlns:xlink=\"http://www.w3.org/1999/xlink\">\n <defs>\n  <style type=\"text/css\">\n*{stroke-linecap:butt;stroke-linejoin:round;}\n  </style>\n </defs>\n <g id=\"figure_1\">\n  <g id=\"patch_1\">\n   <path d=\"M 0 264.131875 \nL 352.7 264.131875 \nL 352.7 0 \nL 0 0 \nz\n\" style=\"fill:#ffffff;\"/>\n  </g>\n  <g id=\"axes_1\">\n   <g id=\"patch_2\">\n    <path d=\"M 10.7 224.64 \nL 345.5 224.64 \nL 345.5 7.2 \nL 10.7 7.2 \nz\n\" style=\"fill:#e5e5e5;\"/>\n   </g>\n   <g id=\"matplotlib.axis_1\">\n    <g id=\"xtick_1\">\n     <g id=\"line2d_1\">\n      <path clip-path=\"url(#p143d03d6fb)\" d=\"M 20.796678 224.64 \nL 20.796678 7.2 \n\" style=\"fill:none;stroke:#ffffff;stroke-linecap:square;stroke-width:0.8;\"/>\n     </g>\n     <g id=\"line2d_2\">\n      <defs>\n       <path d=\"M 0 0 \nL 0 3.5 \n\" id=\"m7404df546f\" style=\"stroke:#555555;stroke-width:0.8;\"/>\n      </defs>\n      <g>\n       <use style=\"fill:#555555;stroke:#555555;stroke-width:0.8;\" x=\"20.796678\" xlink:href=\"#m7404df546f\" y=\"224.64\"/>\n      </g>\n     </g>\n     <g id=\"text_1\">\n      <!-- 0 -->\n      <defs>\n       <path d=\"M 31.78125 66.40625 \nQ 24.171875 66.40625 20.328125 58.90625 \nQ 16.5 51.421875 16.5 36.375 \nQ 16.5 21.390625 20.328125 13.890625 \nQ 24.171875 6.390625 31.78125 6.390625 \nQ 39.453125 6.390625 43.28125 13.890625 \nQ 47.125 21.390625 47.125 36.375 \nQ 47.125 51.421875 43.28125 58.90625 \nQ 39.453125 66.40625 31.78125 66.40625 \nz\nM 31.78125 74.21875 \nQ 44.046875 74.21875 50.515625 64.515625 \nQ 56.984375 54.828125 56.984375 36.375 \nQ 56.984375 17.96875 50.515625 8.265625 \nQ 44.046875 -1.421875 31.78125 -1.421875 \nQ 19.53125 -1.421875 13.0625 8.265625 \nQ 6.59375 17.96875 6.59375 36.375 \nQ 6.59375 54.828125 13.0625 64.515625 \nQ 19.53125 74.21875 31.78125 74.21875 \nz\n\" id=\"DejaVuSans-48\"/>\n      </defs>\n      <g style=\"fill:#555555;\" transform=\"translate(17.615428 239.238437)scale(0.1 -0.1)\">\n       <use xlink:href=\"#DejaVuSans-48\"/>\n      </g>\n     </g>\n    </g>\n    <g id=\"xtick_2\">\n     <g id=\"line2d_3\">\n      <path clip-path=\"url(#p143d03d6fb)\" d=\"M 93.961014 224.64 \nL 93.961014 7.2 \n\" style=\"fill:none;stroke:#ffffff;stroke-linecap:square;stroke-width:0.8;\"/>\n     </g>\n     <g id=\"line2d_4\">\n      <g>\n       <use style=\"fill:#555555;stroke:#555555;stroke-width:0.8;\" x=\"93.961014\" xlink:href=\"#m7404df546f\" y=\"224.64\"/>\n      </g>\n     </g>\n     <g id=\"text_2\">\n      <!-- 200 -->\n      <defs>\n       <path d=\"M 19.1875 8.296875 \nL 53.609375 8.296875 \nL 53.609375 0 \nL 7.328125 0 \nL 7.328125 8.296875 \nQ 12.9375 14.109375 22.625 23.890625 \nQ 32.328125 33.6875 34.8125 36.53125 \nQ 39.546875 41.84375 41.421875 45.53125 \nQ 43.3125 49.21875 43.3125 52.78125 \nQ 43.3125 58.59375 39.234375 62.25 \nQ 35.15625 65.921875 28.609375 65.921875 \nQ 23.96875 65.921875 18.8125 64.3125 \nQ 13.671875 62.703125 7.8125 59.421875 \nL 7.8125 69.390625 \nQ 13.765625 71.78125 18.9375 73 \nQ 24.125 74.21875 28.421875 74.21875 \nQ 39.75 74.21875 46.484375 68.546875 \nQ 53.21875 62.890625 53.21875 53.421875 \nQ 53.21875 48.921875 51.53125 44.890625 \nQ 49.859375 40.875 45.40625 35.40625 \nQ 44.1875 33.984375 37.640625 27.21875 \nQ 31.109375 20.453125 19.1875 8.296875 \nz\n\" id=\"DejaVuSans-50\"/>\n      </defs>\n      <g style=\"fill:#555555;\" transform=\"translate(84.417264 239.238437)scale(0.1 -0.1)\">\n       <use xlink:href=\"#DejaVuSans-50\"/>\n       <use x=\"63.623047\" xlink:href=\"#DejaVuSans-48\"/>\n       <use x=\"127.246094\" xlink:href=\"#DejaVuSans-48\"/>\n      </g>\n     </g>\n    </g>\n    <g id=\"xtick_3\">\n     <g id=\"line2d_5\">\n      <path clip-path=\"url(#p143d03d6fb)\" d=\"M 167.12535 224.64 \nL 167.12535 7.2 \n\" style=\"fill:none;stroke:#ffffff;stroke-linecap:square;stroke-width:0.8;\"/>\n     </g>\n     <g id=\"line2d_6\">\n      <g>\n       <use style=\"fill:#555555;stroke:#555555;stroke-width:0.8;\" x=\"167.12535\" xlink:href=\"#m7404df546f\" y=\"224.64\"/>\n      </g>\n     </g>\n     <g id=\"text_3\">\n      <!-- 400 -->\n      <defs>\n       <path d=\"M 37.796875 64.3125 \nL 12.890625 25.390625 \nL 37.796875 25.390625 \nz\nM 35.203125 72.90625 \nL 47.609375 72.90625 \nL 47.609375 25.390625 \nL 58.015625 25.390625 \nL 58.015625 17.1875 \nL 47.609375 17.1875 \nL 47.609375 0 \nL 37.796875 0 \nL 37.796875 17.1875 \nL 4.890625 17.1875 \nL 4.890625 26.703125 \nz\n\" id=\"DejaVuSans-52\"/>\n      </defs>\n      <g style=\"fill:#555555;\" transform=\"translate(157.5816 239.238437)scale(0.1 -0.1)\">\n       <use xlink:href=\"#DejaVuSans-52\"/>\n       <use x=\"63.623047\" xlink:href=\"#DejaVuSans-48\"/>\n       <use x=\"127.246094\" xlink:href=\"#DejaVuSans-48\"/>\n      </g>\n     </g>\n    </g>\n    <g id=\"xtick_4\">\n     <g id=\"line2d_7\">\n      <path clip-path=\"url(#p143d03d6fb)\" d=\"M 240.289685 224.64 \nL 240.289685 7.2 \n\" style=\"fill:none;stroke:#ffffff;stroke-linecap:square;stroke-width:0.8;\"/>\n     </g>\n     <g id=\"line2d_8\">\n      <g>\n       <use style=\"fill:#555555;stroke:#555555;stroke-width:0.8;\" x=\"240.289685\" xlink:href=\"#m7404df546f\" y=\"224.64\"/>\n      </g>\n     </g>\n     <g id=\"text_4\">\n      <!-- 600 -->\n      <defs>\n       <path d=\"M 33.015625 40.375 \nQ 26.375 40.375 22.484375 35.828125 \nQ 18.609375 31.296875 18.609375 23.390625 \nQ 18.609375 15.53125 22.484375 10.953125 \nQ 26.375 6.390625 33.015625 6.390625 \nQ 39.65625 6.390625 43.53125 10.953125 \nQ 47.40625 15.53125 47.40625 23.390625 \nQ 47.40625 31.296875 43.53125 35.828125 \nQ 39.65625 40.375 33.015625 40.375 \nz\nM 52.59375 71.296875 \nL 52.59375 62.3125 \nQ 48.875 64.0625 45.09375 64.984375 \nQ 41.3125 65.921875 37.59375 65.921875 \nQ 27.828125 65.921875 22.671875 59.328125 \nQ 17.53125 52.734375 16.796875 39.40625 \nQ 19.671875 43.65625 24.015625 45.921875 \nQ 28.375 48.1875 33.59375 48.1875 \nQ 44.578125 48.1875 50.953125 41.515625 \nQ 57.328125 34.859375 57.328125 23.390625 \nQ 57.328125 12.15625 50.6875 5.359375 \nQ 44.046875 -1.421875 33.015625 -1.421875 \nQ 20.359375 -1.421875 13.671875 8.265625 \nQ 6.984375 17.96875 6.984375 36.375 \nQ 6.984375 53.65625 15.1875 63.9375 \nQ 23.390625 74.21875 37.203125 74.21875 \nQ 40.921875 74.21875 44.703125 73.484375 \nQ 48.484375 72.75 52.59375 71.296875 \nz\n\" id=\"DejaVuSans-54\"/>\n      </defs>\n      <g style=\"fill:#555555;\" transform=\"translate(230.745935 239.238437)scale(0.1 -0.1)\">\n       <use xlink:href=\"#DejaVuSans-54\"/>\n       <use x=\"63.623047\" xlink:href=\"#DejaVuSans-48\"/>\n       <use x=\"127.246094\" xlink:href=\"#DejaVuSans-48\"/>\n      </g>\n     </g>\n    </g>\n    <g id=\"xtick_5\">\n     <g id=\"line2d_9\">\n      <path clip-path=\"url(#p143d03d6fb)\" d=\"M 313.454021 224.64 \nL 313.454021 7.2 \n\" style=\"fill:none;stroke:#ffffff;stroke-linecap:square;stroke-width:0.8;\"/>\n     </g>\n     <g id=\"line2d_10\">\n      <g>\n       <use style=\"fill:#555555;stroke:#555555;stroke-width:0.8;\" x=\"313.454021\" xlink:href=\"#m7404df546f\" y=\"224.64\"/>\n      </g>\n     </g>\n     <g id=\"text_5\">\n      <!-- 800 -->\n      <defs>\n       <path d=\"M 31.78125 34.625 \nQ 24.75 34.625 20.71875 30.859375 \nQ 16.703125 27.09375 16.703125 20.515625 \nQ 16.703125 13.921875 20.71875 10.15625 \nQ 24.75 6.390625 31.78125 6.390625 \nQ 38.8125 6.390625 42.859375 10.171875 \nQ 46.921875 13.96875 46.921875 20.515625 \nQ 46.921875 27.09375 42.890625 30.859375 \nQ 38.875 34.625 31.78125 34.625 \nz\nM 21.921875 38.8125 \nQ 15.578125 40.375 12.03125 44.71875 \nQ 8.5 49.078125 8.5 55.328125 \nQ 8.5 64.0625 14.71875 69.140625 \nQ 20.953125 74.21875 31.78125 74.21875 \nQ 42.671875 74.21875 48.875 69.140625 \nQ 55.078125 64.0625 55.078125 55.328125 \nQ 55.078125 49.078125 51.53125 44.71875 \nQ 48 40.375 41.703125 38.8125 \nQ 48.828125 37.15625 52.796875 32.3125 \nQ 56.78125 27.484375 56.78125 20.515625 \nQ 56.78125 9.90625 50.3125 4.234375 \nQ 43.84375 -1.421875 31.78125 -1.421875 \nQ 19.734375 -1.421875 13.25 4.234375 \nQ 6.78125 9.90625 6.78125 20.515625 \nQ 6.78125 27.484375 10.78125 32.3125 \nQ 14.796875 37.15625 21.921875 38.8125 \nz\nM 18.3125 54.390625 \nQ 18.3125 48.734375 21.84375 45.5625 \nQ 25.390625 42.390625 31.78125 42.390625 \nQ 38.140625 42.390625 41.71875 45.5625 \nQ 45.3125 48.734375 45.3125 54.390625 \nQ 45.3125 60.0625 41.71875 63.234375 \nQ 38.140625 66.40625 31.78125 66.40625 \nQ 25.390625 66.40625 21.84375 63.234375 \nQ 18.3125 60.0625 18.3125 54.390625 \nz\n\" id=\"DejaVuSans-56\"/>\n      </defs>\n      <g style=\"fill:#555555;\" transform=\"translate(303.910271 239.238437)scale(0.1 -0.1)\">\n       <use xlink:href=\"#DejaVuSans-56\"/>\n       <use x=\"63.623047\" xlink:href=\"#DejaVuSans-48\"/>\n       <use x=\"127.246094\" xlink:href=\"#DejaVuSans-48\"/>\n      </g>\n     </g>\n    </g>\n    <g id=\"text_6\">\n     <!-- Insulin -->\n     <defs>\n      <path d=\"M 9.8125 72.90625 \nL 19.671875 72.90625 \nL 19.671875 0 \nL 9.8125 0 \nz\n\" id=\"DejaVuSans-73\"/>\n      <path d=\"M 54.890625 33.015625 \nL 54.890625 0 \nL 45.90625 0 \nL 45.90625 32.71875 \nQ 45.90625 40.484375 42.875 44.328125 \nQ 39.84375 48.1875 33.796875 48.1875 \nQ 26.515625 48.1875 22.3125 43.546875 \nQ 18.109375 38.921875 18.109375 30.90625 \nL 18.109375 0 \nL 9.078125 0 \nL 9.078125 54.6875 \nL 18.109375 54.6875 \nL 18.109375 46.1875 \nQ 21.34375 51.125 25.703125 53.5625 \nQ 30.078125 56 35.796875 56 \nQ 45.21875 56 50.046875 50.171875 \nQ 54.890625 44.34375 54.890625 33.015625 \nz\n\" id=\"DejaVuSans-110\"/>\n      <path d=\"M 44.28125 53.078125 \nL 44.28125 44.578125 \nQ 40.484375 46.53125 36.375 47.5 \nQ 32.28125 48.484375 27.875 48.484375 \nQ 21.1875 48.484375 17.84375 46.4375 \nQ 14.5 44.390625 14.5 40.28125 \nQ 14.5 37.15625 16.890625 35.375 \nQ 19.28125 33.59375 26.515625 31.984375 \nL 29.59375 31.296875 \nQ 39.15625 29.25 43.1875 25.515625 \nQ 47.21875 21.78125 47.21875 15.09375 \nQ 47.21875 7.46875 41.1875 3.015625 \nQ 35.15625 -1.421875 24.609375 -1.421875 \nQ 20.21875 -1.421875 15.453125 -0.5625 \nQ 10.6875 0.296875 5.421875 2 \nL 5.421875 11.28125 \nQ 10.40625 8.6875 15.234375 7.390625 \nQ 20.0625 6.109375 24.8125 6.109375 \nQ 31.15625 6.109375 34.5625 8.28125 \nQ 37.984375 10.453125 37.984375 14.40625 \nQ 37.984375 18.0625 35.515625 20.015625 \nQ 33.0625 21.96875 24.703125 23.78125 \nL 21.578125 24.515625 \nQ 13.234375 26.265625 9.515625 29.90625 \nQ 5.8125 33.546875 5.8125 39.890625 \nQ 5.8125 47.609375 11.28125 51.796875 \nQ 16.75 56 26.8125 56 \nQ 31.78125 56 36.171875 55.265625 \nQ 40.578125 54.546875 44.28125 53.078125 \nz\n\" id=\"DejaVuSans-115\"/>\n      <path d=\"M 8.5 21.578125 \nL 8.5 54.6875 \nL 17.484375 54.6875 \nL 17.484375 21.921875 \nQ 17.484375 14.15625 20.5 10.265625 \nQ 23.53125 6.390625 29.59375 6.390625 \nQ 36.859375 6.390625 41.078125 11.03125 \nQ 45.3125 15.671875 45.3125 23.6875 \nL 45.3125 54.6875 \nL 54.296875 54.6875 \nL 54.296875 0 \nL 45.3125 0 \nL 45.3125 8.40625 \nQ 42.046875 3.421875 37.71875 1 \nQ 33.40625 -1.421875 27.6875 -1.421875 \nQ 18.265625 -1.421875 13.375 4.4375 \nQ 8.5 10.296875 8.5 21.578125 \nz\nM 31.109375 56 \nz\n\" id=\"DejaVuSans-117\"/>\n      <path d=\"M 9.421875 75.984375 \nL 18.40625 75.984375 \nL 18.40625 0 \nL 9.421875 0 \nz\n\" id=\"DejaVuSans-108\"/>\n      <path d=\"M 9.421875 54.6875 \nL 18.40625 54.6875 \nL 18.40625 0 \nL 9.421875 0 \nz\nM 9.421875 75.984375 \nL 18.40625 75.984375 \nL 18.40625 64.59375 \nL 9.421875 64.59375 \nz\n\" id=\"DejaVuSans-105\"/>\n     </defs>\n     <g style=\"fill:#555555;\" transform=\"translate(158.463125 254.43625)scale(0.12 -0.12)\">\n      <use xlink:href=\"#DejaVuSans-73\"/>\n      <use x=\"29.492188\" xlink:href=\"#DejaVuSans-110\"/>\n      <use x=\"92.871094\" xlink:href=\"#DejaVuSans-115\"/>\n      <use x=\"144.970703\" xlink:href=\"#DejaVuSans-117\"/>\n      <use x=\"208.349609\" xlink:href=\"#DejaVuSans-108\"/>\n      <use x=\"236.132812\" xlink:href=\"#DejaVuSans-105\"/>\n      <use x=\"263.916016\" xlink:href=\"#DejaVuSans-110\"/>\n     </g>\n    </g>\n   </g>\n   <g id=\"matplotlib.axis_2\">\n    <g id=\"ytick_1\">\n     <g id=\"line2d_11\">\n      <defs>\n       <path d=\"M 0 0 \nL -3.5 0 \n\" id=\"m20d3ad5fb5\" style=\"stroke:#555555;stroke-width:0.8;\"/>\n      </defs>\n      <g>\n       <use style=\"fill:#555555;stroke:#555555;stroke-width:0.8;\" x=\"10.7\" xlink:href=\"#m20d3ad5fb5\" y=\"115.92\"/>\n      </g>\n     </g>\n    </g>\n   </g>\n   <g id=\"patch_3\">\n    <path clip-path=\"url(#p143d03d6fb)\" d=\"M 48.690581 28.944 \nL 48.690581 202.896 \nL 90.302797 202.896 \nL 90.302797 28.944 \nL 48.690581 28.944 \nz\n\" style=\"fill:#cc5a49;stroke:#535353;stroke-linejoin:miter;stroke-width:1.5;\"/>\n   </g>\n   <g id=\"line2d_12\">\n    <path clip-path=\"url(#p143d03d6fb)\" d=\"M 48.690581 115.92 \nL 25.918182 115.92 \n\" style=\"fill:none;stroke:#535353;stroke-linecap:square;stroke-width:1.5;\"/>\n   </g>\n   <g id=\"line2d_13\">\n    <path clip-path=\"url(#p143d03d6fb)\" d=\"M 90.302797 115.92 \nL 152.492483 115.92 \n\" style=\"fill:none;stroke:#535353;stroke-linecap:square;stroke-width:1.5;\"/>\n   </g>\n   <g id=\"line2d_14\">\n    <path clip-path=\"url(#p143d03d6fb)\" d=\"M 25.918182 72.432 \nL 25.918182 159.408 \n\" style=\"fill:none;stroke:#535353;stroke-linecap:square;stroke-width:1.5;\"/>\n   </g>\n   <g id=\"line2d_15\">\n    <path clip-path=\"url(#p143d03d6fb)\" d=\"M 152.492483 72.432 \nL 152.492483 159.408 \n\" style=\"fill:none;stroke:#535353;stroke-linecap:square;stroke-width:1.5;\"/>\n   </g>\n   <g id=\"line2d_16\">\n    <defs>\n     <path d=\"M -0 3.535534 \nL 2.12132 0 \nL -0 -3.535534 \nL -2.12132 -0 \nz\n\" id=\"mabffe5bf4d\" style=\"stroke:#535353;stroke-linejoin:miter;\"/>\n    </defs>\n    <g clip-path=\"url(#p143d03d6fb)\">\n     <use style=\"fill:#535353;stroke:#535353;stroke-linejoin:miter;\" x=\"219.43785\" xlink:href=\"#mabffe5bf4d\" y=\"115.92\"/>\n     <use style=\"fill:#535353;stroke:#535353;stroke-linejoin:miter;\" x=\"330.281818\" xlink:href=\"#mabffe5bf4d\" y=\"115.92\"/>\n     <use style=\"fill:#535353;stroke:#535353;stroke-linejoin:miter;\" x=\"201.878409\" xlink:href=\"#mabffe5bf4d\" y=\"115.92\"/>\n     <use style=\"fill:#535353;stroke:#535353;stroke-linejoin:miter;\" x=\"198.220192\" xlink:href=\"#mabffe5bf4d\" y=\"115.92\"/>\n     <use style=\"fill:#535353;stroke:#535353;stroke-linejoin:miter;\" x=\"201.878409\" xlink:href=\"#mabffe5bf4d\" y=\"115.92\"/>\n     <use style=\"fill:#535353;stroke:#535353;stroke-linejoin:miter;\" x=\"195.659441\" xlink:href=\"#mabffe5bf4d\" y=\"115.92\"/>\n     <use style=\"fill:#535353;stroke:#535353;stroke-linejoin:miter;\" x=\"292.968007\" xlink:href=\"#mabffe5bf4d\" y=\"115.92\"/>\n     <use style=\"fill:#535353;stroke:#535353;stroke-linejoin:miter;\" x=\"156.150699\" xlink:href=\"#mabffe5bf4d\" y=\"115.92\"/>\n     <use style=\"fill:#535353;stroke:#535353;stroke-linejoin:miter;\" x=\"269.55542\" xlink:href=\"#mabffe5bf4d\" y=\"115.92\"/>\n     <use style=\"fill:#535353;stroke:#535353;stroke-linejoin:miter;\" x=\"167.856993\" xlink:href=\"#mabffe5bf4d\" y=\"115.92\"/>\n     <use style=\"fill:#535353;stroke:#535353;stroke-linejoin:miter;\" x=\"157.979808\" xlink:href=\"#mabffe5bf4d\" y=\"115.92\"/>\n     <use style=\"fill:#535353;stroke:#535353;stroke-linejoin:miter;\" x=\"220.169493\" xlink:href=\"#mabffe5bf4d\" y=\"115.92\"/>\n     <use style=\"fill:#535353;stroke:#535353;stroke-linejoin:miter;\" x=\"190.903759\" xlink:href=\"#mabffe5bf4d\" y=\"115.92\"/>\n     <use style=\"fill:#535353;stroke:#535353;stroke-linejoin:miter;\" x=\"172.612675\" xlink:href=\"#mabffe5bf4d\" y=\"115.92\"/>\n     <use style=\"fill:#535353;stroke:#535353;stroke-linejoin:miter;\" x=\"232.60743\" xlink:href=\"#mabffe5bf4d\" y=\"115.92\"/>\n     <use style=\"fill:#535353;stroke:#535353;stroke-linejoin:miter;\" x=\"194.196154\" xlink:href=\"#mabffe5bf4d\" y=\"115.92\"/>\n     <use style=\"fill:#535353;stroke:#535353;stroke-linejoin:miter;\" x=\"196.391084\" xlink:href=\"#mabffe5bf4d\" y=\"115.92\"/>\n     <use style=\"fill:#535353;stroke:#535353;stroke-linejoin:miter;\" x=\"240.289685\" xlink:href=\"#mabffe5bf4d\" y=\"115.92\"/>\n     <use style=\"fill:#535353;stroke:#535353;stroke-linejoin:miter;\" x=\"181.758217\" xlink:href=\"#mabffe5bf4d\" y=\"115.92\"/>\n     <use style=\"fill:#535353;stroke:#535353;stroke-linejoin:miter;\" x=\"218.340385\" xlink:href=\"#mabffe5bf4d\" y=\"115.92\"/>\n     <use style=\"fill:#535353;stroke:#535353;stroke-linejoin:miter;\" x=\"196.391084\" xlink:href=\"#mabffe5bf4d\" y=\"115.92\"/>\n     <use style=\"fill:#535353;stroke:#535353;stroke-linejoin:miter;\" x=\"162.369668\" xlink:href=\"#mabffe5bf4d\" y=\"115.92\"/>\n     <use style=\"fill:#535353;stroke:#535353;stroke-linejoin:miter;\" x=\"164.198776\" xlink:href=\"#mabffe5bf4d\" y=\"115.92\"/>\n     <use style=\"fill:#535353;stroke:#535353;stroke-linejoin:miter;\" x=\"207.365734\" xlink:href=\"#mabffe5bf4d\" y=\"115.92\"/>\n    </g>\n   </g>\n   <g id=\"line2d_17\">\n    <path clip-path=\"url(#p143d03d6fb)\" d=\"M 66.524388 28.944 \nL 66.524388 202.896 \n\" style=\"fill:none;stroke:#535353;stroke-linecap:square;stroke-width:1.5;\"/>\n   </g>\n   <g id=\"patch_4\">\n    <path d=\"M 10.7 224.64 \nL 10.7 7.2 \n\" style=\"fill:none;stroke:#ffffff;stroke-linecap:square;stroke-linejoin:miter;\"/>\n   </g>\n   <g id=\"patch_5\">\n    <path d=\"M 345.5 224.64 \nL 345.5 7.2 \n\" style=\"fill:none;stroke:#ffffff;stroke-linecap:square;stroke-linejoin:miter;\"/>\n   </g>\n   <g id=\"patch_6\">\n    <path d=\"M 10.7 224.64 \nL 345.5 224.64 \n\" style=\"fill:none;stroke:#ffffff;stroke-linecap:square;stroke-linejoin:miter;\"/>\n   </g>\n   <g id=\"patch_7\">\n    <path d=\"M 10.7 7.2 \nL 345.5 7.2 \n\" style=\"fill:none;stroke:#ffffff;stroke-linecap:square;stroke-linejoin:miter;\"/>\n   </g>\n  </g>\n </g>\n <defs>\n  <clipPath id=\"p143d03d6fb\">\n   <rect height=\"217.44\" width=\"334.8\" x=\"10.7\" y=\"7.2\"/>\n  </clipPath>\n </defs>\n</svg>\n"
          },
          "metadata": {
            "tags": []
          }
        }
      ]
    },
    {
      "cell_type": "code",
      "metadata": {
        "id": "lhmOUdogJBFQ"
      },
      "source": [
        "#이상치 구하기\n",
        "desc = train[\"Insulin\"].describe()\n",
        "# 3IQR - 1IQR = IQR\n",
        "# 3IQR + (IQR * 1.5) < 이상치\n",
        "\n",
        "IQR = desc['75%'] - desc[\"25%\"]\n",
        "Out = desc['75%'] + (IQR * 1.5)\n"
      ],
      "execution_count": 182,
      "outputs": []
    },
    {
      "cell_type": "code",
      "metadata": {
        "colab": {
          "base_uri": "https://localhost:8080/"
        },
        "id": "SzgotmxTJu_p",
        "outputId": "8e481364-92e3-489a-9dd7-e041f7da2867"
      },
      "source": [
        "train[train[\"Insulin\"] > Out].shape"
      ],
      "execution_count": 183,
      "outputs": [
        {
          "output_type": "execute_result",
          "data": {
            "text/plain": [
              "(24, 9)"
            ]
          },
          "metadata": {
            "tags": []
          },
          "execution_count": 183
        }
      ]
    },
    {
      "cell_type": "code",
      "metadata": {
        "colab": {
          "base_uri": "https://localhost:8080/"
        },
        "id": "fooNbyqLKCeY",
        "outputId": "0ebefb7d-847b-4896-cfd7-9db0bdf5c476"
      },
      "source": [
        "print(train.shape)\n",
        "train = train[train[\"Insulin\"] < Out]\n",
        "print(train.shape)"
      ],
      "execution_count": 184,
      "outputs": [
        {
          "output_type": "stream",
          "text": [
            "(394, 9)\n",
            "(370, 9)\n"
          ],
          "name": "stdout"
        }
      ]
    },
    {
      "cell_type": "markdown",
      "metadata": {
        "id": "ABvu1k2igskC"
      },
      "source": [
        "###학습, 예측에 사용할 컬럼"
      ]
    },
    {
      "cell_type": "code",
      "metadata": {
        "colab": {
          "base_uri": "https://localhost:8080/"
        },
        "id": "J2WPzDM1gqlS",
        "outputId": "4ed1cedd-a026-49f0-9864-cdff7cb6f678"
      },
      "source": [
        "#feature_names 라는 변수에 학습과 예측에 사용할 컬럼명을 가져오기\n",
        "feature_names = train.columns.tolist()\n",
        "feature_names.remove('Insulin')\n",
        "feature_names"
      ],
      "execution_count": 185,
      "outputs": [
        {
          "output_type": "execute_result",
          "data": {
            "text/plain": [
              "['Pregnancies',\n",
              " 'Glucose',\n",
              " 'BloodPressure',\n",
              " 'SkinThickness',\n",
              " 'BMI',\n",
              " 'DiabetesPedigreeFunction',\n",
              " 'Age',\n",
              " 'Outcome']"
            ]
          },
          "metadata": {
            "tags": []
          },
          "execution_count": 185
        }
      ]
    },
    {
      "cell_type": "markdown",
      "metadata": {
        "id": "J9UVpEyWg-uI"
      },
      "source": [
        "###정답값이자 예측해야할 값"
      ]
    },
    {
      "cell_type": "code",
      "metadata": {
        "colab": {
          "base_uri": "https://localhost:8080/",
          "height": 37
        },
        "id": "EuFkjbGWg0qB",
        "outputId": "b0a7ad17-676e-4224-8dfb-2a0fb15b7496"
      },
      "source": [
        "#label_name 이라는 변수에 예측할 컬럼의 이름을 담기\n",
        "label_name = \"Insulin\"\n",
        "label_name"
      ],
      "execution_count": 186,
      "outputs": [
        {
          "output_type": "execute_result",
          "data": {
            "application/vnd.google.colaboratory.intrinsic+json": {
              "type": "string"
            },
            "text/plain": [
              "'Insulin'"
            ]
          },
          "metadata": {
            "tags": []
          },
          "execution_count": 186
        }
      ]
    },
    {
      "cell_type": "markdown",
      "metadata": {
        "id": "58mp-mRehJes"
      },
      "source": [
        "###학습, 예측 데이터셋 만들기"
      ]
    },
    {
      "cell_type": "code",
      "metadata": {
        "colab": {
          "base_uri": "https://localhost:8080/"
        },
        "id": "IKMKOuyvhHyG",
        "outputId": "2da44999-0a0d-49f7-8b49-7c929fcb5a34"
      },
      "source": [
        "#학습 세트 만들기 ex) 시험의 기출문제\n",
        "X_train = train[feature_names]\n",
        "X_train.shape"
      ],
      "execution_count": 187,
      "outputs": [
        {
          "output_type": "execute_result",
          "data": {
            "text/plain": [
              "(370, 8)"
            ]
          },
          "metadata": {
            "tags": []
          },
          "execution_count": 187
        }
      ]
    },
    {
      "cell_type": "code",
      "metadata": {
        "colab": {
          "base_uri": "https://localhost:8080/"
        },
        "id": "2L8mF7gbhSw3",
        "outputId": "144995b5-f3a2-448c-8be8-a0b7bea6b11b"
      },
      "source": [
        "#정답 값을 만들어주기 ex) 기출문제의 정답\n",
        "y_train = train[label_name]\n",
        "y_train.shape"
      ],
      "execution_count": 188,
      "outputs": [
        {
          "output_type": "execute_result",
          "data": {
            "text/plain": [
              "(370,)"
            ]
          },
          "metadata": {
            "tags": []
          },
          "execution_count": 188
        }
      ]
    },
    {
      "cell_type": "code",
      "metadata": {
        "colab": {
          "base_uri": "https://localhost:8080/"
        },
        "id": "hTlyNxzKhaoY",
        "outputId": "f84c30b8-a657-4ec7-e4db-7d0d4e65216e"
      },
      "source": [
        "#예측에 사용할 데이터 세트를 만들기. ex) 실전 시험 문제\n",
        "X_test = test[feature_names]\n",
        "X_test.shape"
      ],
      "execution_count": 189,
      "outputs": [
        {
          "output_type": "execute_result",
          "data": {
            "text/plain": [
              "(374, 8)"
            ]
          },
          "metadata": {
            "tags": []
          },
          "execution_count": 189
        }
      ]
    },
    {
      "cell_type": "code",
      "metadata": {
        "colab": {
          "base_uri": "https://localhost:8080/"
        },
        "id": "Od8Haiikhifg",
        "outputId": "130645b4-57f6-4c0d-f556-9d43fd591d4c"
      },
      "source": [
        "#예측의 정답값 ex) 실전 시험 문제의 정답\n",
        "y_test = test[label_name]\n",
        "y_test.shape"
      ],
      "execution_count": 190,
      "outputs": [
        {
          "output_type": "execute_result",
          "data": {
            "text/plain": [
              "(374,)"
            ]
          },
          "metadata": {
            "tags": []
          },
          "execution_count": 190
        }
      ]
    },
    {
      "cell_type": "markdown",
      "metadata": {
        "id": "HtBdWfrkh1kj"
      },
      "source": [
        "###머신러닝 알고리즘 가져오기"
      ]
    },
    {
      "cell_type": "code",
      "metadata": {
        "colab": {
          "base_uri": "https://localhost:8080/"
        },
        "id": "_BsC1trQhpZ8",
        "outputId": "dcab553a-0ac7-4e73-f8cf-8366194b60b7"
      },
      "source": [
        "from sklearn.tree import DecisionTreeRegressor\n",
        "from sklearn.ensemble import RandomForestRegressor, GradientBoostingRegressor\n",
        "estimators = [DecisionTreeRegressor(random_state=42),\n",
        "         RandomForestRegressor(random_state=42),\n",
        "         GradientBoostingRegressor(random_state = 42)]\n",
        "estimators"
      ],
      "execution_count": 191,
      "outputs": [
        {
          "output_type": "execute_result",
          "data": {
            "text/plain": [
              "[DecisionTreeRegressor(ccp_alpha=0.0, criterion='mse', max_depth=None,\n",
              "                       max_features=None, max_leaf_nodes=None,\n",
              "                       min_impurity_decrease=0.0, min_impurity_split=None,\n",
              "                       min_samples_leaf=1, min_samples_split=2,\n",
              "                       min_weight_fraction_leaf=0.0, presort='deprecated',\n",
              "                       random_state=42, splitter='best'),\n",
              " RandomForestRegressor(bootstrap=True, ccp_alpha=0.0, criterion='mse',\n",
              "                       max_depth=None, max_features='auto', max_leaf_nodes=None,\n",
              "                       max_samples=None, min_impurity_decrease=0.0,\n",
              "                       min_impurity_split=None, min_samples_leaf=1,\n",
              "                       min_samples_split=2, min_weight_fraction_leaf=0.0,\n",
              "                       n_estimators=100, n_jobs=None, oob_score=False,\n",
              "                       random_state=42, verbose=0, warm_start=False),\n",
              " GradientBoostingRegressor(alpha=0.9, ccp_alpha=0.0, criterion='friedman_mse',\n",
              "                           init=None, learning_rate=0.1, loss='ls', max_depth=3,\n",
              "                           max_features=None, max_leaf_nodes=None,\n",
              "                           min_impurity_decrease=0.0, min_impurity_split=None,\n",
              "                           min_samples_leaf=1, min_samples_split=2,\n",
              "                           min_weight_fraction_leaf=0.0, n_estimators=100,\n",
              "                           n_iter_no_change=None, presort='deprecated',\n",
              "                           random_state=42, subsample=1.0, tol=0.0001,\n",
              "                           validation_fraction=0.1, verbose=0, warm_start=False)]"
            ]
          },
          "metadata": {
            "tags": []
          },
          "execution_count": 191
        }
      ]
    },
    {
      "cell_type": "code",
      "metadata": {
        "id": "dfU7irTaPREK"
      },
      "source": [
        "results = []\n",
        "for estimator in estimators:\n",
        "  result = []\n",
        "  result.append(estimator.__class__.__name__)\n",
        "  results.append(result)"
      ],
      "execution_count": 192,
      "outputs": []
    },
    {
      "cell_type": "code",
      "metadata": {
        "colab": {
          "base_uri": "https://localhost:8080/"
        },
        "id": "XLslbIs_Mftl",
        "outputId": "38f366cb-b6eb-429a-a1bb-a7f5d8a52808"
      },
      "source": [
        "from sklearn.model_selection import RandomizedSearchCV\n",
        "\n",
        "results = []\n",
        "for estimator in estimators:\n",
        "  result = []\n",
        "  max_depth = np.random.randint(5, 30,100)\n",
        "  max_features = np.random.uniform(0.3, 1.0, 100)\n",
        "  param_distributions = {\"max_depth\" : max_depth,\n",
        "                        \"max_features\" : max_features}\n",
        "  regressor = RandomizedSearchCV(estimator,\n",
        "                          param_distributions,\n",
        "                          n_iter= 10,\n",
        "                          scoring=None,\n",
        "                          n_jobs=-1,\n",
        "                          cv=5,\n",
        "                          verbose=2,\n",
        "                          random_state = 42)\n",
        "\n",
        "  regressor.fit(X_train, y_train)\n",
        "\n",
        "  result.append(estimator.__class__.__name__)\n",
        "  result.append(regressor.best_params_)\n",
        "  result.append(regressor.best_estimator_)\n",
        "  result.append(regressor.best_score_)\n",
        "  result.append(regressor.cv_results_)\n",
        "  results.append(result)"
      ],
      "execution_count": 193,
      "outputs": [
        {
          "output_type": "stream",
          "text": [
            "Fitting 5 folds for each of 10 candidates, totalling 50 fits\n"
          ],
          "name": "stdout"
        },
        {
          "output_type": "stream",
          "text": [
            "[Parallel(n_jobs=-1)]: Using backend LokyBackend with 2 concurrent workers.\n",
            "[Parallel(n_jobs=-1)]: Done  50 out of  50 | elapsed:    0.3s finished\n",
            "[Parallel(n_jobs=-1)]: Using backend LokyBackend with 2 concurrent workers.\n"
          ],
          "name": "stderr"
        },
        {
          "output_type": "stream",
          "text": [
            "Fitting 5 folds for each of 10 candidates, totalling 50 fits\n"
          ],
          "name": "stdout"
        },
        {
          "output_type": "stream",
          "text": [
            "[Parallel(n_jobs=-1)]: Done  37 tasks      | elapsed:    5.6s\n",
            "[Parallel(n_jobs=-1)]: Done  50 out of  50 | elapsed:    7.6s finished\n",
            "[Parallel(n_jobs=-1)]: Using backend LokyBackend with 2 concurrent workers.\n"
          ],
          "name": "stderr"
        },
        {
          "output_type": "stream",
          "text": [
            "Fitting 5 folds for each of 10 candidates, totalling 50 fits\n"
          ],
          "name": "stdout"
        },
        {
          "output_type": "stream",
          "text": [
            "[Parallel(n_jobs=-1)]: Done  50 out of  50 | elapsed:    4.8s finished\n"
          ],
          "name": "stderr"
        }
      ]
    },
    {
      "cell_type": "code",
      "metadata": {
        "colab": {
          "base_uri": "https://localhost:8080/"
        },
        "id": "0h4PppliQfHe",
        "outputId": "ae479643-58bf-499f-852c-48a6244054c3"
      },
      "source": [
        "df_cv = pd.DataFrame(results)\n",
        "df_cv.columns = [\"model\", \"params\", \"estimator\",\"score\",\"cv_result\"]\n",
        "best_estimator = df_cv.loc[1,\"estimator\"]\n",
        "best_estimator"
      ],
      "execution_count": 194,
      "outputs": [
        {
          "output_type": "execute_result",
          "data": {
            "text/plain": [
              "RandomForestRegressor(bootstrap=True, ccp_alpha=0.0, criterion='mse',\n",
              "                      max_depth=23, max_features=0.5029979802711517,\n",
              "                      max_leaf_nodes=None, max_samples=None,\n",
              "                      min_impurity_decrease=0.0, min_impurity_split=None,\n",
              "                      min_samples_leaf=1, min_samples_split=2,\n",
              "                      min_weight_fraction_leaf=0.0, n_estimators=100,\n",
              "                      n_jobs=None, oob_score=False, random_state=42, verbose=0,\n",
              "                      warm_start=False)"
            ]
          },
          "metadata": {
            "tags": []
          },
          "execution_count": 194
        }
      ]
    },
    {
      "cell_type": "markdown",
      "metadata": {
        "id": "RN_8kMvkiNrM"
      },
      "source": [
        "###학습(훈련)"
      ]
    },
    {
      "cell_type": "code",
      "metadata": {
        "colab": {
          "base_uri": "https://localhost:8080/"
        },
        "id": "VnHeOUI6iXCM",
        "outputId": "625b202f-63e4-42ca-95dc-e7b11e799a29"
      },
      "source": [
        "best_estimator.fit(X_train, y_train)"
      ],
      "execution_count": 195,
      "outputs": [
        {
          "output_type": "execute_result",
          "data": {
            "text/plain": [
              "RandomForestRegressor(bootstrap=True, ccp_alpha=0.0, criterion='mse',\n",
              "                      max_depth=23, max_features=0.5029979802711517,\n",
              "                      max_leaf_nodes=None, max_samples=None,\n",
              "                      min_impurity_decrease=0.0, min_impurity_split=None,\n",
              "                      min_samples_leaf=1, min_samples_split=2,\n",
              "                      min_weight_fraction_leaf=0.0, n_estimators=100,\n",
              "                      n_jobs=None, oob_score=False, random_state=42, verbose=0,\n",
              "                      warm_start=False)"
            ]
          },
          "metadata": {
            "tags": []
          },
          "execution_count": 195
        }
      ]
    },
    {
      "cell_type": "markdown",
      "metadata": {
        "id": "V9s2nnm4iaE_"
      },
      "source": [
        "###cross validation으로 학습 세트의 오차 측정하기\n"
      ]
    },
    {
      "cell_type": "code",
      "metadata": {
        "colab": {
          "base_uri": "https://localhost:8080/"
        },
        "id": "p_W356Bmierb",
        "outputId": "82e11efd-283e-4009-fe82-d7996b06b905"
      },
      "source": [
        "from sklearn.model_selection import cross_val_predict\n",
        "y_pred = cross_val_predict(best_estimator, X_train, y_train, cv=5, n_jobs=-1, verbose=2)\n",
        "y_pred[:5]"
      ],
      "execution_count": 196,
      "outputs": [
        {
          "output_type": "stream",
          "text": [
            "[Parallel(n_jobs=-1)]: Using backend LokyBackend with 2 concurrent workers.\n",
            "[Parallel(n_jobs=-1)]: Done   5 out of   5 | elapsed:    0.8s remaining:    0.0s\n",
            "[Parallel(n_jobs=-1)]: Done   5 out of   5 | elapsed:    0.8s finished\n"
          ],
          "name": "stderr"
        },
        {
          "output_type": "execute_result",
          "data": {
            "text/plain": [
              "array([ 50.12, 151.55,  94.36, 145.49, 181.26])"
            ]
          },
          "metadata": {
            "tags": []
          },
          "execution_count": 196
        }
      ]
    },
    {
      "cell_type": "code",
      "metadata": {
        "colab": {
          "base_uri": "https://localhost:8080/"
        },
        "id": "Daa3UN8VjMep",
        "outputId": "f339b8ae-9e62-4e09-d37b-c5aa51015e31"
      },
      "source": [
        "#정답을 정확하게 맞춘 갯수\n",
        "(y_pred == y_train).sum()"
      ],
      "execution_count": 197,
      "outputs": [
        {
          "output_type": "execute_result",
          "data": {
            "text/plain": [
              "0"
            ]
          },
          "metadata": {
            "tags": []
          },
          "execution_count": 197
        }
      ]
    },
    {
      "cell_type": "code",
      "metadata": {
        "colab": {
          "base_uri": "https://localhost:8080/",
          "height": 391
        },
        "id": "aaa4eL_WijeR",
        "outputId": "7862df52-dc0c-49b5-a178-6f9a59533bd4"
      },
      "source": [
        "#regplot으로 결과 값을 표현\n",
        "sns.regplot(y_train, y_pred)"
      ],
      "execution_count": 198,
      "outputs": [
        {
          "output_type": "execute_result",
          "data": {
            "text/plain": [
              "<matplotlib.axes._subplots.AxesSubplot at 0x7fa4cbf47cd0>"
            ]
          },
          "metadata": {
            "tags": []
          },
          "execution_count": 198
        },
        {
          "output_type": "display_data",
          "data": {
            "text/plain": [
              "<Figure size 432x288 with 1 Axes>"
            ],
            "image/svg+xml": "<?xml version=\"1.0\" encoding=\"utf-8\" standalone=\"no\"?>\n<!DOCTYPE svg PUBLIC \"-//W3C//DTD SVG 1.1//EN\"\n  \"http://www.w3.org/Graphics/SVG/1.1/DTD/svg11.dtd\">\n<!-- Created with matplotlib (https://matplotlib.org/) -->\n<svg height=\"264.131875pt\" version=\"1.1\" viewBox=\"0 0 375.2875 264.131875\" width=\"375.2875pt\" xmlns=\"http://www.w3.org/2000/svg\" xmlns:xlink=\"http://www.w3.org/1999/xlink\">\n <defs>\n  <style type=\"text/css\">\n*{stroke-linecap:butt;stroke-linejoin:round;}\n  </style>\n </defs>\n <g id=\"figure_1\">\n  <g id=\"patch_1\">\n   <path d=\"M 0 264.131875 \nL 375.2875 264.131875 \nL 375.2875 0 \nL 0 0 \nz\n\" style=\"fill:#ffffff;\"/>\n  </g>\n  <g id=\"axes_1\">\n   <g id=\"patch_2\">\n    <path d=\"M 33.2875 224.64 \nL 368.0875 224.64 \nL 368.0875 7.2 \nL 33.2875 7.2 \nz\n\" style=\"fill:#e5e5e5;\"/>\n   </g>\n   <g id=\"matplotlib.axis_1\">\n    <g id=\"xtick_1\">\n     <g id=\"line2d_1\">\n      <path clip-path=\"url(#p5915186544)\" d=\"M 68.122182 224.64 \nL 68.122182 7.2 \n\" style=\"fill:none;stroke:#ffffff;stroke-linecap:square;stroke-width:0.8;\"/>\n     </g>\n     <g id=\"line2d_2\">\n      <defs>\n       <path d=\"M 0 0 \nL 0 3.5 \n\" id=\"m5e7860ca4a\" style=\"stroke:#555555;stroke-width:0.8;\"/>\n      </defs>\n      <g>\n       <use style=\"fill:#555555;stroke:#555555;stroke-width:0.8;\" x=\"68.122182\" xlink:href=\"#m5e7860ca4a\" y=\"224.64\"/>\n      </g>\n     </g>\n     <g id=\"text_1\">\n      <!-- 50 -->\n      <defs>\n       <path d=\"M 10.796875 72.90625 \nL 49.515625 72.90625 \nL 49.515625 64.59375 \nL 19.828125 64.59375 \nL 19.828125 46.734375 \nQ 21.96875 47.46875 24.109375 47.828125 \nQ 26.265625 48.1875 28.421875 48.1875 \nQ 40.625 48.1875 47.75 41.5 \nQ 54.890625 34.8125 54.890625 23.390625 \nQ 54.890625 11.625 47.5625 5.09375 \nQ 40.234375 -1.421875 26.90625 -1.421875 \nQ 22.3125 -1.421875 17.546875 -0.640625 \nQ 12.796875 0.140625 7.71875 1.703125 \nL 7.71875 11.625 \nQ 12.109375 9.234375 16.796875 8.0625 \nQ 21.484375 6.890625 26.703125 6.890625 \nQ 35.15625 6.890625 40.078125 11.328125 \nQ 45.015625 15.765625 45.015625 23.390625 \nQ 45.015625 31 40.078125 35.4375 \nQ 35.15625 39.890625 26.703125 39.890625 \nQ 22.75 39.890625 18.8125 39.015625 \nQ 14.890625 38.140625 10.796875 36.28125 \nz\n\" id=\"DejaVuSans-53\"/>\n       <path d=\"M 31.78125 66.40625 \nQ 24.171875 66.40625 20.328125 58.90625 \nQ 16.5 51.421875 16.5 36.375 \nQ 16.5 21.390625 20.328125 13.890625 \nQ 24.171875 6.390625 31.78125 6.390625 \nQ 39.453125 6.390625 43.28125 13.890625 \nQ 47.125 21.390625 47.125 36.375 \nQ 47.125 51.421875 43.28125 58.90625 \nQ 39.453125 66.40625 31.78125 66.40625 \nz\nM 31.78125 74.21875 \nQ 44.046875 74.21875 50.515625 64.515625 \nQ 56.984375 54.828125 56.984375 36.375 \nQ 56.984375 17.96875 50.515625 8.265625 \nQ 44.046875 -1.421875 31.78125 -1.421875 \nQ 19.53125 -1.421875 13.0625 8.265625 \nQ 6.59375 17.96875 6.59375 36.375 \nQ 6.59375 54.828125 13.0625 64.515625 \nQ 19.53125 74.21875 31.78125 74.21875 \nz\n\" id=\"DejaVuSans-48\"/>\n      </defs>\n      <g style=\"fill:#555555;\" transform=\"translate(61.759682 239.238437)scale(0.1 -0.1)\">\n       <use xlink:href=\"#DejaVuSans-53\"/>\n       <use x=\"63.623047\" xlink:href=\"#DejaVuSans-48\"/>\n      </g>\n     </g>\n    </g>\n    <g id=\"xtick_2\">\n     <g id=\"line2d_3\">\n      <path clip-path=\"url(#p5915186544)\" d=\"M 116.503685 224.64 \nL 116.503685 7.2 \n\" style=\"fill:none;stroke:#ffffff;stroke-linecap:square;stroke-width:0.8;\"/>\n     </g>\n     <g id=\"line2d_4\">\n      <g>\n       <use style=\"fill:#555555;stroke:#555555;stroke-width:0.8;\" x=\"116.503685\" xlink:href=\"#m5e7860ca4a\" y=\"224.64\"/>\n      </g>\n     </g>\n     <g id=\"text_2\">\n      <!-- 100 -->\n      <defs>\n       <path d=\"M 12.40625 8.296875 \nL 28.515625 8.296875 \nL 28.515625 63.921875 \nL 10.984375 60.40625 \nL 10.984375 69.390625 \nL 28.421875 72.90625 \nL 38.28125 72.90625 \nL 38.28125 8.296875 \nL 54.390625 8.296875 \nL 54.390625 0 \nL 12.40625 0 \nz\n\" id=\"DejaVuSans-49\"/>\n      </defs>\n      <g style=\"fill:#555555;\" transform=\"translate(106.959935 239.238437)scale(0.1 -0.1)\">\n       <use xlink:href=\"#DejaVuSans-49\"/>\n       <use x=\"63.623047\" xlink:href=\"#DejaVuSans-48\"/>\n       <use x=\"127.246094\" xlink:href=\"#DejaVuSans-48\"/>\n      </g>\n     </g>\n    </g>\n    <g id=\"xtick_3\">\n     <g id=\"line2d_5\">\n      <path clip-path=\"url(#p5915186544)\" d=\"M 164.885188 224.64 \nL 164.885188 7.2 \n\" style=\"fill:none;stroke:#ffffff;stroke-linecap:square;stroke-width:0.8;\"/>\n     </g>\n     <g id=\"line2d_6\">\n      <g>\n       <use style=\"fill:#555555;stroke:#555555;stroke-width:0.8;\" x=\"164.885188\" xlink:href=\"#m5e7860ca4a\" y=\"224.64\"/>\n      </g>\n     </g>\n     <g id=\"text_3\">\n      <!-- 150 -->\n      <g style=\"fill:#555555;\" transform=\"translate(155.341438 239.238437)scale(0.1 -0.1)\">\n       <use xlink:href=\"#DejaVuSans-49\"/>\n       <use x=\"63.623047\" xlink:href=\"#DejaVuSans-53\"/>\n       <use x=\"127.246094\" xlink:href=\"#DejaVuSans-48\"/>\n      </g>\n     </g>\n    </g>\n    <g id=\"xtick_4\">\n     <g id=\"line2d_7\">\n      <path clip-path=\"url(#p5915186544)\" d=\"M 213.266691 224.64 \nL 213.266691 7.2 \n\" style=\"fill:none;stroke:#ffffff;stroke-linecap:square;stroke-width:0.8;\"/>\n     </g>\n     <g id=\"line2d_8\">\n      <g>\n       <use style=\"fill:#555555;stroke:#555555;stroke-width:0.8;\" x=\"213.266691\" xlink:href=\"#m5e7860ca4a\" y=\"224.64\"/>\n      </g>\n     </g>\n     <g id=\"text_4\">\n      <!-- 200 -->\n      <defs>\n       <path d=\"M 19.1875 8.296875 \nL 53.609375 8.296875 \nL 53.609375 0 \nL 7.328125 0 \nL 7.328125 8.296875 \nQ 12.9375 14.109375 22.625 23.890625 \nQ 32.328125 33.6875 34.8125 36.53125 \nQ 39.546875 41.84375 41.421875 45.53125 \nQ 43.3125 49.21875 43.3125 52.78125 \nQ 43.3125 58.59375 39.234375 62.25 \nQ 35.15625 65.921875 28.609375 65.921875 \nQ 23.96875 65.921875 18.8125 64.3125 \nQ 13.671875 62.703125 7.8125 59.421875 \nL 7.8125 69.390625 \nQ 13.765625 71.78125 18.9375 73 \nQ 24.125 74.21875 28.421875 74.21875 \nQ 39.75 74.21875 46.484375 68.546875 \nQ 53.21875 62.890625 53.21875 53.421875 \nQ 53.21875 48.921875 51.53125 44.890625 \nQ 49.859375 40.875 45.40625 35.40625 \nQ 44.1875 33.984375 37.640625 27.21875 \nQ 31.109375 20.453125 19.1875 8.296875 \nz\n\" id=\"DejaVuSans-50\"/>\n      </defs>\n      <g style=\"fill:#555555;\" transform=\"translate(203.722941 239.238437)scale(0.1 -0.1)\">\n       <use xlink:href=\"#DejaVuSans-50\"/>\n       <use x=\"63.623047\" xlink:href=\"#DejaVuSans-48\"/>\n       <use x=\"127.246094\" xlink:href=\"#DejaVuSans-48\"/>\n      </g>\n     </g>\n    </g>\n    <g id=\"xtick_5\">\n     <g id=\"line2d_9\">\n      <path clip-path=\"url(#p5915186544)\" d=\"M 261.648194 224.64 \nL 261.648194 7.2 \n\" style=\"fill:none;stroke:#ffffff;stroke-linecap:square;stroke-width:0.8;\"/>\n     </g>\n     <g id=\"line2d_10\">\n      <g>\n       <use style=\"fill:#555555;stroke:#555555;stroke-width:0.8;\" x=\"261.648194\" xlink:href=\"#m5e7860ca4a\" y=\"224.64\"/>\n      </g>\n     </g>\n     <g id=\"text_5\">\n      <!-- 250 -->\n      <g style=\"fill:#555555;\" transform=\"translate(252.104444 239.238437)scale(0.1 -0.1)\">\n       <use xlink:href=\"#DejaVuSans-50\"/>\n       <use x=\"63.623047\" xlink:href=\"#DejaVuSans-53\"/>\n       <use x=\"127.246094\" xlink:href=\"#DejaVuSans-48\"/>\n      </g>\n     </g>\n    </g>\n    <g id=\"xtick_6\">\n     <g id=\"line2d_11\">\n      <path clip-path=\"url(#p5915186544)\" d=\"M 310.029697 224.64 \nL 310.029697 7.2 \n\" style=\"fill:none;stroke:#ffffff;stroke-linecap:square;stroke-width:0.8;\"/>\n     </g>\n     <g id=\"line2d_12\">\n      <g>\n       <use style=\"fill:#555555;stroke:#555555;stroke-width:0.8;\" x=\"310.029697\" xlink:href=\"#m5e7860ca4a\" y=\"224.64\"/>\n      </g>\n     </g>\n     <g id=\"text_6\">\n      <!-- 300 -->\n      <defs>\n       <path d=\"M 40.578125 39.3125 \nQ 47.65625 37.796875 51.625 33 \nQ 55.609375 28.21875 55.609375 21.1875 \nQ 55.609375 10.40625 48.1875 4.484375 \nQ 40.765625 -1.421875 27.09375 -1.421875 \nQ 22.515625 -1.421875 17.65625 -0.515625 \nQ 12.796875 0.390625 7.625 2.203125 \nL 7.625 11.71875 \nQ 11.71875 9.328125 16.59375 8.109375 \nQ 21.484375 6.890625 26.8125 6.890625 \nQ 36.078125 6.890625 40.9375 10.546875 \nQ 45.796875 14.203125 45.796875 21.1875 \nQ 45.796875 27.640625 41.28125 31.265625 \nQ 36.765625 34.90625 28.71875 34.90625 \nL 20.21875 34.90625 \nL 20.21875 43.015625 \nL 29.109375 43.015625 \nQ 36.375 43.015625 40.234375 45.921875 \nQ 44.09375 48.828125 44.09375 54.296875 \nQ 44.09375 59.90625 40.109375 62.90625 \nQ 36.140625 65.921875 28.71875 65.921875 \nQ 24.65625 65.921875 20.015625 65.03125 \nQ 15.375 64.15625 9.8125 62.3125 \nL 9.8125 71.09375 \nQ 15.4375 72.65625 20.34375 73.4375 \nQ 25.25 74.21875 29.59375 74.21875 \nQ 40.828125 74.21875 47.359375 69.109375 \nQ 53.90625 64.015625 53.90625 55.328125 \nQ 53.90625 49.265625 50.4375 45.09375 \nQ 46.96875 40.921875 40.578125 39.3125 \nz\n\" id=\"DejaVuSans-51\"/>\n      </defs>\n      <g style=\"fill:#555555;\" transform=\"translate(300.485947 239.238437)scale(0.1 -0.1)\">\n       <use xlink:href=\"#DejaVuSans-51\"/>\n       <use x=\"63.623047\" xlink:href=\"#DejaVuSans-48\"/>\n       <use x=\"127.246094\" xlink:href=\"#DejaVuSans-48\"/>\n      </g>\n     </g>\n    </g>\n    <g id=\"xtick_7\">\n     <g id=\"line2d_13\">\n      <path clip-path=\"url(#p5915186544)\" d=\"M 358.411199 224.64 \nL 358.411199 7.2 \n\" style=\"fill:none;stroke:#ffffff;stroke-linecap:square;stroke-width:0.8;\"/>\n     </g>\n     <g id=\"line2d_14\">\n      <g>\n       <use style=\"fill:#555555;stroke:#555555;stroke-width:0.8;\" x=\"358.411199\" xlink:href=\"#m5e7860ca4a\" y=\"224.64\"/>\n      </g>\n     </g>\n     <g id=\"text_7\">\n      <!-- 350 -->\n      <g style=\"fill:#555555;\" transform=\"translate(348.867449 239.238437)scale(0.1 -0.1)\">\n       <use xlink:href=\"#DejaVuSans-51\"/>\n       <use x=\"63.623047\" xlink:href=\"#DejaVuSans-53\"/>\n       <use x=\"127.246094\" xlink:href=\"#DejaVuSans-48\"/>\n      </g>\n     </g>\n    </g>\n    <g id=\"text_8\">\n     <!-- Insulin -->\n     <defs>\n      <path d=\"M 9.8125 72.90625 \nL 19.671875 72.90625 \nL 19.671875 0 \nL 9.8125 0 \nz\n\" id=\"DejaVuSans-73\"/>\n      <path d=\"M 54.890625 33.015625 \nL 54.890625 0 \nL 45.90625 0 \nL 45.90625 32.71875 \nQ 45.90625 40.484375 42.875 44.328125 \nQ 39.84375 48.1875 33.796875 48.1875 \nQ 26.515625 48.1875 22.3125 43.546875 \nQ 18.109375 38.921875 18.109375 30.90625 \nL 18.109375 0 \nL 9.078125 0 \nL 9.078125 54.6875 \nL 18.109375 54.6875 \nL 18.109375 46.1875 \nQ 21.34375 51.125 25.703125 53.5625 \nQ 30.078125 56 35.796875 56 \nQ 45.21875 56 50.046875 50.171875 \nQ 54.890625 44.34375 54.890625 33.015625 \nz\n\" id=\"DejaVuSans-110\"/>\n      <path d=\"M 44.28125 53.078125 \nL 44.28125 44.578125 \nQ 40.484375 46.53125 36.375 47.5 \nQ 32.28125 48.484375 27.875 48.484375 \nQ 21.1875 48.484375 17.84375 46.4375 \nQ 14.5 44.390625 14.5 40.28125 \nQ 14.5 37.15625 16.890625 35.375 \nQ 19.28125 33.59375 26.515625 31.984375 \nL 29.59375 31.296875 \nQ 39.15625 29.25 43.1875 25.515625 \nQ 47.21875 21.78125 47.21875 15.09375 \nQ 47.21875 7.46875 41.1875 3.015625 \nQ 35.15625 -1.421875 24.609375 -1.421875 \nQ 20.21875 -1.421875 15.453125 -0.5625 \nQ 10.6875 0.296875 5.421875 2 \nL 5.421875 11.28125 \nQ 10.40625 8.6875 15.234375 7.390625 \nQ 20.0625 6.109375 24.8125 6.109375 \nQ 31.15625 6.109375 34.5625 8.28125 \nQ 37.984375 10.453125 37.984375 14.40625 \nQ 37.984375 18.0625 35.515625 20.015625 \nQ 33.0625 21.96875 24.703125 23.78125 \nL 21.578125 24.515625 \nQ 13.234375 26.265625 9.515625 29.90625 \nQ 5.8125 33.546875 5.8125 39.890625 \nQ 5.8125 47.609375 11.28125 51.796875 \nQ 16.75 56 26.8125 56 \nQ 31.78125 56 36.171875 55.265625 \nQ 40.578125 54.546875 44.28125 53.078125 \nz\n\" id=\"DejaVuSans-115\"/>\n      <path d=\"M 8.5 21.578125 \nL 8.5 54.6875 \nL 17.484375 54.6875 \nL 17.484375 21.921875 \nQ 17.484375 14.15625 20.5 10.265625 \nQ 23.53125 6.390625 29.59375 6.390625 \nQ 36.859375 6.390625 41.078125 11.03125 \nQ 45.3125 15.671875 45.3125 23.6875 \nL 45.3125 54.6875 \nL 54.296875 54.6875 \nL 54.296875 0 \nL 45.3125 0 \nL 45.3125 8.40625 \nQ 42.046875 3.421875 37.71875 1 \nQ 33.40625 -1.421875 27.6875 -1.421875 \nQ 18.265625 -1.421875 13.375 4.4375 \nQ 8.5 10.296875 8.5 21.578125 \nz\nM 31.109375 56 \nz\n\" id=\"DejaVuSans-117\"/>\n      <path d=\"M 9.421875 75.984375 \nL 18.40625 75.984375 \nL 18.40625 0 \nL 9.421875 0 \nz\n\" id=\"DejaVuSans-108\"/>\n      <path d=\"M 9.421875 54.6875 \nL 18.40625 54.6875 \nL 18.40625 0 \nL 9.421875 0 \nz\nM 9.421875 75.984375 \nL 18.40625 75.984375 \nL 18.40625 64.59375 \nL 9.421875 64.59375 \nz\n\" id=\"DejaVuSans-105\"/>\n     </defs>\n     <g style=\"fill:#555555;\" transform=\"translate(181.050625 254.43625)scale(0.12 -0.12)\">\n      <use xlink:href=\"#DejaVuSans-73\"/>\n      <use x=\"29.492188\" xlink:href=\"#DejaVuSans-110\"/>\n      <use x=\"92.871094\" xlink:href=\"#DejaVuSans-115\"/>\n      <use x=\"144.970703\" xlink:href=\"#DejaVuSans-117\"/>\n      <use x=\"208.349609\" xlink:href=\"#DejaVuSans-108\"/>\n      <use x=\"236.132812\" xlink:href=\"#DejaVuSans-105\"/>\n      <use x=\"263.916016\" xlink:href=\"#DejaVuSans-110\"/>\n     </g>\n    </g>\n   </g>\n   <g id=\"matplotlib.axis_2\">\n    <g id=\"ytick_1\">\n     <g id=\"line2d_15\">\n      <path clip-path=\"url(#p5915186544)\" d=\"M 33.2875 205.641421 \nL 368.0875 205.641421 \n\" style=\"fill:none;stroke:#ffffff;stroke-linecap:square;stroke-width:0.8;\"/>\n     </g>\n     <g id=\"line2d_16\">\n      <defs>\n       <path d=\"M 0 0 \nL -3.5 0 \n\" id=\"m1147e6fc55\" style=\"stroke:#555555;stroke-width:0.8;\"/>\n      </defs>\n      <g>\n       <use style=\"fill:#555555;stroke:#555555;stroke-width:0.8;\" x=\"33.2875\" xlink:href=\"#m1147e6fc55\" y=\"205.641421\"/>\n      </g>\n     </g>\n     <g id=\"text_9\">\n      <!-- 50 -->\n      <g style=\"fill:#555555;\" transform=\"translate(13.5625 209.44064)scale(0.1 -0.1)\">\n       <use xlink:href=\"#DejaVuSans-53\"/>\n       <use x=\"63.623047\" xlink:href=\"#DejaVuSans-48\"/>\n      </g>\n     </g>\n    </g>\n    <g id=\"ytick_2\">\n     <g id=\"line2d_17\">\n      <path clip-path=\"url(#p5915186544)\" d=\"M 33.2875 180.322135 \nL 368.0875 180.322135 \n\" style=\"fill:none;stroke:#ffffff;stroke-linecap:square;stroke-width:0.8;\"/>\n     </g>\n     <g id=\"line2d_18\">\n      <g>\n       <use style=\"fill:#555555;stroke:#555555;stroke-width:0.8;\" x=\"33.2875\" xlink:href=\"#m1147e6fc55\" y=\"180.322135\"/>\n      </g>\n     </g>\n     <g id=\"text_10\">\n      <!-- 75 -->\n      <defs>\n       <path d=\"M 8.203125 72.90625 \nL 55.078125 72.90625 \nL 55.078125 68.703125 \nL 28.609375 0 \nL 18.3125 0 \nL 43.21875 64.59375 \nL 8.203125 64.59375 \nz\n\" id=\"DejaVuSans-55\"/>\n      </defs>\n      <g style=\"fill:#555555;\" transform=\"translate(13.5625 184.121354)scale(0.1 -0.1)\">\n       <use xlink:href=\"#DejaVuSans-55\"/>\n       <use x=\"63.623047\" xlink:href=\"#DejaVuSans-53\"/>\n      </g>\n     </g>\n    </g>\n    <g id=\"ytick_3\">\n     <g id=\"line2d_19\">\n      <path clip-path=\"url(#p5915186544)\" d=\"M 33.2875 155.002849 \nL 368.0875 155.002849 \n\" style=\"fill:none;stroke:#ffffff;stroke-linecap:square;stroke-width:0.8;\"/>\n     </g>\n     <g id=\"line2d_20\">\n      <g>\n       <use style=\"fill:#555555;stroke:#555555;stroke-width:0.8;\" x=\"33.2875\" xlink:href=\"#m1147e6fc55\" y=\"155.002849\"/>\n      </g>\n     </g>\n     <g id=\"text_11\">\n      <!-- 100 -->\n      <g style=\"fill:#555555;\" transform=\"translate(7.2 158.802068)scale(0.1 -0.1)\">\n       <use xlink:href=\"#DejaVuSans-49\"/>\n       <use x=\"63.623047\" xlink:href=\"#DejaVuSans-48\"/>\n       <use x=\"127.246094\" xlink:href=\"#DejaVuSans-48\"/>\n      </g>\n     </g>\n    </g>\n    <g id=\"ytick_4\">\n     <g id=\"line2d_21\">\n      <path clip-path=\"url(#p5915186544)\" d=\"M 33.2875 129.683564 \nL 368.0875 129.683564 \n\" style=\"fill:none;stroke:#ffffff;stroke-linecap:square;stroke-width:0.8;\"/>\n     </g>\n     <g id=\"line2d_22\">\n      <g>\n       <use style=\"fill:#555555;stroke:#555555;stroke-width:0.8;\" x=\"33.2875\" xlink:href=\"#m1147e6fc55\" y=\"129.683564\"/>\n      </g>\n     </g>\n     <g id=\"text_12\">\n      <!-- 125 -->\n      <g style=\"fill:#555555;\" transform=\"translate(7.2 133.482782)scale(0.1 -0.1)\">\n       <use xlink:href=\"#DejaVuSans-49\"/>\n       <use x=\"63.623047\" xlink:href=\"#DejaVuSans-50\"/>\n       <use x=\"127.246094\" xlink:href=\"#DejaVuSans-53\"/>\n      </g>\n     </g>\n    </g>\n    <g id=\"ytick_5\">\n     <g id=\"line2d_23\">\n      <path clip-path=\"url(#p5915186544)\" d=\"M 33.2875 104.364278 \nL 368.0875 104.364278 \n\" style=\"fill:none;stroke:#ffffff;stroke-linecap:square;stroke-width:0.8;\"/>\n     </g>\n     <g id=\"line2d_24\">\n      <g>\n       <use style=\"fill:#555555;stroke:#555555;stroke-width:0.8;\" x=\"33.2875\" xlink:href=\"#m1147e6fc55\" y=\"104.364278\"/>\n      </g>\n     </g>\n     <g id=\"text_13\">\n      <!-- 150 -->\n      <g style=\"fill:#555555;\" transform=\"translate(7.2 108.163497)scale(0.1 -0.1)\">\n       <use xlink:href=\"#DejaVuSans-49\"/>\n       <use x=\"63.623047\" xlink:href=\"#DejaVuSans-53\"/>\n       <use x=\"127.246094\" xlink:href=\"#DejaVuSans-48\"/>\n      </g>\n     </g>\n    </g>\n    <g id=\"ytick_6\">\n     <g id=\"line2d_25\">\n      <path clip-path=\"url(#p5915186544)\" d=\"M 33.2875 79.044992 \nL 368.0875 79.044992 \n\" style=\"fill:none;stroke:#ffffff;stroke-linecap:square;stroke-width:0.8;\"/>\n     </g>\n     <g id=\"line2d_26\">\n      <g>\n       <use style=\"fill:#555555;stroke:#555555;stroke-width:0.8;\" x=\"33.2875\" xlink:href=\"#m1147e6fc55\" y=\"79.044992\"/>\n      </g>\n     </g>\n     <g id=\"text_14\">\n      <!-- 175 -->\n      <g style=\"fill:#555555;\" transform=\"translate(7.2 82.844211)scale(0.1 -0.1)\">\n       <use xlink:href=\"#DejaVuSans-49\"/>\n       <use x=\"63.623047\" xlink:href=\"#DejaVuSans-55\"/>\n       <use x=\"127.246094\" xlink:href=\"#DejaVuSans-53\"/>\n      </g>\n     </g>\n    </g>\n    <g id=\"ytick_7\">\n     <g id=\"line2d_27\">\n      <path clip-path=\"url(#p5915186544)\" d=\"M 33.2875 53.725707 \nL 368.0875 53.725707 \n\" style=\"fill:none;stroke:#ffffff;stroke-linecap:square;stroke-width:0.8;\"/>\n     </g>\n     <g id=\"line2d_28\">\n      <g>\n       <use style=\"fill:#555555;stroke:#555555;stroke-width:0.8;\" x=\"33.2875\" xlink:href=\"#m1147e6fc55\" y=\"53.725707\"/>\n      </g>\n     </g>\n     <g id=\"text_15\">\n      <!-- 200 -->\n      <g style=\"fill:#555555;\" transform=\"translate(7.2 57.524925)scale(0.1 -0.1)\">\n       <use xlink:href=\"#DejaVuSans-50\"/>\n       <use x=\"63.623047\" xlink:href=\"#DejaVuSans-48\"/>\n       <use x=\"127.246094\" xlink:href=\"#DejaVuSans-48\"/>\n      </g>\n     </g>\n    </g>\n    <g id=\"ytick_8\">\n     <g id=\"line2d_29\">\n      <path clip-path=\"url(#p5915186544)\" d=\"M 33.2875 28.406421 \nL 368.0875 28.406421 \n\" style=\"fill:none;stroke:#ffffff;stroke-linecap:square;stroke-width:0.8;\"/>\n     </g>\n     <g id=\"line2d_30\">\n      <g>\n       <use style=\"fill:#555555;stroke:#555555;stroke-width:0.8;\" x=\"33.2875\" xlink:href=\"#m1147e6fc55\" y=\"28.406421\"/>\n      </g>\n     </g>\n     <g id=\"text_16\">\n      <!-- 225 -->\n      <g style=\"fill:#555555;\" transform=\"translate(7.2 32.20564)scale(0.1 -0.1)\">\n       <use xlink:href=\"#DejaVuSans-50\"/>\n       <use x=\"63.623047\" xlink:href=\"#DejaVuSans-50\"/>\n       <use x=\"127.246094\" xlink:href=\"#DejaVuSans-53\"/>\n      </g>\n     </g>\n    </g>\n   </g>\n   <g id=\"PathCollection_1\">\n    <defs>\n     <path d=\"M 0 3 \nC 0.795609 3 1.55874 2.683901 2.12132 2.12132 \nC 2.683901 1.55874 3 0.795609 3 0 \nC 3 -0.795609 2.683901 -1.55874 2.12132 -2.12132 \nC 1.55874 -2.683901 0.795609 -3 0 -3 \nC -0.795609 -3 -1.55874 -2.683901 -2.12132 -2.12132 \nC -2.683901 -1.55874 -3 -0.795609 -3 0 \nC -3 0.795609 -2.683901 1.55874 -2.12132 2.12132 \nC -1.55874 2.683901 -0.795609 3 0 3 \nz\n\" id=\"mc7b71c7428\" style=\"stroke:#e24a33;stroke-opacity:0.8;\"/>\n    </defs>\n    <g clip-path=\"url(#p5915186544)\">\n     <use style=\"fill:#e24a33;fill-opacity:0.8;stroke:#e24a33;stroke-opacity:0.8;\" x=\"110.697905\" xlink:href=\"#mc7b71c7428\" y=\"205.519888\"/>\n     <use style=\"fill:#e24a33;fill-opacity:0.8;stroke:#e24a33;stroke-opacity:0.8;\" x=\"182.302529\" xlink:href=\"#mc7b71c7428\" y=\"102.794482\"/>\n     <use style=\"fill:#e24a33;fill-opacity:0.8;stroke:#e24a33;stroke-opacity:0.8;\" x=\"104.892124\" xlink:href=\"#mc7b71c7428\" y=\"160.71488\"/>\n     <use style=\"fill:#e24a33;fill-opacity:0.8;stroke:#e24a33;stroke-opacity:0.8;\" x=\"189.075939\" xlink:href=\"#mc7b71c7428\" y=\"108.931877\"/>\n     <use style=\"fill:#e24a33;fill-opacity:0.8;stroke:#e24a33;stroke-opacity:0.8;\" x=\"242.295592\" xlink:href=\"#mc7b71c7428\" y=\"72.705043\"/>\n     <use style=\"fill:#e24a33;fill-opacity:0.8;stroke:#e24a33;stroke-opacity:0.8;\" x=\"100.053974\" xlink:href=\"#mc7b71c7428\" y=\"104.455427\"/>\n     <use style=\"fill:#e24a33;fill-opacity:0.8;stroke:#e24a33;stroke-opacity:0.8;\" x=\"112.633165\" xlink:href=\"#mc7b71c7428\" y=\"85.293792\"/>\n     <use style=\"fill:#e24a33;fill-opacity:0.8;stroke:#e24a33;stroke-opacity:0.8;\" x=\"247.133743\" xlink:href=\"#mc7b71c7428\" y=\"99.61438\"/>\n     <use style=\"fill:#e24a33;fill-opacity:0.8;stroke:#e24a33;stroke-opacity:0.8;\" x=\"161.014668\" xlink:href=\"#mc7b71c7428\" y=\"92.930089\"/>\n     <use style=\"fill:#e24a33;fill-opacity:0.8;stroke:#e24a33;stroke-opacity:0.8;\" x=\"131.018136\" xlink:href=\"#mc7b71c7428\" y=\"125.62235\"/>\n     <use style=\"fill:#e24a33;fill-opacity:0.8;stroke:#e24a33;stroke-opacity:0.8;\" x=\"155.208887\" xlink:href=\"#mc7b71c7428\" y=\"182.651509\"/>\n     <use style=\"fill:#e24a33;fill-opacity:0.8;stroke:#e24a33;stroke-opacity:0.8;\" x=\"126.179986\" xlink:href=\"#mc7b71c7428\" y=\"89.780369\"/>\n     <use style=\"fill:#e24a33;fill-opacity:0.8;stroke:#e24a33;stroke-opacity:0.8;\" x=\"256.810043\" xlink:href=\"#mc7b71c7428\" y=\"68.147572\"/>\n     <use style=\"fill:#e24a33;fill-opacity:0.8;stroke:#e24a33;stroke-opacity:0.8;\" x=\"71.992702\" xlink:href=\"#mc7b71c7428\" y=\"198.612787\"/>\n     <use style=\"fill:#e24a33;fill-opacity:0.8;stroke:#e24a33;stroke-opacity:0.8;\" x=\"205.52565\" xlink:href=\"#mc7b71c7428\" y=\"129.410115\"/>\n     <use style=\"fill:#e24a33;fill-opacity:0.8;stroke:#e24a33;stroke-opacity:0.8;\" x=\"220.040101\" xlink:href=\"#mc7b71c7428\" y=\"90.428543\"/>\n     <use style=\"fill:#e24a33;fill-opacity:0.8;stroke:#e24a33;stroke-opacity:0.8;\" x=\"87.474783\" xlink:href=\"#mc7b71c7428\" y=\"83.288505\"/>\n     <use style=\"fill:#e24a33;fill-opacity:0.8;stroke:#e24a33;stroke-opacity:0.8;\" x=\"251.971893\" xlink:href=\"#mc7b71c7428\" y=\"78.680395\"/>\n     <use style=\"fill:#e24a33;fill-opacity:0.8;stroke:#e24a33;stroke-opacity:0.8;\" x=\"99.086344\" xlink:href=\"#mc7b71c7428\" y=\"131.000167\"/>\n     <use style=\"fill:#e24a33;fill-opacity:0.8;stroke:#e24a33;stroke-opacity:0.8;\" x=\"54.575361\" xlink:href=\"#mc7b71c7428\" y=\"95.168313\"/>\n     <use style=\"fill:#e24a33;fill-opacity:0.8;stroke:#e24a33;stroke-opacity:0.8;\" x=\"41.996171\" xlink:href=\"#mc7b71c7428\" y=\"191.482876\"/>\n     <use style=\"fill:#e24a33;fill-opacity:0.8;stroke:#e24a33;stroke-opacity:0.8;\" x=\"310.029697\" xlink:href=\"#mc7b71c7428\" y=\"19.737098\"/>\n     <use style=\"fill:#e24a33;fill-opacity:0.8;stroke:#e24a33;stroke-opacity:0.8;\" x=\"350.670159\" xlink:href=\"#mc7b71c7428\" y=\"86.14452\"/>\n     <use style=\"fill:#e24a33;fill-opacity:0.8;stroke:#e24a33;stroke-opacity:0.8;\" x=\"313.900217\" xlink:href=\"#mc7b71c7428\" y=\"23.616012\"/>\n     <use style=\"fill:#e24a33;fill-opacity:0.8;stroke:#e24a33;stroke-opacity:0.8;\" x=\"126.179986\" xlink:href=\"#mc7b71c7428\" y=\"133.106731\"/>\n     <use style=\"fill:#e24a33;fill-opacity:0.8;stroke:#e24a33;stroke-opacity:0.8;\" x=\"157.144147\" xlink:href=\"#mc7b71c7428\" y=\"126.412312\"/>\n     <use style=\"fill:#e24a33;fill-opacity:0.8;stroke:#e24a33;stroke-opacity:0.8;\" x=\"143.597327\" xlink:href=\"#mc7b71c7428\" y=\"86.569884\"/>\n     <use style=\"fill:#e24a33;fill-opacity:0.8;stroke:#e24a33;stroke-opacity:0.8;\" x=\"56.510621\" xlink:href=\"#mc7b71c7428\" y=\"197.113885\"/>\n     <use style=\"fill:#e24a33;fill-opacity:0.8;stroke:#e24a33;stroke-opacity:0.8;\" x=\"116.503685\" xlink:href=\"#mc7b71c7428\" y=\"85.931838\"/>\n     <use style=\"fill:#e24a33;fill-opacity:0.8;stroke:#e24a33;stroke-opacity:0.8;\" x=\"106.827384\" xlink:href=\"#mc7b71c7428\" y=\"132.559835\"/>\n     <use style=\"fill:#e24a33;fill-opacity:0.8;stroke:#e24a33;stroke-opacity:0.8;\" x=\"155.208887\" xlink:href=\"#mc7b71c7428\" y=\"96.930536\"/>\n     <use style=\"fill:#e24a33;fill-opacity:0.8;stroke:#e24a33;stroke-opacity:0.8;\" x=\"281.000795\" xlink:href=\"#mc7b71c7428\" y=\"85.040599\"/>\n     <use style=\"fill:#e24a33;fill-opacity:0.8;stroke:#e24a33;stroke-opacity:0.8;\" x=\"88.442413\" xlink:href=\"#mc7b71c7428\" y=\"188.292646\"/>\n     <use style=\"fill:#e24a33;fill-opacity:0.8;stroke:#e24a33;stroke-opacity:0.8;\" x=\"140.694436\" xlink:href=\"#mc7b71c7428\" y=\"122.047267\"/>\n     <use style=\"fill:#e24a33;fill-opacity:0.8;stroke:#e24a33;stroke-opacity:0.8;\" x=\"88.442413\" xlink:href=\"#mc7b71c7428\" y=\"140.905071\"/>\n     <use style=\"fill:#e24a33;fill-opacity:0.8;stroke:#e24a33;stroke-opacity:0.8;\" x=\"126.179986\" xlink:href=\"#mc7b71c7428\" y=\"87.359846\"/>\n     <use style=\"fill:#e24a33;fill-opacity:0.8;stroke:#e24a33;stroke-opacity:0.8;\" x=\"190.043569\" xlink:href=\"#mc7b71c7428\" y=\"125.247625\"/>\n     <use style=\"fill:#e24a33;fill-opacity:0.8;stroke:#e24a33;stroke-opacity:0.8;\" x=\"66.186922\" xlink:href=\"#mc7b71c7428\" y=\"171.855366\"/>\n     <use style=\"fill:#e24a33;fill-opacity:0.8;stroke:#e24a33;stroke-opacity:0.8;\" x=\"81.669003\" xlink:href=\"#mc7b71c7428\" y=\"95.391123\"/>\n     <use style=\"fill:#e24a33;fill-opacity:0.8;stroke:#e24a33;stroke-opacity:0.8;\" x=\"240.360332\" xlink:href=\"#mc7b71c7428\" y=\"107.311443\"/>\n     <use style=\"fill:#e24a33;fill-opacity:0.8;stroke:#e24a33;stroke-opacity:0.8;\" x=\"93.280564\" xlink:href=\"#mc7b71c7428\" y=\"214.756364\"/>\n     <use style=\"fill:#e24a33;fill-opacity:0.8;stroke:#e24a33;stroke-opacity:0.8;\" x=\"81.669003\" xlink:href=\"#mc7b71c7428\" y=\"168.260027\"/>\n     <use style=\"fill:#e24a33;fill-opacity:0.8;stroke:#e24a33;stroke-opacity:0.8;\" x=\"232.619292\" xlink:href=\"#mc7b71c7428\" y=\"98.439565\"/>\n     <use style=\"fill:#e24a33;fill-opacity:0.8;stroke:#e24a33;stroke-opacity:0.8;\" x=\"58.445882\" xlink:href=\"#mc7b71c7428\" y=\"195.057959\"/>\n     <use style=\"fill:#e24a33;fill-opacity:0.8;stroke:#e24a33;stroke-opacity:0.8;\" x=\"166.820448\" xlink:href=\"#mc7b71c7428\" y=\"86.306563\"/>\n     <use style=\"fill:#e24a33;fill-opacity:0.8;stroke:#e24a33;stroke-opacity:0.8;\" x=\"155.208887\" xlink:href=\"#mc7b71c7428\" y=\"71.702399\"/>\n     <use style=\"fill:#e24a33;fill-opacity:0.8;stroke:#e24a33;stroke-opacity:0.8;\" x=\"37.15802\" xlink:href=\"#mc7b71c7428\" y=\"173.708738\"/>\n     <use style=\"fill:#e24a33;fill-opacity:0.8;stroke:#e24a33;stroke-opacity:0.8;\" x=\"54.575361\" xlink:href=\"#mc7b71c7428\" y=\"128.539132\"/>\n     <use style=\"fill:#e24a33;fill-opacity:0.8;stroke:#e24a33;stroke-opacity:0.8;\" x=\"150.370737\" xlink:href=\"#mc7b71c7428\" y=\"73.444366\"/>\n     <use style=\"fill:#e24a33;fill-opacity:0.8;stroke:#e24a33;stroke-opacity:0.8;\" x=\"55.542991\" xlink:href=\"#mc7b71c7428\" y=\"183.40096\"/>\n     <use style=\"fill:#e24a33;fill-opacity:0.8;stroke:#e24a33;stroke-opacity:0.8;\" x=\"189.075939\" xlink:href=\"#mc7b71c7428\" y=\"57.067852\"/>\n     <use style=\"fill:#e24a33;fill-opacity:0.8;stroke:#e24a33;stroke-opacity:0.8;\" x=\"69.089812\" xlink:href=\"#mc7b71c7428\" y=\"180.372774\"/>\n     <use style=\"fill:#e24a33;fill-opacity:0.8;stroke:#e24a33;stroke-opacity:0.8;\" x=\"116.503685\" xlink:href=\"#mc7b71c7428\" y=\"74.568543\"/>\n     <use style=\"fill:#e24a33;fill-opacity:0.8;stroke:#e24a33;stroke-opacity:0.8;\" x=\"116.503685\" xlink:href=\"#mc7b71c7428\" y=\"129.764585\"/>\n     <use style=\"fill:#e24a33;fill-opacity:0.8;stroke:#e24a33;stroke-opacity:0.8;\" x=\"115.536055\" xlink:href=\"#mc7b71c7428\" y=\"141.846949\"/>\n     <use style=\"fill:#e24a33;fill-opacity:0.8;stroke:#e24a33;stroke-opacity:0.8;\" x=\"150.370737\" xlink:href=\"#mc7b71c7428\" y=\"99.705529\"/>\n     <use style=\"fill:#e24a33;fill-opacity:0.8;stroke:#e24a33;stroke-opacity:0.8;\" x=\"110.697905\" xlink:href=\"#mc7b71c7428\" y=\"135.304445\"/>\n     <use style=\"fill:#e24a33;fill-opacity:0.8;stroke:#e24a33;stroke-opacity:0.8;\" x=\"160.047038\" xlink:href=\"#mc7b71c7428\" y=\"113.57037\"/>\n     <use style=\"fill:#e24a33;fill-opacity:0.8;stroke:#e24a33;stroke-opacity:0.8;\" x=\"182.302529\" xlink:href=\"#mc7b71c7428\" y=\"99.219399\"/>\n     <use style=\"fill:#e24a33;fill-opacity:0.8;stroke:#e24a33;stroke-opacity:0.8;\" x=\"237.457442\" xlink:href=\"#mc7b71c7428\" y=\"22.167749\"/>\n     <use style=\"fill:#e24a33;fill-opacity:0.8;stroke:#e24a33;stroke-opacity:0.8;\" x=\"67.154552\" xlink:href=\"#mc7b71c7428\" y=\"193.174205\"/>\n     <use style=\"fill:#e24a33;fill-opacity:0.8;stroke:#e24a33;stroke-opacity:0.8;\" x=\"155.208887\" xlink:href=\"#mc7b71c7428\" y=\"102.93627\"/>\n     <use style=\"fill:#e24a33;fill-opacity:0.8;stroke:#e24a33;stroke-opacity:0.8;\" x=\"68.122182\" xlink:href=\"#mc7b71c7428\" y=\"162.13276\"/>\n     <use style=\"fill:#e24a33;fill-opacity:0.8;stroke:#e24a33;stroke-opacity:0.8;\" x=\"108.762645\" xlink:href=\"#mc7b71c7428\" y=\"169.688035\"/>\n     <use style=\"fill:#e24a33;fill-opacity:0.8;stroke:#e24a33;stroke-opacity:0.8;\" x=\"334.220448\" xlink:href=\"#mc7b71c7428\" y=\"137.89714\"/>\n     <use style=\"fill:#e24a33;fill-opacity:0.8;stroke:#e24a33;stroke-opacity:0.8;\" x=\"80.701373\" xlink:href=\"#mc7b71c7428\" y=\"114.117267\"/>\n     <use style=\"fill:#e24a33;fill-opacity:0.8;stroke:#e24a33;stroke-opacity:0.8;\" x=\"294.547616\" xlink:href=\"#mc7b71c7428\" y=\"83.501187\"/>\n     <use style=\"fill:#e24a33;fill-opacity:0.8;stroke:#e24a33;stroke-opacity:0.8;\" x=\"134.888656\" xlink:href=\"#mc7b71c7428\" y=\"126.321163\"/>\n     <use style=\"fill:#e24a33;fill-opacity:0.8;stroke:#e24a33;stroke-opacity:0.8;\" x=\"217.137211\" xlink:href=\"#mc7b71c7428\" y=\"70.395924\"/>\n     <use style=\"fill:#e24a33;fill-opacity:0.8;stroke:#e24a33;stroke-opacity:0.8;\" x=\"169.723338\" xlink:href=\"#mc7b71c7428\" y=\"92.140127\"/>\n     <use style=\"fill:#e24a33;fill-opacity:0.8;stroke:#e24a33;stroke-opacity:0.8;\" x=\"110.697905\" xlink:href=\"#mc7b71c7428\" y=\"162.426464\"/>\n     <use style=\"fill:#e24a33;fill-opacity:0.8;stroke:#e24a33;stroke-opacity:0.8;\" x=\"150.370737\" xlink:href=\"#mc7b71c7428\" y=\"116.335236\"/>\n     <use style=\"fill:#e24a33;fill-opacity:0.8;stroke:#e24a33;stroke-opacity:0.8;\" x=\"71.025072\" xlink:href=\"#mc7b71c7428\" y=\"195.311152\"/>\n     <use style=\"fill:#e24a33;fill-opacity:0.8;stroke:#e24a33;stroke-opacity:0.8;\" x=\"130.050506\" xlink:href=\"#mc7b71c7428\" y=\"36.275655\"/>\n     <use style=\"fill:#e24a33;fill-opacity:0.8;stroke:#e24a33;stroke-opacity:0.8;\" x=\"121.341835\" xlink:href=\"#mc7b71c7428\" y=\"100.930983\"/>\n     <use style=\"fill:#e24a33;fill-opacity:0.8;stroke:#e24a33;stroke-opacity:0.8;\" x=\"295.515246\" xlink:href=\"#mc7b71c7428\" y=\"97.609093\"/>\n     <use style=\"fill:#e24a33;fill-opacity:0.8;stroke:#e24a33;stroke-opacity:0.8;\" x=\"170.690968\" xlink:href=\"#mc7b71c7428\" y=\"133.977715\"/>\n     <use style=\"fill:#e24a33;fill-opacity:0.8;stroke:#e24a33;stroke-opacity:0.8;\" x=\"95.215824\" xlink:href=\"#mc7b71c7428\" y=\"126.898442\"/>\n     <use style=\"fill:#e24a33;fill-opacity:0.8;stroke:#e24a33;stroke-opacity:0.8;\" x=\"145.532587\" xlink:href=\"#mc7b71c7428\" y=\"77.566346\"/>\n     <use style=\"fill:#e24a33;fill-opacity:0.8;stroke:#e24a33;stroke-opacity:0.8;\" x=\"66.186922\" xlink:href=\"#mc7b71c7428\" y=\"174.782275\"/>\n     <use style=\"fill:#e24a33;fill-opacity:0.8;stroke:#e24a33;stroke-opacity:0.8;\" x=\"72.960332\" xlink:href=\"#mc7b71c7428\" y=\"196.121369\"/>\n     <use style=\"fill:#e24a33;fill-opacity:0.8;stroke:#e24a33;stroke-opacity:0.8;\" x=\"145.532587\" xlink:href=\"#mc7b71c7428\" y=\"37.744173\"/>\n     <use style=\"fill:#e24a33;fill-opacity:0.8;stroke:#e24a33;stroke-opacity:0.8;\" x=\"145.532587\" xlink:href=\"#mc7b71c7428\" y=\"76.989066\"/>\n     <use style=\"fill:#e24a33;fill-opacity:0.8;stroke:#e24a33;stroke-opacity:0.8;\" x=\"108.762645\" xlink:href=\"#mc7b71c7428\" y=\"105.883435\"/>\n     <use style=\"fill:#e24a33;fill-opacity:0.8;stroke:#e24a33;stroke-opacity:0.8;\" x=\"41.996171\" xlink:href=\"#mc7b71c7428\" y=\"201.195354\"/>\n     <use style=\"fill:#e24a33;fill-opacity:0.8;stroke:#e24a33;stroke-opacity:0.8;\" x=\"75.863223\" xlink:href=\"#mc7b71c7428\" y=\"86.529373\"/>\n     <use style=\"fill:#e24a33;fill-opacity:0.8;stroke:#e24a33;stroke-opacity:0.8;\" x=\"130.050506\" xlink:href=\"#mc7b71c7428\" y=\"124.953921\"/>\n     <use style=\"fill:#e24a33;fill-opacity:0.8;stroke:#e24a33;stroke-opacity:0.8;\" x=\"174.561488\" xlink:href=\"#mc7b71c7428\" y=\"94.87461\"/>\n     <use style=\"fill:#e24a33;fill-opacity:0.8;stroke:#e24a33;stroke-opacity:0.8;\" x=\"110.697905\" xlink:href=\"#mc7b71c7428\" y=\"96.940663\"/>\n     <use style=\"fill:#e24a33;fill-opacity:0.8;stroke:#e24a33;stroke-opacity:0.8;\" x=\"222.942991\" xlink:href=\"#mc7b71c7428\" y=\"30.472475\"/>\n     <use style=\"fill:#e24a33;fill-opacity:0.8;stroke:#e24a33;stroke-opacity:0.8;\" x=\"66.186922\" xlink:href=\"#mc7b71c7428\" y=\"124.305747\"/>\n     <use style=\"fill:#e24a33;fill-opacity:0.8;stroke:#e24a33;stroke-opacity:0.8;\" x=\"115.536055\" xlink:href=\"#mc7b71c7428\" y=\"98.054712\"/>\n     <use style=\"fill:#e24a33;fill-opacity:0.8;stroke:#e24a33;stroke-opacity:0.8;\" x=\"327.447038\" xlink:href=\"#mc7b71c7428\" y=\"101.710817\"/>\n     <use style=\"fill:#e24a33;fill-opacity:0.8;stroke:#e24a33;stroke-opacity:0.8;\" x=\"62.316402\" xlink:href=\"#mc7b71c7428\" y=\"189.112991\"/>\n     <use style=\"fill:#e24a33;fill-opacity:0.8;stroke:#e24a33;stroke-opacity:0.8;\" x=\"203.59039\" xlink:href=\"#mc7b71c7428\" y=\"106.865823\"/>\n     <use style=\"fill:#e24a33;fill-opacity:0.8;stroke:#e24a33;stroke-opacity:0.8;\" x=\"290.677095\" xlink:href=\"#mc7b71c7428\" y=\"19.28135\"/>\n     <use style=\"fill:#e24a33;fill-opacity:0.8;stroke:#e24a33;stroke-opacity:0.8;\" x=\"103.924494\" xlink:href=\"#mc7b71c7428\" y=\"161.606119\"/>\n     <use style=\"fill:#e24a33;fill-opacity:0.8;stroke:#e24a33;stroke-opacity:0.8;\" x=\"145.532587\" xlink:href=\"#mc7b71c7428\" y=\"53.685196\"/>\n     <use style=\"fill:#e24a33;fill-opacity:0.8;stroke:#e24a33;stroke-opacity:0.8;\" x=\"189.075939\" xlink:href=\"#mc7b71c7428\" y=\"121.611775\"/>\n     <use style=\"fill:#e24a33;fill-opacity:0.8;stroke:#e24a33;stroke-opacity:0.8;\" x=\"281.968425\" xlink:href=\"#mc7b71c7428\" y=\"84.898811\"/>\n     <use style=\"fill:#e24a33;fill-opacity:0.8;stroke:#e24a33;stroke-opacity:0.8;\" x=\"144.564957\" xlink:href=\"#mc7b71c7428\" y=\"104.506066\"/>\n     <use style=\"fill:#e24a33;fill-opacity:0.8;stroke:#e24a33;stroke-opacity:0.8;\" x=\"135.856286\" xlink:href=\"#mc7b71c7428\" y=\"133.572606\"/>\n     <use style=\"fill:#e24a33;fill-opacity:0.8;stroke:#e24a33;stroke-opacity:0.8;\" x=\"203.59039\" xlink:href=\"#mc7b71c7428\" y=\"66.638542\"/>\n     <use style=\"fill:#e24a33;fill-opacity:0.8;stroke:#e24a33;stroke-opacity:0.8;\" x=\"73.927962\" xlink:href=\"#mc7b71c7428\" y=\"172.76686\"/>\n     <use style=\"fill:#e24a33;fill-opacity:0.8;stroke:#e24a33;stroke-opacity:0.8;\" x=\"50.704841\" xlink:href=\"#mc7b71c7428\" y=\"173.56695\"/>\n     <use style=\"fill:#e24a33;fill-opacity:0.8;stroke:#e24a33;stroke-opacity:0.8;\" x=\"71.025072\" xlink:href=\"#mc7b71c7428\" y=\"100.9006\"/>\n     <use style=\"fill:#e24a33;fill-opacity:0.8;stroke:#e24a33;stroke-opacity:0.8;\" x=\"55.542991\" xlink:href=\"#mc7b71c7428\" y=\"191.168917\"/>\n     <use style=\"fill:#e24a33;fill-opacity:0.8;stroke:#e24a33;stroke-opacity:0.8;\" x=\"63.284032\" xlink:href=\"#mc7b71c7428\" y=\"200.607947\"/>\n     <use style=\"fill:#e24a33;fill-opacity:0.8;stroke:#e24a33;stroke-opacity:0.8;\" x=\"205.52565\" xlink:href=\"#mc7b71c7428\" y=\"52.398976\"/>\n     <use style=\"fill:#e24a33;fill-opacity:0.8;stroke:#e24a33;stroke-opacity:0.8;\" x=\"104.892124\" xlink:href=\"#mc7b71c7428\" y=\"159.398277\"/>\n     <use style=\"fill:#e24a33;fill-opacity:0.8;stroke:#e24a33;stroke-opacity:0.8;\" x=\"190.043569\" xlink:href=\"#mc7b71c7428\" y=\"125.632478\"/>\n     <use style=\"fill:#e24a33;fill-opacity:0.8;stroke:#e24a33;stroke-opacity:0.8;\" x=\"207.46091\" xlink:href=\"#mc7b71c7428\" y=\"43.25365\"/>\n     <use style=\"fill:#e24a33;fill-opacity:0.8;stroke:#e24a33;stroke-opacity:0.8;\" x=\"72.960332\" xlink:href=\"#mc7b71c7428\" y=\"203.534856\"/>\n     <use style=\"fill:#e24a33;fill-opacity:0.8;stroke:#e24a33;stroke-opacity:0.8;\" x=\"269.389234\" xlink:href=\"#mc7b71c7428\" y=\"131.344509\"/>\n     <use style=\"fill:#e24a33;fill-opacity:0.8;stroke:#e24a33;stroke-opacity:0.8;\" x=\"164.885188\" xlink:href=\"#mc7b71c7428\" y=\"86.964865\"/>\n     <use style=\"fill:#e24a33;fill-opacity:0.8;stroke:#e24a33;stroke-opacity:0.8;\" x=\"145.532587\" xlink:href=\"#mc7b71c7428\" y=\"97.821775\"/>\n     <use style=\"fill:#e24a33;fill-opacity:0.8;stroke:#e24a33;stroke-opacity:0.8;\" x=\"84.571893\" xlink:href=\"#mc7b71c7428\" y=\"130.270971\"/>\n     <use style=\"fill:#e24a33;fill-opacity:0.8;stroke:#e24a33;stroke-opacity:0.8;\" x=\"73.927962\" xlink:href=\"#mc7b71c7428\" y=\"132.124343\"/>\n     <use style=\"fill:#e24a33;fill-opacity:0.8;stroke:#e24a33;stroke-opacity:0.8;\" x=\"63.284032\" xlink:href=\"#mc7b71c7428\" y=\"187.431791\"/>\n     <use style=\"fill:#e24a33;fill-opacity:0.8;stroke:#e24a33;stroke-opacity:0.8;\" x=\"74.895592\" xlink:href=\"#mc7b71c7428\" y=\"147.680512\"/>\n     <use style=\"fill:#e24a33;fill-opacity:0.8;stroke:#e24a33;stroke-opacity:0.8;\" x=\"131.985766\" xlink:href=\"#mc7b71c7428\" y=\"139.628979\"/>\n     <use style=\"fill:#e24a33;fill-opacity:0.8;stroke:#e24a33;stroke-opacity:0.8;\" x=\"288.741835\" xlink:href=\"#mc7b71c7428\" y=\"112.527216\"/>\n     <use style=\"fill:#e24a33;fill-opacity:0.8;stroke:#e24a33;stroke-opacity:0.8;\" x=\"137.791546\" xlink:href=\"#mc7b71c7428\" y=\"95.644316\"/>\n     <use style=\"fill:#e24a33;fill-opacity:0.8;stroke:#e24a33;stroke-opacity:0.8;\" x=\"169.723338\" xlink:href=\"#mc7b71c7428\" y=\"97.041941\"/>\n     <use style=\"fill:#e24a33;fill-opacity:0.8;stroke:#e24a33;stroke-opacity:0.8;\" x=\"150.370737\" xlink:href=\"#mc7b71c7428\" y=\"130.382376\"/>\n     <use style=\"fill:#e24a33;fill-opacity:0.8;stroke:#e24a33;stroke-opacity:0.8;\" x=\"232.619292\" xlink:href=\"#mc7b71c7428\" y=\"86.083754\"/>\n     <use style=\"fill:#e24a33;fill-opacity:0.8;stroke:#e24a33;stroke-opacity:0.8;\" x=\"67.154552\" xlink:href=\"#mc7b71c7428\" y=\"192.596925\"/>\n     <use style=\"fill:#e24a33;fill-opacity:0.8;stroke:#e24a33;stroke-opacity:0.8;\" x=\"92.312934\" xlink:href=\"#mc7b71c7428\" y=\"93.375708\"/>\n     <use style=\"fill:#e24a33;fill-opacity:0.8;stroke:#e24a33;stroke-opacity:0.8;\" x=\"58.445882\" xlink:href=\"#mc7b71c7428\" y=\"165.272352\"/>\n     <use style=\"fill:#e24a33;fill-opacity:0.8;stroke:#e24a33;stroke-opacity:0.8;\" x=\"91.345303\" xlink:href=\"#mc7b71c7428\" y=\"110.754866\"/>\n     <use style=\"fill:#e24a33;fill-opacity:0.8;stroke:#e24a33;stroke-opacity:0.8;\" x=\"195.84935\" xlink:href=\"#mc7b71c7428\" y=\"82.326372\"/>\n     <use style=\"fill:#e24a33;fill-opacity:0.8;stroke:#e24a33;stroke-opacity:0.8;\" x=\"207.46091\" xlink:href=\"#mc7b71c7428\" y=\"77.454941\"/>\n     <use style=\"fill:#e24a33;fill-opacity:0.8;stroke:#e24a33;stroke-opacity:0.8;\" x=\"135.856286\" xlink:href=\"#mc7b71c7428\" y=\"37.916345\"/>\n     <use style=\"fill:#e24a33;fill-opacity:0.8;stroke:#e24a33;stroke-opacity:0.8;\" x=\"368.0875\" xlink:href=\"#mc7b71c7428\" y=\"122.928378\"/>\n     <use style=\"fill:#e24a33;fill-opacity:0.8;stroke:#e24a33;stroke-opacity:0.8;\" x=\"227.781142\" xlink:href=\"#mc7b71c7428\" y=\"108.111532\"/>\n     <use style=\"fill:#e24a33;fill-opacity:0.8;stroke:#e24a33;stroke-opacity:0.8;\" x=\"197.78461\" xlink:href=\"#mc7b71c7428\" y=\"122.87774\"/>\n     <use style=\"fill:#e24a33;fill-opacity:0.8;stroke:#e24a33;stroke-opacity:0.8;\" x=\"150.370737\" xlink:href=\"#mc7b71c7428\" y=\"76.006678\"/>\n     <use style=\"fill:#e24a33;fill-opacity:0.8;stroke:#e24a33;stroke-opacity:0.8;\" x=\"60.381142\" xlink:href=\"#mc7b71c7428\" y=\"186.024038\"/>\n     <use style=\"fill:#e24a33;fill-opacity:0.8;stroke:#e24a33;stroke-opacity:0.8;\" x=\"121.341835\" xlink:href=\"#mc7b71c7428\" y=\"129.886118\"/>\n     <use style=\"fill:#e24a33;fill-opacity:0.8;stroke:#e24a33;stroke-opacity:0.8;\" x=\"147.467847\" xlink:href=\"#mc7b71c7428\" y=\"121.429477\"/>\n     <use style=\"fill:#e24a33;fill-opacity:0.8;stroke:#e24a33;stroke-opacity:0.8;\" x=\"162.949928\" xlink:href=\"#mc7b71c7428\" y=\"73.798836\"/>\n     <use style=\"fill:#e24a33;fill-opacity:0.8;stroke:#e24a33;stroke-opacity:0.8;\" x=\"193.91409\" xlink:href=\"#mc7b71c7428\" y=\"83.845529\"/>\n     <use style=\"fill:#e24a33;fill-opacity:0.8;stroke:#e24a33;stroke-opacity:0.8;\" x=\"218.104841\" xlink:href=\"#mc7b71c7428\" y=\"100.272681\"/>\n     <use style=\"fill:#e24a33;fill-opacity:0.8;stroke:#e24a33;stroke-opacity:0.8;\" x=\"162.949928\" xlink:href=\"#mc7b71c7428\" y=\"118.411418\"/>\n     <use style=\"fill:#e24a33;fill-opacity:0.8;stroke:#e24a33;stroke-opacity:0.8;\" x=\"112.633165\" xlink:href=\"#mc7b71c7428\" y=\"117.884777\"/>\n     <use style=\"fill:#e24a33;fill-opacity:0.8;stroke:#e24a33;stroke-opacity:0.8;\" x=\"101.989234\" xlink:href=\"#mc7b71c7428\" y=\"139.436553\"/>\n     <use style=\"fill:#e24a33;fill-opacity:0.8;stroke:#e24a33;stroke-opacity:0.8;\" x=\"110.697905\" xlink:href=\"#mc7b71c7428\" y=\"134.413206\"/>\n     <use style=\"fill:#e24a33;fill-opacity:0.8;stroke:#e24a33;stroke-opacity:0.8;\" x=\"81.669003\" xlink:href=\"#mc7b71c7428\" y=\"197.144269\"/>\n     <use style=\"fill:#e24a33;fill-opacity:0.8;stroke:#e24a33;stroke-opacity:0.8;\" x=\"155.208887\" xlink:href=\"#mc7b71c7428\" y=\"83.420165\"/>\n     <use style=\"fill:#e24a33;fill-opacity:0.8;stroke:#e24a33;stroke-opacity:0.8;\" x=\"243.263223\" xlink:href=\"#mc7b71c7428\" y=\"91.248888\"/>\n     <use style=\"fill:#e24a33;fill-opacity:0.8;stroke:#e24a33;stroke-opacity:0.8;\" x=\"47.801951\" xlink:href=\"#mc7b71c7428\" y=\"95.117675\"/>\n     <use style=\"fill:#e24a33;fill-opacity:0.8;stroke:#e24a33;stroke-opacity:0.8;\" x=\"182.302529\" xlink:href=\"#mc7b71c7428\" y=\"91.68438\"/>\n     <use style=\"fill:#e24a33;fill-opacity:0.8;stroke:#e24a33;stroke-opacity:0.8;\" x=\"170.690968\" xlink:href=\"#mc7b71c7428\" y=\"101.548773\"/>\n     <use style=\"fill:#e24a33;fill-opacity:0.8;stroke:#e24a33;stroke-opacity:0.8;\" x=\"135.856286\" xlink:href=\"#mc7b71c7428\" y=\"114.593269\"/>\n     <use style=\"fill:#e24a33;fill-opacity:0.8;stroke:#e24a33;stroke-opacity:0.8;\" x=\"85.539523\" xlink:href=\"#mc7b71c7428\" y=\"94.449246\"/>\n     <use style=\"fill:#e24a33;fill-opacity:0.8;stroke:#e24a33;stroke-opacity:0.8;\" x=\"70.057442\" xlink:href=\"#mc7b71c7428\" y=\"184.221305\"/>\n     <use style=\"fill:#e24a33;fill-opacity:0.8;stroke:#e24a33;stroke-opacity:0.8;\" x=\"75.863223\" xlink:href=\"#mc7b71c7428\" y=\"177.314204\"/>\n     <use style=\"fill:#e24a33;fill-opacity:0.8;stroke:#e24a33;stroke-opacity:0.8;\" x=\"266.486344\" xlink:href=\"#mc7b71c7428\" y=\"79.672911\"/>\n     <use style=\"fill:#e24a33;fill-opacity:0.8;stroke:#e24a33;stroke-opacity:0.8;\" x=\"185.205419\" xlink:href=\"#mc7b71c7428\" y=\"78.457585\"/>\n     <use style=\"fill:#e24a33;fill-opacity:0.8;stroke:#e24a33;stroke-opacity:0.8;\" x=\"121.341835\" xlink:href=\"#mc7b71c7428\" y=\"91.147611\"/>\n     <use style=\"fill:#e24a33;fill-opacity:0.8;stroke:#e24a33;stroke-opacity:0.8;\" x=\"90.377673\" xlink:href=\"#mc7b71c7428\" y=\"188.221752\"/>\n     <use style=\"fill:#e24a33;fill-opacity:0.8;stroke:#e24a33;stroke-opacity:0.8;\" x=\"124.244725\" xlink:href=\"#mc7b71c7428\" y=\"85.628007\"/>\n     <use style=\"fill:#e24a33;fill-opacity:0.8;stroke:#e24a33;stroke-opacity:0.8;\" x=\"100.053974\" xlink:href=\"#mc7b71c7428\" y=\"54.232092\"/>\n     <use style=\"fill:#e24a33;fill-opacity:0.8;stroke:#e24a33;stroke-opacity:0.8;\" x=\"91.345303\" xlink:href=\"#mc7b71c7428\" y=\"194.03506\"/>\n     <use style=\"fill:#e24a33;fill-opacity:0.8;stroke:#e24a33;stroke-opacity:0.8;\" x=\"61.348772\" xlink:href=\"#mc7b71c7428\" y=\"198.359594\"/>\n     <use style=\"fill:#e24a33;fill-opacity:0.8;stroke:#e24a33;stroke-opacity:0.8;\" x=\"181.334899\" xlink:href=\"#mc7b71c7428\" y=\"94.915121\"/>\n     <use style=\"fill:#e24a33;fill-opacity:0.8;stroke:#e24a33;stroke-opacity:0.8;\" x=\"71.992702\" xlink:href=\"#mc7b71c7428\" y=\"147.903322\"/>\n     <use style=\"fill:#e24a33;fill-opacity:0.8;stroke:#e24a33;stroke-opacity:0.8;\" x=\"260.680564\" xlink:href=\"#mc7b71c7428\" y=\"42.716881\"/>\n     <use style=\"fill:#e24a33;fill-opacity:0.8;stroke:#e24a33;stroke-opacity:0.8;\" x=\"334.220448\" xlink:href=\"#mc7b71c7428\" y=\"44.296805\"/>\n     <use style=\"fill:#e24a33;fill-opacity:0.8;stroke:#e24a33;stroke-opacity:0.8;\" x=\"303.256286\" xlink:href=\"#mc7b71c7428\" y=\"97.821775\"/>\n     <use style=\"fill:#e24a33;fill-opacity:0.8;stroke:#e24a33;stroke-opacity:0.8;\" x=\"100.053974\" xlink:href=\"#mc7b71c7428\" y=\"160.643986\"/>\n     <use style=\"fill:#e24a33;fill-opacity:0.8;stroke:#e24a33;stroke-opacity:0.8;\" x=\"83.604263\" xlink:href=\"#mc7b71c7428\" y=\"206.157934\"/>\n     <use style=\"fill:#e24a33;fill-opacity:0.8;stroke:#e24a33;stroke-opacity:0.8;\" x=\"155.208887\" xlink:href=\"#mc7b71c7428\" y=\"127.303551\"/>\n     <use style=\"fill:#e24a33;fill-opacity:0.8;stroke:#e24a33;stroke-opacity:0.8;\" x=\"105.859754\" xlink:href=\"#mc7b71c7428\" y=\"110.147203\"/>\n     <use style=\"fill:#e24a33;fill-opacity:0.8;stroke:#e24a33;stroke-opacity:0.8;\" x=\"83.604263\" xlink:href=\"#mc7b71c7428\" y=\"165.950909\"/>\n     <use style=\"fill:#e24a33;fill-opacity:0.8;stroke:#e24a33;stroke-opacity:0.8;\" x=\"110.697905\" xlink:href=\"#mc7b71c7428\" y=\"121.257305\"/>\n     <use style=\"fill:#e24a33;fill-opacity:0.8;stroke:#e24a33;stroke-opacity:0.8;\" x=\"172.626228\" xlink:href=\"#mc7b71c7428\" y=\"103.949042\"/>\n     <use style=\"fill:#e24a33;fill-opacity:0.8;stroke:#e24a33;stroke-opacity:0.8;\" x=\"334.220448\" xlink:href=\"#mc7b71c7428\" y=\"56.125975\"/>\n     <use style=\"fill:#e24a33;fill-opacity:0.8;stroke:#e24a33;stroke-opacity:0.8;\" x=\"101.021604\" xlink:href=\"#mc7b71c7428\" y=\"176.159645\"/>\n     <use style=\"fill:#e24a33;fill-opacity:0.8;stroke:#e24a33;stroke-opacity:0.8;\" x=\"92.312934\" xlink:href=\"#mc7b71c7428\" y=\"176.828074\"/>\n     <use style=\"fill:#e24a33;fill-opacity:0.8;stroke:#e24a33;stroke-opacity:0.8;\" x=\"89.410043\" xlink:href=\"#mc7b71c7428\" y=\"149.300946\"/>\n     <use style=\"fill:#e24a33;fill-opacity:0.8;stroke:#e24a33;stroke-opacity:0.8;\" x=\"99.086344\" xlink:href=\"#mc7b71c7428\" y=\"123.71834\"/>\n     <use style=\"fill:#e24a33;fill-opacity:0.8;stroke:#e24a33;stroke-opacity:0.8;\" x=\"195.84935\" xlink:href=\"#mc7b71c7428\" y=\"35.293267\"/>\n     <use style=\"fill:#e24a33;fill-opacity:0.8;stroke:#e24a33;stroke-opacity:0.8;\" x=\"76.830853\" xlink:href=\"#mc7b71c7428\" y=\"189.710526\"/>\n     <use style=\"fill:#e24a33;fill-opacity:0.8;stroke:#e24a33;stroke-opacity:0.8;\" x=\"126.179986\" xlink:href=\"#mc7b71c7428\" y=\"109.18507\"/>\n     <use style=\"fill:#e24a33;fill-opacity:0.8;stroke:#e24a33;stroke-opacity:0.8;\" x=\"68.122182\" xlink:href=\"#mc7b71c7428\" y=\"123.556297\"/>\n     <use style=\"fill:#e24a33;fill-opacity:0.8;stroke:#e24a33;stroke-opacity:0.8;\" x=\"295.515246\" xlink:href=\"#mc7b71c7428\" y=\"65.494111\"/>\n     <use style=\"fill:#e24a33;fill-opacity:0.8;stroke:#e24a33;stroke-opacity:0.8;\" x=\"98.118714\" xlink:href=\"#mc7b71c7428\" y=\"167.662492\"/>\n     <use style=\"fill:#e24a33;fill-opacity:0.8;stroke:#e24a33;stroke-opacity:0.8;\" x=\"209.396171\" xlink:href=\"#mc7b71c7428\" y=\"159.864152\"/>\n     <use style=\"fill:#e24a33;fill-opacity:0.8;stroke:#e24a33;stroke-opacity:0.8;\" x=\"103.924494\" xlink:href=\"#mc7b71c7428\" y=\"149.513628\"/>\n     <use style=\"fill:#e24a33;fill-opacity:0.8;stroke:#e24a33;stroke-opacity:0.8;\" x=\"285.838945\" xlink:href=\"#mc7b71c7428\" y=\"78.437329\"/>\n     <use style=\"fill:#e24a33;fill-opacity:0.8;stroke:#e24a33;stroke-opacity:0.8;\" x=\"131.018136\" xlink:href=\"#mc7b71c7428\" y=\"167.247256\"/>\n     <use style=\"fill:#e24a33;fill-opacity:0.8;stroke:#e24a33;stroke-opacity:0.8;\" x=\"104.892124\" xlink:href=\"#mc7b71c7428\" y=\"101.285453\"/>\n     <use style=\"fill:#e24a33;fill-opacity:0.8;stroke:#e24a33;stroke-opacity:0.8;\" x=\"179.399639\" xlink:href=\"#mc7b71c7428\" y=\"97.953435\"/>\n     <use style=\"fill:#e24a33;fill-opacity:0.8;stroke:#e24a33;stroke-opacity:0.8;\" x=\"190.043569\" xlink:href=\"#mc7b71c7428\" y=\"115.92\"/>\n     <use style=\"fill:#e24a33;fill-opacity:0.8;stroke:#e24a33;stroke-opacity:0.8;\" x=\"319.705997\" xlink:href=\"#mc7b71c7428\" y=\"39.759589\"/>\n     <use style=\"fill:#e24a33;fill-opacity:0.8;stroke:#e24a33;stroke-opacity:0.8;\" x=\"78.766113\" xlink:href=\"#mc7b71c7428\" y=\"85.719156\"/>\n     <use style=\"fill:#e24a33;fill-opacity:0.8;stroke:#e24a33;stroke-opacity:0.8;\" x=\"181.334899\" xlink:href=\"#mc7b71c7428\" y=\"80.493255\"/>\n     <use style=\"fill:#e24a33;fill-opacity:0.8;stroke:#e24a33;stroke-opacity:0.8;\" x=\"131.018136\" xlink:href=\"#mc7b71c7428\" y=\"97.598965\"/>\n     <use style=\"fill:#e24a33;fill-opacity:0.8;stroke:#e24a33;stroke-opacity:0.8;\" x=\"184.237789\" xlink:href=\"#mc7b71c7428\" y=\"80.331212\"/>\n     <use style=\"fill:#e24a33;fill-opacity:0.8;stroke:#e24a33;stroke-opacity:0.8;\" x=\"93.280564\" xlink:href=\"#mc7b71c7428\" y=\"176.149517\"/>\n     <use style=\"fill:#e24a33;fill-opacity:0.8;stroke:#e24a33;stroke-opacity:0.8;\" x=\"95.215824\" xlink:href=\"#mc7b71c7428\" y=\"132.71175\"/>\n     <use style=\"fill:#e24a33;fill-opacity:0.8;stroke:#e24a33;stroke-opacity:0.8;\" x=\"222.942991\" xlink:href=\"#mc7b71c7428\" y=\"70.851671\"/>\n     <use style=\"fill:#e24a33;fill-opacity:0.8;stroke:#e24a33;stroke-opacity:0.8;\" x=\"287.774205\" xlink:href=\"#mc7b71c7428\" y=\"37.673279\"/>\n     <use style=\"fill:#e24a33;fill-opacity:0.8;stroke:#e24a33;stroke-opacity:0.8;\" x=\"193.91409\" xlink:href=\"#mc7b71c7428\" y=\"71.277035\"/>\n     <use style=\"fill:#e24a33;fill-opacity:0.8;stroke:#e24a33;stroke-opacity:0.8;\" x=\"160.047038\" xlink:href=\"#mc7b71c7428\" y=\"62.911543\"/>\n     <use style=\"fill:#e24a33;fill-opacity:0.8;stroke:#e24a33;stroke-opacity:0.8;\" x=\"193.91409\" xlink:href=\"#mc7b71c7428\" y=\"141.978609\"/>\n     <use style=\"fill:#e24a33;fill-opacity:0.8;stroke:#e24a33;stroke-opacity:0.8;\" x=\"101.989234\" xlink:href=\"#mc7b71c7428\" y=\"185.102416\"/>\n     <use style=\"fill:#e24a33;fill-opacity:0.8;stroke:#e24a33;stroke-opacity:0.8;\" x=\"77.798483\" xlink:href=\"#mc7b71c7428\" y=\"195.523834\"/>\n     <use style=\"fill:#e24a33;fill-opacity:0.8;stroke:#e24a33;stroke-opacity:0.8;\" x=\"68.122182\" xlink:href=\"#mc7b71c7428\" y=\"182.499594\"/>\n     <use style=\"fill:#e24a33;fill-opacity:0.8;stroke:#e24a33;stroke-opacity:0.8;\" x=\"135.856286\" xlink:href=\"#mc7b71c7428\" y=\"120.04198\"/>\n     <use style=\"fill:#e24a33;fill-opacity:0.8;stroke:#e24a33;stroke-opacity:0.8;\" x=\"33.2875\" xlink:href=\"#mc7b71c7428\" y=\"99.978978\"/>\n     <use style=\"fill:#e24a33;fill-opacity:0.8;stroke:#e24a33;stroke-opacity:0.8;\" x=\"87.474783\" xlink:href=\"#mc7b71c7428\" y=\"184.666925\"/>\n     <use style=\"fill:#e24a33;fill-opacity:0.8;stroke:#e24a33;stroke-opacity:0.8;\" x=\"108.762645\" xlink:href=\"#mc7b71c7428\" y=\"170.559019\"/>\n     <use style=\"fill:#e24a33;fill-opacity:0.8;stroke:#e24a33;stroke-opacity:0.8;\" x=\"81.669003\" xlink:href=\"#mc7b71c7428\" y=\"122.118161\"/>\n     <use style=\"fill:#e24a33;fill-opacity:0.8;stroke:#e24a33;stroke-opacity:0.8;\" x=\"80.701373\" xlink:href=\"#mc7b71c7428\" y=\"142.930614\"/>\n     <use style=\"fill:#e24a33;fill-opacity:0.8;stroke:#e24a33;stroke-opacity:0.8;\" x=\"111.665535\" xlink:href=\"#mc7b71c7428\" y=\"207.818879\"/>\n     <use style=\"fill:#e24a33;fill-opacity:0.8;stroke:#e24a33;stroke-opacity:0.8;\" x=\"222.942991\" xlink:href=\"#mc7b71c7428\" y=\"167.652365\"/>\n     <use style=\"fill:#e24a33;fill-opacity:0.8;stroke:#e24a33;stroke-opacity:0.8;\" x=\"121.341835\" xlink:href=\"#mc7b71c7428\" y=\"148.409707\"/>\n     <use style=\"fill:#e24a33;fill-opacity:0.8;stroke:#e24a33;stroke-opacity:0.8;\" x=\"88.442413\" xlink:href=\"#mc7b71c7428\" y=\"189.437078\"/>\n     <use style=\"fill:#e24a33;fill-opacity:0.8;stroke:#e24a33;stroke-opacity:0.8;\" x=\"249.069003\" xlink:href=\"#mc7b71c7428\" y=\"68.856512\"/>\n     <use style=\"fill:#e24a33;fill-opacity:0.8;stroke:#e24a33;stroke-opacity:0.8;\" x=\"77.798483\" xlink:href=\"#mc7b71c7428\" y=\"75.956039\"/>\n     <use style=\"fill:#e24a33;fill-opacity:0.8;stroke:#e24a33;stroke-opacity:0.8;\" x=\"73.927962\" xlink:href=\"#mc7b71c7428\" y=\"142.930614\"/>\n     <use style=\"fill:#e24a33;fill-opacity:0.8;stroke:#e24a33;stroke-opacity:0.8;\" x=\"67.154552\" xlink:href=\"#mc7b71c7428\" y=\"188.181241\"/>\n     <use style=\"fill:#e24a33;fill-opacity:0.8;stroke:#e24a33;stroke-opacity:0.8;\" x=\"121.341835\" xlink:href=\"#mc7b71c7428\" y=\"102.642567\"/>\n     <use style=\"fill:#e24a33;fill-opacity:0.8;stroke:#e24a33;stroke-opacity:0.8;\" x=\"54.575361\" xlink:href=\"#mc7b71c7428\" y=\"186.378508\"/>\n     <use style=\"fill:#e24a33;fill-opacity:0.8;stroke:#e24a33;stroke-opacity:0.8;\" x=\"116.503685\" xlink:href=\"#mc7b71c7428\" y=\"142.444484\"/>\n     <use style=\"fill:#e24a33;fill-opacity:0.8;stroke:#e24a33;stroke-opacity:0.8;\" x=\"155.208887\" xlink:href=\"#mc7b71c7428\" y=\"39.202564\"/>\n     <use style=\"fill:#e24a33;fill-opacity:0.8;stroke:#e24a33;stroke-opacity:0.8;\" x=\"204.55802\" xlink:href=\"#mc7b71c7428\" y=\"110.288991\"/>\n     <use style=\"fill:#e24a33;fill-opacity:0.8;stroke:#e24a33;stroke-opacity:0.8;\" x=\"126.179986\" xlink:href=\"#mc7b71c7428\" y=\"142.971125\"/>\n     <use style=\"fill:#e24a33;fill-opacity:0.8;stroke:#e24a33;stroke-opacity:0.8;\" x=\"92.312934\" xlink:href=\"#mc7b71c7428\" y=\"146.991827\"/>\n     <use style=\"fill:#e24a33;fill-opacity:0.8;stroke:#e24a33;stroke-opacity:0.8;\" x=\"337.123338\" xlink:href=\"#mc7b71c7428\" y=\"70.861799\"/>\n     <use style=\"fill:#e24a33;fill-opacity:0.8;stroke:#e24a33;stroke-opacity:0.8;\" x=\"67.154552\" xlink:href=\"#mc7b71c7428\" y=\"201.549824\"/>\n     <use style=\"fill:#e24a33;fill-opacity:0.8;stroke:#e24a33;stroke-opacity:0.8;\" x=\"140.694436\" xlink:href=\"#mc7b71c7428\" y=\"188.859798\"/>\n     <use style=\"fill:#e24a33;fill-opacity:0.8;stroke:#e24a33;stroke-opacity:0.8;\" x=\"261.648194\" xlink:href=\"#mc7b71c7428\" y=\"103.908531\"/>\n     <use style=\"fill:#e24a33;fill-opacity:0.8;stroke:#e24a33;stroke-opacity:0.8;\" x=\"276.162645\" xlink:href=\"#mc7b71c7428\" y=\"32.153675\"/>\n     <use style=\"fill:#e24a33;fill-opacity:0.8;stroke:#e24a33;stroke-opacity:0.8;\" x=\"83.604263\" xlink:href=\"#mc7b71c7428\" y=\"192.222199\"/>\n     <use style=\"fill:#e24a33;fill-opacity:0.8;stroke:#e24a33;stroke-opacity:0.8;\" x=\"137.791546\" xlink:href=\"#mc7b71c7428\" y=\"95.310101\"/>\n     <use style=\"fill:#e24a33;fill-opacity:0.8;stroke:#e24a33;stroke-opacity:0.8;\" x=\"93.280564\" xlink:href=\"#mc7b71c7428\" y=\"192.667819\"/>\n     <use style=\"fill:#e24a33;fill-opacity:0.8;stroke:#e24a33;stroke-opacity:0.8;\" x=\"160.047038\" xlink:href=\"#mc7b71c7428\" y=\"68.947661\"/>\n     <use style=\"fill:#e24a33;fill-opacity:0.8;stroke:#e24a33;stroke-opacity:0.8;\" x=\"206.49328\" xlink:href=\"#mc7b71c7428\" y=\"99.735913\"/>\n     <use style=\"fill:#e24a33;fill-opacity:0.8;stroke:#e24a33;stroke-opacity:0.8;\" x=\"88.442413\" xlink:href=\"#mc7b71c7428\" y=\"149.837715\"/>\n     <use style=\"fill:#e24a33;fill-opacity:0.8;stroke:#e24a33;stroke-opacity:0.8;\" x=\"96.183454\" xlink:href=\"#mc7b71c7428\" y=\"139.122593\"/>\n     <use style=\"fill:#e24a33;fill-opacity:0.8;stroke:#e24a33;stroke-opacity:0.8;\" x=\"106.827384\" xlink:href=\"#mc7b71c7428\" y=\"66.354966\"/>\n     <use style=\"fill:#e24a33;fill-opacity:0.8;stroke:#e24a33;stroke-opacity:0.8;\" x=\"184.237789\" xlink:href=\"#mc7b71c7428\" y=\"90.276627\"/>\n     <use style=\"fill:#e24a33;fill-opacity:0.8;stroke:#e24a33;stroke-opacity:0.8;\" x=\"93.280564\" xlink:href=\"#mc7b71c7428\" y=\"181.14248\"/>\n     <use style=\"fill:#e24a33;fill-opacity:0.8;stroke:#e24a33;stroke-opacity:0.8;\" x=\"222.942991\" xlink:href=\"#mc7b71c7428\" y=\"100.32332\"/>\n     <use style=\"fill:#e24a33;fill-opacity:0.8;stroke:#e24a33;stroke-opacity:0.8;\" x=\"102.956864\" xlink:href=\"#mc7b71c7428\" y=\"169.0905\"/>\n     <use style=\"fill:#e24a33;fill-opacity:0.8;stroke:#e24a33;stroke-opacity:0.8;\" x=\"121.341835\" xlink:href=\"#mc7b71c7428\" y=\"79.126014\"/>\n     <use style=\"fill:#e24a33;fill-opacity:0.8;stroke:#e24a33;stroke-opacity:0.8;\" x=\"179.399639\" xlink:href=\"#mc7b71c7428\" y=\"93.173154\"/>\n     <use style=\"fill:#e24a33;fill-opacity:0.8;stroke:#e24a33;stroke-opacity:0.8;\" x=\"335.188078\" xlink:href=\"#mc7b71c7428\" y=\"101.720945\"/>\n     <use style=\"fill:#e24a33;fill-opacity:0.8;stroke:#e24a33;stroke-opacity:0.8;\" x=\"83.604263\" xlink:href=\"#mc7b71c7428\" y=\"208.608841\"/>\n     <use style=\"fill:#e24a33;fill-opacity:0.8;stroke:#e24a33;stroke-opacity:0.8;\" x=\"145.532587\" xlink:href=\"#mc7b71c7428\" y=\"124.994432\"/>\n     <use style=\"fill:#e24a33;fill-opacity:0.8;stroke:#e24a33;stroke-opacity:0.8;\" x=\"99.086344\" xlink:href=\"#mc7b71c7428\" y=\"179.663834\"/>\n     <use style=\"fill:#e24a33;fill-opacity:0.8;stroke:#e24a33;stroke-opacity:0.8;\" x=\"121.341835\" xlink:href=\"#mc7b71c7428\" y=\"125.966693\"/>\n     <use style=\"fill:#e24a33;fill-opacity:0.8;stroke:#e24a33;stroke-opacity:0.8;\" x=\"201.65513\" xlink:href=\"#mc7b71c7428\" y=\"134.747421\"/>\n     <use style=\"fill:#e24a33;fill-opacity:0.8;stroke:#e24a33;stroke-opacity:0.8;\" x=\"122.309465\" xlink:href=\"#mc7b71c7428\" y=\"104.040191\"/>\n     <use style=\"fill:#e24a33;fill-opacity:0.8;stroke:#e24a33;stroke-opacity:0.8;\" x=\"82.636633\" xlink:href=\"#mc7b71c7428\" y=\"188.566095\"/>\n     <use style=\"fill:#e24a33;fill-opacity:0.8;stroke:#e24a33;stroke-opacity:0.8;\" x=\"73.927962\" xlink:href=\"#mc7b71c7428\" y=\"199.129301\"/>\n     <use style=\"fill:#e24a33;fill-opacity:0.8;stroke:#e24a33;stroke-opacity:0.8;\" x=\"222.942991\" xlink:href=\"#mc7b71c7428\" y=\"70.314903\"/>\n     <use style=\"fill:#e24a33;fill-opacity:0.8;stroke:#e24a33;stroke-opacity:0.8;\" x=\"169.723338\" xlink:href=\"#mc7b71c7428\" y=\"93.861838\"/>\n     <use style=\"fill:#e24a33;fill-opacity:0.8;stroke:#e24a33;stroke-opacity:0.8;\" x=\"227.781142\" xlink:href=\"#mc7b71c7428\" y=\"114.927484\"/>\n     <use style=\"fill:#e24a33;fill-opacity:0.8;stroke:#e24a33;stroke-opacity:0.8;\" x=\"203.59039\" xlink:href=\"#mc7b71c7428\" y=\"91.188122\"/>\n     <use style=\"fill:#e24a33;fill-opacity:0.8;stroke:#e24a33;stroke-opacity:0.8;\" x=\"73.927962\" xlink:href=\"#mc7b71c7428\" y=\"187.87741\"/>\n     <use style=\"fill:#e24a33;fill-opacity:0.8;stroke:#e24a33;stroke-opacity:0.8;\" x=\"93.280564\" xlink:href=\"#mc7b71c7428\" y=\"190.125763\"/>\n     <use style=\"fill:#e24a33;fill-opacity:0.8;stroke:#e24a33;stroke-opacity:0.8;\" x=\"237.457442\" xlink:href=\"#mc7b71c7428\" y=\"35.050201\"/>\n     <use style=\"fill:#e24a33;fill-opacity:0.8;stroke:#e24a33;stroke-opacity:0.8;\" x=\"220.040101\" xlink:href=\"#mc7b71c7428\" y=\"17.083636\"/>\n     <use style=\"fill:#e24a33;fill-opacity:0.8;stroke:#e24a33;stroke-opacity:0.8;\" x=\"180.367269\" xlink:href=\"#mc7b71c7428\" y=\"89.11194\"/>\n     <use style=\"fill:#e24a33;fill-opacity:0.8;stroke:#e24a33;stroke-opacity:0.8;\" x=\"84.571893\" xlink:href=\"#mc7b71c7428\" y=\"61.675962\"/>\n     <use style=\"fill:#e24a33;fill-opacity:0.8;stroke:#e24a33;stroke-opacity:0.8;\" x=\"122.309465\" xlink:href=\"#mc7b71c7428\" y=\"193.214715\"/>\n     <use style=\"fill:#e24a33;fill-opacity:0.8;stroke:#e24a33;stroke-opacity:0.8;\" x=\"62.316402\" xlink:href=\"#mc7b71c7428\" y=\"194.136337\"/>\n     <use style=\"fill:#e24a33;fill-opacity:0.8;stroke:#e24a33;stroke-opacity:0.8;\" x=\"131.018136\" xlink:href=\"#mc7b71c7428\" y=\"180.544945\"/>\n     <use style=\"fill:#e24a33;fill-opacity:0.8;stroke:#e24a33;stroke-opacity:0.8;\" x=\"227.781142\" xlink:href=\"#mc7b71c7428\" y=\"134.403079\"/>\n     <use style=\"fill:#e24a33;fill-opacity:0.8;stroke:#e24a33;stroke-opacity:0.8;\" x=\"284.871315\" xlink:href=\"#mc7b71c7428\" y=\"48.844148\"/>\n     <use style=\"fill:#e24a33;fill-opacity:0.8;stroke:#e24a33;stroke-opacity:0.8;\" x=\"94.248194\" xlink:href=\"#mc7b71c7428\" y=\"175.389938\"/>\n     <use style=\"fill:#e24a33;fill-opacity:0.8;stroke:#e24a33;stroke-opacity:0.8;\" x=\"71.992702\" xlink:href=\"#mc7b71c7428\" y=\"161.758035\"/>\n     <use style=\"fill:#e24a33;fill-opacity:0.8;stroke:#e24a33;stroke-opacity:0.8;\" x=\"104.892124\" xlink:href=\"#mc7b71c7428\" y=\"173.637844\"/>\n     <use style=\"fill:#e24a33;fill-opacity:0.8;stroke:#e24a33;stroke-opacity:0.8;\" x=\"37.15802\" xlink:href=\"#mc7b71c7428\" y=\"146.89055\"/>\n     <use style=\"fill:#e24a33;fill-opacity:0.8;stroke:#e24a33;stroke-opacity:0.8;\" x=\"141.662066\" xlink:href=\"#mc7b71c7428\" y=\"116.416258\"/>\n     <use style=\"fill:#e24a33;fill-opacity:0.8;stroke:#e24a33;stroke-opacity:0.8;\" x=\"141.662066\" xlink:href=\"#mc7b71c7428\" y=\"85.020344\"/>\n     <use style=\"fill:#e24a33;fill-opacity:0.8;stroke:#e24a33;stroke-opacity:0.8;\" x=\"179.399639\" xlink:href=\"#mc7b71c7428\" y=\"130.220333\"/>\n     <use style=\"fill:#e24a33;fill-opacity:0.8;stroke:#e24a33;stroke-opacity:0.8;\" x=\"62.316402\" xlink:href=\"#mc7b71c7428\" y=\"121.520626\"/>\n     <use style=\"fill:#e24a33;fill-opacity:0.8;stroke:#e24a33;stroke-opacity:0.8;\" x=\"135.856286\" xlink:href=\"#mc7b71c7428\" y=\"152.602581\"/>\n     <use style=\"fill:#e24a33;fill-opacity:0.8;stroke:#e24a33;stroke-opacity:0.8;\" x=\"339.058598\" xlink:href=\"#mc7b71c7428\" y=\"73.60641\"/>\n     <use style=\"fill:#e24a33;fill-opacity:0.8;stroke:#e24a33;stroke-opacity:0.8;\" x=\"80.701373\" xlink:href=\"#mc7b71c7428\" y=\"109.478774\"/>\n     <use style=\"fill:#e24a33;fill-opacity:0.8;stroke:#e24a33;stroke-opacity:0.8;\" x=\"145.532587\" xlink:href=\"#mc7b71c7428\" y=\"106.096117\"/>\n     <use style=\"fill:#e24a33;fill-opacity:0.8;stroke:#e24a33;stroke-opacity:0.8;\" x=\"170.690968\" xlink:href=\"#mc7b71c7428\" y=\"70.709883\"/>\n     <use style=\"fill:#e24a33;fill-opacity:0.8;stroke:#e24a33;stroke-opacity:0.8;\" x=\"155.208887\" xlink:href=\"#mc7b71c7428\" y=\"99.74604\"/>\n     <use style=\"fill:#e24a33;fill-opacity:0.8;stroke:#e24a33;stroke-opacity:0.8;\" x=\"131.018136\" xlink:href=\"#mc7b71c7428\" y=\"185.588547\"/>\n     <use style=\"fill:#e24a33;fill-opacity:0.8;stroke:#e24a33;stroke-opacity:0.8;\" x=\"242.295592\" xlink:href=\"#mc7b71c7428\" y=\"114.218544\"/>\n     <use style=\"fill:#e24a33;fill-opacity:0.8;stroke:#e24a33;stroke-opacity:0.8;\" x=\"198.75224\" xlink:href=\"#mc7b71c7428\" y=\"89.628454\"/>\n     <use style=\"fill:#e24a33;fill-opacity:0.8;stroke:#e24a33;stroke-opacity:0.8;\" x=\"43.931431\" xlink:href=\"#mc7b71c7428\" y=\"180.190475\"/>\n     <use style=\"fill:#e24a33;fill-opacity:0.8;stroke:#e24a33;stroke-opacity:0.8;\" x=\"135.856286\" xlink:href=\"#mc7b71c7428\" y=\"146.130972\"/>\n     <use style=\"fill:#e24a33;fill-opacity:0.8;stroke:#e24a33;stroke-opacity:0.8;\" x=\"141.662066\" xlink:href=\"#mc7b71c7428\" y=\"43.375183\"/>\n     <use style=\"fill:#e24a33;fill-opacity:0.8;stroke:#e24a33;stroke-opacity:0.8;\" x=\"303.256286\" xlink:href=\"#mc7b71c7428\" y=\"78.943715\"/>\n     <use style=\"fill:#e24a33;fill-opacity:0.8;stroke:#e24a33;stroke-opacity:0.8;\" x=\"59.413512\" xlink:href=\"#mc7b71c7428\" y=\"183.654153\"/>\n     <use style=\"fill:#e24a33;fill-opacity:0.8;stroke:#e24a33;stroke-opacity:0.8;\" x=\"282.936055\" xlink:href=\"#mc7b71c7428\" y=\"62.364647\"/>\n     <use style=\"fill:#e24a33;fill-opacity:0.8;stroke:#e24a33;stroke-opacity:0.8;\" x=\"195.84935\" xlink:href=\"#mc7b71c7428\" y=\"167.338405\"/>\n     <use style=\"fill:#e24a33;fill-opacity:0.8;stroke:#e24a33;stroke-opacity:0.8;\" x=\"172.626228\" xlink:href=\"#mc7b71c7428\" y=\"168.776541\"/>\n     <use style=\"fill:#e24a33;fill-opacity:0.8;stroke:#e24a33;stroke-opacity:0.8;\" x=\"207.46091\" xlink:href=\"#mc7b71c7428\" y=\"72.624021\"/>\n     <use style=\"fill:#e24a33;fill-opacity:0.8;stroke:#e24a33;stroke-opacity:0.8;\" x=\"330.349928\" xlink:href=\"#mc7b71c7428\" y=\"40.701466\"/>\n     <use style=\"fill:#e24a33;fill-opacity:0.8;stroke:#e24a33;stroke-opacity:0.8;\" x=\"159.079408\" xlink:href=\"#mc7b71c7428\" y=\"92.474341\"/>\n     <use style=\"fill:#e24a33;fill-opacity:0.8;stroke:#e24a33;stroke-opacity:0.8;\" x=\"34.25513\" xlink:href=\"#mc7b71c7428\" y=\"194.349019\"/>\n     <use style=\"fill:#e24a33;fill-opacity:0.8;stroke:#e24a33;stroke-opacity:0.8;\" x=\"174.561488\" xlink:href=\"#mc7b71c7428\" y=\"115.990894\"/>\n     <use style=\"fill:#e24a33;fill-opacity:0.8;stroke:#e24a33;stroke-opacity:0.8;\" x=\"131.018136\" xlink:href=\"#mc7b71c7428\" y=\"165.150819\"/>\n     <use style=\"fill:#e24a33;fill-opacity:0.8;stroke:#e24a33;stroke-opacity:0.8;\" x=\"71.992702\" xlink:href=\"#mc7b71c7428\" y=\"170.437486\"/>\n     <use style=\"fill:#e24a33;fill-opacity:0.8;stroke:#e24a33;stroke-opacity:0.8;\" x=\"106.827384\" xlink:href=\"#mc7b71c7428\" y=\"157.311968\"/>\n     <use style=\"fill:#e24a33;fill-opacity:0.8;stroke:#e24a33;stroke-opacity:0.8;\" x=\"196.81698\" xlink:href=\"#mc7b71c7428\" y=\"105.599859\"/>\n     <use style=\"fill:#e24a33;fill-opacity:0.8;stroke:#e24a33;stroke-opacity:0.8;\" x=\"83.604263\" xlink:href=\"#mc7b71c7428\" y=\"179.268853\"/>\n     <use style=\"fill:#e24a33;fill-opacity:0.8;stroke:#e24a33;stroke-opacity:0.8;\" x=\"107.795014\" xlink:href=\"#mc7b71c7428\" y=\"102.683077\"/>\n     <use style=\"fill:#e24a33;fill-opacity:0.8;stroke:#e24a33;stroke-opacity:0.8;\" x=\"64.251662\" xlink:href=\"#mc7b71c7428\" y=\"180.180347\"/>\n     <use style=\"fill:#e24a33;fill-opacity:0.8;stroke:#e24a33;stroke-opacity:0.8;\" x=\"121.341835\" xlink:href=\"#mc7b71c7428\" y=\"157.281585\"/>\n     <use style=\"fill:#e24a33;fill-opacity:0.8;stroke:#e24a33;stroke-opacity:0.8;\" x=\"166.820448\" xlink:href=\"#mc7b71c7428\" y=\"145.857523\"/>\n     <use style=\"fill:#e24a33;fill-opacity:0.8;stroke:#e24a33;stroke-opacity:0.8;\" x=\"159.079408\" xlink:href=\"#mc7b71c7428\" y=\"115.109783\"/>\n     <use style=\"fill:#e24a33;fill-opacity:0.8;stroke:#e24a33;stroke-opacity:0.8;\" x=\"173.593858\" xlink:href=\"#mc7b71c7428\" y=\"55.477801\"/>\n     <use style=\"fill:#e24a33;fill-opacity:0.8;stroke:#e24a33;stroke-opacity:0.8;\" x=\"145.532587\" xlink:href=\"#mc7b71c7428\" y=\"126.148991\"/>\n     <use style=\"fill:#e24a33;fill-opacity:0.8;stroke:#e24a33;stroke-opacity:0.8;\" x=\"116.503685\" xlink:href=\"#mc7b71c7428\" y=\"181.962825\"/>\n     <use style=\"fill:#e24a33;fill-opacity:0.8;stroke:#e24a33;stroke-opacity:0.8;\" x=\"122.309465\" xlink:href=\"#mc7b71c7428\" y=\"133.430818\"/>\n     <use style=\"fill:#e24a33;fill-opacity:0.8;stroke:#e24a33;stroke-opacity:0.8;\" x=\"94.248194\" xlink:href=\"#mc7b71c7428\" y=\"102.399501\"/>\n     <use style=\"fill:#e24a33;fill-opacity:0.8;stroke:#e24a33;stroke-opacity:0.8;\" x=\"150.370737\" xlink:href=\"#mc7b71c7428\" y=\"141.198775\"/>\n     <use style=\"fill:#e24a33;fill-opacity:0.8;stroke:#e24a33;stroke-opacity:0.8;\" x=\"106.827384\" xlink:href=\"#mc7b71c7428\" y=\"181.182991\"/>\n     <use style=\"fill:#e24a33;fill-opacity:0.8;stroke:#e24a33;stroke-opacity:0.8;\" x=\"213.266691\" xlink:href=\"#mc7b71c7428\" y=\"87.450995\"/>\n     <use style=\"fill:#e24a33;fill-opacity:0.8;stroke:#e24a33;stroke-opacity:0.8;\" x=\"87.474783\" xlink:href=\"#mc7b71c7428\" y=\"147.11336\"/>\n     <use style=\"fill:#e24a33;fill-opacity:0.8;stroke:#e24a33;stroke-opacity:0.8;\" x=\"243.263223\" xlink:href=\"#mc7b71c7428\" y=\"53.057277\"/>\n     <use style=\"fill:#e24a33;fill-opacity:0.8;stroke:#e24a33;stroke-opacity:0.8;\" x=\"145.532587\" xlink:href=\"#mc7b71c7428\" y=\"43.597992\"/>\n     <use style=\"fill:#e24a33;fill-opacity:0.8;stroke:#e24a33;stroke-opacity:0.8;\" x=\"147.467847\" xlink:href=\"#mc7b71c7428\" y=\"129.906373\"/>\n     <use style=\"fill:#e24a33;fill-opacity:0.8;stroke:#e24a33;stroke-opacity:0.8;\" x=\"203.59039\" xlink:href=\"#mc7b71c7428\" y=\"141.138009\"/>\n     <use style=\"fill:#e24a33;fill-opacity:0.8;stroke:#e24a33;stroke-opacity:0.8;\" x=\"116.503685\" xlink:href=\"#mc7b71c7428\" y=\"85.202643\"/>\n     <use style=\"fill:#e24a33;fill-opacity:0.8;stroke:#e24a33;stroke-opacity:0.8;\" x=\"182.302529\" xlink:href=\"#mc7b71c7428\" y=\"78.133498\"/>\n     <use style=\"fill:#e24a33;fill-opacity:0.8;stroke:#e24a33;stroke-opacity:0.8;\" x=\"67.154552\" xlink:href=\"#mc7b71c7428\" y=\"178.357359\"/>\n     <use style=\"fill:#e24a33;fill-opacity:0.8;stroke:#e24a33;stroke-opacity:0.8;\" x=\"251.971893\" xlink:href=\"#mc7b71c7428\" y=\"61.574685\"/>\n     <use style=\"fill:#e24a33;fill-opacity:0.8;stroke:#e24a33;stroke-opacity:0.8;\" x=\"276.162645\" xlink:href=\"#mc7b71c7428\" y=\"182.945213\"/>\n     <use style=\"fill:#e24a33;fill-opacity:0.8;stroke:#e24a33;stroke-opacity:0.8;\" x=\"63.284032\" xlink:href=\"#mc7b71c7428\" y=\"202.552468\"/>\n     <use style=\"fill:#e24a33;fill-opacity:0.8;stroke:#e24a33;stroke-opacity:0.8;\" x=\"121.341835\" xlink:href=\"#mc7b71c7428\" y=\"147.052594\"/>\n     <use style=\"fill:#e24a33;fill-opacity:0.8;stroke:#e24a33;stroke-opacity:0.8;\" x=\"218.104841\" xlink:href=\"#mc7b71c7428\" y=\"85.354558\"/>\n     <use style=\"fill:#e24a33;fill-opacity:0.8;stroke:#e24a33;stroke-opacity:0.8;\" x=\"193.91409\" xlink:href=\"#mc7b71c7428\" y=\"118.472184\"/>\n     <use style=\"fill:#e24a33;fill-opacity:0.8;stroke:#e24a33;stroke-opacity:0.8;\" x=\"193.91409\" xlink:href=\"#mc7b71c7428\" y=\"50.727903\"/>\n     <use style=\"fill:#e24a33;fill-opacity:0.8;stroke:#e24a33;stroke-opacity:0.8;\" x=\"111.665535\" xlink:href=\"#mc7b71c7428\" y=\"75.37876\"/>\n     <use style=\"fill:#e24a33;fill-opacity:0.8;stroke:#e24a33;stroke-opacity:0.8;\" x=\"140.694436\" xlink:href=\"#mc7b71c7428\" y=\"63.772399\"/>\n     <use style=\"fill:#e24a33;fill-opacity:0.8;stroke:#e24a33;stroke-opacity:0.8;\" x=\"140.694436\" xlink:href=\"#mc7b71c7428\" y=\"109.418007\"/>\n     <use style=\"fill:#e24a33;fill-opacity:0.8;stroke:#e24a33;stroke-opacity:0.8;\" x=\"169.723338\" xlink:href=\"#mc7b71c7428\" y=\"64.957342\"/>\n     <use style=\"fill:#e24a33;fill-opacity:0.8;stroke:#e24a33;stroke-opacity:0.8;\" x=\"213.266691\" xlink:href=\"#mc7b71c7428\" y=\"93.314942\"/>\n     <use style=\"fill:#e24a33;fill-opacity:0.8;stroke:#e24a33;stroke-opacity:0.8;\" x=\"116.503685\" xlink:href=\"#mc7b71c7428\" y=\"137.41101\"/>\n     <use style=\"fill:#e24a33;fill-opacity:0.8;stroke:#e24a33;stroke-opacity:0.8;\" x=\"343.896749\" xlink:href=\"#mc7b71c7428\" y=\"88.433383\"/>\n     <use style=\"fill:#e24a33;fill-opacity:0.8;stroke:#e24a33;stroke-opacity:0.8;\" x=\"174.561488\" xlink:href=\"#mc7b71c7428\" y=\"152.957051\"/>\n     <use style=\"fill:#e24a33;fill-opacity:0.8;stroke:#e24a33;stroke-opacity:0.8;\" x=\"41.02854\" xlink:href=\"#mc7b71c7428\" y=\"115.606041\"/>\n     <use style=\"fill:#e24a33;fill-opacity:0.8;stroke:#e24a33;stroke-opacity:0.8;\" x=\"301.321026\" xlink:href=\"#mc7b71c7428\" y=\"120.831941\"/>\n     <use style=\"fill:#e24a33;fill-opacity:0.8;stroke:#e24a33;stroke-opacity:0.8;\" x=\"198.75224\" xlink:href=\"#mc7b71c7428\" y=\"43.101734\"/>\n     <use style=\"fill:#e24a33;fill-opacity:0.8;stroke:#e24a33;stroke-opacity:0.8;\" x=\"191.978829\" xlink:href=\"#mc7b71c7428\" y=\"149.341457\"/>\n     <use style=\"fill:#e24a33;fill-opacity:0.8;stroke:#e24a33;stroke-opacity:0.8;\" x=\"213.266691\" xlink:href=\"#mc7b71c7428\" y=\"131.364764\"/>\n     <use style=\"fill:#e24a33;fill-opacity:0.8;stroke:#e24a33;stroke-opacity:0.8;\" x=\"142.629697\" xlink:href=\"#mc7b71c7428\" y=\"49.917686\"/>\n     <use style=\"fill:#e24a33;fill-opacity:0.8;stroke:#e24a33;stroke-opacity:0.8;\" x=\"121.341835\" xlink:href=\"#mc7b71c7428\" y=\"89.831008\"/>\n     <use style=\"fill:#e24a33;fill-opacity:0.8;stroke:#e24a33;stroke-opacity:0.8;\" x=\"193.91409\" xlink:href=\"#mc7b71c7428\" y=\"117.570817\"/>\n     <use style=\"fill:#e24a33;fill-opacity:0.8;stroke:#e24a33;stroke-opacity:0.8;\" x=\"96.183454\" xlink:href=\"#mc7b71c7428\" y=\"105.518837\"/>\n     <use style=\"fill:#e24a33;fill-opacity:0.8;stroke:#e24a33;stroke-opacity:0.8;\" x=\"135.856286\" xlink:href=\"#mc7b71c7428\" y=\"49.360662\"/>\n     <use style=\"fill:#e24a33;fill-opacity:0.8;stroke:#e24a33;stroke-opacity:0.8;\" x=\"179.399639\" xlink:href=\"#mc7b71c7428\" y=\"176.04824\"/>\n     <use style=\"fill:#e24a33;fill-opacity:0.8;stroke:#e24a33;stroke-opacity:0.8;\" x=\"135.856286\" xlink:href=\"#mc7b71c7428\" y=\"89.425899\"/>\n     <use style=\"fill:#e24a33;fill-opacity:0.8;stroke:#e24a33;stroke-opacity:0.8;\" x=\"174.561488\" xlink:href=\"#mc7b71c7428\" y=\"163.510129\"/>\n     <use style=\"fill:#e24a33;fill-opacity:0.8;stroke:#e24a33;stroke-opacity:0.8;\" x=\"164.885188\" xlink:href=\"#mc7b71c7428\" y=\"68.734979\"/>\n     <use style=\"fill:#e24a33;fill-opacity:0.8;stroke:#e24a33;stroke-opacity:0.8;\" x=\"110.697905\" xlink:href=\"#mc7b71c7428\" y=\"179.471407\"/>\n     <use style=\"fill:#e24a33;fill-opacity:0.8;stroke:#e24a33;stroke-opacity:0.8;\" x=\"131.985766\" xlink:href=\"#mc7b71c7428\" y=\"168.73603\"/>\n     <use style=\"fill:#e24a33;fill-opacity:0.8;stroke:#e24a33;stroke-opacity:0.8;\" x=\"155.208887\" xlink:href=\"#mc7b71c7428\" y=\"48.550445\"/>\n     <use style=\"fill:#e24a33;fill-opacity:0.8;stroke:#e24a33;stroke-opacity:0.8;\" x=\"121.341835\" xlink:href=\"#mc7b71c7428\" y=\"130.392504\"/>\n     <use style=\"fill:#e24a33;fill-opacity:0.8;stroke:#e24a33;stroke-opacity:0.8;\" x=\"74.895592\" xlink:href=\"#mc7b71c7428\" y=\"178.924511\"/>\n     <use style=\"fill:#e24a33;fill-opacity:0.8;stroke:#e24a33;stroke-opacity:0.8;\" x=\"213.266691\" xlink:href=\"#mc7b71c7428\" y=\"23.646395\"/>\n     <use style=\"fill:#e24a33;fill-opacity:0.8;stroke:#e24a33;stroke-opacity:0.8;\" x=\"91.345303\" xlink:href=\"#mc7b71c7428\" y=\"111.251124\"/>\n     <use style=\"fill:#e24a33;fill-opacity:0.8;stroke:#e24a33;stroke-opacity:0.8;\" x=\"126.179986\" xlink:href=\"#mc7b71c7428\" y=\"96.576066\"/>\n     <use style=\"fill:#e24a33;fill-opacity:0.8;stroke:#e24a33;stroke-opacity:0.8;\" x=\"35.22276\" xlink:href=\"#mc7b71c7428\" y=\"190.014358\"/>\n     <use style=\"fill:#e24a33;fill-opacity:0.8;stroke:#e24a33;stroke-opacity:0.8;\" x=\"193.91409\" xlink:href=\"#mc7b71c7428\" y=\"127.364317\"/>\n     <use style=\"fill:#e24a33;fill-opacity:0.8;stroke:#e24a33;stroke-opacity:0.8;\" x=\"128.115246\" xlink:href=\"#mc7b71c7428\" y=\"150.313718\"/>\n    </g>\n   </g>\n   <g id=\"PolyCollection_1\">\n    <path clip-path=\"url(#p5915186544)\" d=\"M 33.2875 157.751976 \nL 33.2875 172.743814 \nL 36.669318 171.252018 \nL 40.051136 169.76956 \nL 43.432955 168.332826 \nL 46.814773 166.866669 \nL 50.196591 165.355917 \nL 53.578409 163.865528 \nL 56.960227 162.440593 \nL 60.342045 160.949999 \nL 63.723864 159.4901 \nL 67.105682 157.98482 \nL 70.4875 156.450592 \nL 73.869318 155.018536 \nL 77.251136 153.599411 \nL 80.632955 152.198412 \nL 84.014773 150.759816 \nL 87.396591 149.282272 \nL 90.778409 147.842553 \nL 94.160227 146.483861 \nL 97.542045 145.041383 \nL 100.923864 143.650764 \nL 104.305682 142.200414 \nL 107.6875 140.819424 \nL 111.069318 139.405501 \nL 114.451136 138.054307 \nL 117.832955 136.564586 \nL 121.214773 135.151431 \nL 124.596591 133.781365 \nL 127.978409 132.419511 \nL 131.360227 130.964812 \nL 134.742045 129.599946 \nL 138.123864 128.278668 \nL 141.505682 126.957546 \nL 144.8875 125.641855 \nL 148.269318 124.290822 \nL 151.651136 123.01131 \nL 155.032955 121.815239 \nL 158.414773 120.52722 \nL 161.796591 119.213123 \nL 165.178409 117.930439 \nL 168.560227 116.569352 \nL 171.942045 115.248657 \nL 175.323864 114.043369 \nL 178.705682 112.793004 \nL 182.0875 111.6665 \nL 185.469318 110.484218 \nL 188.851136 109.300737 \nL 192.232955 108.088183 \nL 195.614773 106.913519 \nL 198.996591 105.793159 \nL 202.378409 104.59592 \nL 205.760227 103.389632 \nL 209.142045 102.215471 \nL 212.523864 101.042668 \nL 215.905682 99.851018 \nL 219.2875 98.611813 \nL 222.669318 97.440276 \nL 226.051136 96.27081 \nL 229.432955 95.021551 \nL 232.814773 93.839163 \nL 236.196591 92.67521 \nL 239.578409 91.60325 \nL 242.960227 90.443265 \nL 246.342045 89.253922 \nL 249.723864 88.017461 \nL 253.105682 86.803101 \nL 256.4875 85.588741 \nL 259.869318 84.395374 \nL 263.251136 83.22855 \nL 266.632955 82.060992 \nL 270.014773 80.853633 \nL 273.396591 79.679935 \nL 276.778409 78.563409 \nL 280.160227 77.425789 \nL 283.542045 76.321985 \nL 286.923864 75.199329 \nL 290.305682 73.982615 \nL 293.6875 72.765901 \nL 297.069318 71.602681 \nL 300.451136 70.477913 \nL 303.832955 69.340852 \nL 307.214773 68.167944 \nL 310.596591 67.001699 \nL 313.978409 65.882309 \nL 317.360227 64.810223 \nL 320.742045 63.730985 \nL 324.123864 62.608055 \nL 327.505682 61.483277 \nL 330.8875 60.337481 \nL 334.269318 59.156659 \nL 337.651136 57.975837 \nL 341.032955 56.829579 \nL 344.414773 55.705288 \nL 347.796591 54.580996 \nL 351.178409 53.456704 \nL 354.560227 52.332412 \nL 357.942045 51.20812 \nL 361.323864 50.083828 \nL 364.705682 48.959536 \nL 368.0875 47.835244 \nL 368.0875 22.089823 \nL 368.0875 22.089823 \nL 364.705682 23.562939 \nL 361.323864 25.067797 \nL 357.942045 26.536063 \nL 354.560227 27.984245 \nL 351.178409 29.443309 \nL 347.796591 30.913383 \nL 344.414773 32.418847 \nL 341.032955 33.955631 \nL 337.651136 35.49382 \nL 334.269318 37.02025 \nL 330.8875 38.492922 \nL 327.505682 39.997305 \nL 324.123864 41.532116 \nL 320.742045 43.066928 \nL 317.360227 44.601764 \nL 313.978409 46.137896 \nL 310.596591 47.643903 \nL 307.214773 49.100979 \nL 303.832955 50.559563 \nL 300.451136 52.092204 \nL 297.069318 53.571632 \nL 293.6875 55.018872 \nL 290.305682 56.466112 \nL 286.923864 57.913352 \nL 283.542045 59.376678 \nL 280.160227 60.853941 \nL 276.778409 62.296127 \nL 273.396591 63.738313 \nL 270.014773 65.180863 \nL 266.632955 66.646936 \nL 263.251136 68.189761 \nL 259.869318 69.733688 \nL 256.4875 71.172726 \nL 253.105682 72.611296 \nL 249.723864 74.055763 \nL 246.342045 75.536445 \nL 242.960227 77.018907 \nL 239.578409 78.509747 \nL 236.196591 79.998054 \nL 232.814773 81.464641 \nL 229.432955 82.930896 \nL 226.051136 84.395263 \nL 222.669318 85.85963 \nL 219.2875 87.283679 \nL 215.905682 88.74137 \nL 212.523864 90.198973 \nL 209.142045 91.630949 \nL 205.760227 93.112759 \nL 202.378409 94.570696 \nL 198.996591 95.995275 \nL 195.614773 97.395523 \nL 192.232955 98.810169 \nL 188.851136 100.21483 \nL 185.469318 101.618503 \nL 182.0875 103.132416 \nL 178.705682 104.608315 \nL 175.323864 106.113042 \nL 171.942045 107.568454 \nL 168.560227 108.854125 \nL 165.178409 110.159218 \nL 161.796591 111.496277 \nL 158.414773 112.890528 \nL 155.032955 114.254726 \nL 151.651136 115.610447 \nL 148.269318 117.004761 \nL 144.8875 118.235002 \nL 141.505682 119.511245 \nL 138.123864 120.8276 \nL 134.742045 122.106996 \nL 131.360227 123.353203 \nL 127.978409 124.59882 \nL 124.596591 125.860938 \nL 121.214773 127.135468 \nL 117.832955 128.363135 \nL 114.451136 129.546 \nL 111.069318 130.751048 \nL 107.6875 131.962056 \nL 104.305682 133.122196 \nL 100.923864 134.282336 \nL 97.542045 135.487576 \nL 94.160227 136.708499 \nL 90.778409 137.921581 \nL 87.396591 139.134662 \nL 84.014773 140.345628 \nL 80.632955 141.386237 \nL 77.251136 142.585012 \nL 73.869318 143.612173 \nL 70.4875 144.780687 \nL 67.105682 145.950271 \nL 63.723864 147.120811 \nL 60.342045 148.323956 \nL 56.960227 149.536513 \nL 53.578409 150.74919 \nL 50.196591 151.963029 \nL 46.814773 153.108466 \nL 43.432955 154.294903 \nL 40.051136 155.460796 \nL 36.669318 156.605952 \nL 33.2875 157.751976 \nz\n\" style=\"fill:#e24a33;fill-opacity:0.15;\"/>\n   </g>\n   <g id=\"line2d_31\">\n    <path clip-path=\"url(#p5915186544)\" d=\"M 33.2875 165.277392 \nL 36.669318 163.962958 \nL 40.051136 162.648524 \nL 43.432955 161.33409 \nL 46.814773 160.019656 \nL 50.196591 158.705221 \nL 53.578409 157.390787 \nL 56.960227 156.076353 \nL 60.342045 154.761919 \nL 63.723864 153.447485 \nL 67.105682 152.13305 \nL 70.4875 150.818616 \nL 73.869318 149.504182 \nL 77.251136 148.189748 \nL 80.632955 146.875314 \nL 84.014773 145.560879 \nL 87.396591 144.246445 \nL 90.778409 142.932011 \nL 94.160227 141.617577 \nL 97.542045 140.303143 \nL 100.923864 138.988708 \nL 104.305682 137.674274 \nL 107.6875 136.35984 \nL 111.069318 135.045406 \nL 114.451136 133.730972 \nL 117.832955 132.416537 \nL 121.214773 131.102103 \nL 124.596591 129.787669 \nL 127.978409 128.473235 \nL 131.360227 127.158801 \nL 134.742045 125.844366 \nL 138.123864 124.529932 \nL 141.505682 123.215498 \nL 144.8875 121.901064 \nL 148.269318 120.58663 \nL 151.651136 119.272195 \nL 155.032955 117.957761 \nL 158.414773 116.643327 \nL 161.796591 115.328893 \nL 165.178409 114.014459 \nL 168.560227 112.700025 \nL 171.942045 111.38559 \nL 175.323864 110.071156 \nL 178.705682 108.756722 \nL 182.0875 107.442288 \nL 185.469318 106.127854 \nL 188.851136 104.813419 \nL 192.232955 103.498985 \nL 195.614773 102.184551 \nL 198.996591 100.870117 \nL 202.378409 99.555683 \nL 205.760227 98.241248 \nL 209.142045 96.926814 \nL 212.523864 95.61238 \nL 215.905682 94.297946 \nL 219.2875 92.983512 \nL 222.669318 91.669077 \nL 226.051136 90.354643 \nL 229.432955 89.040209 \nL 232.814773 87.725775 \nL 236.196591 86.411341 \nL 239.578409 85.096906 \nL 242.960227 83.782472 \nL 246.342045 82.468038 \nL 249.723864 81.153604 \nL 253.105682 79.83917 \nL 256.4875 78.524735 \nL 259.869318 77.210301 \nL 263.251136 75.895867 \nL 266.632955 74.581433 \nL 270.014773 73.266999 \nL 273.396591 71.952564 \nL 276.778409 70.63813 \nL 280.160227 69.323696 \nL 283.542045 68.009262 \nL 286.923864 66.694828 \nL 290.305682 65.380394 \nL 293.6875 64.065959 \nL 297.069318 62.751525 \nL 300.451136 61.437091 \nL 303.832955 60.122657 \nL 307.214773 58.808223 \nL 310.596591 57.493788 \nL 313.978409 56.179354 \nL 317.360227 54.86492 \nL 320.742045 53.550486 \nL 324.123864 52.236052 \nL 327.505682 50.921617 \nL 330.8875 49.607183 \nL 334.269318 48.292749 \nL 337.651136 46.978315 \nL 341.032955 45.663881 \nL 344.414773 44.349446 \nL 347.796591 43.035012 \nL 351.178409 41.720578 \nL 354.560227 40.406144 \nL 357.942045 39.09171 \nL 361.323864 37.777275 \nL 364.705682 36.462841 \nL 368.0875 35.148407 \n\" style=\"fill:none;stroke:#e24a33;stroke-linecap:square;stroke-width:2.25;\"/>\n   </g>\n   <g id=\"patch_3\">\n    <path d=\"M 33.2875 224.64 \nL 33.2875 7.2 \n\" style=\"fill:none;stroke:#ffffff;stroke-linecap:square;stroke-linejoin:miter;\"/>\n   </g>\n   <g id=\"patch_4\">\n    <path d=\"M 368.0875 224.64 \nL 368.0875 7.2 \n\" style=\"fill:none;stroke:#ffffff;stroke-linecap:square;stroke-linejoin:miter;\"/>\n   </g>\n   <g id=\"patch_5\">\n    <path d=\"M 33.2875 224.64 \nL 368.0875 224.64 \n\" style=\"fill:none;stroke:#ffffff;stroke-linecap:square;stroke-linejoin:miter;\"/>\n   </g>\n   <g id=\"patch_6\">\n    <path d=\"M 33.2875 7.2 \nL 368.0875 7.2 \n\" style=\"fill:none;stroke:#ffffff;stroke-linecap:square;stroke-linejoin:miter;\"/>\n   </g>\n  </g>\n </g>\n <defs>\n  <clipPath id=\"p5915186544\">\n   <rect height=\"217.44\" width=\"334.8\" x=\"33.2875\" y=\"7.2\"/>\n  </clipPath>\n </defs>\n</svg>\n"
          },
          "metadata": {
            "tags": []
          }
        }
      ]
    },
    {
      "cell_type": "code",
      "metadata": {
        "colab": {
          "base_uri": "https://localhost:8080/"
        },
        "id": "m-MWZ0jqjc1g",
        "outputId": "430cbd69-9fff-4ba2-8ddb-2aeb80f08e55"
      },
      "source": [
        "#r2_score를 구하기\n",
        "from sklearn.metrics import r2_score\n",
        "r2_score(y_train, y_pred)"
      ],
      "execution_count": 199,
      "outputs": [
        {
          "output_type": "execute_result",
          "data": {
            "text/plain": [
              "0.35050556486585915"
            ]
          },
          "metadata": {
            "tags": []
          },
          "execution_count": 199
        }
      ]
    },
    {
      "cell_type": "code",
      "metadata": {
        "colab": {
          "base_uri": "https://localhost:8080/",
          "height": 391
        },
        "id": "uCAkQ8W6jqHR",
        "outputId": "99d8172b-7da8-4672-e8c6-071f6a8580d0"
      },
      "source": [
        "#distplot으로 정답값과 예측값의 분포를 그리기\n",
        "sns.distplot(y_train, label='train', hist=False)\n",
        "sns.distplot(y_pred, label='predict', hist=False)"
      ],
      "execution_count": 200,
      "outputs": [
        {
          "output_type": "execute_result",
          "data": {
            "text/plain": [
              "<matplotlib.axes._subplots.AxesSubplot at 0x7fa4cbe36e50>"
            ]
          },
          "metadata": {
            "tags": []
          },
          "execution_count": 200
        },
        {
          "output_type": "display_data",
          "data": {
            "text/plain": [
              "<Figure size 432x288 with 1 Axes>"
            ],
            "image/svg+xml": "<?xml version=\"1.0\" encoding=\"utf-8\" standalone=\"no\"?>\n<!DOCTYPE svg PUBLIC \"-//W3C//DTD SVG 1.1//EN\"\n  \"http://www.w3.org/Graphics/SVG/1.1/DTD/svg11.dtd\">\n<!-- Created with matplotlib (https://matplotlib.org/) -->\n<svg height=\"264.131875pt\" version=\"1.1\" viewBox=\"0 0 400.441875 264.131875\" width=\"400.441875pt\" xmlns=\"http://www.w3.org/2000/svg\" xmlns:xlink=\"http://www.w3.org/1999/xlink\">\n <defs>\n  <style type=\"text/css\">\n*{stroke-linecap:butt;stroke-linejoin:round;}\n  </style>\n </defs>\n <g id=\"figure_1\">\n  <g id=\"patch_1\">\n   <path d=\"M 0 264.131875 \nL 400.441875 264.131875 \nL 400.441875 0 \nL 0 0 \nz\n\" style=\"fill:#ffffff;\"/>\n  </g>\n  <g id=\"axes_1\">\n   <g id=\"patch_2\">\n    <path d=\"M 58.441875 224.64 \nL 393.241875 224.64 \nL 393.241875 7.2 \nL 58.441875 7.2 \nz\n\" style=\"fill:#e5e5e5;\"/>\n   </g>\n   <g id=\"matplotlib.axis_1\">\n    <g id=\"xtick_1\">\n     <g id=\"line2d_1\">\n      <path clip-path=\"url(#p0cfc7baf5c)\" d=\"M 107.902901 224.64 \nL 107.902901 7.2 \n\" style=\"fill:none;stroke:#ffffff;stroke-linecap:square;stroke-width:0.8;\"/>\n     </g>\n     <g id=\"line2d_2\">\n      <defs>\n       <path d=\"M 0 0 \nL 0 3.5 \n\" id=\"m9dab7638a8\" style=\"stroke:#555555;stroke-width:0.8;\"/>\n      </defs>\n      <g>\n       <use style=\"fill:#555555;stroke:#555555;stroke-width:0.8;\" x=\"107.902901\" xlink:href=\"#m9dab7638a8\" y=\"224.64\"/>\n      </g>\n     </g>\n     <g id=\"text_1\">\n      <!-- 0 -->\n      <defs>\n       <path d=\"M 31.78125 66.40625 \nQ 24.171875 66.40625 20.328125 58.90625 \nQ 16.5 51.421875 16.5 36.375 \nQ 16.5 21.390625 20.328125 13.890625 \nQ 24.171875 6.390625 31.78125 6.390625 \nQ 39.453125 6.390625 43.28125 13.890625 \nQ 47.125 21.390625 47.125 36.375 \nQ 47.125 51.421875 43.28125 58.90625 \nQ 39.453125 66.40625 31.78125 66.40625 \nz\nM 31.78125 74.21875 \nQ 44.046875 74.21875 50.515625 64.515625 \nQ 56.984375 54.828125 56.984375 36.375 \nQ 56.984375 17.96875 50.515625 8.265625 \nQ 44.046875 -1.421875 31.78125 -1.421875 \nQ 19.53125 -1.421875 13.0625 8.265625 \nQ 6.59375 17.96875 6.59375 36.375 \nQ 6.59375 54.828125 13.0625 64.515625 \nQ 19.53125 74.21875 31.78125 74.21875 \nz\n\" id=\"DejaVuSans-48\"/>\n      </defs>\n      <g style=\"fill:#555555;\" transform=\"translate(104.721651 239.238437)scale(0.1 -0.1)\">\n       <use xlink:href=\"#DejaVuSans-48\"/>\n      </g>\n     </g>\n    </g>\n    <g id=\"xtick_2\">\n     <g id=\"line2d_3\">\n      <path clip-path=\"url(#p0cfc7baf5c)\" d=\"M 170.971871 224.64 \nL 170.971871 7.2 \n\" style=\"fill:none;stroke:#ffffff;stroke-linecap:square;stroke-width:0.8;\"/>\n     </g>\n     <g id=\"line2d_4\">\n      <g>\n       <use style=\"fill:#555555;stroke:#555555;stroke-width:0.8;\" x=\"170.971871\" xlink:href=\"#m9dab7638a8\" y=\"224.64\"/>\n      </g>\n     </g>\n     <g id=\"text_2\">\n      <!-- 100 -->\n      <defs>\n       <path d=\"M 12.40625 8.296875 \nL 28.515625 8.296875 \nL 28.515625 63.921875 \nL 10.984375 60.40625 \nL 10.984375 69.390625 \nL 28.421875 72.90625 \nL 38.28125 72.90625 \nL 38.28125 8.296875 \nL 54.390625 8.296875 \nL 54.390625 0 \nL 12.40625 0 \nz\n\" id=\"DejaVuSans-49\"/>\n      </defs>\n      <g style=\"fill:#555555;\" transform=\"translate(161.428121 239.238437)scale(0.1 -0.1)\">\n       <use xlink:href=\"#DejaVuSans-49\"/>\n       <use x=\"63.623047\" xlink:href=\"#DejaVuSans-48\"/>\n       <use x=\"127.246094\" xlink:href=\"#DejaVuSans-48\"/>\n      </g>\n     </g>\n    </g>\n    <g id=\"xtick_3\">\n     <g id=\"line2d_5\">\n      <path clip-path=\"url(#p0cfc7baf5c)\" d=\"M 234.040841 224.64 \nL 234.040841 7.2 \n\" style=\"fill:none;stroke:#ffffff;stroke-linecap:square;stroke-width:0.8;\"/>\n     </g>\n     <g id=\"line2d_6\">\n      <g>\n       <use style=\"fill:#555555;stroke:#555555;stroke-width:0.8;\" x=\"234.040841\" xlink:href=\"#m9dab7638a8\" y=\"224.64\"/>\n      </g>\n     </g>\n     <g id=\"text_3\">\n      <!-- 200 -->\n      <defs>\n       <path d=\"M 19.1875 8.296875 \nL 53.609375 8.296875 \nL 53.609375 0 \nL 7.328125 0 \nL 7.328125 8.296875 \nQ 12.9375 14.109375 22.625 23.890625 \nQ 32.328125 33.6875 34.8125 36.53125 \nQ 39.546875 41.84375 41.421875 45.53125 \nQ 43.3125 49.21875 43.3125 52.78125 \nQ 43.3125 58.59375 39.234375 62.25 \nQ 35.15625 65.921875 28.609375 65.921875 \nQ 23.96875 65.921875 18.8125 64.3125 \nQ 13.671875 62.703125 7.8125 59.421875 \nL 7.8125 69.390625 \nQ 13.765625 71.78125 18.9375 73 \nQ 24.125 74.21875 28.421875 74.21875 \nQ 39.75 74.21875 46.484375 68.546875 \nQ 53.21875 62.890625 53.21875 53.421875 \nQ 53.21875 48.921875 51.53125 44.890625 \nQ 49.859375 40.875 45.40625 35.40625 \nQ 44.1875 33.984375 37.640625 27.21875 \nQ 31.109375 20.453125 19.1875 8.296875 \nz\n\" id=\"DejaVuSans-50\"/>\n      </defs>\n      <g style=\"fill:#555555;\" transform=\"translate(224.497091 239.238437)scale(0.1 -0.1)\">\n       <use xlink:href=\"#DejaVuSans-50\"/>\n       <use x=\"63.623047\" xlink:href=\"#DejaVuSans-48\"/>\n       <use x=\"127.246094\" xlink:href=\"#DejaVuSans-48\"/>\n      </g>\n     </g>\n    </g>\n    <g id=\"xtick_4\">\n     <g id=\"line2d_7\">\n      <path clip-path=\"url(#p0cfc7baf5c)\" d=\"M 297.109811 224.64 \nL 297.109811 7.2 \n\" style=\"fill:none;stroke:#ffffff;stroke-linecap:square;stroke-width:0.8;\"/>\n     </g>\n     <g id=\"line2d_8\">\n      <g>\n       <use style=\"fill:#555555;stroke:#555555;stroke-width:0.8;\" x=\"297.109811\" xlink:href=\"#m9dab7638a8\" y=\"224.64\"/>\n      </g>\n     </g>\n     <g id=\"text_4\">\n      <!-- 300 -->\n      <defs>\n       <path d=\"M 40.578125 39.3125 \nQ 47.65625 37.796875 51.625 33 \nQ 55.609375 28.21875 55.609375 21.1875 \nQ 55.609375 10.40625 48.1875 4.484375 \nQ 40.765625 -1.421875 27.09375 -1.421875 \nQ 22.515625 -1.421875 17.65625 -0.515625 \nQ 12.796875 0.390625 7.625 2.203125 \nL 7.625 11.71875 \nQ 11.71875 9.328125 16.59375 8.109375 \nQ 21.484375 6.890625 26.8125 6.890625 \nQ 36.078125 6.890625 40.9375 10.546875 \nQ 45.796875 14.203125 45.796875 21.1875 \nQ 45.796875 27.640625 41.28125 31.265625 \nQ 36.765625 34.90625 28.71875 34.90625 \nL 20.21875 34.90625 \nL 20.21875 43.015625 \nL 29.109375 43.015625 \nQ 36.375 43.015625 40.234375 45.921875 \nQ 44.09375 48.828125 44.09375 54.296875 \nQ 44.09375 59.90625 40.109375 62.90625 \nQ 36.140625 65.921875 28.71875 65.921875 \nQ 24.65625 65.921875 20.015625 65.03125 \nQ 15.375 64.15625 9.8125 62.3125 \nL 9.8125 71.09375 \nQ 15.4375 72.65625 20.34375 73.4375 \nQ 25.25 74.21875 29.59375 74.21875 \nQ 40.828125 74.21875 47.359375 69.109375 \nQ 53.90625 64.015625 53.90625 55.328125 \nQ 53.90625 49.265625 50.4375 45.09375 \nQ 46.96875 40.921875 40.578125 39.3125 \nz\n\" id=\"DejaVuSans-51\"/>\n      </defs>\n      <g style=\"fill:#555555;\" transform=\"translate(287.566061 239.238437)scale(0.1 -0.1)\">\n       <use xlink:href=\"#DejaVuSans-51\"/>\n       <use x=\"63.623047\" xlink:href=\"#DejaVuSans-48\"/>\n       <use x=\"127.246094\" xlink:href=\"#DejaVuSans-48\"/>\n      </g>\n     </g>\n    </g>\n    <g id=\"xtick_5\">\n     <g id=\"line2d_9\">\n      <path clip-path=\"url(#p0cfc7baf5c)\" d=\"M 360.178782 224.64 \nL 360.178782 7.2 \n\" style=\"fill:none;stroke:#ffffff;stroke-linecap:square;stroke-width:0.8;\"/>\n     </g>\n     <g id=\"line2d_10\">\n      <g>\n       <use style=\"fill:#555555;stroke:#555555;stroke-width:0.8;\" x=\"360.178782\" xlink:href=\"#m9dab7638a8\" y=\"224.64\"/>\n      </g>\n     </g>\n     <g id=\"text_5\">\n      <!-- 400 -->\n      <defs>\n       <path d=\"M 37.796875 64.3125 \nL 12.890625 25.390625 \nL 37.796875 25.390625 \nz\nM 35.203125 72.90625 \nL 47.609375 72.90625 \nL 47.609375 25.390625 \nL 58.015625 25.390625 \nL 58.015625 17.1875 \nL 47.609375 17.1875 \nL 47.609375 0 \nL 37.796875 0 \nL 37.796875 17.1875 \nL 4.890625 17.1875 \nL 4.890625 26.703125 \nz\n\" id=\"DejaVuSans-52\"/>\n      </defs>\n      <g style=\"fill:#555555;\" transform=\"translate(350.635032 239.238437)scale(0.1 -0.1)\">\n       <use xlink:href=\"#DejaVuSans-52\"/>\n       <use x=\"63.623047\" xlink:href=\"#DejaVuSans-48\"/>\n       <use x=\"127.246094\" xlink:href=\"#DejaVuSans-48\"/>\n      </g>\n     </g>\n    </g>\n    <g id=\"text_6\">\n     <!-- Insulin -->\n     <defs>\n      <path d=\"M 9.8125 72.90625 \nL 19.671875 72.90625 \nL 19.671875 0 \nL 9.8125 0 \nz\n\" id=\"DejaVuSans-73\"/>\n      <path d=\"M 54.890625 33.015625 \nL 54.890625 0 \nL 45.90625 0 \nL 45.90625 32.71875 \nQ 45.90625 40.484375 42.875 44.328125 \nQ 39.84375 48.1875 33.796875 48.1875 \nQ 26.515625 48.1875 22.3125 43.546875 \nQ 18.109375 38.921875 18.109375 30.90625 \nL 18.109375 0 \nL 9.078125 0 \nL 9.078125 54.6875 \nL 18.109375 54.6875 \nL 18.109375 46.1875 \nQ 21.34375 51.125 25.703125 53.5625 \nQ 30.078125 56 35.796875 56 \nQ 45.21875 56 50.046875 50.171875 \nQ 54.890625 44.34375 54.890625 33.015625 \nz\n\" id=\"DejaVuSans-110\"/>\n      <path d=\"M 44.28125 53.078125 \nL 44.28125 44.578125 \nQ 40.484375 46.53125 36.375 47.5 \nQ 32.28125 48.484375 27.875 48.484375 \nQ 21.1875 48.484375 17.84375 46.4375 \nQ 14.5 44.390625 14.5 40.28125 \nQ 14.5 37.15625 16.890625 35.375 \nQ 19.28125 33.59375 26.515625 31.984375 \nL 29.59375 31.296875 \nQ 39.15625 29.25 43.1875 25.515625 \nQ 47.21875 21.78125 47.21875 15.09375 \nQ 47.21875 7.46875 41.1875 3.015625 \nQ 35.15625 -1.421875 24.609375 -1.421875 \nQ 20.21875 -1.421875 15.453125 -0.5625 \nQ 10.6875 0.296875 5.421875 2 \nL 5.421875 11.28125 \nQ 10.40625 8.6875 15.234375 7.390625 \nQ 20.0625 6.109375 24.8125 6.109375 \nQ 31.15625 6.109375 34.5625 8.28125 \nQ 37.984375 10.453125 37.984375 14.40625 \nQ 37.984375 18.0625 35.515625 20.015625 \nQ 33.0625 21.96875 24.703125 23.78125 \nL 21.578125 24.515625 \nQ 13.234375 26.265625 9.515625 29.90625 \nQ 5.8125 33.546875 5.8125 39.890625 \nQ 5.8125 47.609375 11.28125 51.796875 \nQ 16.75 56 26.8125 56 \nQ 31.78125 56 36.171875 55.265625 \nQ 40.578125 54.546875 44.28125 53.078125 \nz\n\" id=\"DejaVuSans-115\"/>\n      <path d=\"M 8.5 21.578125 \nL 8.5 54.6875 \nL 17.484375 54.6875 \nL 17.484375 21.921875 \nQ 17.484375 14.15625 20.5 10.265625 \nQ 23.53125 6.390625 29.59375 6.390625 \nQ 36.859375 6.390625 41.078125 11.03125 \nQ 45.3125 15.671875 45.3125 23.6875 \nL 45.3125 54.6875 \nL 54.296875 54.6875 \nL 54.296875 0 \nL 45.3125 0 \nL 45.3125 8.40625 \nQ 42.046875 3.421875 37.71875 1 \nQ 33.40625 -1.421875 27.6875 -1.421875 \nQ 18.265625 -1.421875 13.375 4.4375 \nQ 8.5 10.296875 8.5 21.578125 \nz\nM 31.109375 56 \nz\n\" id=\"DejaVuSans-117\"/>\n      <path d=\"M 9.421875 75.984375 \nL 18.40625 75.984375 \nL 18.40625 0 \nL 9.421875 0 \nz\n\" id=\"DejaVuSans-108\"/>\n      <path d=\"M 9.421875 54.6875 \nL 18.40625 54.6875 \nL 18.40625 0 \nL 9.421875 0 \nz\nM 9.421875 75.984375 \nL 18.40625 75.984375 \nL 18.40625 64.59375 \nL 9.421875 64.59375 \nz\n\" id=\"DejaVuSans-105\"/>\n     </defs>\n     <g style=\"fill:#555555;\" transform=\"translate(206.205 254.43625)scale(0.12 -0.12)\">\n      <use xlink:href=\"#DejaVuSans-73\"/>\n      <use x=\"29.492188\" xlink:href=\"#DejaVuSans-110\"/>\n      <use x=\"92.871094\" xlink:href=\"#DejaVuSans-115\"/>\n      <use x=\"144.970703\" xlink:href=\"#DejaVuSans-117\"/>\n      <use x=\"208.349609\" xlink:href=\"#DejaVuSans-108\"/>\n      <use x=\"236.132812\" xlink:href=\"#DejaVuSans-105\"/>\n      <use x=\"263.916016\" xlink:href=\"#DejaVuSans-110\"/>\n     </g>\n    </g>\n   </g>\n   <g id=\"matplotlib.axis_2\">\n    <g id=\"ytick_1\">\n     <g id=\"line2d_11\">\n      <path clip-path=\"url(#p0cfc7baf5c)\" d=\"M 58.441875 224.64 \nL 393.241875 224.64 \n\" style=\"fill:none;stroke:#ffffff;stroke-linecap:square;stroke-width:0.8;\"/>\n     </g>\n     <g id=\"line2d_12\">\n      <defs>\n       <path d=\"M 0 0 \nL -3.5 0 \n\" id=\"m09f325e6a8\" style=\"stroke:#555555;stroke-width:0.8;\"/>\n      </defs>\n      <g>\n       <use style=\"fill:#555555;stroke:#555555;stroke-width:0.8;\" x=\"58.441875\" xlink:href=\"#m09f325e6a8\" y=\"224.64\"/>\n      </g>\n     </g>\n     <g id=\"text_7\">\n      <!-- 0.000 -->\n      <defs>\n       <path d=\"M 10.6875 12.40625 \nL 21 12.40625 \nL 21 0 \nL 10.6875 0 \nz\n\" id=\"DejaVuSans-46\"/>\n      </defs>\n      <g style=\"fill:#555555;\" transform=\"translate(22.81375 228.439219)scale(0.1 -0.1)\">\n       <use xlink:href=\"#DejaVuSans-48\"/>\n       <use x=\"63.623047\" xlink:href=\"#DejaVuSans-46\"/>\n       <use x=\"95.410156\" xlink:href=\"#DejaVuSans-48\"/>\n       <use x=\"159.033203\" xlink:href=\"#DejaVuSans-48\"/>\n       <use x=\"222.65625\" xlink:href=\"#DejaVuSans-48\"/>\n      </g>\n     </g>\n    </g>\n    <g id=\"ytick_2\">\n     <g id=\"line2d_13\">\n      <path clip-path=\"url(#p0cfc7baf5c)\" d=\"M 58.441875 199.626908 \nL 393.241875 199.626908 \n\" style=\"fill:none;stroke:#ffffff;stroke-linecap:square;stroke-width:0.8;\"/>\n     </g>\n     <g id=\"line2d_14\">\n      <g>\n       <use style=\"fill:#555555;stroke:#555555;stroke-width:0.8;\" x=\"58.441875\" xlink:href=\"#m09f325e6a8\" y=\"199.626908\"/>\n      </g>\n     </g>\n     <g id=\"text_8\">\n      <!-- 0.001 -->\n      <g style=\"fill:#555555;\" transform=\"translate(22.81375 203.426126)scale(0.1 -0.1)\">\n       <use xlink:href=\"#DejaVuSans-48\"/>\n       <use x=\"63.623047\" xlink:href=\"#DejaVuSans-46\"/>\n       <use x=\"95.410156\" xlink:href=\"#DejaVuSans-48\"/>\n       <use x=\"159.033203\" xlink:href=\"#DejaVuSans-48\"/>\n       <use x=\"222.65625\" xlink:href=\"#DejaVuSans-49\"/>\n      </g>\n     </g>\n    </g>\n    <g id=\"ytick_3\">\n     <g id=\"line2d_15\">\n      <path clip-path=\"url(#p0cfc7baf5c)\" d=\"M 58.441875 174.613815 \nL 393.241875 174.613815 \n\" style=\"fill:none;stroke:#ffffff;stroke-linecap:square;stroke-width:0.8;\"/>\n     </g>\n     <g id=\"line2d_16\">\n      <g>\n       <use style=\"fill:#555555;stroke:#555555;stroke-width:0.8;\" x=\"58.441875\" xlink:href=\"#m09f325e6a8\" y=\"174.613815\"/>\n      </g>\n     </g>\n     <g id=\"text_9\">\n      <!-- 0.002 -->\n      <g style=\"fill:#555555;\" transform=\"translate(22.81375 178.413034)scale(0.1 -0.1)\">\n       <use xlink:href=\"#DejaVuSans-48\"/>\n       <use x=\"63.623047\" xlink:href=\"#DejaVuSans-46\"/>\n       <use x=\"95.410156\" xlink:href=\"#DejaVuSans-48\"/>\n       <use x=\"159.033203\" xlink:href=\"#DejaVuSans-48\"/>\n       <use x=\"222.65625\" xlink:href=\"#DejaVuSans-50\"/>\n      </g>\n     </g>\n    </g>\n    <g id=\"ytick_4\">\n     <g id=\"line2d_17\">\n      <path clip-path=\"url(#p0cfc7baf5c)\" d=\"M 58.441875 149.600723 \nL 393.241875 149.600723 \n\" style=\"fill:none;stroke:#ffffff;stroke-linecap:square;stroke-width:0.8;\"/>\n     </g>\n     <g id=\"line2d_18\">\n      <g>\n       <use style=\"fill:#555555;stroke:#555555;stroke-width:0.8;\" x=\"58.441875\" xlink:href=\"#m09f325e6a8\" y=\"149.600723\"/>\n      </g>\n     </g>\n     <g id=\"text_10\">\n      <!-- 0.003 -->\n      <g style=\"fill:#555555;\" transform=\"translate(22.81375 153.399942)scale(0.1 -0.1)\">\n       <use xlink:href=\"#DejaVuSans-48\"/>\n       <use x=\"63.623047\" xlink:href=\"#DejaVuSans-46\"/>\n       <use x=\"95.410156\" xlink:href=\"#DejaVuSans-48\"/>\n       <use x=\"159.033203\" xlink:href=\"#DejaVuSans-48\"/>\n       <use x=\"222.65625\" xlink:href=\"#DejaVuSans-51\"/>\n      </g>\n     </g>\n    </g>\n    <g id=\"ytick_5\">\n     <g id=\"line2d_19\">\n      <path clip-path=\"url(#p0cfc7baf5c)\" d=\"M 58.441875 124.587631 \nL 393.241875 124.587631 \n\" style=\"fill:none;stroke:#ffffff;stroke-linecap:square;stroke-width:0.8;\"/>\n     </g>\n     <g id=\"line2d_20\">\n      <g>\n       <use style=\"fill:#555555;stroke:#555555;stroke-width:0.8;\" x=\"58.441875\" xlink:href=\"#m09f325e6a8\" y=\"124.587631\"/>\n      </g>\n     </g>\n     <g id=\"text_11\">\n      <!-- 0.004 -->\n      <g style=\"fill:#555555;\" transform=\"translate(22.81375 128.386849)scale(0.1 -0.1)\">\n       <use xlink:href=\"#DejaVuSans-48\"/>\n       <use x=\"63.623047\" xlink:href=\"#DejaVuSans-46\"/>\n       <use x=\"95.410156\" xlink:href=\"#DejaVuSans-48\"/>\n       <use x=\"159.033203\" xlink:href=\"#DejaVuSans-48\"/>\n       <use x=\"222.65625\" xlink:href=\"#DejaVuSans-52\"/>\n      </g>\n     </g>\n    </g>\n    <g id=\"ytick_6\">\n     <g id=\"line2d_21\">\n      <path clip-path=\"url(#p0cfc7baf5c)\" d=\"M 58.441875 99.574538 \nL 393.241875 99.574538 \n\" style=\"fill:none;stroke:#ffffff;stroke-linecap:square;stroke-width:0.8;\"/>\n     </g>\n     <g id=\"line2d_22\">\n      <g>\n       <use style=\"fill:#555555;stroke:#555555;stroke-width:0.8;\" x=\"58.441875\" xlink:href=\"#m09f325e6a8\" y=\"99.574538\"/>\n      </g>\n     </g>\n     <g id=\"text_12\">\n      <!-- 0.005 -->\n      <defs>\n       <path d=\"M 10.796875 72.90625 \nL 49.515625 72.90625 \nL 49.515625 64.59375 \nL 19.828125 64.59375 \nL 19.828125 46.734375 \nQ 21.96875 47.46875 24.109375 47.828125 \nQ 26.265625 48.1875 28.421875 48.1875 \nQ 40.625 48.1875 47.75 41.5 \nQ 54.890625 34.8125 54.890625 23.390625 \nQ 54.890625 11.625 47.5625 5.09375 \nQ 40.234375 -1.421875 26.90625 -1.421875 \nQ 22.3125 -1.421875 17.546875 -0.640625 \nQ 12.796875 0.140625 7.71875 1.703125 \nL 7.71875 11.625 \nQ 12.109375 9.234375 16.796875 8.0625 \nQ 21.484375 6.890625 26.703125 6.890625 \nQ 35.15625 6.890625 40.078125 11.328125 \nQ 45.015625 15.765625 45.015625 23.390625 \nQ 45.015625 31 40.078125 35.4375 \nQ 35.15625 39.890625 26.703125 39.890625 \nQ 22.75 39.890625 18.8125 39.015625 \nQ 14.890625 38.140625 10.796875 36.28125 \nz\n\" id=\"DejaVuSans-53\"/>\n      </defs>\n      <g style=\"fill:#555555;\" transform=\"translate(22.81375 103.373757)scale(0.1 -0.1)\">\n       <use xlink:href=\"#DejaVuSans-48\"/>\n       <use x=\"63.623047\" xlink:href=\"#DejaVuSans-46\"/>\n       <use x=\"95.410156\" xlink:href=\"#DejaVuSans-48\"/>\n       <use x=\"159.033203\" xlink:href=\"#DejaVuSans-48\"/>\n       <use x=\"222.65625\" xlink:href=\"#DejaVuSans-53\"/>\n      </g>\n     </g>\n    </g>\n    <g id=\"ytick_7\">\n     <g id=\"line2d_23\">\n      <path clip-path=\"url(#p0cfc7baf5c)\" d=\"M 58.441875 74.561446 \nL 393.241875 74.561446 \n\" style=\"fill:none;stroke:#ffffff;stroke-linecap:square;stroke-width:0.8;\"/>\n     </g>\n     <g id=\"line2d_24\">\n      <g>\n       <use style=\"fill:#555555;stroke:#555555;stroke-width:0.8;\" x=\"58.441875\" xlink:href=\"#m09f325e6a8\" y=\"74.561446\"/>\n      </g>\n     </g>\n     <g id=\"text_13\">\n      <!-- 0.006 -->\n      <defs>\n       <path d=\"M 33.015625 40.375 \nQ 26.375 40.375 22.484375 35.828125 \nQ 18.609375 31.296875 18.609375 23.390625 \nQ 18.609375 15.53125 22.484375 10.953125 \nQ 26.375 6.390625 33.015625 6.390625 \nQ 39.65625 6.390625 43.53125 10.953125 \nQ 47.40625 15.53125 47.40625 23.390625 \nQ 47.40625 31.296875 43.53125 35.828125 \nQ 39.65625 40.375 33.015625 40.375 \nz\nM 52.59375 71.296875 \nL 52.59375 62.3125 \nQ 48.875 64.0625 45.09375 64.984375 \nQ 41.3125 65.921875 37.59375 65.921875 \nQ 27.828125 65.921875 22.671875 59.328125 \nQ 17.53125 52.734375 16.796875 39.40625 \nQ 19.671875 43.65625 24.015625 45.921875 \nQ 28.375 48.1875 33.59375 48.1875 \nQ 44.578125 48.1875 50.953125 41.515625 \nQ 57.328125 34.859375 57.328125 23.390625 \nQ 57.328125 12.15625 50.6875 5.359375 \nQ 44.046875 -1.421875 33.015625 -1.421875 \nQ 20.359375 -1.421875 13.671875 8.265625 \nQ 6.984375 17.96875 6.984375 36.375 \nQ 6.984375 53.65625 15.1875 63.9375 \nQ 23.390625 74.21875 37.203125 74.21875 \nQ 40.921875 74.21875 44.703125 73.484375 \nQ 48.484375 72.75 52.59375 71.296875 \nz\n\" id=\"DejaVuSans-54\"/>\n      </defs>\n      <g style=\"fill:#555555;\" transform=\"translate(22.81375 78.360665)scale(0.1 -0.1)\">\n       <use xlink:href=\"#DejaVuSans-48\"/>\n       <use x=\"63.623047\" xlink:href=\"#DejaVuSans-46\"/>\n       <use x=\"95.410156\" xlink:href=\"#DejaVuSans-48\"/>\n       <use x=\"159.033203\" xlink:href=\"#DejaVuSans-48\"/>\n       <use x=\"222.65625\" xlink:href=\"#DejaVuSans-54\"/>\n      </g>\n     </g>\n    </g>\n    <g id=\"ytick_8\">\n     <g id=\"line2d_25\">\n      <path clip-path=\"url(#p0cfc7baf5c)\" d=\"M 58.441875 49.548354 \nL 393.241875 49.548354 \n\" style=\"fill:none;stroke:#ffffff;stroke-linecap:square;stroke-width:0.8;\"/>\n     </g>\n     <g id=\"line2d_26\">\n      <g>\n       <use style=\"fill:#555555;stroke:#555555;stroke-width:0.8;\" x=\"58.441875\" xlink:href=\"#m09f325e6a8\" y=\"49.548354\"/>\n      </g>\n     </g>\n     <g id=\"text_14\">\n      <!-- 0.007 -->\n      <defs>\n       <path d=\"M 8.203125 72.90625 \nL 55.078125 72.90625 \nL 55.078125 68.703125 \nL 28.609375 0 \nL 18.3125 0 \nL 43.21875 64.59375 \nL 8.203125 64.59375 \nz\n\" id=\"DejaVuSans-55\"/>\n      </defs>\n      <g style=\"fill:#555555;\" transform=\"translate(22.81375 53.347572)scale(0.1 -0.1)\">\n       <use xlink:href=\"#DejaVuSans-48\"/>\n       <use x=\"63.623047\" xlink:href=\"#DejaVuSans-46\"/>\n       <use x=\"95.410156\" xlink:href=\"#DejaVuSans-48\"/>\n       <use x=\"159.033203\" xlink:href=\"#DejaVuSans-48\"/>\n       <use x=\"222.65625\" xlink:href=\"#DejaVuSans-55\"/>\n      </g>\n     </g>\n    </g>\n    <g id=\"ytick_9\">\n     <g id=\"line2d_27\">\n      <path clip-path=\"url(#p0cfc7baf5c)\" d=\"M 58.441875 24.535261 \nL 393.241875 24.535261 \n\" style=\"fill:none;stroke:#ffffff;stroke-linecap:square;stroke-width:0.8;\"/>\n     </g>\n     <g id=\"line2d_28\">\n      <g>\n       <use style=\"fill:#555555;stroke:#555555;stroke-width:0.8;\" x=\"58.441875\" xlink:href=\"#m09f325e6a8\" y=\"24.535261\"/>\n      </g>\n     </g>\n     <g id=\"text_15\">\n      <!-- 0.008 -->\n      <defs>\n       <path d=\"M 31.78125 34.625 \nQ 24.75 34.625 20.71875 30.859375 \nQ 16.703125 27.09375 16.703125 20.515625 \nQ 16.703125 13.921875 20.71875 10.15625 \nQ 24.75 6.390625 31.78125 6.390625 \nQ 38.8125 6.390625 42.859375 10.171875 \nQ 46.921875 13.96875 46.921875 20.515625 \nQ 46.921875 27.09375 42.890625 30.859375 \nQ 38.875 34.625 31.78125 34.625 \nz\nM 21.921875 38.8125 \nQ 15.578125 40.375 12.03125 44.71875 \nQ 8.5 49.078125 8.5 55.328125 \nQ 8.5 64.0625 14.71875 69.140625 \nQ 20.953125 74.21875 31.78125 74.21875 \nQ 42.671875 74.21875 48.875 69.140625 \nQ 55.078125 64.0625 55.078125 55.328125 \nQ 55.078125 49.078125 51.53125 44.71875 \nQ 48 40.375 41.703125 38.8125 \nQ 48.828125 37.15625 52.796875 32.3125 \nQ 56.78125 27.484375 56.78125 20.515625 \nQ 56.78125 9.90625 50.3125 4.234375 \nQ 43.84375 -1.421875 31.78125 -1.421875 \nQ 19.734375 -1.421875 13.25 4.234375 \nQ 6.78125 9.90625 6.78125 20.515625 \nQ 6.78125 27.484375 10.78125 32.3125 \nQ 14.796875 37.15625 21.921875 38.8125 \nz\nM 18.3125 54.390625 \nQ 18.3125 48.734375 21.84375 45.5625 \nQ 25.390625 42.390625 31.78125 42.390625 \nQ 38.140625 42.390625 41.71875 45.5625 \nQ 45.3125 48.734375 45.3125 54.390625 \nQ 45.3125 60.0625 41.71875 63.234375 \nQ 38.140625 66.40625 31.78125 66.40625 \nQ 25.390625 66.40625 21.84375 63.234375 \nQ 18.3125 60.0625 18.3125 54.390625 \nz\n\" id=\"DejaVuSans-56\"/>\n      </defs>\n      <g style=\"fill:#555555;\" transform=\"translate(22.81375 28.33448)scale(0.1 -0.1)\">\n       <use xlink:href=\"#DejaVuSans-48\"/>\n       <use x=\"63.623047\" xlink:href=\"#DejaVuSans-46\"/>\n       <use x=\"95.410156\" xlink:href=\"#DejaVuSans-48\"/>\n       <use x=\"159.033203\" xlink:href=\"#DejaVuSans-48\"/>\n       <use x=\"222.65625\" xlink:href=\"#DejaVuSans-56\"/>\n      </g>\n     </g>\n    </g>\n    <g id=\"text_16\">\n     <!-- Density -->\n     <defs>\n      <path d=\"M 19.671875 64.796875 \nL 19.671875 8.109375 \nL 31.59375 8.109375 \nQ 46.6875 8.109375 53.6875 14.9375 \nQ 60.6875 21.78125 60.6875 36.53125 \nQ 60.6875 51.171875 53.6875 57.984375 \nQ 46.6875 64.796875 31.59375 64.796875 \nz\nM 9.8125 72.90625 \nL 30.078125 72.90625 \nQ 51.265625 72.90625 61.171875 64.09375 \nQ 71.09375 55.28125 71.09375 36.53125 \nQ 71.09375 17.671875 61.125 8.828125 \nQ 51.171875 0 30.078125 0 \nL 9.8125 0 \nz\n\" id=\"DejaVuSans-68\"/>\n      <path d=\"M 56.203125 29.59375 \nL 56.203125 25.203125 \nL 14.890625 25.203125 \nQ 15.484375 15.921875 20.484375 11.0625 \nQ 25.484375 6.203125 34.421875 6.203125 \nQ 39.59375 6.203125 44.453125 7.46875 \nQ 49.3125 8.734375 54.109375 11.28125 \nL 54.109375 2.78125 \nQ 49.265625 0.734375 44.1875 -0.34375 \nQ 39.109375 -1.421875 33.890625 -1.421875 \nQ 20.796875 -1.421875 13.15625 6.1875 \nQ 5.515625 13.8125 5.515625 26.8125 \nQ 5.515625 40.234375 12.765625 48.109375 \nQ 20.015625 56 32.328125 56 \nQ 43.359375 56 49.78125 48.890625 \nQ 56.203125 41.796875 56.203125 29.59375 \nz\nM 47.21875 32.234375 \nQ 47.125 39.59375 43.09375 43.984375 \nQ 39.0625 48.390625 32.421875 48.390625 \nQ 24.90625 48.390625 20.390625 44.140625 \nQ 15.875 39.890625 15.1875 32.171875 \nz\n\" id=\"DejaVuSans-101\"/>\n      <path d=\"M 18.3125 70.21875 \nL 18.3125 54.6875 \nL 36.8125 54.6875 \nL 36.8125 47.703125 \nL 18.3125 47.703125 \nL 18.3125 18.015625 \nQ 18.3125 11.328125 20.140625 9.421875 \nQ 21.96875 7.515625 27.59375 7.515625 \nL 36.8125 7.515625 \nL 36.8125 0 \nL 27.59375 0 \nQ 17.1875 0 13.234375 3.875 \nQ 9.28125 7.765625 9.28125 18.015625 \nL 9.28125 47.703125 \nL 2.6875 47.703125 \nL 2.6875 54.6875 \nL 9.28125 54.6875 \nL 9.28125 70.21875 \nz\n\" id=\"DejaVuSans-116\"/>\n      <path d=\"M 32.171875 -5.078125 \nQ 28.375 -14.84375 24.75 -17.8125 \nQ 21.140625 -20.796875 15.09375 -20.796875 \nL 7.90625 -20.796875 \nL 7.90625 -13.28125 \nL 13.1875 -13.28125 \nQ 16.890625 -13.28125 18.9375 -11.515625 \nQ 21 -9.765625 23.484375 -3.21875 \nL 25.09375 0.875 \nL 2.984375 54.6875 \nL 12.5 54.6875 \nL 29.59375 11.921875 \nL 46.6875 54.6875 \nL 56.203125 54.6875 \nz\n\" id=\"DejaVuSans-121\"/>\n     </defs>\n     <g style=\"fill:#555555;\" transform=\"translate(16.318125 138.730312)rotate(-90)scale(0.12 -0.12)\">\n      <use xlink:href=\"#DejaVuSans-68\"/>\n      <use x=\"77.001953\" xlink:href=\"#DejaVuSans-101\"/>\n      <use x=\"138.525391\" xlink:href=\"#DejaVuSans-110\"/>\n      <use x=\"201.904297\" xlink:href=\"#DejaVuSans-115\"/>\n      <use x=\"254.003906\" xlink:href=\"#DejaVuSans-105\"/>\n      <use x=\"281.787109\" xlink:href=\"#DejaVuSans-116\"/>\n      <use x=\"320.996094\" xlink:href=\"#DejaVuSans-121\"/>\n     </g>\n    </g>\n   </g>\n   <g id=\"line2d_29\">\n    <path clip-path=\"url(#p0cfc7baf5c)\" d=\"M 73.660057 224.568343 \nL 79.777919 224.377317 \nL 84.366315 224.01274 \nL 87.425246 223.571461 \nL 90.484177 222.885248 \nL 93.543108 221.85816 \nL 95.072574 221.181741 \nL 96.602039 220.376045 \nL 98.131505 219.424576 \nL 99.66097 218.310306 \nL 101.190436 217.015921 \nL 102.719901 215.524105 \nL 104.249367 213.817856 \nL 105.778833 211.880839 \nL 107.308298 209.697767 \nL 108.837764 207.254832 \nL 110.367229 204.540164 \nL 111.896695 201.544335 \nL 113.42616 198.260893 \nL 114.955626 194.686916 \nL 118.014557 186.676686 \nL 121.073488 177.581456 \nL 124.132419 167.556145 \nL 128.720815 151.337453 \nL 134.838677 129.388699 \nL 137.897608 119.178841 \nL 140.956539 109.967813 \nL 142.486005 105.824465 \nL 144.01547 102.022398 \nL 145.544936 98.577226 \nL 147.074401 95.497129 \nL 148.603867 92.783228 \nL 150.133332 90.430221 \nL 151.662798 88.427258 \nL 153.192263 86.758968 \nL 154.721729 85.406578 \nL 156.251194 84.349046 \nL 157.78066 83.564155 \nL 159.310125 83.029503 \nL 160.839591 82.723349 \nL 162.369056 82.625301 \nL 163.898522 82.716809 \nL 165.427987 82.981487 \nL 166.957453 83.405256 \nL 168.486918 83.976333 \nL 170.016384 84.685079 \nL 173.075315 86.486136 \nL 176.134246 88.762512 \nL 179.193177 91.479312 \nL 182.252108 94.598476 \nL 185.311039 98.066458 \nL 189.899436 103.747849 \nL 199.076229 115.477239 \nL 202.13516 119.104194 \nL 205.194091 122.492988 \nL 209.782487 127.189479 \nL 217.429815 134.808619 \nL 220.488746 138.157693 \nL 223.547677 141.835649 \nL 226.606608 145.884338 \nL 229.665539 150.28846 \nL 234.253935 157.401902 \nL 243.430728 171.980428 \nL 246.489659 176.483803 \nL 249.54859 180.636085 \nL 252.607521 184.364217 \nL 255.666452 187.616165 \nL 258.725383 190.36126 \nL 261.784314 192.592469 \nL 264.843245 194.330117 \nL 267.902177 195.624956 \nL 270.961108 196.557658 \nL 274.020039 197.232434 \nL 287.785228 199.827622 \nL 292.373625 201.071729 \nL 306.138814 205.207771 \nL 310.727211 206.759104 \nL 315.315607 208.61246 \nL 319.904004 210.825232 \nL 326.021866 214.152003 \nL 332.139728 217.425394 \nL 335.198659 218.877173 \nL 338.25759 220.148671 \nL 341.316521 221.223122 \nL 344.375452 222.101877 \nL 347.434383 222.799345 \nL 352.02278 223.554864 \nL 356.611176 224.037256 \nL 362.729038 224.391724 \nL 370.376366 224.57209 \nL 378.023693 224.625297 \nL 378.023693 224.625297 \n\" style=\"fill:none;stroke:#e24a33;stroke-linecap:square;stroke-width:1.5;\"/>\n   </g>\n   <g id=\"line2d_30\">\n    <path clip-path=\"url(#p0cfc7baf5c)\" d=\"M 106.797071 224.595279 \nL 111.244966 224.425186 \nL 113.913703 224.138293 \nL 115.692861 223.789494 \nL 117.472019 223.240042 \nL 119.251177 222.401185 \nL 121.030336 221.159519 \nL 121.919915 220.345418 \nL 122.809494 219.377122 \nL 123.699073 218.234167 \nL 124.588652 216.895268 \nL 125.478231 215.338706 \nL 126.36781 213.542794 \nL 127.257389 211.486432 \nL 129.036547 206.514749 \nL 130.815705 200.292094 \nL 132.594863 192.741919 \nL 134.374021 183.866717 \nL 136.153179 173.768187 \nL 138.821917 156.823188 \nL 144.159391 121.296276 \nL 145.938549 110.759416 \nL 147.717707 101.680113 \nL 149.496865 94.429087 \nL 150.386444 91.569868 \nL 151.276023 89.245734 \nL 152.165602 87.462266 \nL 153.055181 86.214834 \nL 153.944761 85.488786 \nL 154.83434 85.259875 \nL 155.723919 85.494911 \nL 156.613498 86.152594 \nL 157.503077 87.184507 \nL 158.392656 88.536236 \nL 160.171814 91.958844 \nL 165.509288 103.356039 \nL 166.398867 104.777413 \nL 167.288446 105.924654 \nL 168.178025 106.76005 \nL 169.067604 107.253641 \nL 169.957184 107.383718 \nL 170.846763 107.137126 \nL 171.736342 106.509367 \nL 172.625921 105.504489 \nL 173.5155 104.134758 \nL 174.405079 102.420123 \nL 175.294658 100.387477 \nL 177.073816 95.50475 \nL 178.852974 89.801585 \nL 186.859186 62.737022 \nL 189.527923 55.278996 \nL 193.086239 46.330299 \nL 197.534134 35.094524 \nL 201.09245 26.07058 \nL 202.871608 22.192677 \nL 203.761188 20.58314 \nL 204.650767 19.264738 \nL 205.540346 18.289396 \nL 206.429925 17.705153 \nL 207.319504 17.554286 \nL 208.209083 17.871718 \nL 209.098662 18.683785 \nL 209.988241 20.007386 \nL 210.87782 21.849547 \nL 211.767399 24.207375 \nL 212.656978 27.068379 \nL 213.546557 30.411088 \nL 215.325715 38.416287 \nL 217.104873 47.908875 \nL 219.77361 64.075489 \nL 226.000664 103.489382 \nL 227.779822 113.569499 \nL 229.55898 122.689236 \nL 231.338138 130.763872 \nL 233.117296 137.809623 \nL 234.896454 143.93355 \nL 236.675613 149.312125 \nL 239.34435 156.456538 \nL 247.350561 176.849743 \nL 255.356773 198.16797 \nL 258.02551 204.459565 \nL 259.804668 208.210803 \nL 261.583826 211.552305 \nL 263.362984 214.456303 \nL 265.142142 216.913671 \nL 266.9213 218.934149 \nL 268.700458 220.545052 \nL 270.479617 221.788187 \nL 272.258775 222.715254 \nL 274.037933 223.382486 \nL 275.817091 223.845458 \nL 278.485828 224.265889 \nL 282.044144 224.518916 \nL 283.823302 224.574746 \nL 283.823302 224.574746 \n\" style=\"fill:none;stroke:#348abd;stroke-linecap:square;stroke-width:1.5;\"/>\n   </g>\n   <g id=\"patch_3\">\n    <path d=\"M 58.441875 224.64 \nL 58.441875 7.2 \n\" style=\"fill:none;stroke:#ffffff;stroke-linecap:square;stroke-linejoin:miter;\"/>\n   </g>\n   <g id=\"patch_4\">\n    <path d=\"M 393.241875 224.64 \nL 393.241875 7.2 \n\" style=\"fill:none;stroke:#ffffff;stroke-linecap:square;stroke-linejoin:miter;\"/>\n   </g>\n   <g id=\"patch_5\">\n    <path d=\"M 58.441875 224.64 \nL 393.241875 224.64 \n\" style=\"fill:none;stroke:#ffffff;stroke-linecap:square;stroke-linejoin:miter;\"/>\n   </g>\n   <g id=\"patch_6\">\n    <path d=\"M 58.441875 7.2 \nL 393.241875 7.2 \n\" style=\"fill:none;stroke:#ffffff;stroke-linecap:square;stroke-linejoin:miter;\"/>\n   </g>\n  </g>\n </g>\n <defs>\n  <clipPath id=\"p0cfc7baf5c\">\n   <rect height=\"217.44\" width=\"334.8\" x=\"58.441875\" y=\"7.2\"/>\n  </clipPath>\n </defs>\n</svg>\n"
          },
          "metadata": {
            "tags": []
          }
        }
      ]
    },
    {
      "cell_type": "markdown",
      "metadata": {
        "id": "ObYTNJkNklHp"
      },
      "source": [
        "###오차 구하기"
      ]
    },
    {
      "cell_type": "code",
      "metadata": {
        "colab": {
          "base_uri": "https://localhost:8080/",
          "height": 391
        },
        "id": "15fEOUStkBpY",
        "outputId": "f7ad6625-89d1-41d8-fc95-1a1ad83e03e1"
      },
      "source": [
        "#MAE\n",
        "\n",
        "error = abs(y_train - y_pred)\n",
        "error.mean()\n",
        "sns.distplot(error)"
      ],
      "execution_count": 201,
      "outputs": [
        {
          "output_type": "execute_result",
          "data": {
            "text/plain": [
              "<matplotlib.axes._subplots.AxesSubplot at 0x7fa4cbe17710>"
            ]
          },
          "metadata": {
            "tags": []
          },
          "execution_count": 201
        },
        {
          "output_type": "display_data",
          "data": {
            "text/plain": [
              "<Figure size 432x288 with 1 Axes>"
            ],
            "image/svg+xml": "<?xml version=\"1.0\" encoding=\"utf-8\" standalone=\"no\"?>\n<!DOCTYPE svg PUBLIC \"-//W3C//DTD SVG 1.1//EN\"\n  \"http://www.w3.org/Graphics/SVG/1.1/DTD/svg11.dtd\">\n<!-- Created with matplotlib (https://matplotlib.org/) -->\n<svg height=\"264.131875pt\" version=\"1.1\" viewBox=\"0 0 406.804375 264.131875\" width=\"406.804375pt\" xmlns=\"http://www.w3.org/2000/svg\" xmlns:xlink=\"http://www.w3.org/1999/xlink\">\n <defs>\n  <style type=\"text/css\">\n*{stroke-linecap:butt;stroke-linejoin:round;}\n  </style>\n </defs>\n <g id=\"figure_1\">\n  <g id=\"patch_1\">\n   <path d=\"M 0 264.131875 \nL 406.804375 264.131875 \nL 406.804375 0 \nL 0 0 \nz\n\" style=\"fill:#ffffff;\"/>\n  </g>\n  <g id=\"axes_1\">\n   <g id=\"patch_2\">\n    <path d=\"M 64.804375 224.64 \nL 399.604375 224.64 \nL 399.604375 7.2 \nL 64.804375 7.2 \nz\n\" style=\"fill:#e5e5e5;\"/>\n   </g>\n   <g id=\"matplotlib.axis_1\">\n    <g id=\"xtick_1\">\n     <g id=\"line2d_1\">\n      <path clip-path=\"url(#pd927e793bd)\" d=\"M 66.293672 224.64 \nL 66.293672 7.2 \n\" style=\"fill:none;stroke:#ffffff;stroke-linecap:square;stroke-width:0.8;\"/>\n     </g>\n     <g id=\"line2d_2\">\n      <defs>\n       <path d=\"M 0 0 \nL 0 3.5 \n\" id=\"m36d976430a\" style=\"stroke:#555555;stroke-width:0.8;\"/>\n      </defs>\n      <g>\n       <use style=\"fill:#555555;stroke:#555555;stroke-width:0.8;\" x=\"66.293672\" xlink:href=\"#m36d976430a\" y=\"224.64\"/>\n      </g>\n     </g>\n     <g id=\"text_1\">\n      <!-- −50 -->\n      <defs>\n       <path d=\"M 10.59375 35.5 \nL 73.1875 35.5 \nL 73.1875 27.203125 \nL 10.59375 27.203125 \nz\n\" id=\"DejaVuSans-8722\"/>\n       <path d=\"M 10.796875 72.90625 \nL 49.515625 72.90625 \nL 49.515625 64.59375 \nL 19.828125 64.59375 \nL 19.828125 46.734375 \nQ 21.96875 47.46875 24.109375 47.828125 \nQ 26.265625 48.1875 28.421875 48.1875 \nQ 40.625 48.1875 47.75 41.5 \nQ 54.890625 34.8125 54.890625 23.390625 \nQ 54.890625 11.625 47.5625 5.09375 \nQ 40.234375 -1.421875 26.90625 -1.421875 \nQ 22.3125 -1.421875 17.546875 -0.640625 \nQ 12.796875 0.140625 7.71875 1.703125 \nL 7.71875 11.625 \nQ 12.109375 9.234375 16.796875 8.0625 \nQ 21.484375 6.890625 26.703125 6.890625 \nQ 35.15625 6.890625 40.078125 11.328125 \nQ 45.015625 15.765625 45.015625 23.390625 \nQ 45.015625 31 40.078125 35.4375 \nQ 35.15625 39.890625 26.703125 39.890625 \nQ 22.75 39.890625 18.8125 39.015625 \nQ 14.890625 38.140625 10.796875 36.28125 \nz\n\" id=\"DejaVuSans-53\"/>\n       <path d=\"M 31.78125 66.40625 \nQ 24.171875 66.40625 20.328125 58.90625 \nQ 16.5 51.421875 16.5 36.375 \nQ 16.5 21.390625 20.328125 13.890625 \nQ 24.171875 6.390625 31.78125 6.390625 \nQ 39.453125 6.390625 43.28125 13.890625 \nQ 47.125 21.390625 47.125 36.375 \nQ 47.125 51.421875 43.28125 58.90625 \nQ 39.453125 66.40625 31.78125 66.40625 \nz\nM 31.78125 74.21875 \nQ 44.046875 74.21875 50.515625 64.515625 \nQ 56.984375 54.828125 56.984375 36.375 \nQ 56.984375 17.96875 50.515625 8.265625 \nQ 44.046875 -1.421875 31.78125 -1.421875 \nQ 19.53125 -1.421875 13.0625 8.265625 \nQ 6.59375 17.96875 6.59375 36.375 \nQ 6.59375 54.828125 13.0625 64.515625 \nQ 19.53125 74.21875 31.78125 74.21875 \nz\n\" id=\"DejaVuSans-48\"/>\n      </defs>\n      <g style=\"fill:#555555;\" transform=\"translate(55.741329 239.238437)scale(0.1 -0.1)\">\n       <use xlink:href=\"#DejaVuSans-8722\"/>\n       <use x=\"83.789062\" xlink:href=\"#DejaVuSans-53\"/>\n       <use x=\"147.412109\" xlink:href=\"#DejaVuSans-48\"/>\n      </g>\n     </g>\n    </g>\n    <g id=\"xtick_2\">\n     <g id=\"line2d_3\">\n      <path clip-path=\"url(#pd927e793bd)\" d=\"M 116.823825 224.64 \nL 116.823825 7.2 \n\" style=\"fill:none;stroke:#ffffff;stroke-linecap:square;stroke-width:0.8;\"/>\n     </g>\n     <g id=\"line2d_4\">\n      <g>\n       <use style=\"fill:#555555;stroke:#555555;stroke-width:0.8;\" x=\"116.823825\" xlink:href=\"#m36d976430a\" y=\"224.64\"/>\n      </g>\n     </g>\n     <g id=\"text_2\">\n      <!-- 0 -->\n      <g style=\"fill:#555555;\" transform=\"translate(113.642575 239.238437)scale(0.1 -0.1)\">\n       <use xlink:href=\"#DejaVuSans-48\"/>\n      </g>\n     </g>\n    </g>\n    <g id=\"xtick_3\">\n     <g id=\"line2d_5\">\n      <path clip-path=\"url(#pd927e793bd)\" d=\"M 167.353977 224.64 \nL 167.353977 7.2 \n\" style=\"fill:none;stroke:#ffffff;stroke-linecap:square;stroke-width:0.8;\"/>\n     </g>\n     <g id=\"line2d_6\">\n      <g>\n       <use style=\"fill:#555555;stroke:#555555;stroke-width:0.8;\" x=\"167.353977\" xlink:href=\"#m36d976430a\" y=\"224.64\"/>\n      </g>\n     </g>\n     <g id=\"text_3\">\n      <!-- 50 -->\n      <g style=\"fill:#555555;\" transform=\"translate(160.991477 239.238437)scale(0.1 -0.1)\">\n       <use xlink:href=\"#DejaVuSans-53\"/>\n       <use x=\"63.623047\" xlink:href=\"#DejaVuSans-48\"/>\n      </g>\n     </g>\n    </g>\n    <g id=\"xtick_4\">\n     <g id=\"line2d_7\">\n      <path clip-path=\"url(#pd927e793bd)\" d=\"M 217.88413 224.64 \nL 217.88413 7.2 \n\" style=\"fill:none;stroke:#ffffff;stroke-linecap:square;stroke-width:0.8;\"/>\n     </g>\n     <g id=\"line2d_8\">\n      <g>\n       <use style=\"fill:#555555;stroke:#555555;stroke-width:0.8;\" x=\"217.88413\" xlink:href=\"#m36d976430a\" y=\"224.64\"/>\n      </g>\n     </g>\n     <g id=\"text_4\">\n      <!-- 100 -->\n      <defs>\n       <path d=\"M 12.40625 8.296875 \nL 28.515625 8.296875 \nL 28.515625 63.921875 \nL 10.984375 60.40625 \nL 10.984375 69.390625 \nL 28.421875 72.90625 \nL 38.28125 72.90625 \nL 38.28125 8.296875 \nL 54.390625 8.296875 \nL 54.390625 0 \nL 12.40625 0 \nz\n\" id=\"DejaVuSans-49\"/>\n      </defs>\n      <g style=\"fill:#555555;\" transform=\"translate(208.34038 239.238437)scale(0.1 -0.1)\">\n       <use xlink:href=\"#DejaVuSans-49\"/>\n       <use x=\"63.623047\" xlink:href=\"#DejaVuSans-48\"/>\n       <use x=\"127.246094\" xlink:href=\"#DejaVuSans-48\"/>\n      </g>\n     </g>\n    </g>\n    <g id=\"xtick_5\">\n     <g id=\"line2d_9\">\n      <path clip-path=\"url(#pd927e793bd)\" d=\"M 268.414282 224.64 \nL 268.414282 7.2 \n\" style=\"fill:none;stroke:#ffffff;stroke-linecap:square;stroke-width:0.8;\"/>\n     </g>\n     <g id=\"line2d_10\">\n      <g>\n       <use style=\"fill:#555555;stroke:#555555;stroke-width:0.8;\" x=\"268.414282\" xlink:href=\"#m36d976430a\" y=\"224.64\"/>\n      </g>\n     </g>\n     <g id=\"text_5\">\n      <!-- 150 -->\n      <g style=\"fill:#555555;\" transform=\"translate(258.870532 239.238437)scale(0.1 -0.1)\">\n       <use xlink:href=\"#DejaVuSans-49\"/>\n       <use x=\"63.623047\" xlink:href=\"#DejaVuSans-53\"/>\n       <use x=\"127.246094\" xlink:href=\"#DejaVuSans-48\"/>\n      </g>\n     </g>\n    </g>\n    <g id=\"xtick_6\">\n     <g id=\"line2d_11\">\n      <path clip-path=\"url(#pd927e793bd)\" d=\"M 318.944435 224.64 \nL 318.944435 7.2 \n\" style=\"fill:none;stroke:#ffffff;stroke-linecap:square;stroke-width:0.8;\"/>\n     </g>\n     <g id=\"line2d_12\">\n      <g>\n       <use style=\"fill:#555555;stroke:#555555;stroke-width:0.8;\" x=\"318.944435\" xlink:href=\"#m36d976430a\" y=\"224.64\"/>\n      </g>\n     </g>\n     <g id=\"text_6\">\n      <!-- 200 -->\n      <defs>\n       <path d=\"M 19.1875 8.296875 \nL 53.609375 8.296875 \nL 53.609375 0 \nL 7.328125 0 \nL 7.328125 8.296875 \nQ 12.9375 14.109375 22.625 23.890625 \nQ 32.328125 33.6875 34.8125 36.53125 \nQ 39.546875 41.84375 41.421875 45.53125 \nQ 43.3125 49.21875 43.3125 52.78125 \nQ 43.3125 58.59375 39.234375 62.25 \nQ 35.15625 65.921875 28.609375 65.921875 \nQ 23.96875 65.921875 18.8125 64.3125 \nQ 13.671875 62.703125 7.8125 59.421875 \nL 7.8125 69.390625 \nQ 13.765625 71.78125 18.9375 73 \nQ 24.125 74.21875 28.421875 74.21875 \nQ 39.75 74.21875 46.484375 68.546875 \nQ 53.21875 62.890625 53.21875 53.421875 \nQ 53.21875 48.921875 51.53125 44.890625 \nQ 49.859375 40.875 45.40625 35.40625 \nQ 44.1875 33.984375 37.640625 27.21875 \nQ 31.109375 20.453125 19.1875 8.296875 \nz\n\" id=\"DejaVuSans-50\"/>\n      </defs>\n      <g style=\"fill:#555555;\" transform=\"translate(309.400685 239.238437)scale(0.1 -0.1)\">\n       <use xlink:href=\"#DejaVuSans-50\"/>\n       <use x=\"63.623047\" xlink:href=\"#DejaVuSans-48\"/>\n       <use x=\"127.246094\" xlink:href=\"#DejaVuSans-48\"/>\n      </g>\n     </g>\n    </g>\n    <g id=\"xtick_7\">\n     <g id=\"line2d_13\">\n      <path clip-path=\"url(#pd927e793bd)\" d=\"M 369.474587 224.64 \nL 369.474587 7.2 \n\" style=\"fill:none;stroke:#ffffff;stroke-linecap:square;stroke-width:0.8;\"/>\n     </g>\n     <g id=\"line2d_14\">\n      <g>\n       <use style=\"fill:#555555;stroke:#555555;stroke-width:0.8;\" x=\"369.474587\" xlink:href=\"#m36d976430a\" y=\"224.64\"/>\n      </g>\n     </g>\n     <g id=\"text_7\">\n      <!-- 250 -->\n      <g style=\"fill:#555555;\" transform=\"translate(359.930837 239.238437)scale(0.1 -0.1)\">\n       <use xlink:href=\"#DejaVuSans-50\"/>\n       <use x=\"63.623047\" xlink:href=\"#DejaVuSans-53\"/>\n       <use x=\"127.246094\" xlink:href=\"#DejaVuSans-48\"/>\n      </g>\n     </g>\n    </g>\n    <g id=\"text_8\">\n     <!-- Insulin -->\n     <defs>\n      <path d=\"M 9.8125 72.90625 \nL 19.671875 72.90625 \nL 19.671875 0 \nL 9.8125 0 \nz\n\" id=\"DejaVuSans-73\"/>\n      <path d=\"M 54.890625 33.015625 \nL 54.890625 0 \nL 45.90625 0 \nL 45.90625 32.71875 \nQ 45.90625 40.484375 42.875 44.328125 \nQ 39.84375 48.1875 33.796875 48.1875 \nQ 26.515625 48.1875 22.3125 43.546875 \nQ 18.109375 38.921875 18.109375 30.90625 \nL 18.109375 0 \nL 9.078125 0 \nL 9.078125 54.6875 \nL 18.109375 54.6875 \nL 18.109375 46.1875 \nQ 21.34375 51.125 25.703125 53.5625 \nQ 30.078125 56 35.796875 56 \nQ 45.21875 56 50.046875 50.171875 \nQ 54.890625 44.34375 54.890625 33.015625 \nz\n\" id=\"DejaVuSans-110\"/>\n      <path d=\"M 44.28125 53.078125 \nL 44.28125 44.578125 \nQ 40.484375 46.53125 36.375 47.5 \nQ 32.28125 48.484375 27.875 48.484375 \nQ 21.1875 48.484375 17.84375 46.4375 \nQ 14.5 44.390625 14.5 40.28125 \nQ 14.5 37.15625 16.890625 35.375 \nQ 19.28125 33.59375 26.515625 31.984375 \nL 29.59375 31.296875 \nQ 39.15625 29.25 43.1875 25.515625 \nQ 47.21875 21.78125 47.21875 15.09375 \nQ 47.21875 7.46875 41.1875 3.015625 \nQ 35.15625 -1.421875 24.609375 -1.421875 \nQ 20.21875 -1.421875 15.453125 -0.5625 \nQ 10.6875 0.296875 5.421875 2 \nL 5.421875 11.28125 \nQ 10.40625 8.6875 15.234375 7.390625 \nQ 20.0625 6.109375 24.8125 6.109375 \nQ 31.15625 6.109375 34.5625 8.28125 \nQ 37.984375 10.453125 37.984375 14.40625 \nQ 37.984375 18.0625 35.515625 20.015625 \nQ 33.0625 21.96875 24.703125 23.78125 \nL 21.578125 24.515625 \nQ 13.234375 26.265625 9.515625 29.90625 \nQ 5.8125 33.546875 5.8125 39.890625 \nQ 5.8125 47.609375 11.28125 51.796875 \nQ 16.75 56 26.8125 56 \nQ 31.78125 56 36.171875 55.265625 \nQ 40.578125 54.546875 44.28125 53.078125 \nz\n\" id=\"DejaVuSans-115\"/>\n      <path d=\"M 8.5 21.578125 \nL 8.5 54.6875 \nL 17.484375 54.6875 \nL 17.484375 21.921875 \nQ 17.484375 14.15625 20.5 10.265625 \nQ 23.53125 6.390625 29.59375 6.390625 \nQ 36.859375 6.390625 41.078125 11.03125 \nQ 45.3125 15.671875 45.3125 23.6875 \nL 45.3125 54.6875 \nL 54.296875 54.6875 \nL 54.296875 0 \nL 45.3125 0 \nL 45.3125 8.40625 \nQ 42.046875 3.421875 37.71875 1 \nQ 33.40625 -1.421875 27.6875 -1.421875 \nQ 18.265625 -1.421875 13.375 4.4375 \nQ 8.5 10.296875 8.5 21.578125 \nz\nM 31.109375 56 \nz\n\" id=\"DejaVuSans-117\"/>\n      <path d=\"M 9.421875 75.984375 \nL 18.40625 75.984375 \nL 18.40625 0 \nL 9.421875 0 \nz\n\" id=\"DejaVuSans-108\"/>\n      <path d=\"M 9.421875 54.6875 \nL 18.40625 54.6875 \nL 18.40625 0 \nL 9.421875 0 \nz\nM 9.421875 75.984375 \nL 18.40625 75.984375 \nL 18.40625 64.59375 \nL 9.421875 64.59375 \nz\n\" id=\"DejaVuSans-105\"/>\n     </defs>\n     <g style=\"fill:#555555;\" transform=\"translate(212.5675 254.43625)scale(0.12 -0.12)\">\n      <use xlink:href=\"#DejaVuSans-73\"/>\n      <use x=\"29.492188\" xlink:href=\"#DejaVuSans-110\"/>\n      <use x=\"92.871094\" xlink:href=\"#DejaVuSans-115\"/>\n      <use x=\"144.970703\" xlink:href=\"#DejaVuSans-117\"/>\n      <use x=\"208.349609\" xlink:href=\"#DejaVuSans-108\"/>\n      <use x=\"236.132812\" xlink:href=\"#DejaVuSans-105\"/>\n      <use x=\"263.916016\" xlink:href=\"#DejaVuSans-110\"/>\n     </g>\n    </g>\n   </g>\n   <g id=\"matplotlib.axis_2\">\n    <g id=\"ytick_1\">\n     <g id=\"line2d_15\">\n      <path clip-path=\"url(#pd927e793bd)\" d=\"M 64.804375 224.64 \nL 399.604375 224.64 \n\" style=\"fill:none;stroke:#ffffff;stroke-linecap:square;stroke-width:0.8;\"/>\n     </g>\n     <g id=\"line2d_16\">\n      <defs>\n       <path d=\"M 0 0 \nL -3.5 0 \n\" id=\"m07bf2a253c\" style=\"stroke:#555555;stroke-width:0.8;\"/>\n      </defs>\n      <g>\n       <use style=\"fill:#555555;stroke:#555555;stroke-width:0.8;\" x=\"64.804375\" xlink:href=\"#m07bf2a253c\" y=\"224.64\"/>\n      </g>\n     </g>\n     <g id=\"text_9\">\n      <!-- 0.0000 -->\n      <defs>\n       <path d=\"M 10.6875 12.40625 \nL 21 12.40625 \nL 21 0 \nL 10.6875 0 \nz\n\" id=\"DejaVuSans-46\"/>\n      </defs>\n      <g style=\"fill:#555555;\" transform=\"translate(22.81375 228.439219)scale(0.1 -0.1)\">\n       <use xlink:href=\"#DejaVuSans-48\"/>\n       <use x=\"63.623047\" xlink:href=\"#DejaVuSans-46\"/>\n       <use x=\"95.410156\" xlink:href=\"#DejaVuSans-48\"/>\n       <use x=\"159.033203\" xlink:href=\"#DejaVuSans-48\"/>\n       <use x=\"222.65625\" xlink:href=\"#DejaVuSans-48\"/>\n       <use x=\"286.279297\" xlink:href=\"#DejaVuSans-48\"/>\n      </g>\n     </g>\n    </g>\n    <g id=\"ytick_2\">\n     <g id=\"line2d_17\">\n      <path clip-path=\"url(#pd927e793bd)\" d=\"M 64.804375 195.86653 \nL 399.604375 195.86653 \n\" style=\"fill:none;stroke:#ffffff;stroke-linecap:square;stroke-width:0.8;\"/>\n     </g>\n     <g id=\"line2d_18\">\n      <g>\n       <use style=\"fill:#555555;stroke:#555555;stroke-width:0.8;\" x=\"64.804375\" xlink:href=\"#m07bf2a253c\" y=\"195.86653\"/>\n      </g>\n     </g>\n     <g id=\"text_10\">\n      <!-- 0.0025 -->\n      <g style=\"fill:#555555;\" transform=\"translate(22.81375 199.665749)scale(0.1 -0.1)\">\n       <use xlink:href=\"#DejaVuSans-48\"/>\n       <use x=\"63.623047\" xlink:href=\"#DejaVuSans-46\"/>\n       <use x=\"95.410156\" xlink:href=\"#DejaVuSans-48\"/>\n       <use x=\"159.033203\" xlink:href=\"#DejaVuSans-48\"/>\n       <use x=\"222.65625\" xlink:href=\"#DejaVuSans-50\"/>\n       <use x=\"286.279297\" xlink:href=\"#DejaVuSans-53\"/>\n      </g>\n     </g>\n    </g>\n    <g id=\"ytick_3\">\n     <g id=\"line2d_19\">\n      <path clip-path=\"url(#pd927e793bd)\" d=\"M 64.804375 167.09306 \nL 399.604375 167.09306 \n\" style=\"fill:none;stroke:#ffffff;stroke-linecap:square;stroke-width:0.8;\"/>\n     </g>\n     <g id=\"line2d_20\">\n      <g>\n       <use style=\"fill:#555555;stroke:#555555;stroke-width:0.8;\" x=\"64.804375\" xlink:href=\"#m07bf2a253c\" y=\"167.09306\"/>\n      </g>\n     </g>\n     <g id=\"text_11\">\n      <!-- 0.0050 -->\n      <g style=\"fill:#555555;\" transform=\"translate(22.81375 170.892279)scale(0.1 -0.1)\">\n       <use xlink:href=\"#DejaVuSans-48\"/>\n       <use x=\"63.623047\" xlink:href=\"#DejaVuSans-46\"/>\n       <use x=\"95.410156\" xlink:href=\"#DejaVuSans-48\"/>\n       <use x=\"159.033203\" xlink:href=\"#DejaVuSans-48\"/>\n       <use x=\"222.65625\" xlink:href=\"#DejaVuSans-53\"/>\n       <use x=\"286.279297\" xlink:href=\"#DejaVuSans-48\"/>\n      </g>\n     </g>\n    </g>\n    <g id=\"ytick_4\">\n     <g id=\"line2d_21\">\n      <path clip-path=\"url(#pd927e793bd)\" d=\"M 64.804375 138.31959 \nL 399.604375 138.31959 \n\" style=\"fill:none;stroke:#ffffff;stroke-linecap:square;stroke-width:0.8;\"/>\n     </g>\n     <g id=\"line2d_22\">\n      <g>\n       <use style=\"fill:#555555;stroke:#555555;stroke-width:0.8;\" x=\"64.804375\" xlink:href=\"#m07bf2a253c\" y=\"138.31959\"/>\n      </g>\n     </g>\n     <g id=\"text_12\">\n      <!-- 0.0075 -->\n      <defs>\n       <path d=\"M 8.203125 72.90625 \nL 55.078125 72.90625 \nL 55.078125 68.703125 \nL 28.609375 0 \nL 18.3125 0 \nL 43.21875 64.59375 \nL 8.203125 64.59375 \nz\n\" id=\"DejaVuSans-55\"/>\n      </defs>\n      <g style=\"fill:#555555;\" transform=\"translate(22.81375 142.118809)scale(0.1 -0.1)\">\n       <use xlink:href=\"#DejaVuSans-48\"/>\n       <use x=\"63.623047\" xlink:href=\"#DejaVuSans-46\"/>\n       <use x=\"95.410156\" xlink:href=\"#DejaVuSans-48\"/>\n       <use x=\"159.033203\" xlink:href=\"#DejaVuSans-48\"/>\n       <use x=\"222.65625\" xlink:href=\"#DejaVuSans-55\"/>\n       <use x=\"286.279297\" xlink:href=\"#DejaVuSans-53\"/>\n      </g>\n     </g>\n    </g>\n    <g id=\"ytick_5\">\n     <g id=\"line2d_23\">\n      <path clip-path=\"url(#pd927e793bd)\" d=\"M 64.804375 109.54612 \nL 399.604375 109.54612 \n\" style=\"fill:none;stroke:#ffffff;stroke-linecap:square;stroke-width:0.8;\"/>\n     </g>\n     <g id=\"line2d_24\">\n      <g>\n       <use style=\"fill:#555555;stroke:#555555;stroke-width:0.8;\" x=\"64.804375\" xlink:href=\"#m07bf2a253c\" y=\"109.54612\"/>\n      </g>\n     </g>\n     <g id=\"text_13\">\n      <!-- 0.0100 -->\n      <g style=\"fill:#555555;\" transform=\"translate(22.81375 113.345338)scale(0.1 -0.1)\">\n       <use xlink:href=\"#DejaVuSans-48\"/>\n       <use x=\"63.623047\" xlink:href=\"#DejaVuSans-46\"/>\n       <use x=\"95.410156\" xlink:href=\"#DejaVuSans-48\"/>\n       <use x=\"159.033203\" xlink:href=\"#DejaVuSans-49\"/>\n       <use x=\"222.65625\" xlink:href=\"#DejaVuSans-48\"/>\n       <use x=\"286.279297\" xlink:href=\"#DejaVuSans-48\"/>\n      </g>\n     </g>\n    </g>\n    <g id=\"ytick_6\">\n     <g id=\"line2d_25\">\n      <path clip-path=\"url(#pd927e793bd)\" d=\"M 64.804375 80.77265 \nL 399.604375 80.77265 \n\" style=\"fill:none;stroke:#ffffff;stroke-linecap:square;stroke-width:0.8;\"/>\n     </g>\n     <g id=\"line2d_26\">\n      <g>\n       <use style=\"fill:#555555;stroke:#555555;stroke-width:0.8;\" x=\"64.804375\" xlink:href=\"#m07bf2a253c\" y=\"80.77265\"/>\n      </g>\n     </g>\n     <g id=\"text_14\">\n      <!-- 0.0125 -->\n      <g style=\"fill:#555555;\" transform=\"translate(22.81375 84.571868)scale(0.1 -0.1)\">\n       <use xlink:href=\"#DejaVuSans-48\"/>\n       <use x=\"63.623047\" xlink:href=\"#DejaVuSans-46\"/>\n       <use x=\"95.410156\" xlink:href=\"#DejaVuSans-48\"/>\n       <use x=\"159.033203\" xlink:href=\"#DejaVuSans-49\"/>\n       <use x=\"222.65625\" xlink:href=\"#DejaVuSans-50\"/>\n       <use x=\"286.279297\" xlink:href=\"#DejaVuSans-53\"/>\n      </g>\n     </g>\n    </g>\n    <g id=\"ytick_7\">\n     <g id=\"line2d_27\">\n      <path clip-path=\"url(#pd927e793bd)\" d=\"M 64.804375 51.99918 \nL 399.604375 51.99918 \n\" style=\"fill:none;stroke:#ffffff;stroke-linecap:square;stroke-width:0.8;\"/>\n     </g>\n     <g id=\"line2d_28\">\n      <g>\n       <use style=\"fill:#555555;stroke:#555555;stroke-width:0.8;\" x=\"64.804375\" xlink:href=\"#m07bf2a253c\" y=\"51.99918\"/>\n      </g>\n     </g>\n     <g id=\"text_15\">\n      <!-- 0.0150 -->\n      <g style=\"fill:#555555;\" transform=\"translate(22.81375 55.798398)scale(0.1 -0.1)\">\n       <use xlink:href=\"#DejaVuSans-48\"/>\n       <use x=\"63.623047\" xlink:href=\"#DejaVuSans-46\"/>\n       <use x=\"95.410156\" xlink:href=\"#DejaVuSans-48\"/>\n       <use x=\"159.033203\" xlink:href=\"#DejaVuSans-49\"/>\n       <use x=\"222.65625\" xlink:href=\"#DejaVuSans-53\"/>\n       <use x=\"286.279297\" xlink:href=\"#DejaVuSans-48\"/>\n      </g>\n     </g>\n    </g>\n    <g id=\"ytick_8\">\n     <g id=\"line2d_29\">\n      <path clip-path=\"url(#pd927e793bd)\" d=\"M 64.804375 23.225709 \nL 399.604375 23.225709 \n\" style=\"fill:none;stroke:#ffffff;stroke-linecap:square;stroke-width:0.8;\"/>\n     </g>\n     <g id=\"line2d_30\">\n      <g>\n       <use style=\"fill:#555555;stroke:#555555;stroke-width:0.8;\" x=\"64.804375\" xlink:href=\"#m07bf2a253c\" y=\"23.225709\"/>\n      </g>\n     </g>\n     <g id=\"text_16\">\n      <!-- 0.0175 -->\n      <g style=\"fill:#555555;\" transform=\"translate(22.81375 27.024928)scale(0.1 -0.1)\">\n       <use xlink:href=\"#DejaVuSans-48\"/>\n       <use x=\"63.623047\" xlink:href=\"#DejaVuSans-46\"/>\n       <use x=\"95.410156\" xlink:href=\"#DejaVuSans-48\"/>\n       <use x=\"159.033203\" xlink:href=\"#DejaVuSans-49\"/>\n       <use x=\"222.65625\" xlink:href=\"#DejaVuSans-55\"/>\n       <use x=\"286.279297\" xlink:href=\"#DejaVuSans-53\"/>\n      </g>\n     </g>\n    </g>\n    <g id=\"text_17\">\n     <!-- Density -->\n     <defs>\n      <path d=\"M 19.671875 64.796875 \nL 19.671875 8.109375 \nL 31.59375 8.109375 \nQ 46.6875 8.109375 53.6875 14.9375 \nQ 60.6875 21.78125 60.6875 36.53125 \nQ 60.6875 51.171875 53.6875 57.984375 \nQ 46.6875 64.796875 31.59375 64.796875 \nz\nM 9.8125 72.90625 \nL 30.078125 72.90625 \nQ 51.265625 72.90625 61.171875 64.09375 \nQ 71.09375 55.28125 71.09375 36.53125 \nQ 71.09375 17.671875 61.125 8.828125 \nQ 51.171875 0 30.078125 0 \nL 9.8125 0 \nz\n\" id=\"DejaVuSans-68\"/>\n      <path d=\"M 56.203125 29.59375 \nL 56.203125 25.203125 \nL 14.890625 25.203125 \nQ 15.484375 15.921875 20.484375 11.0625 \nQ 25.484375 6.203125 34.421875 6.203125 \nQ 39.59375 6.203125 44.453125 7.46875 \nQ 49.3125 8.734375 54.109375 11.28125 \nL 54.109375 2.78125 \nQ 49.265625 0.734375 44.1875 -0.34375 \nQ 39.109375 -1.421875 33.890625 -1.421875 \nQ 20.796875 -1.421875 13.15625 6.1875 \nQ 5.515625 13.8125 5.515625 26.8125 \nQ 5.515625 40.234375 12.765625 48.109375 \nQ 20.015625 56 32.328125 56 \nQ 43.359375 56 49.78125 48.890625 \nQ 56.203125 41.796875 56.203125 29.59375 \nz\nM 47.21875 32.234375 \nQ 47.125 39.59375 43.09375 43.984375 \nQ 39.0625 48.390625 32.421875 48.390625 \nQ 24.90625 48.390625 20.390625 44.140625 \nQ 15.875 39.890625 15.1875 32.171875 \nz\n\" id=\"DejaVuSans-101\"/>\n      <path d=\"M 18.3125 70.21875 \nL 18.3125 54.6875 \nL 36.8125 54.6875 \nL 36.8125 47.703125 \nL 18.3125 47.703125 \nL 18.3125 18.015625 \nQ 18.3125 11.328125 20.140625 9.421875 \nQ 21.96875 7.515625 27.59375 7.515625 \nL 36.8125 7.515625 \nL 36.8125 0 \nL 27.59375 0 \nQ 17.1875 0 13.234375 3.875 \nQ 9.28125 7.765625 9.28125 18.015625 \nL 9.28125 47.703125 \nL 2.6875 47.703125 \nL 2.6875 54.6875 \nL 9.28125 54.6875 \nL 9.28125 70.21875 \nz\n\" id=\"DejaVuSans-116\"/>\n      <path d=\"M 32.171875 -5.078125 \nQ 28.375 -14.84375 24.75 -17.8125 \nQ 21.140625 -20.796875 15.09375 -20.796875 \nL 7.90625 -20.796875 \nL 7.90625 -13.28125 \nL 13.1875 -13.28125 \nQ 16.890625 -13.28125 18.9375 -11.515625 \nQ 21 -9.765625 23.484375 -3.21875 \nL 25.09375 0.875 \nL 2.984375 54.6875 \nL 12.5 54.6875 \nL 29.59375 11.921875 \nL 46.6875 54.6875 \nL 56.203125 54.6875 \nz\n\" id=\"DejaVuSans-121\"/>\n     </defs>\n     <g style=\"fill:#555555;\" transform=\"translate(16.318125 138.730312)rotate(-90)scale(0.12 -0.12)\">\n      <use xlink:href=\"#DejaVuSans-68\"/>\n      <use x=\"77.001953\" xlink:href=\"#DejaVuSans-101\"/>\n      <use x=\"138.525391\" xlink:href=\"#DejaVuSans-110\"/>\n      <use x=\"201.904297\" xlink:href=\"#DejaVuSans-115\"/>\n      <use x=\"254.003906\" xlink:href=\"#DejaVuSans-105\"/>\n      <use x=\"281.787109\" xlink:href=\"#DejaVuSans-116\"/>\n      <use x=\"320.996094\" xlink:href=\"#DejaVuSans-121\"/>\n     </g>\n    </g>\n   </g>\n   <g id=\"patch_3\">\n    <path clip-path=\"url(#pd927e793bd)\" d=\"M 116.833931 224.64 \nL 131.255236 224.64 \nL 131.255236 17.554286 \nL 116.833931 17.554286 \nz\n\" style=\"fill:#e24a33;opacity:0.4;\"/>\n   </g>\n   <g id=\"patch_4\">\n    <path clip-path=\"url(#pd927e793bd)\" d=\"M 131.255236 224.64 \nL 145.676542 224.64 \nL 145.676542 87.309474 \nL 131.255236 87.309474 \nz\n\" style=\"fill:#e24a33;opacity:0.4;\"/>\n   </g>\n   <g id=\"patch_5\">\n    <path clip-path=\"url(#pd927e793bd)\" d=\"M 145.676542 224.64 \nL 160.097847 224.64 \nL 160.097847 113.467669 \nL 145.676542 113.467669 \nz\n\" style=\"fill:#e24a33;opacity:0.4;\"/>\n   </g>\n   <g id=\"patch_6\">\n    <path clip-path=\"url(#pd927e793bd)\" d=\"M 160.097847 224.64 \nL 174.519153 224.64 \nL 174.519153 115.647519 \nL 160.097847 115.647519 \nz\n\" style=\"fill:#e24a33;opacity:0.4;\"/>\n   </g>\n   <g id=\"patch_7\">\n    <path clip-path=\"url(#pd927e793bd)\" d=\"M 174.519153 224.64 \nL 188.940458 224.64 \nL 188.940458 146.165414 \nL 174.519153 146.165414 \nz\n\" style=\"fill:#e24a33;opacity:0.4;\"/>\n   </g>\n   <g id=\"patch_8\">\n    <path clip-path=\"url(#pd927e793bd)\" d=\"M 188.940458 224.64 \nL 203.361764 224.64 \nL 203.361764 174.503459 \nL 188.940458 174.503459 \nz\n\" style=\"fill:#e24a33;opacity:0.4;\"/>\n   </g>\n   <g id=\"patch_9\">\n    <path clip-path=\"url(#pd927e793bd)\" d=\"M 203.361764 224.64 \nL 217.783069 224.64 \nL 217.783069 187.582556 \nL 203.361764 187.582556 \nz\n\" style=\"fill:#e24a33;opacity:0.4;\"/>\n   </g>\n   <g id=\"patch_10\">\n    <path clip-path=\"url(#pd927e793bd)\" d=\"M 217.783069 224.64 \nL 232.204375 224.64 \nL 232.204375 202.841504 \nL 217.783069 202.841504 \nz\n\" style=\"fill:#e24a33;opacity:0.4;\"/>\n   </g>\n   <g id=\"patch_11\">\n    <path clip-path=\"url(#pd927e793bd)\" d=\"M 232.204375 224.64 \nL 246.625681 224.64 \nL 246.625681 202.841504 \nL 232.204375 202.841504 \nz\n\" style=\"fill:#e24a33;opacity:0.4;\"/>\n   </g>\n   <g id=\"patch_12\">\n    <path clip-path=\"url(#pd927e793bd)\" d=\"M 246.625681 224.64 \nL 261.046986 224.64 \nL 261.046986 213.740752 \nL 246.625681 213.740752 \nz\n\" style=\"fill:#e24a33;opacity:0.4;\"/>\n   </g>\n   <g id=\"patch_13\">\n    <path clip-path=\"url(#pd927e793bd)\" d=\"M 261.046986 224.64 \nL 275.468292 224.64 \nL 275.468292 220.280301 \nL 261.046986 220.280301 \nz\n\" style=\"fill:#e24a33;opacity:0.4;\"/>\n   </g>\n   <g id=\"patch_14\">\n    <path clip-path=\"url(#pd927e793bd)\" d=\"M 275.468292 224.64 \nL 289.889597 224.64 \nL 289.889597 218.100451 \nL 275.468292 218.100451 \nz\n\" style=\"fill:#e24a33;opacity:0.4;\"/>\n   </g>\n   <g id=\"patch_15\">\n    <path clip-path=\"url(#pd927e793bd)\" d=\"M 289.889597 224.64 \nL 304.310903 224.64 \nL 304.310903 220.280301 \nL 289.889597 220.280301 \nz\n\" style=\"fill:#e24a33;opacity:0.4;\"/>\n   </g>\n   <g id=\"patch_16\">\n    <path clip-path=\"url(#pd927e793bd)\" d=\"M 304.310903 224.64 \nL 318.732208 224.64 \nL 318.732208 222.46015 \nL 304.310903 222.46015 \nz\n\" style=\"fill:#e24a33;opacity:0.4;\"/>\n   </g>\n   <g id=\"patch_17\">\n    <path clip-path=\"url(#pd927e793bd)\" d=\"M 318.732208 224.64 \nL 333.153514 224.64 \nL 333.153514 222.46015 \nL 318.732208 222.46015 \nz\n\" style=\"fill:#e24a33;opacity:0.4;\"/>\n   </g>\n   <g id=\"patch_18\">\n    <path clip-path=\"url(#pd927e793bd)\" d=\"M 333.153514 224.64 \nL 347.574819 224.64 \nL 347.574819 222.46015 \nL 333.153514 222.46015 \nz\n\" style=\"fill:#e24a33;opacity:0.4;\"/>\n   </g>\n   <g id=\"line2d_31\">\n    <path clip-path=\"url(#pd927e793bd)\" d=\"M 80.022557 224.329734 \nL 83.081488 223.960144 \nL 84.610953 223.655319 \nL 86.140419 223.234285 \nL 87.669884 222.661895 \nL 89.19935 221.896024 \nL 90.728815 220.887492 \nL 92.258281 219.580502 \nL 93.787746 217.913723 \nL 95.317212 215.822122 \nL 96.846677 213.239613 \nL 98.376143 210.102504 \nL 99.905608 206.353659 \nL 101.435074 201.947152 \nL 102.964539 196.853141 \nL 104.494005 191.062569 \nL 106.02347 184.591242 \nL 107.552936 177.482846 \nL 110.611867 161.67633 \nL 118.259195 119.240901 \nL 119.78866 111.588114 \nL 121.318126 104.592401 \nL 122.847591 98.379191 \nL 124.377057 93.043294 \nL 125.906522 88.645097 \nL 127.435988 85.209013 \nL 128.965453 82.724199 \nL 130.494919 81.147377 \nL 132.024384 80.407418 \nL 133.55385 80.411274 \nL 135.083315 81.050737 \nL 136.612781 82.209514 \nL 138.142246 83.770161 \nL 139.671712 85.620425 \nL 142.730643 89.798244 \nL 147.319039 96.23416 \nL 151.907436 102.249784 \nL 156.495832 108.244038 \nL 159.554763 112.635869 \nL 162.613694 117.529823 \nL 165.672625 122.903391 \nL 174.849418 139.691827 \nL 177.908349 144.694725 \nL 180.96728 149.23078 \nL 184.026211 153.388684 \nL 190.144073 161.19036 \nL 203.909263 178.521773 \nL 208.49766 183.714004 \nL 213.086056 188.429631 \nL 217.674453 192.724281 \nL 222.262849 196.607727 \nL 225.32178 198.930729 \nL 228.380711 201.007739 \nL 231.439642 202.828946 \nL 234.498573 204.413905 \nL 239.08697 206.457997 \nL 251.322694 211.340499 \nL 260.499487 214.972774 \nL 265.087883 216.503691 \nL 268.146814 217.324461 \nL 271.205745 217.96054 \nL 274.264677 218.41608 \nL 278.853073 218.830971 \nL 289.559332 219.533957 \nL 294.147728 220.07669 \nL 307.912918 221.9766 \nL 314.03078 222.442461 \nL 321.678107 222.730558 \nL 353.796883 223.642038 \nL 369.091538 224.417351 \nL 378.268331 224.595078 \nL 384.386193 224.628627 \nL 384.386193 224.628627 \n\" style=\"fill:none;stroke:#e24a33;stroke-linecap:square;stroke-width:1.5;\"/>\n   </g>\n   <g id=\"patch_19\">\n    <path d=\"M 64.804375 224.64 \nL 64.804375 7.2 \n\" style=\"fill:none;stroke:#ffffff;stroke-linecap:square;stroke-linejoin:miter;\"/>\n   </g>\n   <g id=\"patch_20\">\n    <path d=\"M 399.604375 224.64 \nL 399.604375 7.2 \n\" style=\"fill:none;stroke:#ffffff;stroke-linecap:square;stroke-linejoin:miter;\"/>\n   </g>\n   <g id=\"patch_21\">\n    <path d=\"M 64.804375 224.64 \nL 399.604375 224.64 \n\" style=\"fill:none;stroke:#ffffff;stroke-linecap:square;stroke-linejoin:miter;\"/>\n   </g>\n   <g id=\"patch_22\">\n    <path d=\"M 64.804375 7.2 \nL 399.604375 7.2 \n\" style=\"fill:none;stroke:#ffffff;stroke-linecap:square;stroke-linejoin:miter;\"/>\n   </g>\n  </g>\n </g>\n <defs>\n  <clipPath id=\"pd927e793bd\">\n   <rect height=\"217.44\" width=\"334.8\" x=\"64.804375\" y=\"7.2\"/>\n  </clipPath>\n </defs>\n</svg>\n"
          },
          "metadata": {
            "tags": []
          }
        }
      ]
    },
    {
      "cell_type": "code",
      "metadata": {
        "colab": {
          "base_uri": "https://localhost:8080/"
        },
        "id": "OWYepNgXleS5",
        "outputId": "f47e8e5f-de17-4436-a562-2bb96c0b65b6"
      },
      "source": [
        "error.describe()"
      ],
      "execution_count": 202,
      "outputs": [
        {
          "output_type": "execute_result",
          "data": {
            "text/plain": [
              "count    370.000000\n",
              "mean      44.820595\n",
              "std       39.620551\n",
              "min        0.010000\n",
              "25%       13.995000\n",
              "50%       35.780000\n",
              "75%       66.552500\n",
              "max      228.330000\n",
              "Name: Insulin, dtype: float64"
            ]
          },
          "metadata": {
            "tags": []
          },
          "execution_count": 202
        }
      ]
    },
    {
      "cell_type": "code",
      "metadata": {
        "colab": {
          "base_uri": "https://localhost:8080/"
        },
        "id": "zAYavlYWlDGJ",
        "outputId": "3788d283-9091-4d1c-a8b2-bae89edd11f7"
      },
      "source": [
        "#RMSE\n",
        "\n",
        "np.sqrt(((y_train - y_pred) ** 2).mean())"
      ],
      "execution_count": 203,
      "outputs": [
        {
          "output_type": "execute_result",
          "data": {
            "text/plain": [
              "59.786546222283086"
            ]
          },
          "metadata": {
            "tags": []
          },
          "execution_count": 203
        }
      ]
    },
    {
      "cell_type": "markdown",
      "metadata": {
        "id": "YvFPtSfdmYhz"
      },
      "source": [
        "###트리 알고리즘 분석하기"
      ]
    },
    {
      "cell_type": "code",
      "metadata": {
        "colab": {
          "base_uri": "https://localhost:8080/"
        },
        "id": "pT5ylzn0muSp",
        "outputId": "19d4b1f4-c0fe-4dea-ab9b-65542e571bd0"
      },
      "source": [
        "#피처의 중요도\n",
        "best_estimator.feature_importances_"
      ],
      "execution_count": 204,
      "outputs": [
        {
          "output_type": "execute_result",
          "data": {
            "text/plain": [
              "array([0.05341244, 0.38381281, 0.06712735, 0.10044272, 0.12865471,\n",
              "       0.11288263, 0.10787564, 0.0457917 ])"
            ]
          },
          "metadata": {
            "tags": []
          },
          "execution_count": 204
        }
      ]
    },
    {
      "cell_type": "code",
      "metadata": {
        "colab": {
          "base_uri": "https://localhost:8080/",
          "height": 371
        },
        "id": "laWx5rZ_nh2i",
        "outputId": "a2774449-118a-4738-f7f0-02ae4f746d6b"
      },
      "source": [
        "#피처의 중요도 시각화\n",
        "sns.barplot(x=best_estimator.feature_importances_, y=feature_names)"
      ],
      "execution_count": 205,
      "outputs": [
        {
          "output_type": "execute_result",
          "data": {
            "text/plain": [
              "<matplotlib.axes._subplots.AxesSubplot at 0x7fa4cbd4fcd0>"
            ]
          },
          "metadata": {
            "tags": []
          },
          "execution_count": 205
        },
        {
          "output_type": "display_data",
          "data": {
            "text/plain": [
              "<Figure size 432x288 with 1 Axes>"
            ],
            "image/svg+xml": "<?xml version=\"1.0\" encoding=\"utf-8\" standalone=\"no\"?>\n<!DOCTYPE svg PUBLIC \"-//W3C//DTD SVG 1.1//EN\"\n  \"http://www.w3.org/Graphics/SVG/1.1/DTD/svg11.dtd\">\n<!-- Created with matplotlib (https://matplotlib.org/) -->\n<svg height=\"248.518125pt\" version=\"1.1\" viewBox=\"0 0 495.245472 248.518125\" width=\"495.245472pt\" xmlns=\"http://www.w3.org/2000/svg\" xmlns:xlink=\"http://www.w3.org/1999/xlink\">\n <defs>\n  <style type=\"text/css\">\n*{stroke-linecap:butt;stroke-linejoin:round;}\n  </style>\n </defs>\n <g id=\"figure_1\">\n  <g id=\"patch_1\">\n   <path d=\"M 0 248.518125 \nL 495.245472 248.518125 \nL 495.245472 0 \nL 0 0 \nz\n\" style=\"fill:#ffffff;\"/>\n  </g>\n  <g id=\"axes_1\">\n   <g id=\"patch_2\">\n    <path d=\"M 144.607813 224.64 \nL 479.407813 224.64 \nL 479.407813 7.2 \nL 144.607813 7.2 \nz\n\" style=\"fill:#e5e5e5;\"/>\n   </g>\n   <g id=\"matplotlib.axis_1\">\n    <g id=\"xtick_1\">\n     <g id=\"line2d_1\">\n      <path clip-path=\"url(#p8aab609c36)\" d=\"M 144.607813 224.64 \nL 144.607813 7.2 \n\" style=\"fill:none;stroke:#ffffff;stroke-linecap:square;stroke-width:0.8;\"/>\n     </g>\n     <g id=\"line2d_2\">\n      <defs>\n       <path d=\"M 0 0 \nL 0 3.5 \n\" id=\"mb55ef0c48e\" style=\"stroke:#555555;stroke-width:0.8;\"/>\n      </defs>\n      <g>\n       <use style=\"fill:#555555;stroke:#555555;stroke-width:0.8;\" x=\"144.607813\" xlink:href=\"#mb55ef0c48e\" y=\"224.64\"/>\n      </g>\n     </g>\n     <g id=\"text_1\">\n      <!-- 0.00 -->\n      <defs>\n       <path d=\"M 31.78125 66.40625 \nQ 24.171875 66.40625 20.328125 58.90625 \nQ 16.5 51.421875 16.5 36.375 \nQ 16.5 21.390625 20.328125 13.890625 \nQ 24.171875 6.390625 31.78125 6.390625 \nQ 39.453125 6.390625 43.28125 13.890625 \nQ 47.125 21.390625 47.125 36.375 \nQ 47.125 51.421875 43.28125 58.90625 \nQ 39.453125 66.40625 31.78125 66.40625 \nz\nM 31.78125 74.21875 \nQ 44.046875 74.21875 50.515625 64.515625 \nQ 56.984375 54.828125 56.984375 36.375 \nQ 56.984375 17.96875 50.515625 8.265625 \nQ 44.046875 -1.421875 31.78125 -1.421875 \nQ 19.53125 -1.421875 13.0625 8.265625 \nQ 6.59375 17.96875 6.59375 36.375 \nQ 6.59375 54.828125 13.0625 64.515625 \nQ 19.53125 74.21875 31.78125 74.21875 \nz\n\" id=\"DejaVuSans-48\"/>\n       <path d=\"M 10.6875 12.40625 \nL 21 12.40625 \nL 21 0 \nL 10.6875 0 \nz\n\" id=\"DejaVuSans-46\"/>\n      </defs>\n      <g style=\"fill:#555555;\" transform=\"translate(133.475 239.238437)scale(0.1 -0.1)\">\n       <use xlink:href=\"#DejaVuSans-48\"/>\n       <use x=\"63.623047\" xlink:href=\"#DejaVuSans-46\"/>\n       <use x=\"95.410156\" xlink:href=\"#DejaVuSans-48\"/>\n       <use x=\"159.033203\" xlink:href=\"#DejaVuSans-48\"/>\n      </g>\n     </g>\n    </g>\n    <g id=\"xtick_2\">\n     <g id=\"line2d_3\">\n      <path clip-path=\"url(#p8aab609c36)\" d=\"M 186.145918 224.64 \nL 186.145918 7.2 \n\" style=\"fill:none;stroke:#ffffff;stroke-linecap:square;stroke-width:0.8;\"/>\n     </g>\n     <g id=\"line2d_4\">\n      <g>\n       <use style=\"fill:#555555;stroke:#555555;stroke-width:0.8;\" x=\"186.145918\" xlink:href=\"#mb55ef0c48e\" y=\"224.64\"/>\n      </g>\n     </g>\n     <g id=\"text_2\">\n      <!-- 0.05 -->\n      <defs>\n       <path d=\"M 10.796875 72.90625 \nL 49.515625 72.90625 \nL 49.515625 64.59375 \nL 19.828125 64.59375 \nL 19.828125 46.734375 \nQ 21.96875 47.46875 24.109375 47.828125 \nQ 26.265625 48.1875 28.421875 48.1875 \nQ 40.625 48.1875 47.75 41.5 \nQ 54.890625 34.8125 54.890625 23.390625 \nQ 54.890625 11.625 47.5625 5.09375 \nQ 40.234375 -1.421875 26.90625 -1.421875 \nQ 22.3125 -1.421875 17.546875 -0.640625 \nQ 12.796875 0.140625 7.71875 1.703125 \nL 7.71875 11.625 \nQ 12.109375 9.234375 16.796875 8.0625 \nQ 21.484375 6.890625 26.703125 6.890625 \nQ 35.15625 6.890625 40.078125 11.328125 \nQ 45.015625 15.765625 45.015625 23.390625 \nQ 45.015625 31 40.078125 35.4375 \nQ 35.15625 39.890625 26.703125 39.890625 \nQ 22.75 39.890625 18.8125 39.015625 \nQ 14.890625 38.140625 10.796875 36.28125 \nz\n\" id=\"DejaVuSans-53\"/>\n      </defs>\n      <g style=\"fill:#555555;\" transform=\"translate(175.013106 239.238437)scale(0.1 -0.1)\">\n       <use xlink:href=\"#DejaVuSans-48\"/>\n       <use x=\"63.623047\" xlink:href=\"#DejaVuSans-46\"/>\n       <use x=\"95.410156\" xlink:href=\"#DejaVuSans-48\"/>\n       <use x=\"159.033203\" xlink:href=\"#DejaVuSans-53\"/>\n      </g>\n     </g>\n    </g>\n    <g id=\"xtick_3\">\n     <g id=\"line2d_5\">\n      <path clip-path=\"url(#p8aab609c36)\" d=\"M 227.684024 224.64 \nL 227.684024 7.2 \n\" style=\"fill:none;stroke:#ffffff;stroke-linecap:square;stroke-width:0.8;\"/>\n     </g>\n     <g id=\"line2d_6\">\n      <g>\n       <use style=\"fill:#555555;stroke:#555555;stroke-width:0.8;\" x=\"227.684024\" xlink:href=\"#mb55ef0c48e\" y=\"224.64\"/>\n      </g>\n     </g>\n     <g id=\"text_3\">\n      <!-- 0.10 -->\n      <defs>\n       <path d=\"M 12.40625 8.296875 \nL 28.515625 8.296875 \nL 28.515625 63.921875 \nL 10.984375 60.40625 \nL 10.984375 69.390625 \nL 28.421875 72.90625 \nL 38.28125 72.90625 \nL 38.28125 8.296875 \nL 54.390625 8.296875 \nL 54.390625 0 \nL 12.40625 0 \nz\n\" id=\"DejaVuSans-49\"/>\n      </defs>\n      <g style=\"fill:#555555;\" transform=\"translate(216.551212 239.238437)scale(0.1 -0.1)\">\n       <use xlink:href=\"#DejaVuSans-48\"/>\n       <use x=\"63.623047\" xlink:href=\"#DejaVuSans-46\"/>\n       <use x=\"95.410156\" xlink:href=\"#DejaVuSans-49\"/>\n       <use x=\"159.033203\" xlink:href=\"#DejaVuSans-48\"/>\n      </g>\n     </g>\n    </g>\n    <g id=\"xtick_4\">\n     <g id=\"line2d_7\">\n      <path clip-path=\"url(#p8aab609c36)\" d=\"M 269.22213 224.64 \nL 269.22213 7.2 \n\" style=\"fill:none;stroke:#ffffff;stroke-linecap:square;stroke-width:0.8;\"/>\n     </g>\n     <g id=\"line2d_8\">\n      <g>\n       <use style=\"fill:#555555;stroke:#555555;stroke-width:0.8;\" x=\"269.22213\" xlink:href=\"#mb55ef0c48e\" y=\"224.64\"/>\n      </g>\n     </g>\n     <g id=\"text_4\">\n      <!-- 0.15 -->\n      <g style=\"fill:#555555;\" transform=\"translate(258.089318 239.238437)scale(0.1 -0.1)\">\n       <use xlink:href=\"#DejaVuSans-48\"/>\n       <use x=\"63.623047\" xlink:href=\"#DejaVuSans-46\"/>\n       <use x=\"95.410156\" xlink:href=\"#DejaVuSans-49\"/>\n       <use x=\"159.033203\" xlink:href=\"#DejaVuSans-53\"/>\n      </g>\n     </g>\n    </g>\n    <g id=\"xtick_5\">\n     <g id=\"line2d_9\">\n      <path clip-path=\"url(#p8aab609c36)\" d=\"M 310.760236 224.64 \nL 310.760236 7.2 \n\" style=\"fill:none;stroke:#ffffff;stroke-linecap:square;stroke-width:0.8;\"/>\n     </g>\n     <g id=\"line2d_10\">\n      <g>\n       <use style=\"fill:#555555;stroke:#555555;stroke-width:0.8;\" x=\"310.760236\" xlink:href=\"#mb55ef0c48e\" y=\"224.64\"/>\n      </g>\n     </g>\n     <g id=\"text_5\">\n      <!-- 0.20 -->\n      <defs>\n       <path d=\"M 19.1875 8.296875 \nL 53.609375 8.296875 \nL 53.609375 0 \nL 7.328125 0 \nL 7.328125 8.296875 \nQ 12.9375 14.109375 22.625 23.890625 \nQ 32.328125 33.6875 34.8125 36.53125 \nQ 39.546875 41.84375 41.421875 45.53125 \nQ 43.3125 49.21875 43.3125 52.78125 \nQ 43.3125 58.59375 39.234375 62.25 \nQ 35.15625 65.921875 28.609375 65.921875 \nQ 23.96875 65.921875 18.8125 64.3125 \nQ 13.671875 62.703125 7.8125 59.421875 \nL 7.8125 69.390625 \nQ 13.765625 71.78125 18.9375 73 \nQ 24.125 74.21875 28.421875 74.21875 \nQ 39.75 74.21875 46.484375 68.546875 \nQ 53.21875 62.890625 53.21875 53.421875 \nQ 53.21875 48.921875 51.53125 44.890625 \nQ 49.859375 40.875 45.40625 35.40625 \nQ 44.1875 33.984375 37.640625 27.21875 \nQ 31.109375 20.453125 19.1875 8.296875 \nz\n\" id=\"DejaVuSans-50\"/>\n      </defs>\n      <g style=\"fill:#555555;\" transform=\"translate(299.627424 239.238437)scale(0.1 -0.1)\">\n       <use xlink:href=\"#DejaVuSans-48\"/>\n       <use x=\"63.623047\" xlink:href=\"#DejaVuSans-46\"/>\n       <use x=\"95.410156\" xlink:href=\"#DejaVuSans-50\"/>\n       <use x=\"159.033203\" xlink:href=\"#DejaVuSans-48\"/>\n      </g>\n     </g>\n    </g>\n    <g id=\"xtick_6\">\n     <g id=\"line2d_11\">\n      <path clip-path=\"url(#p8aab609c36)\" d=\"M 352.298342 224.64 \nL 352.298342 7.2 \n\" style=\"fill:none;stroke:#ffffff;stroke-linecap:square;stroke-width:0.8;\"/>\n     </g>\n     <g id=\"line2d_12\">\n      <g>\n       <use style=\"fill:#555555;stroke:#555555;stroke-width:0.8;\" x=\"352.298342\" xlink:href=\"#mb55ef0c48e\" y=\"224.64\"/>\n      </g>\n     </g>\n     <g id=\"text_6\">\n      <!-- 0.25 -->\n      <g style=\"fill:#555555;\" transform=\"translate(341.16553 239.238437)scale(0.1 -0.1)\">\n       <use xlink:href=\"#DejaVuSans-48\"/>\n       <use x=\"63.623047\" xlink:href=\"#DejaVuSans-46\"/>\n       <use x=\"95.410156\" xlink:href=\"#DejaVuSans-50\"/>\n       <use x=\"159.033203\" xlink:href=\"#DejaVuSans-53\"/>\n      </g>\n     </g>\n    </g>\n    <g id=\"xtick_7\">\n     <g id=\"line2d_13\">\n      <path clip-path=\"url(#p8aab609c36)\" d=\"M 393.836448 224.64 \nL 393.836448 7.2 \n\" style=\"fill:none;stroke:#ffffff;stroke-linecap:square;stroke-width:0.8;\"/>\n     </g>\n     <g id=\"line2d_14\">\n      <g>\n       <use style=\"fill:#555555;stroke:#555555;stroke-width:0.8;\" x=\"393.836448\" xlink:href=\"#mb55ef0c48e\" y=\"224.64\"/>\n      </g>\n     </g>\n     <g id=\"text_7\">\n      <!-- 0.30 -->\n      <defs>\n       <path d=\"M 40.578125 39.3125 \nQ 47.65625 37.796875 51.625 33 \nQ 55.609375 28.21875 55.609375 21.1875 \nQ 55.609375 10.40625 48.1875 4.484375 \nQ 40.765625 -1.421875 27.09375 -1.421875 \nQ 22.515625 -1.421875 17.65625 -0.515625 \nQ 12.796875 0.390625 7.625 2.203125 \nL 7.625 11.71875 \nQ 11.71875 9.328125 16.59375 8.109375 \nQ 21.484375 6.890625 26.8125 6.890625 \nQ 36.078125 6.890625 40.9375 10.546875 \nQ 45.796875 14.203125 45.796875 21.1875 \nQ 45.796875 27.640625 41.28125 31.265625 \nQ 36.765625 34.90625 28.71875 34.90625 \nL 20.21875 34.90625 \nL 20.21875 43.015625 \nL 29.109375 43.015625 \nQ 36.375 43.015625 40.234375 45.921875 \nQ 44.09375 48.828125 44.09375 54.296875 \nQ 44.09375 59.90625 40.109375 62.90625 \nQ 36.140625 65.921875 28.71875 65.921875 \nQ 24.65625 65.921875 20.015625 65.03125 \nQ 15.375 64.15625 9.8125 62.3125 \nL 9.8125 71.09375 \nQ 15.4375 72.65625 20.34375 73.4375 \nQ 25.25 74.21875 29.59375 74.21875 \nQ 40.828125 74.21875 47.359375 69.109375 \nQ 53.90625 64.015625 53.90625 55.328125 \nQ 53.90625 49.265625 50.4375 45.09375 \nQ 46.96875 40.921875 40.578125 39.3125 \nz\n\" id=\"DejaVuSans-51\"/>\n      </defs>\n      <g style=\"fill:#555555;\" transform=\"translate(382.703636 239.238437)scale(0.1 -0.1)\">\n       <use xlink:href=\"#DejaVuSans-48\"/>\n       <use x=\"63.623047\" xlink:href=\"#DejaVuSans-46\"/>\n       <use x=\"95.410156\" xlink:href=\"#DejaVuSans-51\"/>\n       <use x=\"159.033203\" xlink:href=\"#DejaVuSans-48\"/>\n      </g>\n     </g>\n    </g>\n    <g id=\"xtick_8\">\n     <g id=\"line2d_15\">\n      <path clip-path=\"url(#p8aab609c36)\" d=\"M 435.374554 224.64 \nL 435.374554 7.2 \n\" style=\"fill:none;stroke:#ffffff;stroke-linecap:square;stroke-width:0.8;\"/>\n     </g>\n     <g id=\"line2d_16\">\n      <g>\n       <use style=\"fill:#555555;stroke:#555555;stroke-width:0.8;\" x=\"435.374554\" xlink:href=\"#mb55ef0c48e\" y=\"224.64\"/>\n      </g>\n     </g>\n     <g id=\"text_8\">\n      <!-- 0.35 -->\n      <g style=\"fill:#555555;\" transform=\"translate(424.241742 239.238437)scale(0.1 -0.1)\">\n       <use xlink:href=\"#DejaVuSans-48\"/>\n       <use x=\"63.623047\" xlink:href=\"#DejaVuSans-46\"/>\n       <use x=\"95.410156\" xlink:href=\"#DejaVuSans-51\"/>\n       <use x=\"159.033203\" xlink:href=\"#DejaVuSans-53\"/>\n      </g>\n     </g>\n    </g>\n    <g id=\"xtick_9\">\n     <g id=\"line2d_17\">\n      <path clip-path=\"url(#p8aab609c36)\" d=\"M 476.91266 224.64 \nL 476.91266 7.2 \n\" style=\"fill:none;stroke:#ffffff;stroke-linecap:square;stroke-width:0.8;\"/>\n     </g>\n     <g id=\"line2d_18\">\n      <g>\n       <use style=\"fill:#555555;stroke:#555555;stroke-width:0.8;\" x=\"476.91266\" xlink:href=\"#mb55ef0c48e\" y=\"224.64\"/>\n      </g>\n     </g>\n     <g id=\"text_9\">\n      <!-- 0.40 -->\n      <defs>\n       <path d=\"M 37.796875 64.3125 \nL 12.890625 25.390625 \nL 37.796875 25.390625 \nz\nM 35.203125 72.90625 \nL 47.609375 72.90625 \nL 47.609375 25.390625 \nL 58.015625 25.390625 \nL 58.015625 17.1875 \nL 47.609375 17.1875 \nL 47.609375 0 \nL 37.796875 0 \nL 37.796875 17.1875 \nL 4.890625 17.1875 \nL 4.890625 26.703125 \nz\n\" id=\"DejaVuSans-52\"/>\n      </defs>\n      <g style=\"fill:#555555;\" transform=\"translate(465.779847 239.238437)scale(0.1 -0.1)\">\n       <use xlink:href=\"#DejaVuSans-48\"/>\n       <use x=\"63.623047\" xlink:href=\"#DejaVuSans-46\"/>\n       <use x=\"95.410156\" xlink:href=\"#DejaVuSans-52\"/>\n       <use x=\"159.033203\" xlink:href=\"#DejaVuSans-48\"/>\n      </g>\n     </g>\n    </g>\n   </g>\n   <g id=\"matplotlib.axis_2\">\n    <g id=\"ytick_1\">\n     <g id=\"line2d_19\">\n      <defs>\n       <path d=\"M 0 0 \nL -3.5 0 \n\" id=\"m241263e9ed\" style=\"stroke:#555555;stroke-width:0.8;\"/>\n      </defs>\n      <g>\n       <use style=\"fill:#555555;stroke:#555555;stroke-width:0.8;\" x=\"144.607813\" xlink:href=\"#m241263e9ed\" y=\"20.79\"/>\n      </g>\n     </g>\n     <g id=\"text_10\">\n      <!-- Pregnancies -->\n      <defs>\n       <path d=\"M 19.671875 64.796875 \nL 19.671875 37.40625 \nL 32.078125 37.40625 \nQ 38.96875 37.40625 42.71875 40.96875 \nQ 46.484375 44.53125 46.484375 51.125 \nQ 46.484375 57.671875 42.71875 61.234375 \nQ 38.96875 64.796875 32.078125 64.796875 \nz\nM 9.8125 72.90625 \nL 32.078125 72.90625 \nQ 44.34375 72.90625 50.609375 67.359375 \nQ 56.890625 61.8125 56.890625 51.125 \nQ 56.890625 40.328125 50.609375 34.8125 \nQ 44.34375 29.296875 32.078125 29.296875 \nL 19.671875 29.296875 \nL 19.671875 0 \nL 9.8125 0 \nz\n\" id=\"DejaVuSans-80\"/>\n       <path d=\"M 41.109375 46.296875 \nQ 39.59375 47.171875 37.8125 47.578125 \nQ 36.03125 48 33.890625 48 \nQ 26.265625 48 22.1875 43.046875 \nQ 18.109375 38.09375 18.109375 28.8125 \nL 18.109375 0 \nL 9.078125 0 \nL 9.078125 54.6875 \nL 18.109375 54.6875 \nL 18.109375 46.1875 \nQ 20.953125 51.171875 25.484375 53.578125 \nQ 30.03125 56 36.53125 56 \nQ 37.453125 56 38.578125 55.875 \nQ 39.703125 55.765625 41.0625 55.515625 \nz\n\" id=\"DejaVuSans-114\"/>\n       <path d=\"M 56.203125 29.59375 \nL 56.203125 25.203125 \nL 14.890625 25.203125 \nQ 15.484375 15.921875 20.484375 11.0625 \nQ 25.484375 6.203125 34.421875 6.203125 \nQ 39.59375 6.203125 44.453125 7.46875 \nQ 49.3125 8.734375 54.109375 11.28125 \nL 54.109375 2.78125 \nQ 49.265625 0.734375 44.1875 -0.34375 \nQ 39.109375 -1.421875 33.890625 -1.421875 \nQ 20.796875 -1.421875 13.15625 6.1875 \nQ 5.515625 13.8125 5.515625 26.8125 \nQ 5.515625 40.234375 12.765625 48.109375 \nQ 20.015625 56 32.328125 56 \nQ 43.359375 56 49.78125 48.890625 \nQ 56.203125 41.796875 56.203125 29.59375 \nz\nM 47.21875 32.234375 \nQ 47.125 39.59375 43.09375 43.984375 \nQ 39.0625 48.390625 32.421875 48.390625 \nQ 24.90625 48.390625 20.390625 44.140625 \nQ 15.875 39.890625 15.1875 32.171875 \nz\n\" id=\"DejaVuSans-101\"/>\n       <path d=\"M 45.40625 27.984375 \nQ 45.40625 37.75 41.375 43.109375 \nQ 37.359375 48.484375 30.078125 48.484375 \nQ 22.859375 48.484375 18.828125 43.109375 \nQ 14.796875 37.75 14.796875 27.984375 \nQ 14.796875 18.265625 18.828125 12.890625 \nQ 22.859375 7.515625 30.078125 7.515625 \nQ 37.359375 7.515625 41.375 12.890625 \nQ 45.40625 18.265625 45.40625 27.984375 \nz\nM 54.390625 6.78125 \nQ 54.390625 -7.171875 48.1875 -13.984375 \nQ 42 -20.796875 29.203125 -20.796875 \nQ 24.46875 -20.796875 20.265625 -20.09375 \nQ 16.0625 -19.390625 12.109375 -17.921875 \nL 12.109375 -9.1875 \nQ 16.0625 -11.328125 19.921875 -12.34375 \nQ 23.78125 -13.375 27.78125 -13.375 \nQ 36.625 -13.375 41.015625 -8.765625 \nQ 45.40625 -4.15625 45.40625 5.171875 \nL 45.40625 9.625 \nQ 42.625 4.78125 38.28125 2.390625 \nQ 33.9375 0 27.875 0 \nQ 17.828125 0 11.671875 7.65625 \nQ 5.515625 15.328125 5.515625 27.984375 \nQ 5.515625 40.671875 11.671875 48.328125 \nQ 17.828125 56 27.875 56 \nQ 33.9375 56 38.28125 53.609375 \nQ 42.625 51.21875 45.40625 46.390625 \nL 45.40625 54.6875 \nL 54.390625 54.6875 \nz\n\" id=\"DejaVuSans-103\"/>\n       <path d=\"M 54.890625 33.015625 \nL 54.890625 0 \nL 45.90625 0 \nL 45.90625 32.71875 \nQ 45.90625 40.484375 42.875 44.328125 \nQ 39.84375 48.1875 33.796875 48.1875 \nQ 26.515625 48.1875 22.3125 43.546875 \nQ 18.109375 38.921875 18.109375 30.90625 \nL 18.109375 0 \nL 9.078125 0 \nL 9.078125 54.6875 \nL 18.109375 54.6875 \nL 18.109375 46.1875 \nQ 21.34375 51.125 25.703125 53.5625 \nQ 30.078125 56 35.796875 56 \nQ 45.21875 56 50.046875 50.171875 \nQ 54.890625 44.34375 54.890625 33.015625 \nz\n\" id=\"DejaVuSans-110\"/>\n       <path d=\"M 34.28125 27.484375 \nQ 23.390625 27.484375 19.1875 25 \nQ 14.984375 22.515625 14.984375 16.5 \nQ 14.984375 11.71875 18.140625 8.90625 \nQ 21.296875 6.109375 26.703125 6.109375 \nQ 34.1875 6.109375 38.703125 11.40625 \nQ 43.21875 16.703125 43.21875 25.484375 \nL 43.21875 27.484375 \nz\nM 52.203125 31.203125 \nL 52.203125 0 \nL 43.21875 0 \nL 43.21875 8.296875 \nQ 40.140625 3.328125 35.546875 0.953125 \nQ 30.953125 -1.421875 24.3125 -1.421875 \nQ 15.921875 -1.421875 10.953125 3.296875 \nQ 6 8.015625 6 15.921875 \nQ 6 25.140625 12.171875 29.828125 \nQ 18.359375 34.515625 30.609375 34.515625 \nL 43.21875 34.515625 \nL 43.21875 35.40625 \nQ 43.21875 41.609375 39.140625 45 \nQ 35.0625 48.390625 27.6875 48.390625 \nQ 23 48.390625 18.546875 47.265625 \nQ 14.109375 46.140625 10.015625 43.890625 \nL 10.015625 52.203125 \nQ 14.9375 54.109375 19.578125 55.046875 \nQ 24.21875 56 28.609375 56 \nQ 40.484375 56 46.34375 49.84375 \nQ 52.203125 43.703125 52.203125 31.203125 \nz\n\" id=\"DejaVuSans-97\"/>\n       <path d=\"M 48.78125 52.59375 \nL 48.78125 44.1875 \nQ 44.96875 46.296875 41.140625 47.34375 \nQ 37.3125 48.390625 33.40625 48.390625 \nQ 24.65625 48.390625 19.8125 42.84375 \nQ 14.984375 37.3125 14.984375 27.296875 \nQ 14.984375 17.28125 19.8125 11.734375 \nQ 24.65625 6.203125 33.40625 6.203125 \nQ 37.3125 6.203125 41.140625 7.25 \nQ 44.96875 8.296875 48.78125 10.40625 \nL 48.78125 2.09375 \nQ 45.015625 0.34375 40.984375 -0.53125 \nQ 36.96875 -1.421875 32.421875 -1.421875 \nQ 20.0625 -1.421875 12.78125 6.34375 \nQ 5.515625 14.109375 5.515625 27.296875 \nQ 5.515625 40.671875 12.859375 48.328125 \nQ 20.21875 56 33.015625 56 \nQ 37.15625 56 41.109375 55.140625 \nQ 45.0625 54.296875 48.78125 52.59375 \nz\n\" id=\"DejaVuSans-99\"/>\n       <path d=\"M 9.421875 54.6875 \nL 18.40625 54.6875 \nL 18.40625 0 \nL 9.421875 0 \nz\nM 9.421875 75.984375 \nL 18.40625 75.984375 \nL 18.40625 64.59375 \nL 9.421875 64.59375 \nz\n\" id=\"DejaVuSans-105\"/>\n       <path d=\"M 44.28125 53.078125 \nL 44.28125 44.578125 \nQ 40.484375 46.53125 36.375 47.5 \nQ 32.28125 48.484375 27.875 48.484375 \nQ 21.1875 48.484375 17.84375 46.4375 \nQ 14.5 44.390625 14.5 40.28125 \nQ 14.5 37.15625 16.890625 35.375 \nQ 19.28125 33.59375 26.515625 31.984375 \nL 29.59375 31.296875 \nQ 39.15625 29.25 43.1875 25.515625 \nQ 47.21875 21.78125 47.21875 15.09375 \nQ 47.21875 7.46875 41.1875 3.015625 \nQ 35.15625 -1.421875 24.609375 -1.421875 \nQ 20.21875 -1.421875 15.453125 -0.5625 \nQ 10.6875 0.296875 5.421875 2 \nL 5.421875 11.28125 \nQ 10.40625 8.6875 15.234375 7.390625 \nQ 20.0625 6.109375 24.8125 6.109375 \nQ 31.15625 6.109375 34.5625 8.28125 \nQ 37.984375 10.453125 37.984375 14.40625 \nQ 37.984375 18.0625 35.515625 20.015625 \nQ 33.0625 21.96875 24.703125 23.78125 \nL 21.578125 24.515625 \nQ 13.234375 26.265625 9.515625 29.90625 \nQ 5.8125 33.546875 5.8125 39.890625 \nQ 5.8125 47.609375 11.28125 51.796875 \nQ 16.75 56 26.8125 56 \nQ 31.78125 56 36.171875 55.265625 \nQ 40.578125 54.546875 44.28125 53.078125 \nz\n\" id=\"DejaVuSans-115\"/>\n      </defs>\n      <g style=\"fill:#555555;\" transform=\"translate(76.923438 24.589219)scale(0.1 -0.1)\">\n       <use xlink:href=\"#DejaVuSans-80\"/>\n       <use x=\"58.552734\" xlink:href=\"#DejaVuSans-114\"/>\n       <use x=\"97.416016\" xlink:href=\"#DejaVuSans-101\"/>\n       <use x=\"158.939453\" xlink:href=\"#DejaVuSans-103\"/>\n       <use x=\"222.416016\" xlink:href=\"#DejaVuSans-110\"/>\n       <use x=\"285.794922\" xlink:href=\"#DejaVuSans-97\"/>\n       <use x=\"347.074219\" xlink:href=\"#DejaVuSans-110\"/>\n       <use x=\"410.453125\" xlink:href=\"#DejaVuSans-99\"/>\n       <use x=\"465.433594\" xlink:href=\"#DejaVuSans-105\"/>\n       <use x=\"493.216797\" xlink:href=\"#DejaVuSans-101\"/>\n       <use x=\"554.740234\" xlink:href=\"#DejaVuSans-115\"/>\n      </g>\n     </g>\n    </g>\n    <g id=\"ytick_2\">\n     <g id=\"line2d_20\">\n      <g>\n       <use style=\"fill:#555555;stroke:#555555;stroke-width:0.8;\" x=\"144.607813\" xlink:href=\"#m241263e9ed\" y=\"47.97\"/>\n      </g>\n     </g>\n     <g id=\"text_11\">\n      <!-- Glucose -->\n      <defs>\n       <path d=\"M 59.515625 10.40625 \nL 59.515625 29.984375 \nL 43.40625 29.984375 \nL 43.40625 38.09375 \nL 69.28125 38.09375 \nL 69.28125 6.78125 \nQ 63.578125 2.734375 56.6875 0.65625 \nQ 49.8125 -1.421875 42 -1.421875 \nQ 24.90625 -1.421875 15.25 8.5625 \nQ 5.609375 18.5625 5.609375 36.375 \nQ 5.609375 54.25 15.25 64.234375 \nQ 24.90625 74.21875 42 74.21875 \nQ 49.125 74.21875 55.546875 72.453125 \nQ 61.96875 70.703125 67.390625 67.28125 \nL 67.390625 56.78125 \nQ 61.921875 61.421875 55.765625 63.765625 \nQ 49.609375 66.109375 42.828125 66.109375 \nQ 29.4375 66.109375 22.71875 58.640625 \nQ 16.015625 51.171875 16.015625 36.375 \nQ 16.015625 21.625 22.71875 14.15625 \nQ 29.4375 6.6875 42.828125 6.6875 \nQ 48.046875 6.6875 52.140625 7.59375 \nQ 56.25 8.5 59.515625 10.40625 \nz\n\" id=\"DejaVuSans-71\"/>\n       <path d=\"M 9.421875 75.984375 \nL 18.40625 75.984375 \nL 18.40625 0 \nL 9.421875 0 \nz\n\" id=\"DejaVuSans-108\"/>\n       <path d=\"M 8.5 21.578125 \nL 8.5 54.6875 \nL 17.484375 54.6875 \nL 17.484375 21.921875 \nQ 17.484375 14.15625 20.5 10.265625 \nQ 23.53125 6.390625 29.59375 6.390625 \nQ 36.859375 6.390625 41.078125 11.03125 \nQ 45.3125 15.671875 45.3125 23.6875 \nL 45.3125 54.6875 \nL 54.296875 54.6875 \nL 54.296875 0 \nL 45.3125 0 \nL 45.3125 8.40625 \nQ 42.046875 3.421875 37.71875 1 \nQ 33.40625 -1.421875 27.6875 -1.421875 \nQ 18.265625 -1.421875 13.375 4.4375 \nQ 8.5 10.296875 8.5 21.578125 \nz\nM 31.109375 56 \nz\n\" id=\"DejaVuSans-117\"/>\n       <path d=\"M 30.609375 48.390625 \nQ 23.390625 48.390625 19.1875 42.75 \nQ 14.984375 37.109375 14.984375 27.296875 \nQ 14.984375 17.484375 19.15625 11.84375 \nQ 23.34375 6.203125 30.609375 6.203125 \nQ 37.796875 6.203125 41.984375 11.859375 \nQ 46.1875 17.53125 46.1875 27.296875 \nQ 46.1875 37.015625 41.984375 42.703125 \nQ 37.796875 48.390625 30.609375 48.390625 \nz\nM 30.609375 56 \nQ 42.328125 56 49.015625 48.375 \nQ 55.71875 40.765625 55.71875 27.296875 \nQ 55.71875 13.875 49.015625 6.21875 \nQ 42.328125 -1.421875 30.609375 -1.421875 \nQ 18.84375 -1.421875 12.171875 6.21875 \nQ 5.515625 13.875 5.515625 27.296875 \nQ 5.515625 40.765625 12.171875 48.375 \nQ 18.84375 56 30.609375 56 \nz\n\" id=\"DejaVuSans-111\"/>\n      </defs>\n      <g style=\"fill:#555555;\" transform=\"translate(97.764063 51.769219)scale(0.1 -0.1)\">\n       <use xlink:href=\"#DejaVuSans-71\"/>\n       <use x=\"77.490234\" xlink:href=\"#DejaVuSans-108\"/>\n       <use x=\"105.273438\" xlink:href=\"#DejaVuSans-117\"/>\n       <use x=\"168.652344\" xlink:href=\"#DejaVuSans-99\"/>\n       <use x=\"223.632812\" xlink:href=\"#DejaVuSans-111\"/>\n       <use x=\"284.814453\" xlink:href=\"#DejaVuSans-115\"/>\n       <use x=\"336.914062\" xlink:href=\"#DejaVuSans-101\"/>\n      </g>\n     </g>\n    </g>\n    <g id=\"ytick_3\">\n     <g id=\"line2d_21\">\n      <g>\n       <use style=\"fill:#555555;stroke:#555555;stroke-width:0.8;\" x=\"144.607813\" xlink:href=\"#m241263e9ed\" y=\"75.15\"/>\n      </g>\n     </g>\n     <g id=\"text_12\">\n      <!-- BloodPressure -->\n      <defs>\n       <path d=\"M 19.671875 34.8125 \nL 19.671875 8.109375 \nL 35.5 8.109375 \nQ 43.453125 8.109375 47.28125 11.40625 \nQ 51.125 14.703125 51.125 21.484375 \nQ 51.125 28.328125 47.28125 31.5625 \nQ 43.453125 34.8125 35.5 34.8125 \nz\nM 19.671875 64.796875 \nL 19.671875 42.828125 \nL 34.28125 42.828125 \nQ 41.5 42.828125 45.03125 45.53125 \nQ 48.578125 48.25 48.578125 53.8125 \nQ 48.578125 59.328125 45.03125 62.0625 \nQ 41.5 64.796875 34.28125 64.796875 \nz\nM 9.8125 72.90625 \nL 35.015625 72.90625 \nQ 46.296875 72.90625 52.390625 68.21875 \nQ 58.5 63.53125 58.5 54.890625 \nQ 58.5 48.1875 55.375 44.234375 \nQ 52.25 40.28125 46.1875 39.3125 \nQ 53.46875 37.75 57.5 32.78125 \nQ 61.53125 27.828125 61.53125 20.40625 \nQ 61.53125 10.640625 54.890625 5.3125 \nQ 48.25 0 35.984375 0 \nL 9.8125 0 \nz\n\" id=\"DejaVuSans-66\"/>\n       <path d=\"M 45.40625 46.390625 \nL 45.40625 75.984375 \nL 54.390625 75.984375 \nL 54.390625 0 \nL 45.40625 0 \nL 45.40625 8.203125 \nQ 42.578125 3.328125 38.25 0.953125 \nQ 33.9375 -1.421875 27.875 -1.421875 \nQ 17.96875 -1.421875 11.734375 6.484375 \nQ 5.515625 14.40625 5.515625 27.296875 \nQ 5.515625 40.1875 11.734375 48.09375 \nQ 17.96875 56 27.875 56 \nQ 33.9375 56 38.25 53.625 \nQ 42.578125 51.265625 45.40625 46.390625 \nz\nM 14.796875 27.296875 \nQ 14.796875 17.390625 18.875 11.75 \nQ 22.953125 6.109375 30.078125 6.109375 \nQ 37.203125 6.109375 41.296875 11.75 \nQ 45.40625 17.390625 45.40625 27.296875 \nQ 45.40625 37.203125 41.296875 42.84375 \nQ 37.203125 48.484375 30.078125 48.484375 \nQ 22.953125 48.484375 18.875 42.84375 \nQ 14.796875 37.203125 14.796875 27.296875 \nz\n\" id=\"DejaVuSans-100\"/>\n      </defs>\n      <g style=\"fill:#555555;\" transform=\"translate(66.69375 78.949219)scale(0.1 -0.1)\">\n       <use xlink:href=\"#DejaVuSans-66\"/>\n       <use x=\"68.603516\" xlink:href=\"#DejaVuSans-108\"/>\n       <use x=\"96.386719\" xlink:href=\"#DejaVuSans-111\"/>\n       <use x=\"157.568359\" xlink:href=\"#DejaVuSans-111\"/>\n       <use x=\"218.75\" xlink:href=\"#DejaVuSans-100\"/>\n       <use x=\"282.226562\" xlink:href=\"#DejaVuSans-80\"/>\n       <use x=\"340.779297\" xlink:href=\"#DejaVuSans-114\"/>\n       <use x=\"379.642578\" xlink:href=\"#DejaVuSans-101\"/>\n       <use x=\"441.166016\" xlink:href=\"#DejaVuSans-115\"/>\n       <use x=\"493.265625\" xlink:href=\"#DejaVuSans-115\"/>\n       <use x=\"545.365234\" xlink:href=\"#DejaVuSans-117\"/>\n       <use x=\"608.744141\" xlink:href=\"#DejaVuSans-114\"/>\n       <use x=\"647.607422\" xlink:href=\"#DejaVuSans-101\"/>\n      </g>\n     </g>\n    </g>\n    <g id=\"ytick_4\">\n     <g id=\"line2d_22\">\n      <g>\n       <use style=\"fill:#555555;stroke:#555555;stroke-width:0.8;\" x=\"144.607813\" xlink:href=\"#m241263e9ed\" y=\"102.33\"/>\n      </g>\n     </g>\n     <g id=\"text_13\">\n      <!-- SkinThickness -->\n      <defs>\n       <path d=\"M 53.515625 70.515625 \nL 53.515625 60.890625 \nQ 47.90625 63.578125 42.921875 64.890625 \nQ 37.9375 66.21875 33.296875 66.21875 \nQ 25.25 66.21875 20.875 63.09375 \nQ 16.5 59.96875 16.5 54.203125 \nQ 16.5 49.359375 19.40625 46.890625 \nQ 22.3125 44.4375 30.421875 42.921875 \nL 36.375 41.703125 \nQ 47.40625 39.59375 52.65625 34.296875 \nQ 57.90625 29 57.90625 20.125 \nQ 57.90625 9.515625 50.796875 4.046875 \nQ 43.703125 -1.421875 29.984375 -1.421875 \nQ 24.8125 -1.421875 18.96875 -0.25 \nQ 13.140625 0.921875 6.890625 3.21875 \nL 6.890625 13.375 \nQ 12.890625 10.015625 18.65625 8.296875 \nQ 24.421875 6.59375 29.984375 6.59375 \nQ 38.421875 6.59375 43.015625 9.90625 \nQ 47.609375 13.234375 47.609375 19.390625 \nQ 47.609375 24.75 44.3125 27.78125 \nQ 41.015625 30.8125 33.5 32.328125 \nL 27.484375 33.5 \nQ 16.453125 35.6875 11.515625 40.375 \nQ 6.59375 45.0625 6.59375 53.421875 \nQ 6.59375 63.09375 13.40625 68.65625 \nQ 20.21875 74.21875 32.171875 74.21875 \nQ 37.3125 74.21875 42.625 73.28125 \nQ 47.953125 72.359375 53.515625 70.515625 \nz\n\" id=\"DejaVuSans-83\"/>\n       <path d=\"M 9.078125 75.984375 \nL 18.109375 75.984375 \nL 18.109375 31.109375 \nL 44.921875 54.6875 \nL 56.390625 54.6875 \nL 27.390625 29.109375 \nL 57.625 0 \nL 45.90625 0 \nL 18.109375 26.703125 \nL 18.109375 0 \nL 9.078125 0 \nz\n\" id=\"DejaVuSans-107\"/>\n       <path d=\"M -0.296875 72.90625 \nL 61.375 72.90625 \nL 61.375 64.59375 \nL 35.5 64.59375 \nL 35.5 0 \nL 25.59375 0 \nL 25.59375 64.59375 \nL -0.296875 64.59375 \nz\n\" id=\"DejaVuSans-84\"/>\n       <path d=\"M 54.890625 33.015625 \nL 54.890625 0 \nL 45.90625 0 \nL 45.90625 32.71875 \nQ 45.90625 40.484375 42.875 44.328125 \nQ 39.84375 48.1875 33.796875 48.1875 \nQ 26.515625 48.1875 22.3125 43.546875 \nQ 18.109375 38.921875 18.109375 30.90625 \nL 18.109375 0 \nL 9.078125 0 \nL 9.078125 75.984375 \nL 18.109375 75.984375 \nL 18.109375 46.1875 \nQ 21.34375 51.125 25.703125 53.5625 \nQ 30.078125 56 35.796875 56 \nQ 45.21875 56 50.046875 50.171875 \nQ 54.890625 44.34375 54.890625 33.015625 \nz\n\" id=\"DejaVuSans-104\"/>\n      </defs>\n      <g style=\"fill:#555555;\" transform=\"translate(66.93125 106.129219)scale(0.1 -0.1)\">\n       <use xlink:href=\"#DejaVuSans-83\"/>\n       <use x=\"63.476562\" xlink:href=\"#DejaVuSans-107\"/>\n       <use x=\"121.386719\" xlink:href=\"#DejaVuSans-105\"/>\n       <use x=\"149.169922\" xlink:href=\"#DejaVuSans-110\"/>\n       <use x=\"212.548828\" xlink:href=\"#DejaVuSans-84\"/>\n       <use x=\"273.632812\" xlink:href=\"#DejaVuSans-104\"/>\n       <use x=\"337.011719\" xlink:href=\"#DejaVuSans-105\"/>\n       <use x=\"364.794922\" xlink:href=\"#DejaVuSans-99\"/>\n       <use x=\"419.775391\" xlink:href=\"#DejaVuSans-107\"/>\n       <use x=\"477.685547\" xlink:href=\"#DejaVuSans-110\"/>\n       <use x=\"541.064453\" xlink:href=\"#DejaVuSans-101\"/>\n       <use x=\"602.587891\" xlink:href=\"#DejaVuSans-115\"/>\n       <use x=\"654.6875\" xlink:href=\"#DejaVuSans-115\"/>\n      </g>\n     </g>\n    </g>\n    <g id=\"ytick_5\">\n     <g id=\"line2d_23\">\n      <g>\n       <use style=\"fill:#555555;stroke:#555555;stroke-width:0.8;\" x=\"144.607813\" xlink:href=\"#m241263e9ed\" y=\"129.51\"/>\n      </g>\n     </g>\n     <g id=\"text_14\">\n      <!-- BMI -->\n      <defs>\n       <path d=\"M 9.8125 72.90625 \nL 24.515625 72.90625 \nL 43.109375 23.296875 \nL 61.8125 72.90625 \nL 76.515625 72.90625 \nL 76.515625 0 \nL 66.890625 0 \nL 66.890625 64.015625 \nL 48.09375 14.015625 \nL 38.1875 14.015625 \nL 19.390625 64.015625 \nL 19.390625 0 \nL 9.8125 0 \nz\n\" id=\"DejaVuSans-77\"/>\n       <path d=\"M 9.8125 72.90625 \nL 19.671875 72.90625 \nL 19.671875 0 \nL 9.8125 0 \nz\n\" id=\"DejaVuSans-73\"/>\n      </defs>\n      <g style=\"fill:#555555;\" transform=\"translate(119.16875 133.309219)scale(0.1 -0.1)\">\n       <use xlink:href=\"#DejaVuSans-66\"/>\n       <use x=\"68.603516\" xlink:href=\"#DejaVuSans-77\"/>\n       <use x=\"154.882812\" xlink:href=\"#DejaVuSans-73\"/>\n      </g>\n     </g>\n    </g>\n    <g id=\"ytick_6\">\n     <g id=\"line2d_24\">\n      <g>\n       <use style=\"fill:#555555;stroke:#555555;stroke-width:0.8;\" x=\"144.607813\" xlink:href=\"#m241263e9ed\" y=\"156.69\"/>\n      </g>\n     </g>\n     <g id=\"text_15\">\n      <!-- DiabetesPedigreeFunction -->\n      <defs>\n       <path d=\"M 19.671875 64.796875 \nL 19.671875 8.109375 \nL 31.59375 8.109375 \nQ 46.6875 8.109375 53.6875 14.9375 \nQ 60.6875 21.78125 60.6875 36.53125 \nQ 60.6875 51.171875 53.6875 57.984375 \nQ 46.6875 64.796875 31.59375 64.796875 \nz\nM 9.8125 72.90625 \nL 30.078125 72.90625 \nQ 51.265625 72.90625 61.171875 64.09375 \nQ 71.09375 55.28125 71.09375 36.53125 \nQ 71.09375 17.671875 61.125 8.828125 \nQ 51.171875 0 30.078125 0 \nL 9.8125 0 \nz\n\" id=\"DejaVuSans-68\"/>\n       <path d=\"M 48.6875 27.296875 \nQ 48.6875 37.203125 44.609375 42.84375 \nQ 40.53125 48.484375 33.40625 48.484375 \nQ 26.265625 48.484375 22.1875 42.84375 \nQ 18.109375 37.203125 18.109375 27.296875 \nQ 18.109375 17.390625 22.1875 11.75 \nQ 26.265625 6.109375 33.40625 6.109375 \nQ 40.53125 6.109375 44.609375 11.75 \nQ 48.6875 17.390625 48.6875 27.296875 \nz\nM 18.109375 46.390625 \nQ 20.953125 51.265625 25.265625 53.625 \nQ 29.59375 56 35.59375 56 \nQ 45.5625 56 51.78125 48.09375 \nQ 58.015625 40.1875 58.015625 27.296875 \nQ 58.015625 14.40625 51.78125 6.484375 \nQ 45.5625 -1.421875 35.59375 -1.421875 \nQ 29.59375 -1.421875 25.265625 0.953125 \nQ 20.953125 3.328125 18.109375 8.203125 \nL 18.109375 0 \nL 9.078125 0 \nL 9.078125 75.984375 \nL 18.109375 75.984375 \nz\n\" id=\"DejaVuSans-98\"/>\n       <path d=\"M 18.3125 70.21875 \nL 18.3125 54.6875 \nL 36.8125 54.6875 \nL 36.8125 47.703125 \nL 18.3125 47.703125 \nL 18.3125 18.015625 \nQ 18.3125 11.328125 20.140625 9.421875 \nQ 21.96875 7.515625 27.59375 7.515625 \nL 36.8125 7.515625 \nL 36.8125 0 \nL 27.59375 0 \nQ 17.1875 0 13.234375 3.875 \nQ 9.28125 7.765625 9.28125 18.015625 \nL 9.28125 47.703125 \nL 2.6875 47.703125 \nL 2.6875 54.6875 \nL 9.28125 54.6875 \nL 9.28125 70.21875 \nz\n\" id=\"DejaVuSans-116\"/>\n       <path d=\"M 9.8125 72.90625 \nL 51.703125 72.90625 \nL 51.703125 64.59375 \nL 19.671875 64.59375 \nL 19.671875 43.109375 \nL 48.578125 43.109375 \nL 48.578125 34.8125 \nL 19.671875 34.8125 \nL 19.671875 0 \nL 9.8125 0 \nz\n\" id=\"DejaVuSans-70\"/>\n      </defs>\n      <g style=\"fill:#555555;\" transform=\"translate(7.2 160.489219)scale(0.1 -0.1)\">\n       <use xlink:href=\"#DejaVuSans-68\"/>\n       <use x=\"77.001953\" xlink:href=\"#DejaVuSans-105\"/>\n       <use x=\"104.785156\" xlink:href=\"#DejaVuSans-97\"/>\n       <use x=\"166.064453\" xlink:href=\"#DejaVuSans-98\"/>\n       <use x=\"229.541016\" xlink:href=\"#DejaVuSans-101\"/>\n       <use x=\"291.064453\" xlink:href=\"#DejaVuSans-116\"/>\n       <use x=\"330.273438\" xlink:href=\"#DejaVuSans-101\"/>\n       <use x=\"391.796875\" xlink:href=\"#DejaVuSans-115\"/>\n       <use x=\"443.896484\" xlink:href=\"#DejaVuSans-80\"/>\n       <use x=\"500.574219\" xlink:href=\"#DejaVuSans-101\"/>\n       <use x=\"562.097656\" xlink:href=\"#DejaVuSans-100\"/>\n       <use x=\"625.574219\" xlink:href=\"#DejaVuSans-105\"/>\n       <use x=\"653.357422\" xlink:href=\"#DejaVuSans-103\"/>\n       <use x=\"716.833984\" xlink:href=\"#DejaVuSans-114\"/>\n       <use x=\"755.697266\" xlink:href=\"#DejaVuSans-101\"/>\n       <use x=\"817.220703\" xlink:href=\"#DejaVuSans-101\"/>\n       <use x=\"878.744141\" xlink:href=\"#DejaVuSans-70\"/>\n       <use x=\"930.763672\" xlink:href=\"#DejaVuSans-117\"/>\n       <use x=\"994.142578\" xlink:href=\"#DejaVuSans-110\"/>\n       <use x=\"1057.521484\" xlink:href=\"#DejaVuSans-99\"/>\n       <use x=\"1112.501953\" xlink:href=\"#DejaVuSans-116\"/>\n       <use x=\"1151.710938\" xlink:href=\"#DejaVuSans-105\"/>\n       <use x=\"1179.494141\" xlink:href=\"#DejaVuSans-111\"/>\n       <use x=\"1240.675781\" xlink:href=\"#DejaVuSans-110\"/>\n      </g>\n     </g>\n    </g>\n    <g id=\"ytick_7\">\n     <g id=\"line2d_25\">\n      <g>\n       <use style=\"fill:#555555;stroke:#555555;stroke-width:0.8;\" x=\"144.607813\" xlink:href=\"#m241263e9ed\" y=\"183.87\"/>\n      </g>\n     </g>\n     <g id=\"text_16\">\n      <!-- Age -->\n      <defs>\n       <path d=\"M 34.1875 63.1875 \nL 20.796875 26.90625 \nL 47.609375 26.90625 \nz\nM 28.609375 72.90625 \nL 39.796875 72.90625 \nL 67.578125 0 \nL 57.328125 0 \nL 50.6875 18.703125 \nL 17.828125 18.703125 \nL 11.1875 0 \nL 0.78125 0 \nz\n\" id=\"DejaVuSans-65\"/>\n      </defs>\n      <g style=\"fill:#555555;\" transform=\"translate(118.265625 187.669219)scale(0.1 -0.1)\">\n       <use xlink:href=\"#DejaVuSans-65\"/>\n       <use x=\"68.408203\" xlink:href=\"#DejaVuSans-103\"/>\n       <use x=\"131.884766\" xlink:href=\"#DejaVuSans-101\"/>\n      </g>\n     </g>\n    </g>\n    <g id=\"ytick_8\">\n     <g id=\"line2d_26\">\n      <g>\n       <use style=\"fill:#555555;stroke:#555555;stroke-width:0.8;\" x=\"144.607813\" xlink:href=\"#m241263e9ed\" y=\"211.05\"/>\n      </g>\n     </g>\n     <g id=\"text_17\">\n      <!-- Outcome -->\n      <defs>\n       <path d=\"M 39.40625 66.21875 \nQ 28.65625 66.21875 22.328125 58.203125 \nQ 16.015625 50.203125 16.015625 36.375 \nQ 16.015625 22.609375 22.328125 14.59375 \nQ 28.65625 6.59375 39.40625 6.59375 \nQ 50.140625 6.59375 56.421875 14.59375 \nQ 62.703125 22.609375 62.703125 36.375 \nQ 62.703125 50.203125 56.421875 58.203125 \nQ 50.140625 66.21875 39.40625 66.21875 \nz\nM 39.40625 74.21875 \nQ 54.734375 74.21875 63.90625 63.9375 \nQ 73.09375 53.65625 73.09375 36.375 \nQ 73.09375 19.140625 63.90625 8.859375 \nQ 54.734375 -1.421875 39.40625 -1.421875 \nQ 24.03125 -1.421875 14.8125 8.828125 \nQ 5.609375 19.09375 5.609375 36.375 \nQ 5.609375 53.65625 14.8125 63.9375 \nQ 24.03125 74.21875 39.40625 74.21875 \nz\n\" id=\"DejaVuSans-79\"/>\n       <path d=\"M 52 44.1875 \nQ 55.375 50.25 60.0625 53.125 \nQ 64.75 56 71.09375 56 \nQ 79.640625 56 84.28125 50.015625 \nQ 88.921875 44.046875 88.921875 33.015625 \nL 88.921875 0 \nL 79.890625 0 \nL 79.890625 32.71875 \nQ 79.890625 40.578125 77.09375 44.375 \nQ 74.3125 48.1875 68.609375 48.1875 \nQ 61.625 48.1875 57.5625 43.546875 \nQ 53.515625 38.921875 53.515625 30.90625 \nL 53.515625 0 \nL 44.484375 0 \nL 44.484375 32.71875 \nQ 44.484375 40.625 41.703125 44.40625 \nQ 38.921875 48.1875 33.109375 48.1875 \nQ 26.21875 48.1875 22.15625 43.53125 \nQ 18.109375 38.875 18.109375 30.90625 \nL 18.109375 0 \nL 9.078125 0 \nL 9.078125 54.6875 \nL 18.109375 54.6875 \nL 18.109375 46.1875 \nQ 21.1875 51.21875 25.484375 53.609375 \nQ 29.78125 56 35.6875 56 \nQ 41.65625 56 45.828125 52.96875 \nQ 50 49.953125 52 44.1875 \nz\n\" id=\"DejaVuSans-109\"/>\n      </defs>\n      <g style=\"fill:#555555;\" transform=\"translate(91.967188 214.849219)scale(0.1 -0.1)\">\n       <use xlink:href=\"#DejaVuSans-79\"/>\n       <use x=\"78.710938\" xlink:href=\"#DejaVuSans-117\"/>\n       <use x=\"142.089844\" xlink:href=\"#DejaVuSans-116\"/>\n       <use x=\"181.298828\" xlink:href=\"#DejaVuSans-99\"/>\n       <use x=\"236.279297\" xlink:href=\"#DejaVuSans-111\"/>\n       <use x=\"297.460938\" xlink:href=\"#DejaVuSans-109\"/>\n       <use x=\"394.873047\" xlink:href=\"#DejaVuSans-101\"/>\n      </g>\n     </g>\n    </g>\n   </g>\n   <g id=\"patch_3\">\n    <path clip-path=\"url(#p8aab609c36)\" d=\"M 144.607813 9.918 \nL 188.980841 9.918 \nL 188.980841 31.662 \nL 144.607813 31.662 \nz\n\" style=\"fill:#ea96a3;\"/>\n   </g>\n   <g id=\"patch_4\">\n    <path clip-path=\"url(#p8aab609c36)\" d=\"M 144.607813 37.098 \nL 463.464955 37.098 \nL 463.464955 58.842 \nL 144.607813 58.842 \nz\n\" style=\"fill:#ca984c;\"/>\n   </g>\n   <g id=\"patch_5\">\n    <path clip-path=\"url(#p8aab609c36)\" d=\"M 144.607813 64.278 \nL 200.374671 64.278 \nL 200.374671 86.022 \nL 144.607813 86.022 \nz\n\" style=\"fill:#98a246;\"/>\n   </g>\n   <g id=\"patch_6\">\n    <path clip-path=\"url(#p8aab609c36)\" d=\"M 144.607813 91.458 \nL 228.051818 91.458 \nL 228.051818 113.202 \nL 144.607813 113.202 \nz\n\" style=\"fill:#49af72;\"/>\n   </g>\n   <g id=\"patch_7\">\n    <path clip-path=\"url(#p8aab609c36)\" d=\"M 144.607813 118.638 \nL 251.489273 118.638 \nL 251.489273 140.382 \nL 144.607813 140.382 \nz\n\" style=\"fill:#4baba4;\"/>\n   </g>\n   <g id=\"patch_8\">\n    <path clip-path=\"url(#p8aab609c36)\" d=\"M 144.607813 145.818 \nL 238.386428 145.818 \nL 238.386428 167.562 \nL 144.607813 167.562 \nz\n\" style=\"fill:#53accd;\"/>\n   </g>\n   <g id=\"patch_9\">\n    <path clip-path=\"url(#p8aab609c36)\" d=\"M 144.607813 172.998 \nL 234.226807 172.998 \nL 234.226807 194.742 \nL 144.607813 194.742 \nz\n\" style=\"fill:#b6a8eb;\"/>\n   </g>\n   <g id=\"patch_10\">\n    <path clip-path=\"url(#p8aab609c36)\" d=\"M 144.607813 200.178 \nL 182.649826 200.178 \nL 182.649826 221.922 \nL 144.607813 221.922 \nz\n\" style=\"fill:#e78cd7;\"/>\n   </g>\n   <g id=\"line2d_27\">\n    <path clip-path=\"url(#p8aab609c36)\" d=\"M 0 0 \n\" style=\"fill:none;stroke:#424242;stroke-linecap:square;stroke-width:2.7;\"/>\n   </g>\n   <g id=\"line2d_28\">\n    <path clip-path=\"url(#p8aab609c36)\" d=\"M 0 0 \n\" style=\"fill:none;stroke:#424242;stroke-linecap:square;stroke-width:2.7;\"/>\n   </g>\n   <g id=\"line2d_29\">\n    <path clip-path=\"url(#p8aab609c36)\" d=\"M 0 0 \n\" style=\"fill:none;stroke:#424242;stroke-linecap:square;stroke-width:2.7;\"/>\n   </g>\n   <g id=\"line2d_30\">\n    <path clip-path=\"url(#p8aab609c36)\" d=\"M 0 0 \n\" style=\"fill:none;stroke:#424242;stroke-linecap:square;stroke-width:2.7;\"/>\n   </g>\n   <g id=\"line2d_31\">\n    <path clip-path=\"url(#p8aab609c36)\" d=\"M 0 0 \n\" style=\"fill:none;stroke:#424242;stroke-linecap:square;stroke-width:2.7;\"/>\n   </g>\n   <g id=\"line2d_32\">\n    <path clip-path=\"url(#p8aab609c36)\" d=\"M 0 0 \n\" style=\"fill:none;stroke:#424242;stroke-linecap:square;stroke-width:2.7;\"/>\n   </g>\n   <g id=\"line2d_33\">\n    <path clip-path=\"url(#p8aab609c36)\" d=\"M 0 0 \n\" style=\"fill:none;stroke:#424242;stroke-linecap:square;stroke-width:2.7;\"/>\n   </g>\n   <g id=\"line2d_34\">\n    <path clip-path=\"url(#p8aab609c36)\" d=\"M 0 0 \n\" style=\"fill:none;stroke:#424242;stroke-linecap:square;stroke-width:2.7;\"/>\n   </g>\n   <g id=\"patch_11\">\n    <path d=\"M 144.607813 224.64 \nL 144.607813 7.2 \n\" style=\"fill:none;stroke:#ffffff;stroke-linecap:square;stroke-linejoin:miter;\"/>\n   </g>\n   <g id=\"patch_12\">\n    <path d=\"M 479.407813 224.64 \nL 479.407813 7.2 \n\" style=\"fill:none;stroke:#ffffff;stroke-linecap:square;stroke-linejoin:miter;\"/>\n   </g>\n   <g id=\"patch_13\">\n    <path d=\"M 144.607813 224.64 \nL 479.407813 224.64 \n\" style=\"fill:none;stroke:#ffffff;stroke-linecap:square;stroke-linejoin:miter;\"/>\n   </g>\n   <g id=\"patch_14\">\n    <path d=\"M 144.607813 7.2 \nL 479.407813 7.2 \n\" style=\"fill:none;stroke:#ffffff;stroke-linecap:square;stroke-linejoin:miter;\"/>\n   </g>\n  </g>\n </g>\n <defs>\n  <clipPath id=\"p8aab609c36\">\n   <rect height=\"217.44\" width=\"334.8\" x=\"144.607813\" y=\"7.2\"/>\n  </clipPath>\n </defs>\n</svg>\n"
          },
          "metadata": {
            "tags": []
          }
        }
      ]
    },
    {
      "cell_type": "markdown",
      "metadata": {
        "id": "Lzpw3Ld8nzvi"
      },
      "source": [
        "###예측"
      ]
    },
    {
      "cell_type": "code",
      "metadata": {
        "colab": {
          "base_uri": "https://localhost:8080/"
        },
        "id": "Bq4Zqu8YnnFw",
        "outputId": "0e69a3bb-3f69-4fed-9b15-c14d4fa9df6a"
      },
      "source": [
        "y_test = best_estimator.predict(X_test)\n",
        "y_test[:5]"
      ],
      "execution_count": 206,
      "outputs": [
        {
          "output_type": "execute_result",
          "data": {
            "text/plain": [
              "array([176.45,  64.62, 186.68, 143.91, 169.57])"
            ]
          },
          "metadata": {
            "tags": []
          },
          "execution_count": 206
        }
      ]
    },
    {
      "cell_type": "code",
      "metadata": {
        "colab": {
          "base_uri": "https://localhost:8080/",
          "height": 141
        },
        "id": "DvLQ7bRMn47v",
        "outputId": "e63b9975-edd6-4288-f732-4ae6a18ed603"
      },
      "source": [
        "train.groupby(\"Outcome\")[\"Insulin\"].describe()"
      ],
      "execution_count": 207,
      "outputs": [
        {
          "output_type": "execute_result",
          "data": {
            "text/html": [
              "<div>\n",
              "<style scoped>\n",
              "    .dataframe tbody tr th:only-of-type {\n",
              "        vertical-align: middle;\n",
              "    }\n",
              "\n",
              "    .dataframe tbody tr th {\n",
              "        vertical-align: top;\n",
              "    }\n",
              "\n",
              "    .dataframe thead th {\n",
              "        text-align: right;\n",
              "    }\n",
              "</style>\n",
              "<table border=\"1\" class=\"dataframe\">\n",
              "  <thead>\n",
              "    <tr style=\"text-align: right;\">\n",
              "      <th></th>\n",
              "      <th>count</th>\n",
              "      <th>mean</th>\n",
              "      <th>std</th>\n",
              "      <th>min</th>\n",
              "      <th>25%</th>\n",
              "      <th>50%</th>\n",
              "      <th>75%</th>\n",
              "      <th>max</th>\n",
              "    </tr>\n",
              "    <tr>\n",
              "      <th>Outcome</th>\n",
              "      <th></th>\n",
              "      <th></th>\n",
              "      <th></th>\n",
              "      <th></th>\n",
              "      <th></th>\n",
              "      <th></th>\n",
              "      <th></th>\n",
              "      <th></th>\n",
              "    </tr>\n",
              "  </thead>\n",
              "  <tbody>\n",
              "    <tr>\n",
              "      <th>0</th>\n",
              "      <td>254.0</td>\n",
              "      <td>115.917323</td>\n",
              "      <td>69.844697</td>\n",
              "      <td>15.0</td>\n",
              "      <td>64.25</td>\n",
              "      <td>100.0</td>\n",
              "      <td>151.00</td>\n",
              "      <td>342.0</td>\n",
              "    </tr>\n",
              "    <tr>\n",
              "      <th>1</th>\n",
              "      <td>116.0</td>\n",
              "      <td>169.163793</td>\n",
              "      <td>70.789454</td>\n",
              "      <td>14.0</td>\n",
              "      <td>124.25</td>\n",
              "      <td>160.0</td>\n",
              "      <td>207.75</td>\n",
              "      <td>360.0</td>\n",
              "    </tr>\n",
              "  </tbody>\n",
              "</table>\n",
              "</div>"
            ],
            "text/plain": [
              "         count        mean        std   min     25%    50%     75%    max\n",
              "Outcome                                                                  \n",
              "0        254.0  115.917323  69.844697  15.0   64.25  100.0  151.00  342.0\n",
              "1        116.0  169.163793  70.789454  14.0  124.25  160.0  207.75  360.0"
            ]
          },
          "metadata": {
            "tags": []
          },
          "execution_count": 207
        }
      ]
    },
    {
      "cell_type": "code",
      "metadata": {
        "id": "Yz2bFs6bocm4"
      },
      "source": [
        "test[\"Insulin\"] = y_test"
      ],
      "execution_count": 208,
      "outputs": []
    },
    {
      "cell_type": "code",
      "metadata": {
        "colab": {
          "base_uri": "https://localhost:8080/",
          "height": 141
        },
        "id": "vxdkZ8ybomj4",
        "outputId": "49784dd2-dd9e-4ff3-db1a-e4c5e5d03100"
      },
      "source": [
        "test.groupby(\"Outcome\")[\"Insulin\"].describe()"
      ],
      "execution_count": 209,
      "outputs": [
        {
          "output_type": "execute_result",
          "data": {
            "text/html": [
              "<div>\n",
              "<style scoped>\n",
              "    .dataframe tbody tr th:only-of-type {\n",
              "        vertical-align: middle;\n",
              "    }\n",
              "\n",
              "    .dataframe tbody tr th {\n",
              "        vertical-align: top;\n",
              "    }\n",
              "\n",
              "    .dataframe thead th {\n",
              "        text-align: right;\n",
              "    }\n",
              "</style>\n",
              "<table border=\"1\" class=\"dataframe\">\n",
              "  <thead>\n",
              "    <tr style=\"text-align: right;\">\n",
              "      <th></th>\n",
              "      <th>count</th>\n",
              "      <th>mean</th>\n",
              "      <th>std</th>\n",
              "      <th>min</th>\n",
              "      <th>25%</th>\n",
              "      <th>50%</th>\n",
              "      <th>75%</th>\n",
              "      <th>max</th>\n",
              "    </tr>\n",
              "    <tr>\n",
              "      <th>Outcome</th>\n",
              "      <th></th>\n",
              "      <th></th>\n",
              "      <th></th>\n",
              "      <th></th>\n",
              "      <th></th>\n",
              "      <th></th>\n",
              "      <th></th>\n",
              "      <th></th>\n",
              "    </tr>\n",
              "  </thead>\n",
              "  <tbody>\n",
              "    <tr>\n",
              "      <th>0</th>\n",
              "      <td>236.0</td>\n",
              "      <td>132.278729</td>\n",
              "      <td>43.111216</td>\n",
              "      <td>49.91</td>\n",
              "      <td>95.9775</td>\n",
              "      <td>136.46</td>\n",
              "      <td>163.6625</td>\n",
              "      <td>225.13</td>\n",
              "    </tr>\n",
              "    <tr>\n",
              "      <th>1</th>\n",
              "      <td>138.0</td>\n",
              "      <td>173.962319</td>\n",
              "      <td>28.729761</td>\n",
              "      <td>99.89</td>\n",
              "      <td>155.1550</td>\n",
              "      <td>174.43</td>\n",
              "      <td>194.4125</td>\n",
              "      <td>245.43</td>\n",
              "    </tr>\n",
              "  </tbody>\n",
              "</table>\n",
              "</div>"
            ],
            "text/plain": [
              "         count        mean        std  ...     50%       75%     max\n",
              "Outcome                                ...                          \n",
              "0        236.0  132.278729  43.111216  ...  136.46  163.6625  225.13\n",
              "1        138.0  173.962319  28.729761  ...  174.43  194.4125  245.43\n",
              "\n",
              "[2 rows x 8 columns]"
            ]
          },
          "metadata": {
            "tags": []
          },
          "execution_count": 209
        }
      ]
    },
    {
      "cell_type": "code",
      "metadata": {
        "colab": {
          "base_uri": "https://localhost:8080/",
          "height": 391
        },
        "id": "S9yRTyLnooQq",
        "outputId": "38da1041-1851-4ab6-ee03-156fbddb399a"
      },
      "source": [
        "#Insulin 평균값을 출력\n",
        "sns.barplot(data=train, x=\"Outcome\", y=\"Insulin\")"
      ],
      "execution_count": 210,
      "outputs": [
        {
          "output_type": "execute_result",
          "data": {
            "text/plain": [
              "<matplotlib.axes._subplots.AxesSubplot at 0x7fa4cbc7fe90>"
            ]
          },
          "metadata": {
            "tags": []
          },
          "execution_count": 210
        },
        {
          "output_type": "display_data",
          "data": {
            "text/plain": [
              "<Figure size 432x288 with 1 Axes>"
            ],
            "image/svg+xml": "<?xml version=\"1.0\" encoding=\"utf-8\" standalone=\"no\"?>\n<!DOCTYPE svg PUBLIC \"-//W3C//DTD SVG 1.1//EN\"\n  \"http://www.w3.org/Graphics/SVG/1.1/DTD/svg11.dtd\">\n<!-- Created with matplotlib (https://matplotlib.org/) -->\n<svg height=\"264.131875pt\" version=\"1.1\" viewBox=\"0 0 390.90125 264.131875\" width=\"390.90125pt\" xmlns=\"http://www.w3.org/2000/svg\" xmlns:xlink=\"http://www.w3.org/1999/xlink\">\n <defs>\n  <style type=\"text/css\">\n*{stroke-linecap:butt;stroke-linejoin:round;}\n  </style>\n </defs>\n <g id=\"figure_1\">\n  <g id=\"patch_1\">\n   <path d=\"M 0 264.131875 \nL 390.90125 264.131875 \nL 390.90125 0 \nL 0 0 \nz\n\" style=\"fill:#ffffff;\"/>\n  </g>\n  <g id=\"axes_1\">\n   <g id=\"patch_2\">\n    <path d=\"M 48.90125 224.64 \nL 383.70125 224.64 \nL 383.70125 7.2 \nL 48.90125 7.2 \nz\n\" style=\"fill:#e5e5e5;\"/>\n   </g>\n   <g id=\"matplotlib.axis_1\">\n    <g id=\"xtick_1\">\n     <g id=\"line2d_1\">\n      <defs>\n       <path d=\"M 0 0 \nL 0 3.5 \n\" id=\"m7e03466d45\" style=\"stroke:#555555;stroke-width:0.8;\"/>\n      </defs>\n      <g>\n       <use style=\"fill:#555555;stroke:#555555;stroke-width:0.8;\" x=\"132.60125\" xlink:href=\"#m7e03466d45\" y=\"224.64\"/>\n      </g>\n     </g>\n     <g id=\"text_1\">\n      <!-- 0 -->\n      <defs>\n       <path d=\"M 31.78125 66.40625 \nQ 24.171875 66.40625 20.328125 58.90625 \nQ 16.5 51.421875 16.5 36.375 \nQ 16.5 21.390625 20.328125 13.890625 \nQ 24.171875 6.390625 31.78125 6.390625 \nQ 39.453125 6.390625 43.28125 13.890625 \nQ 47.125 21.390625 47.125 36.375 \nQ 47.125 51.421875 43.28125 58.90625 \nQ 39.453125 66.40625 31.78125 66.40625 \nz\nM 31.78125 74.21875 \nQ 44.046875 74.21875 50.515625 64.515625 \nQ 56.984375 54.828125 56.984375 36.375 \nQ 56.984375 17.96875 50.515625 8.265625 \nQ 44.046875 -1.421875 31.78125 -1.421875 \nQ 19.53125 -1.421875 13.0625 8.265625 \nQ 6.59375 17.96875 6.59375 36.375 \nQ 6.59375 54.828125 13.0625 64.515625 \nQ 19.53125 74.21875 31.78125 74.21875 \nz\n\" id=\"DejaVuSans-48\"/>\n      </defs>\n      <g style=\"fill:#555555;\" transform=\"translate(129.42 239.238437)scale(0.1 -0.1)\">\n       <use xlink:href=\"#DejaVuSans-48\"/>\n      </g>\n     </g>\n    </g>\n    <g id=\"xtick_2\">\n     <g id=\"line2d_2\">\n      <g>\n       <use style=\"fill:#555555;stroke:#555555;stroke-width:0.8;\" x=\"300.00125\" xlink:href=\"#m7e03466d45\" y=\"224.64\"/>\n      </g>\n     </g>\n     <g id=\"text_2\">\n      <!-- 1 -->\n      <defs>\n       <path d=\"M 12.40625 8.296875 \nL 28.515625 8.296875 \nL 28.515625 63.921875 \nL 10.984375 60.40625 \nL 10.984375 69.390625 \nL 28.421875 72.90625 \nL 38.28125 72.90625 \nL 38.28125 8.296875 \nL 54.390625 8.296875 \nL 54.390625 0 \nL 12.40625 0 \nz\n\" id=\"DejaVuSans-49\"/>\n      </defs>\n      <g style=\"fill:#555555;\" transform=\"translate(296.82 239.238437)scale(0.1 -0.1)\">\n       <use xlink:href=\"#DejaVuSans-49\"/>\n      </g>\n     </g>\n    </g>\n    <g id=\"text_3\">\n     <!-- Outcome -->\n     <defs>\n      <path d=\"M 39.40625 66.21875 \nQ 28.65625 66.21875 22.328125 58.203125 \nQ 16.015625 50.203125 16.015625 36.375 \nQ 16.015625 22.609375 22.328125 14.59375 \nQ 28.65625 6.59375 39.40625 6.59375 \nQ 50.140625 6.59375 56.421875 14.59375 \nQ 62.703125 22.609375 62.703125 36.375 \nQ 62.703125 50.203125 56.421875 58.203125 \nQ 50.140625 66.21875 39.40625 66.21875 \nz\nM 39.40625 74.21875 \nQ 54.734375 74.21875 63.90625 63.9375 \nQ 73.09375 53.65625 73.09375 36.375 \nQ 73.09375 19.140625 63.90625 8.859375 \nQ 54.734375 -1.421875 39.40625 -1.421875 \nQ 24.03125 -1.421875 14.8125 8.828125 \nQ 5.609375 19.09375 5.609375 36.375 \nQ 5.609375 53.65625 14.8125 63.9375 \nQ 24.03125 74.21875 39.40625 74.21875 \nz\n\" id=\"DejaVuSans-79\"/>\n      <path d=\"M 8.5 21.578125 \nL 8.5 54.6875 \nL 17.484375 54.6875 \nL 17.484375 21.921875 \nQ 17.484375 14.15625 20.5 10.265625 \nQ 23.53125 6.390625 29.59375 6.390625 \nQ 36.859375 6.390625 41.078125 11.03125 \nQ 45.3125 15.671875 45.3125 23.6875 \nL 45.3125 54.6875 \nL 54.296875 54.6875 \nL 54.296875 0 \nL 45.3125 0 \nL 45.3125 8.40625 \nQ 42.046875 3.421875 37.71875 1 \nQ 33.40625 -1.421875 27.6875 -1.421875 \nQ 18.265625 -1.421875 13.375 4.4375 \nQ 8.5 10.296875 8.5 21.578125 \nz\nM 31.109375 56 \nz\n\" id=\"DejaVuSans-117\"/>\n      <path d=\"M 18.3125 70.21875 \nL 18.3125 54.6875 \nL 36.8125 54.6875 \nL 36.8125 47.703125 \nL 18.3125 47.703125 \nL 18.3125 18.015625 \nQ 18.3125 11.328125 20.140625 9.421875 \nQ 21.96875 7.515625 27.59375 7.515625 \nL 36.8125 7.515625 \nL 36.8125 0 \nL 27.59375 0 \nQ 17.1875 0 13.234375 3.875 \nQ 9.28125 7.765625 9.28125 18.015625 \nL 9.28125 47.703125 \nL 2.6875 47.703125 \nL 2.6875 54.6875 \nL 9.28125 54.6875 \nL 9.28125 70.21875 \nz\n\" id=\"DejaVuSans-116\"/>\n      <path d=\"M 48.78125 52.59375 \nL 48.78125 44.1875 \nQ 44.96875 46.296875 41.140625 47.34375 \nQ 37.3125 48.390625 33.40625 48.390625 \nQ 24.65625 48.390625 19.8125 42.84375 \nQ 14.984375 37.3125 14.984375 27.296875 \nQ 14.984375 17.28125 19.8125 11.734375 \nQ 24.65625 6.203125 33.40625 6.203125 \nQ 37.3125 6.203125 41.140625 7.25 \nQ 44.96875 8.296875 48.78125 10.40625 \nL 48.78125 2.09375 \nQ 45.015625 0.34375 40.984375 -0.53125 \nQ 36.96875 -1.421875 32.421875 -1.421875 \nQ 20.0625 -1.421875 12.78125 6.34375 \nQ 5.515625 14.109375 5.515625 27.296875 \nQ 5.515625 40.671875 12.859375 48.328125 \nQ 20.21875 56 33.015625 56 \nQ 37.15625 56 41.109375 55.140625 \nQ 45.0625 54.296875 48.78125 52.59375 \nz\n\" id=\"DejaVuSans-99\"/>\n      <path d=\"M 30.609375 48.390625 \nQ 23.390625 48.390625 19.1875 42.75 \nQ 14.984375 37.109375 14.984375 27.296875 \nQ 14.984375 17.484375 19.15625 11.84375 \nQ 23.34375 6.203125 30.609375 6.203125 \nQ 37.796875 6.203125 41.984375 11.859375 \nQ 46.1875 17.53125 46.1875 27.296875 \nQ 46.1875 37.015625 41.984375 42.703125 \nQ 37.796875 48.390625 30.609375 48.390625 \nz\nM 30.609375 56 \nQ 42.328125 56 49.015625 48.375 \nQ 55.71875 40.765625 55.71875 27.296875 \nQ 55.71875 13.875 49.015625 6.21875 \nQ 42.328125 -1.421875 30.609375 -1.421875 \nQ 18.84375 -1.421875 12.171875 6.21875 \nQ 5.515625 13.875 5.515625 27.296875 \nQ 5.515625 40.765625 12.171875 48.375 \nQ 18.84375 56 30.609375 56 \nz\n\" id=\"DejaVuSans-111\"/>\n      <path d=\"M 52 44.1875 \nQ 55.375 50.25 60.0625 53.125 \nQ 64.75 56 71.09375 56 \nQ 79.640625 56 84.28125 50.015625 \nQ 88.921875 44.046875 88.921875 33.015625 \nL 88.921875 0 \nL 79.890625 0 \nL 79.890625 32.71875 \nQ 79.890625 40.578125 77.09375 44.375 \nQ 74.3125 48.1875 68.609375 48.1875 \nQ 61.625 48.1875 57.5625 43.546875 \nQ 53.515625 38.921875 53.515625 30.90625 \nL 53.515625 0 \nL 44.484375 0 \nL 44.484375 32.71875 \nQ 44.484375 40.625 41.703125 44.40625 \nQ 38.921875 48.1875 33.109375 48.1875 \nQ 26.21875 48.1875 22.15625 43.53125 \nQ 18.109375 38.875 18.109375 30.90625 \nL 18.109375 0 \nL 9.078125 0 \nL 9.078125 54.6875 \nL 18.109375 54.6875 \nL 18.109375 46.1875 \nQ 21.1875 51.21875 25.484375 53.609375 \nQ 29.78125 56 35.6875 56 \nQ 41.65625 56 45.828125 52.96875 \nQ 50 49.953125 52 44.1875 \nz\n\" id=\"DejaVuSans-109\"/>\n      <path d=\"M 56.203125 29.59375 \nL 56.203125 25.203125 \nL 14.890625 25.203125 \nQ 15.484375 15.921875 20.484375 11.0625 \nQ 25.484375 6.203125 34.421875 6.203125 \nQ 39.59375 6.203125 44.453125 7.46875 \nQ 49.3125 8.734375 54.109375 11.28125 \nL 54.109375 2.78125 \nQ 49.265625 0.734375 44.1875 -0.34375 \nQ 39.109375 -1.421875 33.890625 -1.421875 \nQ 20.796875 -1.421875 13.15625 6.1875 \nQ 5.515625 13.8125 5.515625 26.8125 \nQ 5.515625 40.234375 12.765625 48.109375 \nQ 20.015625 56 32.328125 56 \nQ 43.359375 56 49.78125 48.890625 \nQ 56.203125 41.796875 56.203125 29.59375 \nz\nM 47.21875 32.234375 \nQ 47.125 39.59375 43.09375 43.984375 \nQ 39.0625 48.390625 32.421875 48.390625 \nQ 24.90625 48.390625 20.390625 44.140625 \nQ 15.875 39.890625 15.1875 32.171875 \nz\n\" id=\"DejaVuSans-101\"/>\n     </defs>\n     <g style=\"fill:#555555;\" transform=\"translate(188.916875 254.43625)scale(0.12 -0.12)\">\n      <use xlink:href=\"#DejaVuSans-79\"/>\n      <use x=\"78.710938\" xlink:href=\"#DejaVuSans-117\"/>\n      <use x=\"142.089844\" xlink:href=\"#DejaVuSans-116\"/>\n      <use x=\"181.298828\" xlink:href=\"#DejaVuSans-99\"/>\n      <use x=\"236.279297\" xlink:href=\"#DejaVuSans-111\"/>\n      <use x=\"297.460938\" xlink:href=\"#DejaVuSans-109\"/>\n      <use x=\"394.873047\" xlink:href=\"#DejaVuSans-101\"/>\n     </g>\n    </g>\n   </g>\n   <g id=\"matplotlib.axis_2\">\n    <g id=\"ytick_1\">\n     <g id=\"line2d_3\">\n      <path clip-path=\"url(#p100d62d6da)\" d=\"M 48.90125 224.64 \nL 383.70125 224.64 \n\" style=\"fill:none;stroke:#ffffff;stroke-linecap:square;stroke-width:0.8;\"/>\n     </g>\n     <g id=\"line2d_4\">\n      <defs>\n       <path d=\"M 0 0 \nL -3.5 0 \n\" id=\"m359d8153ac\" style=\"stroke:#555555;stroke-width:0.8;\"/>\n      </defs>\n      <g>\n       <use style=\"fill:#555555;stroke:#555555;stroke-width:0.8;\" x=\"48.90125\" xlink:href=\"#m359d8153ac\" y=\"224.64\"/>\n      </g>\n     </g>\n     <g id=\"text_4\">\n      <!-- 0 -->\n      <g style=\"fill:#555555;\" transform=\"translate(35.53875 228.439219)scale(0.1 -0.1)\">\n       <use xlink:href=\"#DejaVuSans-48\"/>\n      </g>\n     </g>\n    </g>\n    <g id=\"ytick_2\">\n     <g id=\"line2d_5\">\n      <path clip-path=\"url(#p100d62d6da)\" d=\"M 48.90125 196.25198 \nL 383.70125 196.25198 \n\" style=\"fill:none;stroke:#ffffff;stroke-linecap:square;stroke-width:0.8;\"/>\n     </g>\n     <g id=\"line2d_6\">\n      <g>\n       <use style=\"fill:#555555;stroke:#555555;stroke-width:0.8;\" x=\"48.90125\" xlink:href=\"#m359d8153ac\" y=\"196.25198\"/>\n      </g>\n     </g>\n     <g id=\"text_5\">\n      <!-- 25 -->\n      <defs>\n       <path d=\"M 19.1875 8.296875 \nL 53.609375 8.296875 \nL 53.609375 0 \nL 7.328125 0 \nL 7.328125 8.296875 \nQ 12.9375 14.109375 22.625 23.890625 \nQ 32.328125 33.6875 34.8125 36.53125 \nQ 39.546875 41.84375 41.421875 45.53125 \nQ 43.3125 49.21875 43.3125 52.78125 \nQ 43.3125 58.59375 39.234375 62.25 \nQ 35.15625 65.921875 28.609375 65.921875 \nQ 23.96875 65.921875 18.8125 64.3125 \nQ 13.671875 62.703125 7.8125 59.421875 \nL 7.8125 69.390625 \nQ 13.765625 71.78125 18.9375 73 \nQ 24.125 74.21875 28.421875 74.21875 \nQ 39.75 74.21875 46.484375 68.546875 \nQ 53.21875 62.890625 53.21875 53.421875 \nQ 53.21875 48.921875 51.53125 44.890625 \nQ 49.859375 40.875 45.40625 35.40625 \nQ 44.1875 33.984375 37.640625 27.21875 \nQ 31.109375 20.453125 19.1875 8.296875 \nz\n\" id=\"DejaVuSans-50\"/>\n       <path d=\"M 10.796875 72.90625 \nL 49.515625 72.90625 \nL 49.515625 64.59375 \nL 19.828125 64.59375 \nL 19.828125 46.734375 \nQ 21.96875 47.46875 24.109375 47.828125 \nQ 26.265625 48.1875 28.421875 48.1875 \nQ 40.625 48.1875 47.75 41.5 \nQ 54.890625 34.8125 54.890625 23.390625 \nQ 54.890625 11.625 47.5625 5.09375 \nQ 40.234375 -1.421875 26.90625 -1.421875 \nQ 22.3125 -1.421875 17.546875 -0.640625 \nQ 12.796875 0.140625 7.71875 1.703125 \nL 7.71875 11.625 \nQ 12.109375 9.234375 16.796875 8.0625 \nQ 21.484375 6.890625 26.703125 6.890625 \nQ 35.15625 6.890625 40.078125 11.328125 \nQ 45.015625 15.765625 45.015625 23.390625 \nQ 45.015625 31 40.078125 35.4375 \nQ 35.15625 39.890625 26.703125 39.890625 \nQ 22.75 39.890625 18.8125 39.015625 \nQ 14.890625 38.140625 10.796875 36.28125 \nz\n\" id=\"DejaVuSans-53\"/>\n      </defs>\n      <g style=\"fill:#555555;\" transform=\"translate(29.17625 200.051198)scale(0.1 -0.1)\">\n       <use xlink:href=\"#DejaVuSans-50\"/>\n       <use x=\"63.623047\" xlink:href=\"#DejaVuSans-53\"/>\n      </g>\n     </g>\n    </g>\n    <g id=\"ytick_3\">\n     <g id=\"line2d_7\">\n      <path clip-path=\"url(#p100d62d6da)\" d=\"M 48.90125 167.863959 \nL 383.70125 167.863959 \n\" style=\"fill:none;stroke:#ffffff;stroke-linecap:square;stroke-width:0.8;\"/>\n     </g>\n     <g id=\"line2d_8\">\n      <g>\n       <use style=\"fill:#555555;stroke:#555555;stroke-width:0.8;\" x=\"48.90125\" xlink:href=\"#m359d8153ac\" y=\"167.863959\"/>\n      </g>\n     </g>\n     <g id=\"text_6\">\n      <!-- 50 -->\n      <g style=\"fill:#555555;\" transform=\"translate(29.17625 171.663178)scale(0.1 -0.1)\">\n       <use xlink:href=\"#DejaVuSans-53\"/>\n       <use x=\"63.623047\" xlink:href=\"#DejaVuSans-48\"/>\n      </g>\n     </g>\n    </g>\n    <g id=\"ytick_4\">\n     <g id=\"line2d_9\">\n      <path clip-path=\"url(#p100d62d6da)\" d=\"M 48.90125 139.475939 \nL 383.70125 139.475939 \n\" style=\"fill:none;stroke:#ffffff;stroke-linecap:square;stroke-width:0.8;\"/>\n     </g>\n     <g id=\"line2d_10\">\n      <g>\n       <use style=\"fill:#555555;stroke:#555555;stroke-width:0.8;\" x=\"48.90125\" xlink:href=\"#m359d8153ac\" y=\"139.475939\"/>\n      </g>\n     </g>\n     <g id=\"text_7\">\n      <!-- 75 -->\n      <defs>\n       <path d=\"M 8.203125 72.90625 \nL 55.078125 72.90625 \nL 55.078125 68.703125 \nL 28.609375 0 \nL 18.3125 0 \nL 43.21875 64.59375 \nL 8.203125 64.59375 \nz\n\" id=\"DejaVuSans-55\"/>\n      </defs>\n      <g style=\"fill:#555555;\" transform=\"translate(29.17625 143.275158)scale(0.1 -0.1)\">\n       <use xlink:href=\"#DejaVuSans-55\"/>\n       <use x=\"63.623047\" xlink:href=\"#DejaVuSans-53\"/>\n      </g>\n     </g>\n    </g>\n    <g id=\"ytick_5\">\n     <g id=\"line2d_11\">\n      <path clip-path=\"url(#p100d62d6da)\" d=\"M 48.90125 111.087918 \nL 383.70125 111.087918 \n\" style=\"fill:none;stroke:#ffffff;stroke-linecap:square;stroke-width:0.8;\"/>\n     </g>\n     <g id=\"line2d_12\">\n      <g>\n       <use style=\"fill:#555555;stroke:#555555;stroke-width:0.8;\" x=\"48.90125\" xlink:href=\"#m359d8153ac\" y=\"111.087918\"/>\n      </g>\n     </g>\n     <g id=\"text_8\">\n      <!-- 100 -->\n      <g style=\"fill:#555555;\" transform=\"translate(22.81375 114.887137)scale(0.1 -0.1)\">\n       <use xlink:href=\"#DejaVuSans-49\"/>\n       <use x=\"63.623047\" xlink:href=\"#DejaVuSans-48\"/>\n       <use x=\"127.246094\" xlink:href=\"#DejaVuSans-48\"/>\n      </g>\n     </g>\n    </g>\n    <g id=\"ytick_6\">\n     <g id=\"line2d_13\">\n      <path clip-path=\"url(#p100d62d6da)\" d=\"M 48.90125 82.699898 \nL 383.70125 82.699898 \n\" style=\"fill:none;stroke:#ffffff;stroke-linecap:square;stroke-width:0.8;\"/>\n     </g>\n     <g id=\"line2d_14\">\n      <g>\n       <use style=\"fill:#555555;stroke:#555555;stroke-width:0.8;\" x=\"48.90125\" xlink:href=\"#m359d8153ac\" y=\"82.699898\"/>\n      </g>\n     </g>\n     <g id=\"text_9\">\n      <!-- 125 -->\n      <g style=\"fill:#555555;\" transform=\"translate(22.81375 86.499117)scale(0.1 -0.1)\">\n       <use xlink:href=\"#DejaVuSans-49\"/>\n       <use x=\"63.623047\" xlink:href=\"#DejaVuSans-50\"/>\n       <use x=\"127.246094\" xlink:href=\"#DejaVuSans-53\"/>\n      </g>\n     </g>\n    </g>\n    <g id=\"ytick_7\">\n     <g id=\"line2d_15\">\n      <path clip-path=\"url(#p100d62d6da)\" d=\"M 48.90125 54.311878 \nL 383.70125 54.311878 \n\" style=\"fill:none;stroke:#ffffff;stroke-linecap:square;stroke-width:0.8;\"/>\n     </g>\n     <g id=\"line2d_16\">\n      <g>\n       <use style=\"fill:#555555;stroke:#555555;stroke-width:0.8;\" x=\"48.90125\" xlink:href=\"#m359d8153ac\" y=\"54.311878\"/>\n      </g>\n     </g>\n     <g id=\"text_10\">\n      <!-- 150 -->\n      <g style=\"fill:#555555;\" transform=\"translate(22.81375 58.111096)scale(0.1 -0.1)\">\n       <use xlink:href=\"#DejaVuSans-49\"/>\n       <use x=\"63.623047\" xlink:href=\"#DejaVuSans-53\"/>\n       <use x=\"127.246094\" xlink:href=\"#DejaVuSans-48\"/>\n      </g>\n     </g>\n    </g>\n    <g id=\"ytick_8\">\n     <g id=\"line2d_17\">\n      <path clip-path=\"url(#p100d62d6da)\" d=\"M 48.90125 25.923857 \nL 383.70125 25.923857 \n\" style=\"fill:none;stroke:#ffffff;stroke-linecap:square;stroke-width:0.8;\"/>\n     </g>\n     <g id=\"line2d_18\">\n      <g>\n       <use style=\"fill:#555555;stroke:#555555;stroke-width:0.8;\" x=\"48.90125\" xlink:href=\"#m359d8153ac\" y=\"25.923857\"/>\n      </g>\n     </g>\n     <g id=\"text_11\">\n      <!-- 175 -->\n      <g style=\"fill:#555555;\" transform=\"translate(22.81375 29.723076)scale(0.1 -0.1)\">\n       <use xlink:href=\"#DejaVuSans-49\"/>\n       <use x=\"63.623047\" xlink:href=\"#DejaVuSans-55\"/>\n       <use x=\"127.246094\" xlink:href=\"#DejaVuSans-53\"/>\n      </g>\n     </g>\n    </g>\n    <g id=\"text_12\">\n     <!-- Insulin -->\n     <defs>\n      <path d=\"M 9.8125 72.90625 \nL 19.671875 72.90625 \nL 19.671875 0 \nL 9.8125 0 \nz\n\" id=\"DejaVuSans-73\"/>\n      <path d=\"M 54.890625 33.015625 \nL 54.890625 0 \nL 45.90625 0 \nL 45.90625 32.71875 \nQ 45.90625 40.484375 42.875 44.328125 \nQ 39.84375 48.1875 33.796875 48.1875 \nQ 26.515625 48.1875 22.3125 43.546875 \nQ 18.109375 38.921875 18.109375 30.90625 \nL 18.109375 0 \nL 9.078125 0 \nL 9.078125 54.6875 \nL 18.109375 54.6875 \nL 18.109375 46.1875 \nQ 21.34375 51.125 25.703125 53.5625 \nQ 30.078125 56 35.796875 56 \nQ 45.21875 56 50.046875 50.171875 \nQ 54.890625 44.34375 54.890625 33.015625 \nz\n\" id=\"DejaVuSans-110\"/>\n      <path d=\"M 44.28125 53.078125 \nL 44.28125 44.578125 \nQ 40.484375 46.53125 36.375 47.5 \nQ 32.28125 48.484375 27.875 48.484375 \nQ 21.1875 48.484375 17.84375 46.4375 \nQ 14.5 44.390625 14.5 40.28125 \nQ 14.5 37.15625 16.890625 35.375 \nQ 19.28125 33.59375 26.515625 31.984375 \nL 29.59375 31.296875 \nQ 39.15625 29.25 43.1875 25.515625 \nQ 47.21875 21.78125 47.21875 15.09375 \nQ 47.21875 7.46875 41.1875 3.015625 \nQ 35.15625 -1.421875 24.609375 -1.421875 \nQ 20.21875 -1.421875 15.453125 -0.5625 \nQ 10.6875 0.296875 5.421875 2 \nL 5.421875 11.28125 \nQ 10.40625 8.6875 15.234375 7.390625 \nQ 20.0625 6.109375 24.8125 6.109375 \nQ 31.15625 6.109375 34.5625 8.28125 \nQ 37.984375 10.453125 37.984375 14.40625 \nQ 37.984375 18.0625 35.515625 20.015625 \nQ 33.0625 21.96875 24.703125 23.78125 \nL 21.578125 24.515625 \nQ 13.234375 26.265625 9.515625 29.90625 \nQ 5.8125 33.546875 5.8125 39.890625 \nQ 5.8125 47.609375 11.28125 51.796875 \nQ 16.75 56 26.8125 56 \nQ 31.78125 56 36.171875 55.265625 \nQ 40.578125 54.546875 44.28125 53.078125 \nz\n\" id=\"DejaVuSans-115\"/>\n      <path d=\"M 9.421875 75.984375 \nL 18.40625 75.984375 \nL 18.40625 0 \nL 9.421875 0 \nz\n\" id=\"DejaVuSans-108\"/>\n      <path d=\"M 9.421875 54.6875 \nL 18.40625 54.6875 \nL 18.40625 0 \nL 9.421875 0 \nz\nM 9.421875 75.984375 \nL 18.40625 75.984375 \nL 18.40625 64.59375 \nL 9.421875 64.59375 \nz\n\" id=\"DejaVuSans-105\"/>\n     </defs>\n     <g style=\"fill:#555555;\" transform=\"translate(16.318125 135.556875)rotate(-90)scale(0.12 -0.12)\">\n      <use xlink:href=\"#DejaVuSans-73\"/>\n      <use x=\"29.492188\" xlink:href=\"#DejaVuSans-110\"/>\n      <use x=\"92.871094\" xlink:href=\"#DejaVuSans-115\"/>\n      <use x=\"144.970703\" xlink:href=\"#DejaVuSans-117\"/>\n      <use x=\"208.349609\" xlink:href=\"#DejaVuSans-108\"/>\n      <use x=\"236.132812\" xlink:href=\"#DejaVuSans-105\"/>\n      <use x=\"263.916016\" xlink:href=\"#DejaVuSans-110\"/>\n     </g>\n    </g>\n   </g>\n   <g id=\"patch_3\">\n    <path clip-path=\"url(#p100d62d6da)\" d=\"M 65.64125 224.64 \nL 199.56125 224.64 \nL 199.56125 93.013467 \nL 65.64125 93.013467 \nz\n\" style=\"fill:#cc5a49;\"/>\n   </g>\n   <g id=\"patch_4\">\n    <path clip-path=\"url(#p100d62d6da)\" d=\"M 233.04125 224.64 \nL 366.96125 224.64 \nL 366.96125 32.550992 \nL 233.04125 32.550992 \nz\n\" style=\"fill:#4586ac;\"/>\n   </g>\n   <g id=\"line2d_19\">\n    <path clip-path=\"url(#p100d62d6da)\" d=\"M 132.60125 102.250079 \nL 132.60125 83.665314 \n\" style=\"fill:none;stroke:#424242;stroke-linecap:square;stroke-width:2.7;\"/>\n   </g>\n   <g id=\"line2d_20\">\n    <path clip-path=\"url(#p100d62d6da)\" d=\"M 300.00125 46.874216 \nL 300.00125 17.554286 \n\" style=\"fill:none;stroke:#424242;stroke-linecap:square;stroke-width:2.7;\"/>\n   </g>\n   <g id=\"patch_5\">\n    <path d=\"M 48.90125 224.64 \nL 48.90125 7.2 \n\" style=\"fill:none;stroke:#ffffff;stroke-linecap:square;stroke-linejoin:miter;\"/>\n   </g>\n   <g id=\"patch_6\">\n    <path d=\"M 383.70125 224.64 \nL 383.70125 7.2 \n\" style=\"fill:none;stroke:#ffffff;stroke-linecap:square;stroke-linejoin:miter;\"/>\n   </g>\n   <g id=\"patch_7\">\n    <path d=\"M 48.90125 224.64 \nL 383.70125 224.64 \n\" style=\"fill:none;stroke:#ffffff;stroke-linecap:square;stroke-linejoin:miter;\"/>\n   </g>\n   <g id=\"patch_8\">\n    <path d=\"M 48.90125 7.2 \nL 383.70125 7.2 \n\" style=\"fill:none;stroke:#ffffff;stroke-linecap:square;stroke-linejoin:miter;\"/>\n   </g>\n  </g>\n </g>\n <defs>\n  <clipPath id=\"p100d62d6da\">\n   <rect height=\"217.44\" width=\"334.8\" x=\"48.90125\" y=\"7.2\"/>\n  </clipPath>\n </defs>\n</svg>\n"
          },
          "metadata": {
            "tags": []
          }
        }
      ]
    },
    {
      "cell_type": "code",
      "metadata": {
        "colab": {
          "base_uri": "https://localhost:8080/",
          "height": 391
        },
        "id": "znEVVN-_o_TW",
        "outputId": "55665085-2d77-496c-90c6-bd78c27527d6"
      },
      "source": [
        "#예측값에 대하여 Insulin 평균값을 출력\n",
        "sns.barplot(data=test, x=\"Outcome\", y=\"Insulin\")"
      ],
      "execution_count": 211,
      "outputs": [
        {
          "output_type": "execute_result",
          "data": {
            "text/plain": [
              "<matplotlib.axes._subplots.AxesSubplot at 0x7fa4cbbe3090>"
            ]
          },
          "metadata": {
            "tags": []
          },
          "execution_count": 211
        },
        {
          "output_type": "display_data",
          "data": {
            "text/plain": [
              "<Figure size 432x288 with 1 Axes>"
            ],
            "image/svg+xml": "<?xml version=\"1.0\" encoding=\"utf-8\" standalone=\"no\"?>\n<!DOCTYPE svg PUBLIC \"-//W3C//DTD SVG 1.1//EN\"\n  \"http://www.w3.org/Graphics/SVG/1.1/DTD/svg11.dtd\">\n<!-- Created with matplotlib (https://matplotlib.org/) -->\n<svg height=\"264.131875pt\" version=\"1.1\" viewBox=\"0 0 390.90125 264.131875\" width=\"390.90125pt\" xmlns=\"http://www.w3.org/2000/svg\" xmlns:xlink=\"http://www.w3.org/1999/xlink\">\n <defs>\n  <style type=\"text/css\">\n*{stroke-linecap:butt;stroke-linejoin:round;}\n  </style>\n </defs>\n <g id=\"figure_1\">\n  <g id=\"patch_1\">\n   <path d=\"M 0 264.131875 \nL 390.90125 264.131875 \nL 390.90125 0 \nL 0 0 \nz\n\" style=\"fill:#ffffff;\"/>\n  </g>\n  <g id=\"axes_1\">\n   <g id=\"patch_2\">\n    <path d=\"M 48.90125 224.64 \nL 383.70125 224.64 \nL 383.70125 7.2 \nL 48.90125 7.2 \nz\n\" style=\"fill:#e5e5e5;\"/>\n   </g>\n   <g id=\"matplotlib.axis_1\">\n    <g id=\"xtick_1\">\n     <g id=\"line2d_1\">\n      <defs>\n       <path d=\"M 0 0 \nL 0 3.5 \n\" id=\"m4beb091c16\" style=\"stroke:#555555;stroke-width:0.8;\"/>\n      </defs>\n      <g>\n       <use style=\"fill:#555555;stroke:#555555;stroke-width:0.8;\" x=\"132.60125\" xlink:href=\"#m4beb091c16\" y=\"224.64\"/>\n      </g>\n     </g>\n     <g id=\"text_1\">\n      <!-- 0 -->\n      <defs>\n       <path d=\"M 31.78125 66.40625 \nQ 24.171875 66.40625 20.328125 58.90625 \nQ 16.5 51.421875 16.5 36.375 \nQ 16.5 21.390625 20.328125 13.890625 \nQ 24.171875 6.390625 31.78125 6.390625 \nQ 39.453125 6.390625 43.28125 13.890625 \nQ 47.125 21.390625 47.125 36.375 \nQ 47.125 51.421875 43.28125 58.90625 \nQ 39.453125 66.40625 31.78125 66.40625 \nz\nM 31.78125 74.21875 \nQ 44.046875 74.21875 50.515625 64.515625 \nQ 56.984375 54.828125 56.984375 36.375 \nQ 56.984375 17.96875 50.515625 8.265625 \nQ 44.046875 -1.421875 31.78125 -1.421875 \nQ 19.53125 -1.421875 13.0625 8.265625 \nQ 6.59375 17.96875 6.59375 36.375 \nQ 6.59375 54.828125 13.0625 64.515625 \nQ 19.53125 74.21875 31.78125 74.21875 \nz\n\" id=\"DejaVuSans-48\"/>\n      </defs>\n      <g style=\"fill:#555555;\" transform=\"translate(129.42 239.238437)scale(0.1 -0.1)\">\n       <use xlink:href=\"#DejaVuSans-48\"/>\n      </g>\n     </g>\n    </g>\n    <g id=\"xtick_2\">\n     <g id=\"line2d_2\">\n      <g>\n       <use style=\"fill:#555555;stroke:#555555;stroke-width:0.8;\" x=\"300.00125\" xlink:href=\"#m4beb091c16\" y=\"224.64\"/>\n      </g>\n     </g>\n     <g id=\"text_2\">\n      <!-- 1 -->\n      <defs>\n       <path d=\"M 12.40625 8.296875 \nL 28.515625 8.296875 \nL 28.515625 63.921875 \nL 10.984375 60.40625 \nL 10.984375 69.390625 \nL 28.421875 72.90625 \nL 38.28125 72.90625 \nL 38.28125 8.296875 \nL 54.390625 8.296875 \nL 54.390625 0 \nL 12.40625 0 \nz\n\" id=\"DejaVuSans-49\"/>\n      </defs>\n      <g style=\"fill:#555555;\" transform=\"translate(296.82 239.238437)scale(0.1 -0.1)\">\n       <use xlink:href=\"#DejaVuSans-49\"/>\n      </g>\n     </g>\n    </g>\n    <g id=\"text_3\">\n     <!-- Outcome -->\n     <defs>\n      <path d=\"M 39.40625 66.21875 \nQ 28.65625 66.21875 22.328125 58.203125 \nQ 16.015625 50.203125 16.015625 36.375 \nQ 16.015625 22.609375 22.328125 14.59375 \nQ 28.65625 6.59375 39.40625 6.59375 \nQ 50.140625 6.59375 56.421875 14.59375 \nQ 62.703125 22.609375 62.703125 36.375 \nQ 62.703125 50.203125 56.421875 58.203125 \nQ 50.140625 66.21875 39.40625 66.21875 \nz\nM 39.40625 74.21875 \nQ 54.734375 74.21875 63.90625 63.9375 \nQ 73.09375 53.65625 73.09375 36.375 \nQ 73.09375 19.140625 63.90625 8.859375 \nQ 54.734375 -1.421875 39.40625 -1.421875 \nQ 24.03125 -1.421875 14.8125 8.828125 \nQ 5.609375 19.09375 5.609375 36.375 \nQ 5.609375 53.65625 14.8125 63.9375 \nQ 24.03125 74.21875 39.40625 74.21875 \nz\n\" id=\"DejaVuSans-79\"/>\n      <path d=\"M 8.5 21.578125 \nL 8.5 54.6875 \nL 17.484375 54.6875 \nL 17.484375 21.921875 \nQ 17.484375 14.15625 20.5 10.265625 \nQ 23.53125 6.390625 29.59375 6.390625 \nQ 36.859375 6.390625 41.078125 11.03125 \nQ 45.3125 15.671875 45.3125 23.6875 \nL 45.3125 54.6875 \nL 54.296875 54.6875 \nL 54.296875 0 \nL 45.3125 0 \nL 45.3125 8.40625 \nQ 42.046875 3.421875 37.71875 1 \nQ 33.40625 -1.421875 27.6875 -1.421875 \nQ 18.265625 -1.421875 13.375 4.4375 \nQ 8.5 10.296875 8.5 21.578125 \nz\nM 31.109375 56 \nz\n\" id=\"DejaVuSans-117\"/>\n      <path d=\"M 18.3125 70.21875 \nL 18.3125 54.6875 \nL 36.8125 54.6875 \nL 36.8125 47.703125 \nL 18.3125 47.703125 \nL 18.3125 18.015625 \nQ 18.3125 11.328125 20.140625 9.421875 \nQ 21.96875 7.515625 27.59375 7.515625 \nL 36.8125 7.515625 \nL 36.8125 0 \nL 27.59375 0 \nQ 17.1875 0 13.234375 3.875 \nQ 9.28125 7.765625 9.28125 18.015625 \nL 9.28125 47.703125 \nL 2.6875 47.703125 \nL 2.6875 54.6875 \nL 9.28125 54.6875 \nL 9.28125 70.21875 \nz\n\" id=\"DejaVuSans-116\"/>\n      <path d=\"M 48.78125 52.59375 \nL 48.78125 44.1875 \nQ 44.96875 46.296875 41.140625 47.34375 \nQ 37.3125 48.390625 33.40625 48.390625 \nQ 24.65625 48.390625 19.8125 42.84375 \nQ 14.984375 37.3125 14.984375 27.296875 \nQ 14.984375 17.28125 19.8125 11.734375 \nQ 24.65625 6.203125 33.40625 6.203125 \nQ 37.3125 6.203125 41.140625 7.25 \nQ 44.96875 8.296875 48.78125 10.40625 \nL 48.78125 2.09375 \nQ 45.015625 0.34375 40.984375 -0.53125 \nQ 36.96875 -1.421875 32.421875 -1.421875 \nQ 20.0625 -1.421875 12.78125 6.34375 \nQ 5.515625 14.109375 5.515625 27.296875 \nQ 5.515625 40.671875 12.859375 48.328125 \nQ 20.21875 56 33.015625 56 \nQ 37.15625 56 41.109375 55.140625 \nQ 45.0625 54.296875 48.78125 52.59375 \nz\n\" id=\"DejaVuSans-99\"/>\n      <path d=\"M 30.609375 48.390625 \nQ 23.390625 48.390625 19.1875 42.75 \nQ 14.984375 37.109375 14.984375 27.296875 \nQ 14.984375 17.484375 19.15625 11.84375 \nQ 23.34375 6.203125 30.609375 6.203125 \nQ 37.796875 6.203125 41.984375 11.859375 \nQ 46.1875 17.53125 46.1875 27.296875 \nQ 46.1875 37.015625 41.984375 42.703125 \nQ 37.796875 48.390625 30.609375 48.390625 \nz\nM 30.609375 56 \nQ 42.328125 56 49.015625 48.375 \nQ 55.71875 40.765625 55.71875 27.296875 \nQ 55.71875 13.875 49.015625 6.21875 \nQ 42.328125 -1.421875 30.609375 -1.421875 \nQ 18.84375 -1.421875 12.171875 6.21875 \nQ 5.515625 13.875 5.515625 27.296875 \nQ 5.515625 40.765625 12.171875 48.375 \nQ 18.84375 56 30.609375 56 \nz\n\" id=\"DejaVuSans-111\"/>\n      <path d=\"M 52 44.1875 \nQ 55.375 50.25 60.0625 53.125 \nQ 64.75 56 71.09375 56 \nQ 79.640625 56 84.28125 50.015625 \nQ 88.921875 44.046875 88.921875 33.015625 \nL 88.921875 0 \nL 79.890625 0 \nL 79.890625 32.71875 \nQ 79.890625 40.578125 77.09375 44.375 \nQ 74.3125 48.1875 68.609375 48.1875 \nQ 61.625 48.1875 57.5625 43.546875 \nQ 53.515625 38.921875 53.515625 30.90625 \nL 53.515625 0 \nL 44.484375 0 \nL 44.484375 32.71875 \nQ 44.484375 40.625 41.703125 44.40625 \nQ 38.921875 48.1875 33.109375 48.1875 \nQ 26.21875 48.1875 22.15625 43.53125 \nQ 18.109375 38.875 18.109375 30.90625 \nL 18.109375 0 \nL 9.078125 0 \nL 9.078125 54.6875 \nL 18.109375 54.6875 \nL 18.109375 46.1875 \nQ 21.1875 51.21875 25.484375 53.609375 \nQ 29.78125 56 35.6875 56 \nQ 41.65625 56 45.828125 52.96875 \nQ 50 49.953125 52 44.1875 \nz\n\" id=\"DejaVuSans-109\"/>\n      <path d=\"M 56.203125 29.59375 \nL 56.203125 25.203125 \nL 14.890625 25.203125 \nQ 15.484375 15.921875 20.484375 11.0625 \nQ 25.484375 6.203125 34.421875 6.203125 \nQ 39.59375 6.203125 44.453125 7.46875 \nQ 49.3125 8.734375 54.109375 11.28125 \nL 54.109375 2.78125 \nQ 49.265625 0.734375 44.1875 -0.34375 \nQ 39.109375 -1.421875 33.890625 -1.421875 \nQ 20.796875 -1.421875 13.15625 6.1875 \nQ 5.515625 13.8125 5.515625 26.8125 \nQ 5.515625 40.234375 12.765625 48.109375 \nQ 20.015625 56 32.328125 56 \nQ 43.359375 56 49.78125 48.890625 \nQ 56.203125 41.796875 56.203125 29.59375 \nz\nM 47.21875 32.234375 \nQ 47.125 39.59375 43.09375 43.984375 \nQ 39.0625 48.390625 32.421875 48.390625 \nQ 24.90625 48.390625 20.390625 44.140625 \nQ 15.875 39.890625 15.1875 32.171875 \nz\n\" id=\"DejaVuSans-101\"/>\n     </defs>\n     <g style=\"fill:#555555;\" transform=\"translate(188.916875 254.43625)scale(0.12 -0.12)\">\n      <use xlink:href=\"#DejaVuSans-79\"/>\n      <use x=\"78.710938\" xlink:href=\"#DejaVuSans-117\"/>\n      <use x=\"142.089844\" xlink:href=\"#DejaVuSans-116\"/>\n      <use x=\"181.298828\" xlink:href=\"#DejaVuSans-99\"/>\n      <use x=\"236.279297\" xlink:href=\"#DejaVuSans-111\"/>\n      <use x=\"297.460938\" xlink:href=\"#DejaVuSans-109\"/>\n      <use x=\"394.873047\" xlink:href=\"#DejaVuSans-101\"/>\n     </g>\n    </g>\n   </g>\n   <g id=\"matplotlib.axis_2\">\n    <g id=\"ytick_1\">\n     <g id=\"line2d_3\">\n      <path clip-path=\"url(#pf77a1ed40b)\" d=\"M 48.90125 224.64 \nL 383.70125 224.64 \n\" style=\"fill:none;stroke:#ffffff;stroke-linecap:square;stroke-width:0.8;\"/>\n     </g>\n     <g id=\"line2d_4\">\n      <defs>\n       <path d=\"M 0 0 \nL -3.5 0 \n\" id=\"m478bc2381a\" style=\"stroke:#555555;stroke-width:0.8;\"/>\n      </defs>\n      <g>\n       <use style=\"fill:#555555;stroke:#555555;stroke-width:0.8;\" x=\"48.90125\" xlink:href=\"#m478bc2381a\" y=\"224.64\"/>\n      </g>\n     </g>\n     <g id=\"text_4\">\n      <!-- 0 -->\n      <g style=\"fill:#555555;\" transform=\"translate(35.53875 228.439219)scale(0.1 -0.1)\">\n       <use xlink:href=\"#DejaVuSans-48\"/>\n      </g>\n     </g>\n    </g>\n    <g id=\"ytick_2\">\n     <g id=\"line2d_5\">\n      <path clip-path=\"url(#pf77a1ed40b)\" d=\"M 48.90125 195.655832 \nL 383.70125 195.655832 \n\" style=\"fill:none;stroke:#ffffff;stroke-linecap:square;stroke-width:0.8;\"/>\n     </g>\n     <g id=\"line2d_6\">\n      <g>\n       <use style=\"fill:#555555;stroke:#555555;stroke-width:0.8;\" x=\"48.90125\" xlink:href=\"#m478bc2381a\" y=\"195.655832\"/>\n      </g>\n     </g>\n     <g id=\"text_5\">\n      <!-- 25 -->\n      <defs>\n       <path d=\"M 19.1875 8.296875 \nL 53.609375 8.296875 \nL 53.609375 0 \nL 7.328125 0 \nL 7.328125 8.296875 \nQ 12.9375 14.109375 22.625 23.890625 \nQ 32.328125 33.6875 34.8125 36.53125 \nQ 39.546875 41.84375 41.421875 45.53125 \nQ 43.3125 49.21875 43.3125 52.78125 \nQ 43.3125 58.59375 39.234375 62.25 \nQ 35.15625 65.921875 28.609375 65.921875 \nQ 23.96875 65.921875 18.8125 64.3125 \nQ 13.671875 62.703125 7.8125 59.421875 \nL 7.8125 69.390625 \nQ 13.765625 71.78125 18.9375 73 \nQ 24.125 74.21875 28.421875 74.21875 \nQ 39.75 74.21875 46.484375 68.546875 \nQ 53.21875 62.890625 53.21875 53.421875 \nQ 53.21875 48.921875 51.53125 44.890625 \nQ 49.859375 40.875 45.40625 35.40625 \nQ 44.1875 33.984375 37.640625 27.21875 \nQ 31.109375 20.453125 19.1875 8.296875 \nz\n\" id=\"DejaVuSans-50\"/>\n       <path d=\"M 10.796875 72.90625 \nL 49.515625 72.90625 \nL 49.515625 64.59375 \nL 19.828125 64.59375 \nL 19.828125 46.734375 \nQ 21.96875 47.46875 24.109375 47.828125 \nQ 26.265625 48.1875 28.421875 48.1875 \nQ 40.625 48.1875 47.75 41.5 \nQ 54.890625 34.8125 54.890625 23.390625 \nQ 54.890625 11.625 47.5625 5.09375 \nQ 40.234375 -1.421875 26.90625 -1.421875 \nQ 22.3125 -1.421875 17.546875 -0.640625 \nQ 12.796875 0.140625 7.71875 1.703125 \nL 7.71875 11.625 \nQ 12.109375 9.234375 16.796875 8.0625 \nQ 21.484375 6.890625 26.703125 6.890625 \nQ 35.15625 6.890625 40.078125 11.328125 \nQ 45.015625 15.765625 45.015625 23.390625 \nQ 45.015625 31 40.078125 35.4375 \nQ 35.15625 39.890625 26.703125 39.890625 \nQ 22.75 39.890625 18.8125 39.015625 \nQ 14.890625 38.140625 10.796875 36.28125 \nz\n\" id=\"DejaVuSans-53\"/>\n      </defs>\n      <g style=\"fill:#555555;\" transform=\"translate(29.17625 199.45505)scale(0.1 -0.1)\">\n       <use xlink:href=\"#DejaVuSans-50\"/>\n       <use x=\"63.623047\" xlink:href=\"#DejaVuSans-53\"/>\n      </g>\n     </g>\n    </g>\n    <g id=\"ytick_3\">\n     <g id=\"line2d_7\">\n      <path clip-path=\"url(#pf77a1ed40b)\" d=\"M 48.90125 166.671663 \nL 383.70125 166.671663 \n\" style=\"fill:none;stroke:#ffffff;stroke-linecap:square;stroke-width:0.8;\"/>\n     </g>\n     <g id=\"line2d_8\">\n      <g>\n       <use style=\"fill:#555555;stroke:#555555;stroke-width:0.8;\" x=\"48.90125\" xlink:href=\"#m478bc2381a\" y=\"166.671663\"/>\n      </g>\n     </g>\n     <g id=\"text_6\">\n      <!-- 50 -->\n      <g style=\"fill:#555555;\" transform=\"translate(29.17625 170.470882)scale(0.1 -0.1)\">\n       <use xlink:href=\"#DejaVuSans-53\"/>\n       <use x=\"63.623047\" xlink:href=\"#DejaVuSans-48\"/>\n      </g>\n     </g>\n    </g>\n    <g id=\"ytick_4\">\n     <g id=\"line2d_9\">\n      <path clip-path=\"url(#pf77a1ed40b)\" d=\"M 48.90125 137.687495 \nL 383.70125 137.687495 \n\" style=\"fill:none;stroke:#ffffff;stroke-linecap:square;stroke-width:0.8;\"/>\n     </g>\n     <g id=\"line2d_10\">\n      <g>\n       <use style=\"fill:#555555;stroke:#555555;stroke-width:0.8;\" x=\"48.90125\" xlink:href=\"#m478bc2381a\" y=\"137.687495\"/>\n      </g>\n     </g>\n     <g id=\"text_7\">\n      <!-- 75 -->\n      <defs>\n       <path d=\"M 8.203125 72.90625 \nL 55.078125 72.90625 \nL 55.078125 68.703125 \nL 28.609375 0 \nL 18.3125 0 \nL 43.21875 64.59375 \nL 8.203125 64.59375 \nz\n\" id=\"DejaVuSans-55\"/>\n      </defs>\n      <g style=\"fill:#555555;\" transform=\"translate(29.17625 141.486714)scale(0.1 -0.1)\">\n       <use xlink:href=\"#DejaVuSans-55\"/>\n       <use x=\"63.623047\" xlink:href=\"#DejaVuSans-53\"/>\n      </g>\n     </g>\n    </g>\n    <g id=\"ytick_5\">\n     <g id=\"line2d_11\">\n      <path clip-path=\"url(#pf77a1ed40b)\" d=\"M 48.90125 108.703327 \nL 383.70125 108.703327 \n\" style=\"fill:none;stroke:#ffffff;stroke-linecap:square;stroke-width:0.8;\"/>\n     </g>\n     <g id=\"line2d_12\">\n      <g>\n       <use style=\"fill:#555555;stroke:#555555;stroke-width:0.8;\" x=\"48.90125\" xlink:href=\"#m478bc2381a\" y=\"108.703327\"/>\n      </g>\n     </g>\n     <g id=\"text_8\">\n      <!-- 100 -->\n      <g style=\"fill:#555555;\" transform=\"translate(22.81375 112.502545)scale(0.1 -0.1)\">\n       <use xlink:href=\"#DejaVuSans-49\"/>\n       <use x=\"63.623047\" xlink:href=\"#DejaVuSans-48\"/>\n       <use x=\"127.246094\" xlink:href=\"#DejaVuSans-48\"/>\n      </g>\n     </g>\n    </g>\n    <g id=\"ytick_6\">\n     <g id=\"line2d_13\">\n      <path clip-path=\"url(#pf77a1ed40b)\" d=\"M 48.90125 79.719158 \nL 383.70125 79.719158 \n\" style=\"fill:none;stroke:#ffffff;stroke-linecap:square;stroke-width:0.8;\"/>\n     </g>\n     <g id=\"line2d_14\">\n      <g>\n       <use style=\"fill:#555555;stroke:#555555;stroke-width:0.8;\" x=\"48.90125\" xlink:href=\"#m478bc2381a\" y=\"79.719158\"/>\n      </g>\n     </g>\n     <g id=\"text_9\">\n      <!-- 125 -->\n      <g style=\"fill:#555555;\" transform=\"translate(22.81375 83.518377)scale(0.1 -0.1)\">\n       <use xlink:href=\"#DejaVuSans-49\"/>\n       <use x=\"63.623047\" xlink:href=\"#DejaVuSans-50\"/>\n       <use x=\"127.246094\" xlink:href=\"#DejaVuSans-53\"/>\n      </g>\n     </g>\n    </g>\n    <g id=\"ytick_7\">\n     <g id=\"line2d_15\">\n      <path clip-path=\"url(#pf77a1ed40b)\" d=\"M 48.90125 50.73499 \nL 383.70125 50.73499 \n\" style=\"fill:none;stroke:#ffffff;stroke-linecap:square;stroke-width:0.8;\"/>\n     </g>\n     <g id=\"line2d_16\">\n      <g>\n       <use style=\"fill:#555555;stroke:#555555;stroke-width:0.8;\" x=\"48.90125\" xlink:href=\"#m478bc2381a\" y=\"50.73499\"/>\n      </g>\n     </g>\n     <g id=\"text_10\">\n      <!-- 150 -->\n      <g style=\"fill:#555555;\" transform=\"translate(22.81375 54.534209)scale(0.1 -0.1)\">\n       <use xlink:href=\"#DejaVuSans-49\"/>\n       <use x=\"63.623047\" xlink:href=\"#DejaVuSans-53\"/>\n       <use x=\"127.246094\" xlink:href=\"#DejaVuSans-48\"/>\n      </g>\n     </g>\n    </g>\n    <g id=\"ytick_8\">\n     <g id=\"line2d_17\">\n      <path clip-path=\"url(#pf77a1ed40b)\" d=\"M 48.90125 21.750822 \nL 383.70125 21.750822 \n\" style=\"fill:none;stroke:#ffffff;stroke-linecap:square;stroke-width:0.8;\"/>\n     </g>\n     <g id=\"line2d_18\">\n      <g>\n       <use style=\"fill:#555555;stroke:#555555;stroke-width:0.8;\" x=\"48.90125\" xlink:href=\"#m478bc2381a\" y=\"21.750822\"/>\n      </g>\n     </g>\n     <g id=\"text_11\">\n      <!-- 175 -->\n      <g style=\"fill:#555555;\" transform=\"translate(22.81375 25.55004)scale(0.1 -0.1)\">\n       <use xlink:href=\"#DejaVuSans-49\"/>\n       <use x=\"63.623047\" xlink:href=\"#DejaVuSans-55\"/>\n       <use x=\"127.246094\" xlink:href=\"#DejaVuSans-53\"/>\n      </g>\n     </g>\n    </g>\n    <g id=\"text_12\">\n     <!-- Insulin -->\n     <defs>\n      <path d=\"M 9.8125 72.90625 \nL 19.671875 72.90625 \nL 19.671875 0 \nL 9.8125 0 \nz\n\" id=\"DejaVuSans-73\"/>\n      <path d=\"M 54.890625 33.015625 \nL 54.890625 0 \nL 45.90625 0 \nL 45.90625 32.71875 \nQ 45.90625 40.484375 42.875 44.328125 \nQ 39.84375 48.1875 33.796875 48.1875 \nQ 26.515625 48.1875 22.3125 43.546875 \nQ 18.109375 38.921875 18.109375 30.90625 \nL 18.109375 0 \nL 9.078125 0 \nL 9.078125 54.6875 \nL 18.109375 54.6875 \nL 18.109375 46.1875 \nQ 21.34375 51.125 25.703125 53.5625 \nQ 30.078125 56 35.796875 56 \nQ 45.21875 56 50.046875 50.171875 \nQ 54.890625 44.34375 54.890625 33.015625 \nz\n\" id=\"DejaVuSans-110\"/>\n      <path d=\"M 44.28125 53.078125 \nL 44.28125 44.578125 \nQ 40.484375 46.53125 36.375 47.5 \nQ 32.28125 48.484375 27.875 48.484375 \nQ 21.1875 48.484375 17.84375 46.4375 \nQ 14.5 44.390625 14.5 40.28125 \nQ 14.5 37.15625 16.890625 35.375 \nQ 19.28125 33.59375 26.515625 31.984375 \nL 29.59375 31.296875 \nQ 39.15625 29.25 43.1875 25.515625 \nQ 47.21875 21.78125 47.21875 15.09375 \nQ 47.21875 7.46875 41.1875 3.015625 \nQ 35.15625 -1.421875 24.609375 -1.421875 \nQ 20.21875 -1.421875 15.453125 -0.5625 \nQ 10.6875 0.296875 5.421875 2 \nL 5.421875 11.28125 \nQ 10.40625 8.6875 15.234375 7.390625 \nQ 20.0625 6.109375 24.8125 6.109375 \nQ 31.15625 6.109375 34.5625 8.28125 \nQ 37.984375 10.453125 37.984375 14.40625 \nQ 37.984375 18.0625 35.515625 20.015625 \nQ 33.0625 21.96875 24.703125 23.78125 \nL 21.578125 24.515625 \nQ 13.234375 26.265625 9.515625 29.90625 \nQ 5.8125 33.546875 5.8125 39.890625 \nQ 5.8125 47.609375 11.28125 51.796875 \nQ 16.75 56 26.8125 56 \nQ 31.78125 56 36.171875 55.265625 \nQ 40.578125 54.546875 44.28125 53.078125 \nz\n\" id=\"DejaVuSans-115\"/>\n      <path d=\"M 9.421875 75.984375 \nL 18.40625 75.984375 \nL 18.40625 0 \nL 9.421875 0 \nz\n\" id=\"DejaVuSans-108\"/>\n      <path d=\"M 9.421875 54.6875 \nL 18.40625 54.6875 \nL 18.40625 0 \nL 9.421875 0 \nz\nM 9.421875 75.984375 \nL 18.40625 75.984375 \nL 18.40625 64.59375 \nL 9.421875 64.59375 \nz\n\" id=\"DejaVuSans-105\"/>\n     </defs>\n     <g style=\"fill:#555555;\" transform=\"translate(16.318125 135.556875)rotate(-90)scale(0.12 -0.12)\">\n      <use xlink:href=\"#DejaVuSans-73\"/>\n      <use x=\"29.492188\" xlink:href=\"#DejaVuSans-110\"/>\n      <use x=\"92.871094\" xlink:href=\"#DejaVuSans-115\"/>\n      <use x=\"144.970703\" xlink:href=\"#DejaVuSans-117\"/>\n      <use x=\"208.349609\" xlink:href=\"#DejaVuSans-108\"/>\n      <use x=\"236.132812\" xlink:href=\"#DejaVuSans-105\"/>\n      <use x=\"263.916016\" xlink:href=\"#DejaVuSans-110\"/>\n     </g>\n    </g>\n   </g>\n   <g id=\"patch_3\">\n    <path clip-path=\"url(#pf77a1ed40b)\" d=\"M 65.64125 224.64 \nL 199.56125 224.64 \nL 199.56125 71.280442 \nL 65.64125 71.280442 \nz\n\" style=\"fill:#cc5a49;\"/>\n   </g>\n   <g id=\"patch_4\">\n    <path clip-path=\"url(#pf77a1ed40b)\" d=\"M 233.04125 224.64 \nL 366.96125 224.64 \nL 366.96125 22.953875 \nL 233.04125 22.953875 \nz\n\" style=\"fill:#4586ac;\"/>\n   </g>\n   <g id=\"line2d_19\">\n    <path clip-path=\"url(#pf77a1ed40b)\" d=\"M 132.60125 77.509422 \nL 132.60125 64.834203 \n\" style=\"fill:none;stroke:#424242;stroke-linecap:square;stroke-width:2.7;\"/>\n   </g>\n   <g id=\"line2d_20\">\n    <path clip-path=\"url(#pf77a1ed40b)\" d=\"M 300.00125 28.160767 \nL 300.00125 17.554286 \n\" style=\"fill:none;stroke:#424242;stroke-linecap:square;stroke-width:2.7;\"/>\n   </g>\n   <g id=\"patch_5\">\n    <path d=\"M 48.90125 224.64 \nL 48.90125 7.2 \n\" style=\"fill:none;stroke:#ffffff;stroke-linecap:square;stroke-linejoin:miter;\"/>\n   </g>\n   <g id=\"patch_6\">\n    <path d=\"M 383.70125 224.64 \nL 383.70125 7.2 \n\" style=\"fill:none;stroke:#ffffff;stroke-linecap:square;stroke-linejoin:miter;\"/>\n   </g>\n   <g id=\"patch_7\">\n    <path d=\"M 48.90125 224.64 \nL 383.70125 224.64 \n\" style=\"fill:none;stroke:#ffffff;stroke-linecap:square;stroke-linejoin:miter;\"/>\n   </g>\n   <g id=\"patch_8\">\n    <path d=\"M 48.90125 7.2 \nL 383.70125 7.2 \n\" style=\"fill:none;stroke:#ffffff;stroke-linecap:square;stroke-linejoin:miter;\"/>\n   </g>\n  </g>\n </g>\n <defs>\n  <clipPath id=\"pf77a1ed40b\">\n   <rect height=\"217.44\" width=\"334.8\" x=\"48.90125\" y=\"7.2\"/>\n  </clipPath>\n </defs>\n</svg>\n"
          },
          "metadata": {
            "tags": []
          }
        }
      ]
    },
    {
      "cell_type": "markdown",
      "metadata": {
        "id": "77FYWLXhTcv3"
      },
      "source": [
        "###예측값을 csv 파일로 저장"
      ]
    },
    {
      "cell_type": "code",
      "metadata": {
        "colab": {
          "base_uri": "https://localhost:8080/"
        },
        "id": "vEGknqmdTQzS",
        "outputId": "a0300e84-b6d4-49e9-da55-eac59c7a3aaf"
      },
      "source": [
        "df.loc[df[\"Insulin\"] == 0, \"Insulin\"]"
      ],
      "execution_count": 213,
      "outputs": [
        {
          "output_type": "execute_result",
          "data": {
            "text/plain": [
              "0      0\n",
              "1      0\n",
              "2      0\n",
              "5      0\n",
              "7      0\n",
              "      ..\n",
              "761    0\n",
              "762    0\n",
              "764    0\n",
              "766    0\n",
              "767    0\n",
              "Name: Insulin, Length: 374, dtype: int64"
            ]
          },
          "metadata": {
            "tags": []
          },
          "execution_count": 213
        }
      ]
    },
    {
      "cell_type": "code",
      "metadata": {
        "colab": {
          "base_uri": "https://localhost:8080/"
        },
        "id": "vI52-6_CTg6S",
        "outputId": "24284ca6-338b-4e8c-db36-0582962b7c2f"
      },
      "source": [
        "test[\"Insulin\"]"
      ],
      "execution_count": 214,
      "outputs": [
        {
          "output_type": "execute_result",
          "data": {
            "text/plain": [
              "0      176.45\n",
              "1       64.62\n",
              "2      186.68\n",
              "5      143.91\n",
              "7      169.57\n",
              "        ...  \n",
              "761    217.78\n",
              "762     93.02\n",
              "764    170.31\n",
              "766    163.97\n",
              "767     74.52\n",
              "Name: Insulin, Length: 374, dtype: float64"
            ]
          },
          "metadata": {
            "tags": []
          },
          "execution_count": 214
        }
      ]
    },
    {
      "cell_type": "code",
      "metadata": {
        "id": "kX_CM7KqTxVs"
      },
      "source": [
        "df.loc[df[\"Insulin\"] == 0, \"Insulin\"] = test[\"Insulin\"]"
      ],
      "execution_count": 215,
      "outputs": []
    },
    {
      "cell_type": "code",
      "metadata": {
        "id": "FXv3atgkT7rX"
      },
      "source": [
        "df.to_csv(\"/content/drive/MyDrive/Colab Notebooks/DataScience/My CSV/diabetes_fill_insulin.csv\", index=False)"
      ],
      "execution_count": 219,
      "outputs": []
    },
    {
      "cell_type": "code",
      "metadata": {
        "colab": {
          "base_uri": "https://localhost:8080/",
          "height": 415
        },
        "id": "eI833ChdT9ZN",
        "outputId": "5340cb31-5c5b-4858-b930-64d2ac923a6a"
      },
      "source": [
        "pd.read_csv(\"/content/drive/MyDrive/Colab Notebooks/DataScience/My CSV/diabetes_fill_insulin.csv\")"
      ],
      "execution_count": 220,
      "outputs": [
        {
          "output_type": "execute_result",
          "data": {
            "text/html": [
              "<div>\n",
              "<style scoped>\n",
              "    .dataframe tbody tr th:only-of-type {\n",
              "        vertical-align: middle;\n",
              "    }\n",
              "\n",
              "    .dataframe tbody tr th {\n",
              "        vertical-align: top;\n",
              "    }\n",
              "\n",
              "    .dataframe thead th {\n",
              "        text-align: right;\n",
              "    }\n",
              "</style>\n",
              "<table border=\"1\" class=\"dataframe\">\n",
              "  <thead>\n",
              "    <tr style=\"text-align: right;\">\n",
              "      <th></th>\n",
              "      <th>Pregnancies</th>\n",
              "      <th>Glucose</th>\n",
              "      <th>BloodPressure</th>\n",
              "      <th>SkinThickness</th>\n",
              "      <th>Insulin</th>\n",
              "      <th>BMI</th>\n",
              "      <th>DiabetesPedigreeFunction</th>\n",
              "      <th>Age</th>\n",
              "      <th>Outcome</th>\n",
              "    </tr>\n",
              "  </thead>\n",
              "  <tbody>\n",
              "    <tr>\n",
              "      <th>0</th>\n",
              "      <td>6</td>\n",
              "      <td>148</td>\n",
              "      <td>72</td>\n",
              "      <td>35</td>\n",
              "      <td>176.45</td>\n",
              "      <td>33.6</td>\n",
              "      <td>0.627</td>\n",
              "      <td>50</td>\n",
              "      <td>1</td>\n",
              "    </tr>\n",
              "    <tr>\n",
              "      <th>1</th>\n",
              "      <td>1</td>\n",
              "      <td>85</td>\n",
              "      <td>66</td>\n",
              "      <td>29</td>\n",
              "      <td>64.62</td>\n",
              "      <td>26.6</td>\n",
              "      <td>0.351</td>\n",
              "      <td>31</td>\n",
              "      <td>0</td>\n",
              "    </tr>\n",
              "    <tr>\n",
              "      <th>2</th>\n",
              "      <td>8</td>\n",
              "      <td>183</td>\n",
              "      <td>64</td>\n",
              "      <td>0</td>\n",
              "      <td>186.68</td>\n",
              "      <td>23.3</td>\n",
              "      <td>0.672</td>\n",
              "      <td>32</td>\n",
              "      <td>1</td>\n",
              "    </tr>\n",
              "    <tr>\n",
              "      <th>3</th>\n",
              "      <td>1</td>\n",
              "      <td>89</td>\n",
              "      <td>66</td>\n",
              "      <td>23</td>\n",
              "      <td>94.00</td>\n",
              "      <td>28.1</td>\n",
              "      <td>0.167</td>\n",
              "      <td>21</td>\n",
              "      <td>0</td>\n",
              "    </tr>\n",
              "    <tr>\n",
              "      <th>4</th>\n",
              "      <td>0</td>\n",
              "      <td>137</td>\n",
              "      <td>40</td>\n",
              "      <td>35</td>\n",
              "      <td>168.00</td>\n",
              "      <td>43.1</td>\n",
              "      <td>2.288</td>\n",
              "      <td>33</td>\n",
              "      <td>1</td>\n",
              "    </tr>\n",
              "    <tr>\n",
              "      <th>...</th>\n",
              "      <td>...</td>\n",
              "      <td>...</td>\n",
              "      <td>...</td>\n",
              "      <td>...</td>\n",
              "      <td>...</td>\n",
              "      <td>...</td>\n",
              "      <td>...</td>\n",
              "      <td>...</td>\n",
              "      <td>...</td>\n",
              "    </tr>\n",
              "    <tr>\n",
              "      <th>763</th>\n",
              "      <td>10</td>\n",
              "      <td>101</td>\n",
              "      <td>76</td>\n",
              "      <td>48</td>\n",
              "      <td>180.00</td>\n",
              "      <td>32.9</td>\n",
              "      <td>0.171</td>\n",
              "      <td>63</td>\n",
              "      <td>0</td>\n",
              "    </tr>\n",
              "    <tr>\n",
              "      <th>764</th>\n",
              "      <td>2</td>\n",
              "      <td>122</td>\n",
              "      <td>70</td>\n",
              "      <td>27</td>\n",
              "      <td>170.31</td>\n",
              "      <td>36.8</td>\n",
              "      <td>0.340</td>\n",
              "      <td>27</td>\n",
              "      <td>0</td>\n",
              "    </tr>\n",
              "    <tr>\n",
              "      <th>765</th>\n",
              "      <td>5</td>\n",
              "      <td>121</td>\n",
              "      <td>72</td>\n",
              "      <td>23</td>\n",
              "      <td>112.00</td>\n",
              "      <td>26.2</td>\n",
              "      <td>0.245</td>\n",
              "      <td>30</td>\n",
              "      <td>0</td>\n",
              "    </tr>\n",
              "    <tr>\n",
              "      <th>766</th>\n",
              "      <td>1</td>\n",
              "      <td>126</td>\n",
              "      <td>60</td>\n",
              "      <td>0</td>\n",
              "      <td>163.97</td>\n",
              "      <td>30.1</td>\n",
              "      <td>0.349</td>\n",
              "      <td>47</td>\n",
              "      <td>1</td>\n",
              "    </tr>\n",
              "    <tr>\n",
              "      <th>767</th>\n",
              "      <td>1</td>\n",
              "      <td>93</td>\n",
              "      <td>70</td>\n",
              "      <td>31</td>\n",
              "      <td>74.52</td>\n",
              "      <td>30.4</td>\n",
              "      <td>0.315</td>\n",
              "      <td>23</td>\n",
              "      <td>0</td>\n",
              "    </tr>\n",
              "  </tbody>\n",
              "</table>\n",
              "<p>768 rows × 9 columns</p>\n",
              "</div>"
            ],
            "text/plain": [
              "     Pregnancies  Glucose  ...  Age  Outcome\n",
              "0              6      148  ...   50        1\n",
              "1              1       85  ...   31        0\n",
              "2              8      183  ...   32        1\n",
              "3              1       89  ...   21        0\n",
              "4              0      137  ...   33        1\n",
              "..           ...      ...  ...  ...      ...\n",
              "763           10      101  ...   63        0\n",
              "764            2      122  ...   27        0\n",
              "765            5      121  ...   30        0\n",
              "766            1      126  ...   47        1\n",
              "767            1       93  ...   23        0\n",
              "\n",
              "[768 rows x 9 columns]"
            ]
          },
          "metadata": {
            "tags": []
          },
          "execution_count": 220
        }
      ]
    },
    {
      "cell_type": "code",
      "metadata": {
        "id": "BmdbVbsxUcff"
      },
      "source": [
        ""
      ],
      "execution_count": null,
      "outputs": []
    }
  ]
}